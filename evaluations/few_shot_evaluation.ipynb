{
 "cells": [
  {
   "cell_type": "code",
   "execution_count": 4,
   "id": "88316a13",
   "metadata": {
    "pycharm": {
     "name": "#%%\n"
    }
   },
   "outputs": [],
   "source": [
    "import csv\n",
    "import pandas as pd\n",
    "from sentence_transformers import SentenceTransformer\n",
    "import numpy as np\n",
    "from statistics import mean\n",
    "from numpy.linalg import norm\n",
    "from pathlib import Path"
   ]
  },
  {
   "cell_type": "markdown",
   "source": [
    "## Load Human Prompts"
   ],
   "metadata": {
    "collapsed": false,
    "pycharm": {
     "name": "#%% md\n"
    }
   }
  },
  {
   "cell_type": "code",
   "execution_count": 69,
   "outputs": [],
   "source": [
    "human_prompt_files = [\n",
    "    \"../sentence_embeddings/data/amazonTurkDesPrompt1.csv\",\n",
    "    \"../sentence_embeddings/data/amazonTurkDesPrompt2.csv\",\n",
    "    \"../sentence_embeddings/data/amazonTurkDesPrompt3.csv\",\n",
    "    \"../sentence_embeddings/data/amazonTurkDesPrompt4.csv\",\n",
    "    \"../sentence_embeddings/data/amazonTurkDesPrompt5.csv\",\n",
    "    \"../sentence_embeddings/data/amazonTurkDesPrompt7.csv\",\n",
    "    \"../sentence_embeddings/data/amazonTurkDesPrompt8.csv\",\n",
    "    \"../sentence_embeddings/data/amazonTurkDesPrompt9.csv\",\n",
    "    \"../sentence_embeddings/data/amazonTurkDesPrompt10.csv\",\n",
    "    \"../sentence_embeddings/data/amazonTurkDesPrompt11.csv\",\n",
    "    \"../sentence_embeddings/data/amazonTurkDesPrompt12.csv\",\n",
    "]\n",
    "\n",
    "human_prompts = []\n",
    "\n",
    "for human_prompt in human_prompt_files:\n",
    "    prompts = []\n",
    "    with open(human_prompt, 'r') as file:\n",
    "        csvreader = csv.reader(file)\n",
    "        for row in csvreader:\n",
    "            prompts.append(row[0])\n",
    "    prompts = [i.replace('\\n',' ') for i in prompts]\n",
    "    human_prompts.append(prompts)"
   ],
   "metadata": {
    "collapsed": false,
    "pycharm": {
     "name": "#%%\n"
    }
   }
  },
  {
   "cell_type": "code",
   "execution_count": 70,
   "outputs": [
    {
     "data": {
      "text/plain": "                                                   0   \\\n0   ï»¿A jump rope that is also to be used as a ti...   \n1   ï»¿A vest made of crystal quartz pieces connec...   \n2               ï»¿with a candle that has marks on it   \n3                       ï»¿\"A tall cylindrical bottle   \n4   ï»¿\"A retractable gripper that has a central h...   \n5   ï»¿\"A text app that used the acceleramator in ...   \n6   ï»¿programmed mechanical arms that are thin an...   \n7                 ï»¿\"Some sort of lift on the bottom   \n8   ï»¿\"It would have to be a cup with an electron...   \n9   ï»¿An energy meter that plugs into an outlet t...   \n10  ï»¿\"The device is a simple plastic sleeve with...   \n\n                                                   1   \\\n0   A muscle stimulate band that can be worn over ...   \n1   Perhaps there could be something...a cord?...a...   \n2   A clock or new redesigned clock that measures ...   \n3   Like a party pop, this would be for celebratio...   \n4   A rotating shelf that works like a dry-cleaner...   \n5   Having a device on your phone that is able to ...   \n6   A thin plastic sheet that is segmented and fol...   \n7   Push A button affixed to the wall of a buildin...   \n8                            A talking measuring cup.   \n9   A way to link the home exercise device to the ...   \n10  A brace that clamps down over the joint and st...   \n\n                                                   2   \\\n0   A simple, but strong band that has a hook to b...   \n1   a device which is attached to the joints so wh...   \n2      waterfall clock tracking time by water ammount   \n3   a turn table which senses something underneath...   \n4   A smart bookshelf that is app controlled and h...   \n5   Require a one hour class for purchases of new ...   \n6   A device that attaches you our dryer that fold...   \n7   the fountain can have a stool that can be pull...   \n8   The measuring cup has a scale built into it, w...   \n9   it would be nice if someone came up with a swi...   \n10  A rigid wrap. This is not a brace nor is it a ...   \n\n                                                   3   \\\n0   A calf strengthener, similar to a finger stren...   \n1   When you blush, you put sensors on your cheeks...   \n2   Instead of relying on visual inputs these woul...   \n3   It would be a puffer kind of like a perfume bo...   \n4   A ladder or stepladder to enable people to use...   \n5   An alert system attached to the back of a phon...   \n6   tortilla folding like device that folds in an ...   \n7   Since public drinking fountains are already ma...   \n8   \"Sous Chef\" measuring cups come in sizes from ...   \n9   A device that creates energy by converting thi...   \n10  A circular firm clamp type of device that is e...   \n\n                                                   4   \\\n0   A rubber ball that can be inflated / deflated ...   \n1   People could wear kinetic bracelets and anklet...   \n2                         A small chart on your wrist   \n3   Use the same container that weed killer comes ...   \n4   A device that allows you to install magnetic c...   \n5   At crosswalks, an arm comes down and a bell so...   \n6   This is a small, discreet machine that folds t...   \n7   A nozzle that is adjustable to height, but sti...   \n8   The measuring cup has a small microchip that d...   \n9   The device that i would use would be a device ...   \n10  The devise would be a soft putty-like substanc...   \n\n                                                   5   \\\n0   An x shaped resistance band that has 2 hand gr...   \n1                     solar equipment collects energy   \n2                                   A giant hourglass   \n3   I thought of an automatic powdered sugar dispe...   \n4   a long stick, with skinny tongs that can slide...   \n5   Cell phones should include a feature that dete...   \n6                                        robotic hand   \n7   Accessible for people of all ages indicates to...   \n8   A measuring cup that when filled, braille is p...   \n9   A stationary bicycle that can be pedaled and w...   \n10  A firm piece of metal or plastic attached dire...   \n\n                                                   6   \\\n0   A mat that has electrosensitive pressure point...   \n1                        A bicycle-powered television   \n2           A clock that used binary to measure time.   \n3   Conveyor belt through a box that sprays the po...   \n4   A small, lightweight drone with a mechanical a...   \n5   An app that makes turns the camera on so that ...   \n6   I think it would be something like a flat surf...   \n7   Have a lever attached to the side with a mecha...   \n8   I am thinking of a measuring cup that looks li...   \n9   A device that connects to your home's circuit ...   \n10  A smart brace for a knee that allows for assis...   \n\n                                                   7   \\\n0   A fold bike that could be used as a bike and a...   \n1   have electrodes that can suction cup to our bo...   \n2   Marking a piece of string with knots to measur...   \n3   A metal powder shaker with small circular hole...   \n4              Rotating shelves that move up or down.   \n5   A series of reflective mirrors on a head devic...   \n6   An electronic folding device that allows you t...   \n7   we can put a pedal or handle to change the hei...   \n8   A plastic cup with a lid with raised graduatio...   \n9   I thought of a device that turns off appliance...   \n10  A tube which slides over a joint which then is...   \n\n                                                   8   \\\n0   I think there should be a product that will he...   \n1   A battery that is charged by the energy from y...   \n2   A medication that lets you be so in tune with ...   \n3   An electrically powered sifter. Like a hand po...   \n4   A bookshelf that knows what books are on the s...   \n5   A ball, similar to a hamster ball, but human-s...   \n6   A template-based design with a base utilizing ...   \n7   Instead of the traditional spout method of dri...   \n8   machine that will dispense amount of fluid bas...   \n9   A control panel in your bedroom that allows yo...   \n10  An implanted chip that can be turned on and of...   \n\n                                                   9   ...  \\\n0        I am thinking of a portable exercise device.  ...   \n1   A shoe that collects the energy generated when...  ...   \n2   a clock that acts more like a measure of the s...  ...   \n3   A small long object that looks like a scanner....  ...   \n4   a device that you wear around your wrist that ...  ...   \n5   having the background on your text as your cam...  ...   \n6   A robotic machine with an arm that picks up th...  ...   \n7   Have the fountain be on a movable electric lif...  ...   \n8   Have a clay cup that had deep marks in it with...  ...   \n9   Some kind of sensor that will be set up in eac...  ...   \n10  A cast that can be 3d-printed from a CT or MRI...  ...   \n\n                                                   90  \\\n0   A vest that makes you flex your chest muscles ...   \n1   Im thinking of clothing that contians statice ...   \n2   \"Timeline\" is a flexible strip of LED lights e...   \n3   A series of spinning rotors move several spray...   \n4   A small drone with an extendable arm so that i...   \n5   A thing on a cell phone that emits a shock whe...   \n6   You set the clothing into the open device.   T...   \n7       A drinking fountain that can raise and lower.   \n8   I would take a regular measuring cup and put b...   \n9   An app on your phone that would detect which a...   \n10  A set of bungees that pull the join in the opp...   \n\n                                                   91  \\\n0   A fold up tension devise that can fit into a s...   \n1   I know skin conductance goes up when people ar...   \n2   Digital self-drawn laser clock art. The design...   \n3   This would be like a car wash, but instead of ...   \n4   A block for one to stand on to reach the book....   \n5        Do not text and walk with cars nearby signs.   \n6   The device is a funnel that accepts the wash c...   \n7   A public drinking fountain on a barber chair-l...   \n8   A measuring cup with a sensor attached to the ...   \n9   A small robot that plugs into your electrical ...   \n10  This device would be a series of gears that lo...   \n\n                                                   92  \\\n0   something very small that will allow you to wo...   \n1   A stationary bike with the wheel connected to ...   \n2              Use base 10 instead of base-6 numbers.   \n3   a cannister that sprays and coats something of...   \n4   A flying robot with useable arms and seeing ey...   \n5   Crash avoidance sensors on the phone or attach...   \n6   The magic sheet.  It is a sheet of metal that ...   \n7   You could have an attachment that would fit on...   \n8   A cup that uses voice and sound to let a perso...   \n9   A fridge and freezer with glass doors that onl...   \n10  A stiff sleeve of like Kevlar that can be pull...   \n\n                                                   93  \\\n0   A rowing type machine that can be folded up in...   \n1   put pressure buttons in the bottoms of shoes a...   \n2   A block you put in the freezer and it turns bl...   \n3   A small canister with a spigot at the top and ...   \n4   A bookshelf that has moving shelves controlled...   \n5   an app that shows a small window of whats in f...   \n6   This device would be like a paper towel dispen...   \n7   a rising booster stool that allows a person of...   \n8   There will be a deep cup, and a easily identif...   \n9   Something that could be used to section off ar...   \n10  A small almost band aid type sticker that atta...   \n\n                                                   94  \\\n0   This device is a dumbbell in which the weighte...   \n1   I am thinking of something simple like a watch...   \n2   We could divide time up into different color q...   \n3   A container with a perforated lid to dispense ...   \n4   A remote controlled robot with hands and finge...   \n5   Visors that have a clear view for walking and ...   \n6   A machine that you lay the towel/cloth on and ...   \n7   My idea is a water fountain that has more than...   \n8   maybe a cup with raised lines on the outside a...   \n9   the device would me something that gets power ...   \n10            A quick-closing perpendicular disk set.   \n\n                                                   95  \\\n0   a small collapsible step that can be used to d...   \n1   sort of like roller blades that store the mech...   \n2   The sun app.  The sun app uses a satellite in ...   \n3   A small salt-shaker like item. This one has a ...   \n4   A Book Drone. It has the ability and strength ...   \n5                  A wearable cell phone like glasses   \n6   Hand crank towel folder. Like the machines use...   \n7                     Auto-adjustable water fountain.   \n8   a cup that is slightly larger than what it nee...   \n9   System that automatically shuts off things tha...   \n10  Device consists of two rings connects to each ...   \n\n                                                   96  \\\n0   How about an abdominal or muscle training MP3 ...   \n1   Energy from the motion of walking could be col...   \n2   It would be the number of times my fan turned ...   \n3   A cup/tube cover, with multiple layers that ha...   \n4   An extendable chair that raises or lowers base...   \n5   an emergency alert alarm that goes off when ab...   \n6   A hand cranked item that has a set arrangement...   \n7   a motorized lift which raises and lowers the d...   \n8   automated voice, braille numbers, programmable...   \n9   Water heater that cycles on and off to agree w...   \n10                  a cast that is totally waterproof   \n\n                                                   97  \\\n0          Flexible, non-electric, ergonomic, compact   \n1   A smart phone app that trackA smart phone app ...   \n2   A device that monitors the rotations and posit...   \n3   I bake often at home and this prompt made me i...   \n4   A book grabber. A long stock like thing with a...   \n5   an app that knows when you are walking, and sh...   \n6                  An automatic robotic cloth folder.   \n7   The device is a like a fixed stationary step s...   \n8           I am thinking of a Braille measuring cup.   \n9   This is very easy. You would make a magnetic m...   \n10  A special cuff could be placed around the join...   \n\n                                                   98  \\\n0          A collapsible, compact elliptical machine.   \n1   To collect energy from human motion, a station...   \n2   TIME IS INFINITE THEREFORE SOMETHING HAS TO BE...   \n3   A device that can be used while cooking and ba...   \n4   create an object made like a tong  to grab a book   \n5   An app that does not allow someone to walk and...   \n6   the device is a folding, hinged contraption th...   \n7   A drinking fountain with different steps aroun...   \n8   Braille on the side of the handle that tells t...   \n9   An energy monitor wired to the power main that...   \n10                                I thought of a cast   \n\n                                                   99  \n0   I am thinking of some sort of rubber band stro...  \n1   Power collecting shoes that joggers or top rac...  \n2           light bulbs that dim as the sun goes down  \n3   An automatic brush machine that could be adjus...  \n4   This device would act like one of those child ...  \n5   the phone would have a walk mode where sensors...  \n6   Set of 3 plastic boards with recessed hinges t...  \n7   Utilizing a typical drinking fountain cooling ...  \n8   It would have to be tactile. For a liquid meas...  \n9   This would be a type of heat sync that would s...  \n10  There could be a small robots that is used to ...  \n\n[11 rows x 100 columns]",
      "text/html": "<div>\n<style scoped>\n    .dataframe tbody tr th:only-of-type {\n        vertical-align: middle;\n    }\n\n    .dataframe tbody tr th {\n        vertical-align: top;\n    }\n\n    .dataframe thead th {\n        text-align: right;\n    }\n</style>\n<table border=\"1\" class=\"dataframe\">\n  <thead>\n    <tr style=\"text-align: right;\">\n      <th></th>\n      <th>0</th>\n      <th>1</th>\n      <th>2</th>\n      <th>3</th>\n      <th>4</th>\n      <th>5</th>\n      <th>6</th>\n      <th>7</th>\n      <th>8</th>\n      <th>9</th>\n      <th>...</th>\n      <th>90</th>\n      <th>91</th>\n      <th>92</th>\n      <th>93</th>\n      <th>94</th>\n      <th>95</th>\n      <th>96</th>\n      <th>97</th>\n      <th>98</th>\n      <th>99</th>\n    </tr>\n  </thead>\n  <tbody>\n    <tr>\n      <th>0</th>\n      <td>ï»¿A jump rope that is also to be used as a ti...</td>\n      <td>A muscle stimulate band that can be worn over ...</td>\n      <td>A simple, but strong band that has a hook to b...</td>\n      <td>A calf strengthener, similar to a finger stren...</td>\n      <td>A rubber ball that can be inflated / deflated ...</td>\n      <td>An x shaped resistance band that has 2 hand gr...</td>\n      <td>A mat that has electrosensitive pressure point...</td>\n      <td>A fold bike that could be used as a bike and a...</td>\n      <td>I think there should be a product that will he...</td>\n      <td>I am thinking of a portable exercise device.</td>\n      <td>...</td>\n      <td>A vest that makes you flex your chest muscles ...</td>\n      <td>A fold up tension devise that can fit into a s...</td>\n      <td>something very small that will allow you to wo...</td>\n      <td>A rowing type machine that can be folded up in...</td>\n      <td>This device is a dumbbell in which the weighte...</td>\n      <td>a small collapsible step that can be used to d...</td>\n      <td>How about an abdominal or muscle training MP3 ...</td>\n      <td>Flexible, non-electric, ergonomic, compact</td>\n      <td>A collapsible, compact elliptical machine.</td>\n      <td>I am thinking of some sort of rubber band stro...</td>\n    </tr>\n    <tr>\n      <th>1</th>\n      <td>ï»¿A vest made of crystal quartz pieces connec...</td>\n      <td>Perhaps there could be something...a cord?...a...</td>\n      <td>a device which is attached to the joints so wh...</td>\n      <td>When you blush, you put sensors on your cheeks...</td>\n      <td>People could wear kinetic bracelets and anklet...</td>\n      <td>solar equipment collects energy</td>\n      <td>A bicycle-powered television</td>\n      <td>have electrodes that can suction cup to our bo...</td>\n      <td>A battery that is charged by the energy from y...</td>\n      <td>A shoe that collects the energy generated when...</td>\n      <td>...</td>\n      <td>Im thinking of clothing that contians statice ...</td>\n      <td>I know skin conductance goes up when people ar...</td>\n      <td>A stationary bike with the wheel connected to ...</td>\n      <td>put pressure buttons in the bottoms of shoes a...</td>\n      <td>I am thinking of something simple like a watch...</td>\n      <td>sort of like roller blades that store the mech...</td>\n      <td>Energy from the motion of walking could be col...</td>\n      <td>A smart phone app that trackA smart phone app ...</td>\n      <td>To collect energy from human motion, a station...</td>\n      <td>Power collecting shoes that joggers or top rac...</td>\n    </tr>\n    <tr>\n      <th>2</th>\n      <td>ï»¿with a candle that has marks on it</td>\n      <td>A clock or new redesigned clock that measures ...</td>\n      <td>waterfall clock tracking time by water ammount</td>\n      <td>Instead of relying on visual inputs these woul...</td>\n      <td>A small chart on your wrist</td>\n      <td>A giant hourglass</td>\n      <td>A clock that used binary to measure time.</td>\n      <td>Marking a piece of string with knots to measur...</td>\n      <td>A medication that lets you be so in tune with ...</td>\n      <td>a clock that acts more like a measure of the s...</td>\n      <td>...</td>\n      <td>\"Timeline\" is a flexible strip of LED lights e...</td>\n      <td>Digital self-drawn laser clock art. The design...</td>\n      <td>Use base 10 instead of base-6 numbers.</td>\n      <td>A block you put in the freezer and it turns bl...</td>\n      <td>We could divide time up into different color q...</td>\n      <td>The sun app.  The sun app uses a satellite in ...</td>\n      <td>It would be the number of times my fan turned ...</td>\n      <td>A device that monitors the rotations and posit...</td>\n      <td>TIME IS INFINITE THEREFORE SOMETHING HAS TO BE...</td>\n      <td>light bulbs that dim as the sun goes down</td>\n    </tr>\n    <tr>\n      <th>3</th>\n      <td>ï»¿\"A tall cylindrical bottle</td>\n      <td>Like a party pop, this would be for celebratio...</td>\n      <td>a turn table which senses something underneath...</td>\n      <td>It would be a puffer kind of like a perfume bo...</td>\n      <td>Use the same container that weed killer comes ...</td>\n      <td>I thought of an automatic powdered sugar dispe...</td>\n      <td>Conveyor belt through a box that sprays the po...</td>\n      <td>A metal powder shaker with small circular hole...</td>\n      <td>An electrically powered sifter. Like a hand po...</td>\n      <td>A small long object that looks like a scanner....</td>\n      <td>...</td>\n      <td>A series of spinning rotors move several spray...</td>\n      <td>This would be like a car wash, but instead of ...</td>\n      <td>a cannister that sprays and coats something of...</td>\n      <td>A small canister with a spigot at the top and ...</td>\n      <td>A container with a perforated lid to dispense ...</td>\n      <td>A small salt-shaker like item. This one has a ...</td>\n      <td>A cup/tube cover, with multiple layers that ha...</td>\n      <td>I bake often at home and this prompt made me i...</td>\n      <td>A device that can be used while cooking and ba...</td>\n      <td>An automatic brush machine that could be adjus...</td>\n    </tr>\n    <tr>\n      <th>4</th>\n      <td>ï»¿\"A retractable gripper that has a central h...</td>\n      <td>A rotating shelf that works like a dry-cleaner...</td>\n      <td>A smart bookshelf that is app controlled and h...</td>\n      <td>A ladder or stepladder to enable people to use...</td>\n      <td>A device that allows you to install magnetic c...</td>\n      <td>a long stick, with skinny tongs that can slide...</td>\n      <td>A small, lightweight drone with a mechanical a...</td>\n      <td>Rotating shelves that move up or down.</td>\n      <td>A bookshelf that knows what books are on the s...</td>\n      <td>a device that you wear around your wrist that ...</td>\n      <td>...</td>\n      <td>A small drone with an extendable arm so that i...</td>\n      <td>A block for one to stand on to reach the book....</td>\n      <td>A flying robot with useable arms and seeing ey...</td>\n      <td>A bookshelf that has moving shelves controlled...</td>\n      <td>A remote controlled robot with hands and finge...</td>\n      <td>A Book Drone. It has the ability and strength ...</td>\n      <td>An extendable chair that raises or lowers base...</td>\n      <td>A book grabber. A long stock like thing with a...</td>\n      <td>create an object made like a tong  to grab a book</td>\n      <td>This device would act like one of those child ...</td>\n    </tr>\n    <tr>\n      <th>5</th>\n      <td>ï»¿\"A text app that used the acceleramator in ...</td>\n      <td>Having a device on your phone that is able to ...</td>\n      <td>Require a one hour class for purchases of new ...</td>\n      <td>An alert system attached to the back of a phon...</td>\n      <td>At crosswalks, an arm comes down and a bell so...</td>\n      <td>Cell phones should include a feature that dete...</td>\n      <td>An app that makes turns the camera on so that ...</td>\n      <td>A series of reflective mirrors on a head devic...</td>\n      <td>A ball, similar to a hamster ball, but human-s...</td>\n      <td>having the background on your text as your cam...</td>\n      <td>...</td>\n      <td>A thing on a cell phone that emits a shock whe...</td>\n      <td>Do not text and walk with cars nearby signs.</td>\n      <td>Crash avoidance sensors on the phone or attach...</td>\n      <td>an app that shows a small window of whats in f...</td>\n      <td>Visors that have a clear view for walking and ...</td>\n      <td>A wearable cell phone like glasses</td>\n      <td>an emergency alert alarm that goes off when ab...</td>\n      <td>an app that knows when you are walking, and sh...</td>\n      <td>An app that does not allow someone to walk and...</td>\n      <td>the phone would have a walk mode where sensors...</td>\n    </tr>\n    <tr>\n      <th>6</th>\n      <td>ï»¿programmed mechanical arms that are thin an...</td>\n      <td>A thin plastic sheet that is segmented and fol...</td>\n      <td>A device that attaches you our dryer that fold...</td>\n      <td>tortilla folding like device that folds in an ...</td>\n      <td>This is a small, discreet machine that folds t...</td>\n      <td>robotic hand</td>\n      <td>I think it would be something like a flat surf...</td>\n      <td>An electronic folding device that allows you t...</td>\n      <td>A template-based design with a base utilizing ...</td>\n      <td>A robotic machine with an arm that picks up th...</td>\n      <td>...</td>\n      <td>You set the clothing into the open device.   T...</td>\n      <td>The device is a funnel that accepts the wash c...</td>\n      <td>The magic sheet.  It is a sheet of metal that ...</td>\n      <td>This device would be like a paper towel dispen...</td>\n      <td>A machine that you lay the towel/cloth on and ...</td>\n      <td>Hand crank towel folder. Like the machines use...</td>\n      <td>A hand cranked item that has a set arrangement...</td>\n      <td>An automatic robotic cloth folder.</td>\n      <td>the device is a folding, hinged contraption th...</td>\n      <td>Set of 3 plastic boards with recessed hinges t...</td>\n    </tr>\n    <tr>\n      <th>7</th>\n      <td>ï»¿\"Some sort of lift on the bottom</td>\n      <td>Push A button affixed to the wall of a buildin...</td>\n      <td>the fountain can have a stool that can be pull...</td>\n      <td>Since public drinking fountains are already ma...</td>\n      <td>A nozzle that is adjustable to height, but sti...</td>\n      <td>Accessible for people of all ages indicates to...</td>\n      <td>Have a lever attached to the side with a mecha...</td>\n      <td>we can put a pedal or handle to change the hei...</td>\n      <td>Instead of the traditional spout method of dri...</td>\n      <td>Have the fountain be on a movable electric lif...</td>\n      <td>...</td>\n      <td>A drinking fountain that can raise and lower.</td>\n      <td>A public drinking fountain on a barber chair-l...</td>\n      <td>You could have an attachment that would fit on...</td>\n      <td>a rising booster stool that allows a person of...</td>\n      <td>My idea is a water fountain that has more than...</td>\n      <td>Auto-adjustable water fountain.</td>\n      <td>a motorized lift which raises and lowers the d...</td>\n      <td>The device is a like a fixed stationary step s...</td>\n      <td>A drinking fountain with different steps aroun...</td>\n      <td>Utilizing a typical drinking fountain cooling ...</td>\n    </tr>\n    <tr>\n      <th>8</th>\n      <td>ï»¿\"It would have to be a cup with an electron...</td>\n      <td>A talking measuring cup.</td>\n      <td>The measuring cup has a scale built into it, w...</td>\n      <td>\"Sous Chef\" measuring cups come in sizes from ...</td>\n      <td>The measuring cup has a small microchip that d...</td>\n      <td>A measuring cup that when filled, braille is p...</td>\n      <td>I am thinking of a measuring cup that looks li...</td>\n      <td>A plastic cup with a lid with raised graduatio...</td>\n      <td>machine that will dispense amount of fluid bas...</td>\n      <td>Have a clay cup that had deep marks in it with...</td>\n      <td>...</td>\n      <td>I would take a regular measuring cup and put b...</td>\n      <td>A measuring cup with a sensor attached to the ...</td>\n      <td>A cup that uses voice and sound to let a perso...</td>\n      <td>There will be a deep cup, and a easily identif...</td>\n      <td>maybe a cup with raised lines on the outside a...</td>\n      <td>a cup that is slightly larger than what it nee...</td>\n      <td>automated voice, braille numbers, programmable...</td>\n      <td>I am thinking of a Braille measuring cup.</td>\n      <td>Braille on the side of the handle that tells t...</td>\n      <td>It would have to be tactile. For a liquid meas...</td>\n    </tr>\n    <tr>\n      <th>9</th>\n      <td>ï»¿An energy meter that plugs into an outlet t...</td>\n      <td>A way to link the home exercise device to the ...</td>\n      <td>it would be nice if someone came up with a swi...</td>\n      <td>A device that creates energy by converting thi...</td>\n      <td>The device that i would use would be a device ...</td>\n      <td>A stationary bicycle that can be pedaled and w...</td>\n      <td>A device that connects to your home's circuit ...</td>\n      <td>I thought of a device that turns off appliance...</td>\n      <td>A control panel in your bedroom that allows yo...</td>\n      <td>Some kind of sensor that will be set up in eac...</td>\n      <td>...</td>\n      <td>An app on your phone that would detect which a...</td>\n      <td>A small robot that plugs into your electrical ...</td>\n      <td>A fridge and freezer with glass doors that onl...</td>\n      <td>Something that could be used to section off ar...</td>\n      <td>the device would me something that gets power ...</td>\n      <td>System that automatically shuts off things tha...</td>\n      <td>Water heater that cycles on and off to agree w...</td>\n      <td>This is very easy. You would make a magnetic m...</td>\n      <td>An energy monitor wired to the power main that...</td>\n      <td>This would be a type of heat sync that would s...</td>\n    </tr>\n    <tr>\n      <th>10</th>\n      <td>ï»¿\"The device is a simple plastic sleeve with...</td>\n      <td>A brace that clamps down over the joint and st...</td>\n      <td>A rigid wrap. This is not a brace nor is it a ...</td>\n      <td>A circular firm clamp type of device that is e...</td>\n      <td>The devise would be a soft putty-like substanc...</td>\n      <td>A firm piece of metal or plastic attached dire...</td>\n      <td>A smart brace for a knee that allows for assis...</td>\n      <td>A tube which slides over a joint which then is...</td>\n      <td>An implanted chip that can be turned on and of...</td>\n      <td>A cast that can be 3d-printed from a CT or MRI...</td>\n      <td>...</td>\n      <td>A set of bungees that pull the join in the opp...</td>\n      <td>This device would be a series of gears that lo...</td>\n      <td>A stiff sleeve of like Kevlar that can be pull...</td>\n      <td>A small almost band aid type sticker that atta...</td>\n      <td>A quick-closing perpendicular disk set.</td>\n      <td>Device consists of two rings connects to each ...</td>\n      <td>a cast that is totally waterproof</td>\n      <td>A special cuff could be placed around the join...</td>\n      <td>I thought of a cast</td>\n      <td>There could be a small robots that is used to ...</td>\n    </tr>\n  </tbody>\n</table>\n<p>11 rows × 100 columns</p>\n</div>"
     },
     "execution_count": 70,
     "metadata": {},
     "output_type": "execute_result"
    }
   ],
   "source": [
    "pd.DataFrame(human_prompts)"
   ],
   "metadata": {
    "collapsed": false,
    "pycharm": {
     "name": "#%%\n"
    }
   }
  },
  {
   "cell_type": "markdown",
   "source": [
    "## Load GPT Prompts"
   ],
   "metadata": {
    "collapsed": false,
    "pycharm": {
     "name": "#%% md\n"
    }
   }
  },
  {
   "cell_type": "code",
   "execution_count": 5,
   "outputs": [],
   "source": [
    "def get_all_files(directory, pattern):\n",
    "    return [f for f in Path(directory).glob(pattern)]"
   ],
   "metadata": {
    "collapsed": false,
    "pycharm": {
     "name": "#%%\n"
    }
   }
  },
  {
   "cell_type": "code",
   "execution_count": 9,
   "outputs": [
    {
     "data": {
      "text/plain": "55"
     },
     "execution_count": 9,
     "metadata": {},
     "output_type": "execute_result"
    }
   ],
   "source": [
    "gpt_files = get_all_files(\"../prompt_engineering/data/few_shot/\", \"*.csv\")\n",
    "len(gpt_files)"
   ],
   "metadata": {
    "collapsed": false,
    "pycharm": {
     "name": "#%%\n"
    }
   }
  },
  {
   "cell_type": "code",
   "execution_count": 38,
   "outputs": [
    {
     "name": "stdout",
     "output_type": "stream",
     "text": [
      "Could not process design_prompt_1_0\n",
      "Could not process design_prompt_0_1\n",
      "Could not process design_prompt_0_2\n",
      "Could not process design_prompt_9_2\n",
      "Could not process design_prompt_8_3\n",
      "Could not process design_prompt_9_3\n",
      "Could not process design_prompt_9_4\n",
      "Could not process design_prompt_10_4\n"
     ]
    }
   ],
   "source": [
    "gpt_prompts = []\n",
    "\n",
    "# for design_prompt_count in range(11):\n",
    "for iteration_count in range(5):\n",
    "    iteration_prompts = []\n",
    "    # for iteration_count in range(5):\n",
    "    for design_prompt_count in range(11):\n",
    "        fail = False\n",
    "        prompt = pd.read_csv(f\"../prompt_engineering/data/few_shot/design_prompt_{design_prompt_count}_{iteration_count}.csv\", sep=\",\")\n",
    "        lst = []\n",
    "        for d in prompt.values:\n",
    "            lst.append(d[0])\n",
    "        prompt = []\n",
    "        for i in range(len(lst)):\n",
    "            try:\n",
    "                mod_statements = lst[i].replace(lst[i][:3], '')\n",
    "                prompt.append(mod_statements)\n",
    "            except AttributeError:\n",
    "                fail = True\n",
    "        if fail:\n",
    "            print(f\"Could not process design_prompt_{design_prompt_count}_{iteration_count}\")\n",
    "\n",
    "        iteration_prompts.append(prompt)\n",
    "    gpt_prompts.append(iteration_prompts)"
   ],
   "metadata": {
    "collapsed": false,
    "pycharm": {
     "name": "#%%\n"
    }
   }
  },
  {
   "cell_type": "code",
   "execution_count": 46,
   "outputs": [
    {
     "data": {
      "text/plain": "                                                  0   \\\n0  [A collapsible set of weights that have a buil...   \n1  [A core activator belt that can be worn to act...   \n2  [A handheld device with elastic bands and a ha...   \n3  [An adjustable resistance band that wraps arou...   \n4  [A retractable jump rope that is stored in an ...   \n\n                                                  1   \\\n0  [A backpack that contains a motorized pulley s...   \n1  [A generator that fits around the waist and us...   \n2  [a small weighted wheel that rotates when you ...   \n3  [A device that attaches to your arms and legs ...   \n4  [A lightweight elastic fitness band that can b...   \n\n                                                  2   \\\n0  [Mechanically powered wall clock with a 24-hou...   \n1  [An hourglass that measures the passage of tim...   \n2  [mechanical gears clock that tracks time, robo...   \n3  [A wristwatch that measures the passage of tim...   \n4  [A bracelet with tiny beads spaced out at each...   \n\n                                                  3   \\\n0  [A handheld device with a reservoir of powder,...   \n1  [Like a fog machine, this would be able to dis...   \n2  [An automated robotic arm that moves around th...   \n3  [It would be a spray bottle that sprays a fine...   \n4  [A handheld device that has a nozzle that shoo...   \n\n                                                  4   \\\n0  [\"A rotary-style robotic arm mounted on the ce...   \n1  [A extendable ladder with a hook on the end., ...   \n2  [A motorized robotic arm that sits in the spac...   \n3  [A telescoping pole with a basket on the end t...   \n4  [A telescopic “grabber” unit with an extendabl...   \n\n                                                  5   \\\n0  [Phone cases that have a built in strap so it ...   \n1  [Having a device that works with smart watches...   \n2  [Place signs in public areas warning pedestria...   \n3  [A text alert that reminds users to be aware o...   \n4  [Install sensors in the road to detect cell ph...   \n\n                                                  6   \\\n0  [A hands-free device that takes the clothes/to...   \n1  [A foldable metal frame with two arms that can...   \n2  [A laundry machine with inbuilt folding capabi...   \n3  [Hand-cranked machine with flat surface and ar...   \n4  [An automated wall-mounted device that folds t...   \n\n                                                  7   \\\n0  [Have the fountain mounted to the wall at an a...   \n1  [Install a longer-length flexible drinking hos...   \n2  [Make the fountain accessible to both wheelcha...   \n3  [Install a drinking fountain with disability-f...   \n4  [A built in water filter to provide clean drin...   \n\n                                                  8   \\\n0  [The measuring cup would be equipped with a sp...   \n1  [A tactile measuring cup with raised numbers.,...   \n2  [The measuring cup has a setting to vibrate wh...   \n3  [Provide a measuring cup with Braille identifi...   \n4  [The measuring cup has a series of tactile mar...   \n\n                                                  9   \\\n0  [A knee brace that wraps around the joint and ...   \n1  [A metal structure with adjustable joints to i...   \n2  [A passive restraint device with straps and bu...   \n3  [A device that employs infrared sensors and ai...   \n4  [A device that uses an exoskeleton of rods and...   \n\n                                                  10  \n0  [A lever-operated device with a cup-shaped cha...  \n1  [A hammer or mallet that can be used to whack ...  \n2  [A revolving blade mounted on a handle. This b...  \n3  [A metal clamp that has a small wheel on the s...  \n4  [A lever-based device that would use a pointed...  ",
      "text/html": "<div>\n<style scoped>\n    .dataframe tbody tr th:only-of-type {\n        vertical-align: middle;\n    }\n\n    .dataframe tbody tr th {\n        vertical-align: top;\n    }\n\n    .dataframe thead th {\n        text-align: right;\n    }\n</style>\n<table border=\"1\" class=\"dataframe\">\n  <thead>\n    <tr style=\"text-align: right;\">\n      <th></th>\n      <th>0</th>\n      <th>1</th>\n      <th>2</th>\n      <th>3</th>\n      <th>4</th>\n      <th>5</th>\n      <th>6</th>\n      <th>7</th>\n      <th>8</th>\n      <th>9</th>\n      <th>10</th>\n    </tr>\n  </thead>\n  <tbody>\n    <tr>\n      <th>0</th>\n      <td>[A collapsible set of weights that have a buil...</td>\n      <td>[A backpack that contains a motorized pulley s...</td>\n      <td>[Mechanically powered wall clock with a 24-hou...</td>\n      <td>[A handheld device with a reservoir of powder,...</td>\n      <td>[\"A rotary-style robotic arm mounted on the ce...</td>\n      <td>[Phone cases that have a built in strap so it ...</td>\n      <td>[A hands-free device that takes the clothes/to...</td>\n      <td>[Have the fountain mounted to the wall at an a...</td>\n      <td>[The measuring cup would be equipped with a sp...</td>\n      <td>[A knee brace that wraps around the joint and ...</td>\n      <td>[A lever-operated device with a cup-shaped cha...</td>\n    </tr>\n    <tr>\n      <th>1</th>\n      <td>[A core activator belt that can be worn to act...</td>\n      <td>[A generator that fits around the waist and us...</td>\n      <td>[An hourglass that measures the passage of tim...</td>\n      <td>[Like a fog machine, this would be able to dis...</td>\n      <td>[A extendable ladder with a hook on the end., ...</td>\n      <td>[Having a device that works with smart watches...</td>\n      <td>[A foldable metal frame with two arms that can...</td>\n      <td>[Install a longer-length flexible drinking hos...</td>\n      <td>[A tactile measuring cup with raised numbers.,...</td>\n      <td>[A metal structure with adjustable joints to i...</td>\n      <td>[A hammer or mallet that can be used to whack ...</td>\n    </tr>\n    <tr>\n      <th>2</th>\n      <td>[A handheld device with elastic bands and a ha...</td>\n      <td>[a small weighted wheel that rotates when you ...</td>\n      <td>[mechanical gears clock that tracks time, robo...</td>\n      <td>[An automated robotic arm that moves around th...</td>\n      <td>[A motorized robotic arm that sits in the spac...</td>\n      <td>[Place signs in public areas warning pedestria...</td>\n      <td>[A laundry machine with inbuilt folding capabi...</td>\n      <td>[Make the fountain accessible to both wheelcha...</td>\n      <td>[The measuring cup has a setting to vibrate wh...</td>\n      <td>[A passive restraint device with straps and bu...</td>\n      <td>[A revolving blade mounted on a handle. This b...</td>\n    </tr>\n    <tr>\n      <th>3</th>\n      <td>[An adjustable resistance band that wraps arou...</td>\n      <td>[A device that attaches to your arms and legs ...</td>\n      <td>[A wristwatch that measures the passage of tim...</td>\n      <td>[It would be a spray bottle that sprays a fine...</td>\n      <td>[A telescoping pole with a basket on the end t...</td>\n      <td>[A text alert that reminds users to be aware o...</td>\n      <td>[Hand-cranked machine with flat surface and ar...</td>\n      <td>[Install a drinking fountain with disability-f...</td>\n      <td>[Provide a measuring cup with Braille identifi...</td>\n      <td>[A device that employs infrared sensors and ai...</td>\n      <td>[A metal clamp that has a small wheel on the s...</td>\n    </tr>\n    <tr>\n      <th>4</th>\n      <td>[A retractable jump rope that is stored in an ...</td>\n      <td>[A lightweight elastic fitness band that can b...</td>\n      <td>[A bracelet with tiny beads spaced out at each...</td>\n      <td>[A handheld device that has a nozzle that shoo...</td>\n      <td>[A telescopic “grabber” unit with an extendabl...</td>\n      <td>[Install sensors in the road to detect cell ph...</td>\n      <td>[An automated wall-mounted device that folds t...</td>\n      <td>[A built in water filter to provide clean drin...</td>\n      <td>[The measuring cup has a series of tactile mar...</td>\n      <td>[A device that uses an exoskeleton of rods and...</td>\n      <td>[A lever-based device that would use a pointed...</td>\n    </tr>\n  </tbody>\n</table>\n</div>"
     },
     "execution_count": 46,
     "metadata": {},
     "output_type": "execute_result"
    }
   ],
   "source": [
    "pd.DataFrame(gpt_prompts)"
   ],
   "metadata": {
    "collapsed": false,
    "pycharm": {
     "name": "#%%\n"
    }
   }
  },
  {
   "cell_type": "markdown",
   "source": [
    "## Embed data"
   ],
   "metadata": {
    "collapsed": false,
    "pycharm": {
     "name": "#%% md\n"
    }
   }
  },
  {
   "cell_type": "code",
   "execution_count": 49,
   "outputs": [],
   "source": [
    "model = SentenceTransformer('all-MiniLM-L6-v2')"
   ],
   "metadata": {
    "collapsed": false,
    "pycharm": {
     "name": "#%%\n"
    }
   }
  },
  {
   "cell_type": "code",
   "execution_count": 71,
   "outputs": [],
   "source": [
    "human_embeddings = [model.encode(prompt) for prompt in human_prompts]\n",
    "\n",
    "gpt_embeddings_iterations = []\n",
    "for iteration in gpt_prompts:\n",
    "    gpt_embeddings_iterations.append([model.encode(prompt) for prompt in iteration])"
   ],
   "metadata": {
    "collapsed": false,
    "pycharm": {
     "name": "#%%\n"
    }
   }
  },
  {
   "cell_type": "code",
   "execution_count": 53,
   "outputs": [
    {
     "name": "stderr",
     "output_type": "stream",
     "text": [
      "C:\\Users\\grandid\\AppData\\Local\\Temp\\1\\ipykernel_70588\\2590467071.py:1: VisibleDeprecationWarning: Creating an ndarray from ragged nested sequences (which is a list-or-tuple of lists-or-tuples-or ndarrays with different lengths or shapes) is deprecated. If you meant to do this, you must specify 'dtype=object' when creating the ndarray.\n",
      "  np.array(gpt_embeddings_iterations).shape\n"
     ]
    },
    {
     "data": {
      "text/plain": "(5, 11)"
     },
     "execution_count": 53,
     "metadata": {},
     "output_type": "execute_result"
    }
   ],
   "source": [
    "np.array(gpt_embeddings_iterations).shape"
   ],
   "metadata": {
    "collapsed": false,
    "pycharm": {
     "name": "#%%\n"
    }
   }
  },
  {
   "cell_type": "markdown",
   "source": [
    "\n",
    "# Similarity Metrics\n",
    "## Nearest Generated Sample\n",
    "Using cosine distance\n",
    "Focus on design space coverage"
   ],
   "metadata": {
    "collapsed": false,
    "pycharm": {
     "name": "#%% md\n"
    }
   }
  },
  {
   "cell_type": "code",
   "execution_count": 54,
   "outputs": [],
   "source": [
    "distances_all = []\n",
    "\n",
    "for embedding in gpt_embeddings_iterations:\n",
    "    distances_model = []\n",
    "    for count, generated_embedding in enumerate(embedding):\n",
    "        distances = []\n",
    "        for original_datapoint in human_embeddings[count]:\n",
    "            min_distance = 1e9\n",
    "            for generated_datapoint in generated_embedding:\n",
    "                distance = np.dot(original_datapoint, generated_datapoint)/(norm(original_datapoint)*norm(generated_datapoint))     # TODO: this is similarity\n",
    "                if distance < min_distance:\n",
    "                    min_distance = distance\n",
    "            distances.append(min_distance)\n",
    "        mean_distance = mean(distances)\n",
    "        # print(f\"Mean distance of nearest generated samples for prompt {count} to human: {mean_distance}\")\n",
    "        distances_model.append(mean_distance)\n",
    "    distances_all.append(distances_model)\n"
   ],
   "metadata": {
    "collapsed": false,
    "pycharm": {
     "name": "#%%\n"
    }
   }
  },
  {
   "cell_type": "code",
   "execution_count": 55,
   "outputs": [
    {
     "data": {
      "text/plain": "<pandas.io.formats.style.Styler at 0x2314e339de0>",
      "text/html": "<style type=\"text/css\">\n#T_f7fd1_row0_col0 {\n  background-color: #b3c3de;\n  color: #000000;\n}\n#T_f7fd1_row0_col1 {\n  background-color: #8cb3d5;\n  color: #000000;\n}\n#T_f7fd1_row0_col2 {\n  background-color: #6fa7ce;\n  color: #f1f1f1;\n}\n#T_f7fd1_row0_col3 {\n  background-color: #67a4cc;\n  color: #f1f1f1;\n}\n#T_f7fd1_row0_col4 {\n  background-color: #ece7f2;\n  color: #000000;\n}\n#T_f7fd1_row1_col0 {\n  background-color: #2081b9;\n  color: #f1f1f1;\n}\n#T_f7fd1_row1_col1 {\n  background-color: #045e93;\n  color: #f1f1f1;\n}\n#T_f7fd1_row1_col2 {\n  background-color: #89b1d4;\n  color: #000000;\n}\n#T_f7fd1_row1_col3 {\n  background-color: #0567a2;\n  color: #f1f1f1;\n}\n#T_f7fd1_row1_col4 {\n  background-color: #4c99c5;\n  color: #f1f1f1;\n}\n#T_f7fd1_row2_col0 {\n  background-color: #dcdaeb;\n  color: #000000;\n}\n#T_f7fd1_row2_col1 {\n  background-color: #bcc7e1;\n  color: #000000;\n}\n#T_f7fd1_row2_col2 {\n  background-color: #c4cbe3;\n  color: #000000;\n}\n#T_f7fd1_row2_col3 {\n  background-color: #88b1d4;\n  color: #000000;\n}\n#T_f7fd1_row2_col4, #T_f7fd1_row10_col1 {\n  background-color: #e2dfee;\n  color: #000000;\n}\n#T_f7fd1_row3_col0 {\n  background-color: #2685bb;\n  color: #f1f1f1;\n}\n#T_f7fd1_row3_col1 {\n  background-color: #569dc8;\n  color: #f1f1f1;\n}\n#T_f7fd1_row3_col2 {\n  background-color: #167bb6;\n  color: #f1f1f1;\n}\n#T_f7fd1_row3_col3 {\n  background-color: #034b76;\n  color: #f1f1f1;\n}\n#T_f7fd1_row3_col4 {\n  background-color: #1379b5;\n  color: #f1f1f1;\n}\n#T_f7fd1_row4_col0, #T_f7fd1_row6_col1, #T_f7fd1_row6_col4, #T_f7fd1_row8_col2, #T_f7fd1_row8_col3 {\n  background-color: #023858;\n  color: #f1f1f1;\n}\n#T_f7fd1_row4_col1 {\n  background-color: #b9c6e0;\n  color: #000000;\n}\n#T_f7fd1_row4_col2 {\n  background-color: #358fc0;\n  color: #f1f1f1;\n}\n#T_f7fd1_row4_col3 {\n  background-color: #9ebad9;\n  color: #000000;\n}\n#T_f7fd1_row4_col4 {\n  background-color: #04649e;\n  color: #f1f1f1;\n}\n#T_f7fd1_row5_col0 {\n  background-color: #bfc9e1;\n  color: #000000;\n}\n#T_f7fd1_row5_col1 {\n  background-color: #93b5d6;\n  color: #000000;\n}\n#T_f7fd1_row5_col2 {\n  background-color: #ede7f2;\n  color: #000000;\n}\n#T_f7fd1_row5_col3 {\n  background-color: #faf3f9;\n  color: #000000;\n}\n#T_f7fd1_row5_col4 {\n  background-color: #f4eef6;\n  color: #000000;\n}\n#T_f7fd1_row6_col0 {\n  background-color: #0567a1;\n  color: #f1f1f1;\n}\n#T_f7fd1_row6_col2 {\n  background-color: #0566a0;\n  color: #f1f1f1;\n}\n#T_f7fd1_row6_col3, #T_f7fd1_row7_col4, #T_f7fd1_row9_col0, #T_f7fd1_row9_col1, #T_f7fd1_row9_col2, #T_f7fd1_row9_col4 {\n  background-color: #fff7fb;\n  color: #000000;\n}\n#T_f7fd1_row7_col0 {\n  background-color: #63a2cb;\n  color: #f1f1f1;\n}\n#T_f7fd1_row7_col1 {\n  background-color: #f0eaf4;\n  color: #000000;\n}\n#T_f7fd1_row7_col2 {\n  background-color: #cccfe5;\n  color: #000000;\n}\n#T_f7fd1_row7_col3 {\n  background-color: #187cb6;\n  color: #f1f1f1;\n}\n#T_f7fd1_row8_col0 {\n  background-color: #99b8d8;\n  color: #000000;\n}\n#T_f7fd1_row8_col1 {\n  background-color: #034871;\n  color: #f1f1f1;\n}\n#T_f7fd1_row8_col4 {\n  background-color: #056dab;\n  color: #f1f1f1;\n}\n#T_f7fd1_row9_col3 {\n  background-color: #f4edf6;\n  color: #000000;\n}\n#T_f7fd1_row10_col0 {\n  background-color: #c1cae2;\n  color: #000000;\n}\n#T_f7fd1_row10_col2 {\n  background-color: #a2bcda;\n  color: #000000;\n}\n#T_f7fd1_row10_col3 {\n  background-color: #f5eef6;\n  color: #000000;\n}\n#T_f7fd1_row10_col4 {\n  background-color: #eae6f1;\n  color: #000000;\n}\n</style>\n<table id=\"T_f7fd1\">\n  <thead>\n    <tr>\n      <th class=\"blank level0\" >&nbsp;</th>\n      <th id=\"T_f7fd1_level0_col0\" class=\"col_heading level0 col0\" >0</th>\n      <th id=\"T_f7fd1_level0_col1\" class=\"col_heading level0 col1\" >1</th>\n      <th id=\"T_f7fd1_level0_col2\" class=\"col_heading level0 col2\" >2</th>\n      <th id=\"T_f7fd1_level0_col3\" class=\"col_heading level0 col3\" >3</th>\n      <th id=\"T_f7fd1_level0_col4\" class=\"col_heading level0 col4\" >4</th>\n    </tr>\n  </thead>\n  <tbody>\n    <tr>\n      <th id=\"T_f7fd1_level0_row0\" class=\"row_heading level0 row0\" >0</th>\n      <td id=\"T_f7fd1_row0_col0\" class=\"data row0 col0\" >0.185812</td>\n      <td id=\"T_f7fd1_row0_col1\" class=\"data row0 col1\" >0.225916</td>\n      <td id=\"T_f7fd1_row0_col2\" class=\"data row0 col2\" >0.218553</td>\n      <td id=\"T_f7fd1_row0_col3\" class=\"data row0 col3\" >0.272062</td>\n      <td id=\"T_f7fd1_row0_col4\" class=\"data row0 col4\" >0.174883</td>\n    </tr>\n    <tr>\n      <th id=\"T_f7fd1_level0_row1\" class=\"row_heading level0 row1\" >1</th>\n      <td id=\"T_f7fd1_row1_col0\" class=\"data row1 col0\" >0.330108</td>\n      <td id=\"T_f7fd1_row1_col1\" class=\"data row1 col1\" >0.391016</td>\n      <td id=\"T_f7fd1_row1_col2\" class=\"data row1 col2\" >0.194984</td>\n      <td id=\"T_f7fd1_row1_col3\" class=\"data row1 col3\" >0.348109</td>\n      <td id=\"T_f7fd1_row1_col4\" class=\"data row1 col4\" >0.340478</td>\n    </tr>\n    <tr>\n      <th id=\"T_f7fd1_level0_row2\" class=\"row_heading level0 row2\" >2</th>\n      <td id=\"T_f7fd1_row2_col0\" class=\"data row2 col0\" >0.126209</td>\n      <td id=\"T_f7fd1_row2_col1\" class=\"data row2 col1\" >0.173583</td>\n      <td id=\"T_f7fd1_row2_col2\" class=\"data row2 col2\" >0.133528</td>\n      <td id=\"T_f7fd1_row2_col3\" class=\"data row2 col3\" >0.250715</td>\n      <td id=\"T_f7fd1_row2_col4\" class=\"data row2 col4\" >0.191058</td>\n    </tr>\n    <tr>\n      <th id=\"T_f7fd1_level0_row3\" class=\"row_heading level0 row3\" >3</th>\n      <td id=\"T_f7fd1_row3_col0\" class=\"data row3 col0\" >0.323045</td>\n      <td id=\"T_f7fd1_row3_col1\" class=\"data row3 col1\" >0.273287</td>\n      <td id=\"T_f7fd1_row3_col2\" class=\"data row3 col2\" >0.292489</td>\n      <td id=\"T_f7fd1_row3_col3\" class=\"data row3 col3\" >0.384379</td>\n      <td id=\"T_f7fd1_row3_col4\" class=\"data row3 col4\" >0.389031</td>\n    </tr>\n    <tr>\n      <th id=\"T_f7fd1_level0_row4\" class=\"row_heading level0 row4\" >4</th>\n      <td id=\"T_f7fd1_row4_col0\" class=\"data row4 col0\" >0.463366</td>\n      <td id=\"T_f7fd1_row4_col1\" class=\"data row4 col1\" >0.176385</td>\n      <td id=\"T_f7fd1_row4_col2\" class=\"data row4 col2\" >0.263085</td>\n      <td id=\"T_f7fd1_row4_col3\" class=\"data row4 col3\" >0.236072</td>\n      <td id=\"T_f7fd1_row4_col4\" class=\"data row4 col4\" >0.425224</td>\n    </tr>\n    <tr>\n      <th id=\"T_f7fd1_level0_row5\" class=\"row_heading level0 row5\" >5</th>\n      <td id=\"T_f7fd1_row5_col0\" class=\"data row5 col0\" >0.171115</td>\n      <td id=\"T_f7fd1_row5_col1\" class=\"data row5 col1\" >0.219853</td>\n      <td id=\"T_f7fd1_row5_col2\" class=\"data row5 col2\" >0.070793</td>\n      <td id=\"T_f7fd1_row5_col3\" class=\"data row5 col3\" >0.133649</td>\n      <td id=\"T_f7fd1_row5_col4\" class=\"data row5 col4\" >0.154825</td>\n    </tr>\n    <tr>\n      <th id=\"T_f7fd1_level0_row6\" class=\"row_heading level0 row6\" >6</th>\n      <td id=\"T_f7fd1_row6_col0\" class=\"data row6 col0\" >0.380257</td>\n      <td id=\"T_f7fd1_row6_col1\" class=\"data row6 col1\" >0.450574</td>\n      <td id=\"T_f7fd1_row6_col2\" class=\"data row6 col2\" >0.332431</td>\n      <td id=\"T_f7fd1_row6_col3\" class=\"data row6 col3\" >0.124407</td>\n      <td id=\"T_f7fd1_row6_col4\" class=\"data row6 col4\" >0.493275</td>\n    </tr>\n    <tr>\n      <th id=\"T_f7fd1_level0_row7\" class=\"row_heading level0 row7\" >7</th>\n      <td id=\"T_f7fd1_row7_col0\" class=\"data row7 col0\" >0.267855</td>\n      <td id=\"T_f7fd1_row7_col1\" class=\"data row7 col1\" >0.088668</td>\n      <td id=\"T_f7fd1_row7_col2\" class=\"data row7 col2\" >0.124275</td>\n      <td id=\"T_f7fd1_row7_col3\" class=\"data row7 col3\" >0.320851</td>\n      <td id=\"T_f7fd1_row7_col4\" class=\"data row7 col4\" >0.128599</td>\n    </tr>\n    <tr>\n      <th id=\"T_f7fd1_level0_row8\" class=\"row_heading level0 row8\" >8</th>\n      <td id=\"T_f7fd1_row8_col0\" class=\"data row8 col0\" >0.214892</td>\n      <td id=\"T_f7fd1_row8_col1\" class=\"data row8 col1\" >0.426518</td>\n      <td id=\"T_f7fd1_row8_col2\" class=\"data row8 col2\" >0.405632</td>\n      <td id=\"T_f7fd1_row8_col3\" class=\"data row8 col3\" >0.404761</td>\n      <td id=\"T_f7fd1_row8_col4\" class=\"data row8 col4\" >0.409081</td>\n    </tr>\n    <tr>\n      <th id=\"T_f7fd1_level0_row9\" class=\"row_heading level0 row9\" >9</th>\n      <td id=\"T_f7fd1_row9_col0\" class=\"data row9 col0\" >0.044297</td>\n      <td id=\"T_f7fd1_row9_col1\" class=\"data row9 col1\" >0.048901</td>\n      <td id=\"T_f7fd1_row9_col2\" class=\"data row9 col2\" >0.024089</td>\n      <td id=\"T_f7fd1_row9_col3\" class=\"data row9 col3\" >0.145318</td>\n      <td id=\"T_f7fd1_row9_col4\" class=\"data row9 col4\" >0.129883</td>\n    </tr>\n    <tr>\n      <th id=\"T_f7fd1_level0_row10\" class=\"row_heading level0 row10\" >10</th>\n      <td id=\"T_f7fd1_row10_col0\" class=\"data row10 col0\" >0.167345</td>\n      <td id=\"T_f7fd1_row10_col1\" class=\"data row10 col1\" >0.117458</td>\n      <td id=\"T_f7fd1_row10_col2\" class=\"data row10 col2\" >0.170915</td>\n      <td id=\"T_f7fd1_row10_col3\" class=\"data row10 col3\" >0.143459</td>\n      <td id=\"T_f7fd1_row10_col4\" class=\"data row10 col4\" >0.178054</td>\n    </tr>\n  </tbody>\n</table>\n"
     },
     "execution_count": 55,
     "metadata": {},
     "output_type": "execute_result"
    }
   ],
   "source": [
    "distances_pd = pd.DataFrame(distances_all, index=range(5)).transpose()\n",
    "distances_pd.style.background_gradient()"
   ],
   "metadata": {
    "collapsed": false,
    "pycharm": {
     "name": "#%%\n"
    }
   }
  },
  {
   "cell_type": "code",
   "execution_count": 56,
   "outputs": [
    {
     "data": {
      "text/plain": "0     0.215445\n1     0.320939\n2     0.175019\n3     0.332446\n4     0.312826\n5     0.150047\n6     0.356189\n7     0.186050\n8     0.372177\n9     0.078498\n10    0.155446\ndtype: float32"
     },
     "execution_count": 56,
     "metadata": {},
     "output_type": "execute_result"
    }
   ],
   "source": [
    "distances_pd.mean(axis=1)"
   ],
   "metadata": {
    "collapsed": false,
    "pycharm": {
     "name": "#%%\n"
    }
   }
  },
  {
   "cell_type": "markdown",
   "source": [
    "# Novelty/Diversity Metrics\n",
    "## Convex hull hypervolume"
   ],
   "metadata": {
    "collapsed": false,
    "pycharm": {
     "name": "#%% md\n"
    }
   }
  },
  {
   "cell_type": "code",
   "execution_count": 58,
   "outputs": [],
   "source": [
    "from scipy.spatial import ConvexHull\n",
    "from sklearn.decomposition import PCA\n",
    "from tqdm import tqdm"
   ],
   "metadata": {
    "collapsed": false,
    "pycharm": {
     "name": "#%%\n"
    }
   }
  },
  {
   "cell_type": "code",
   "execution_count": 73,
   "outputs": [
    {
     "data": {
      "text/plain": "(11, 100, 384)"
     },
     "execution_count": 73,
     "metadata": {},
     "output_type": "execute_result"
    }
   ],
   "source": [
    "np.array(human_embeddings).shape"
   ],
   "metadata": {
    "collapsed": false,
    "pycharm": {
     "name": "#%%\n"
    }
   }
  },
  {
   "cell_type": "code",
   "execution_count": 77,
   "outputs": [
    {
     "name": "stderr",
     "output_type": "stream",
     "text": [
      "C:\\Users\\grandid\\AppData\\Local\\Temp\\1\\ipykernel_70588\\549932370.py:1: VisibleDeprecationWarning: Creating an ndarray from ragged nested sequences (which is a list-or-tuple of lists-or-tuples-or ndarrays with different lengths or shapes) is deprecated. If you meant to do this, you must specify 'dtype=object' when creating the ndarray.\n",
      "  np.array([human_embeddings] + gpt_embeddings_iterations).shape\n"
     ]
    },
    {
     "data": {
      "text/plain": "(6, 11)"
     },
     "execution_count": 77,
     "metadata": {},
     "output_type": "execute_result"
    }
   ],
   "source": [
    "np.array([human_embeddings] + gpt_embeddings_iterations).shape"
   ],
   "metadata": {
    "collapsed": false,
    "pycharm": {
     "name": "#%%\n"
    }
   }
  },
  {
   "cell_type": "code",
   "execution_count": 78,
   "outputs": [
    {
     "name": "stderr",
     "output_type": "stream",
     "text": [
      "  0%|          | 0/6 [00:00<?, ?it/s]\n",
      "  0%|          | 0/11 [00:00<?, ?it/s]\u001B[A\n",
      " 73%|███████▎  | 8/11 [00:00<00:00, 77.67it/s]\u001B[A\n",
      " 17%|█▋        | 1/6 [00:00<00:00,  6.99it/s] \u001B[A\n",
      "  0%|          | 0/11 [00:00<?, ?it/s]\u001B[A\n",
      " 91%|█████████ | 10/11 [00:00<00:00, 99.01it/s]\u001B[A\n",
      " 33%|███▎      | 2/6 [00:00<00:00,  8.13it/s]  \u001B[A\n",
      "  0%|          | 0/11 [00:00<?, ?it/s]\u001B[A\n",
      " 73%|███████▎  | 8/11 [00:00<00:00, 77.67it/s]\u001B[A\n",
      " 50%|█████     | 3/6 [00:00<00:00,  7.52it/s] \u001B[A\n",
      "  0%|          | 0/11 [00:00<?, ?it/s]\u001B[A\n",
      " 91%|█████████ | 10/11 [00:00<00:00, 94.34it/s]\u001B[A\n",
      " 67%|██████▋   | 4/6 [00:00<00:00,  7.75it/s]  \u001B[A\n",
      "  0%|          | 0/11 [00:00<?, ?it/s]\u001B[A\n",
      "100%|██████████| 11/11 [00:00<00:00, 100.00it/s]\u001B[A\n",
      " 83%|████████▎ | 5/6 [00:00<00:00,  8.06it/s]   \u001B[A\n",
      "  0%|          | 0/11 [00:00<?, ?it/s]\u001B[A\n",
      " 82%|████████▏ | 9/11 [00:00<00:00, 84.11it/s]\u001B[A\n",
      "100%|██████████| 6/6 [00:00<00:00,  7.94it/s] \u001B[A\n"
     ]
    }
   ],
   "source": [
    "pca = PCA(n_components=3)\n",
    "\n",
    "volumes_all = []\n",
    "for prompts in tqdm([human_embeddings] + gpt_embeddings_iterations):\n",
    "    volumes_prompts = []\n",
    "    for prompt in tqdm(prompts, leave=False):\n",
    "        embeddings = pca.fit_transform(prompt)\n",
    "        convex_hull = ConvexHull(embeddings)\n",
    "        volume_prompt = convex_hull.volume\n",
    "        volumes_prompts.append(volume_prompt)\n",
    "    volumes_all.append(volumes_prompts)"
   ],
   "metadata": {
    "collapsed": false,
    "pycharm": {
     "name": "#%%\n"
    }
   }
  },
  {
   "cell_type": "code",
   "execution_count": 81,
   "outputs": [
    {
     "data": {
      "text/plain": "<pandas.io.formats.style.Styler at 0x231d7a62b60>",
      "text/html": "<style type=\"text/css\">\n#T_8afcd_row0_col0 {\n  background-color: #f6eff7;\n  color: #000000;\n}\n#T_8afcd_row0_col1 {\n  background-color: #045280;\n  color: #f1f1f1;\n}\n#T_8afcd_row0_col2 {\n  background-color: #a1bbda;\n  color: #000000;\n}\n#T_8afcd_row0_col3 {\n  background-color: #b9c6e0;\n  color: #000000;\n}\n#T_8afcd_row0_col4 {\n  background-color: #b5c4df;\n  color: #000000;\n}\n#T_8afcd_row0_col5 {\n  background-color: #03466e;\n  color: #f1f1f1;\n}\n#T_8afcd_row1_col0, #T_8afcd_row4_col1, #T_8afcd_row6_col2, #T_8afcd_row8_col3, #T_8afcd_row9_col4, #T_8afcd_row9_col5, #T_8afcd_row10_col3 {\n  background-color: #fff7fb;\n  color: #000000;\n}\n#T_8afcd_row1_col1, #T_8afcd_row9_col3 {\n  background-color: #b0c2de;\n  color: #000000;\n}\n#T_8afcd_row1_col2 {\n  background-color: #d4d4e8;\n  color: #000000;\n}\n#T_8afcd_row1_col3 {\n  background-color: #71a8ce;\n  color: #f1f1f1;\n}\n#T_8afcd_row1_col4 {\n  background-color: #dcdaeb;\n  color: #000000;\n}\n#T_8afcd_row1_col5 {\n  background-color: #2786bb;\n  color: #f1f1f1;\n}\n#T_8afcd_row2_col0 {\n  background-color: #04639b;\n  color: #f1f1f1;\n}\n#T_8afcd_row2_col1, #T_8afcd_row2_col5, #T_8afcd_row4_col0, #T_8afcd_row6_col4, #T_8afcd_row7_col2, #T_8afcd_row7_col3 {\n  background-color: #023858;\n  color: #f1f1f1;\n}\n#T_8afcd_row2_col2 {\n  background-color: #d8d7e9;\n  color: #000000;\n}\n#T_8afcd_row2_col3 {\n  background-color: #c0c9e2;\n  color: #000000;\n}\n#T_8afcd_row2_col4 {\n  background-color: #60a1ca;\n  color: #f1f1f1;\n}\n#T_8afcd_row3_col0 {\n  background-color: #056ba9;\n  color: #f1f1f1;\n}\n#T_8afcd_row3_col1 {\n  background-color: #acc0dd;\n  color: #000000;\n}\n#T_8afcd_row3_col2 {\n  background-color: #99b8d8;\n  color: #000000;\n}\n#T_8afcd_row3_col3 {\n  background-color: #89b1d4;\n  color: #000000;\n}\n#T_8afcd_row3_col4 {\n  background-color: #bdc8e1;\n  color: #000000;\n}\n#T_8afcd_row3_col5, #T_8afcd_row7_col4 {\n  background-color: #c8cde4;\n  color: #000000;\n}\n#T_8afcd_row4_col2 {\n  background-color: #034d79;\n  color: #f1f1f1;\n}\n#T_8afcd_row4_col3 {\n  background-color: #79abd0;\n  color: #f1f1f1;\n}\n#T_8afcd_row4_col4, #T_8afcd_row8_col0 {\n  background-color: #2685bb;\n  color: #f1f1f1;\n}\n#T_8afcd_row4_col5, #T_8afcd_row8_col2 {\n  background-color: #f2ecf5;\n  color: #000000;\n}\n#T_8afcd_row5_col0 {\n  background-color: #034e7b;\n  color: #f1f1f1;\n}\n#T_8afcd_row5_col1, #T_8afcd_row5_col3 {\n  background-color: #0567a1;\n  color: #f1f1f1;\n}\n#T_8afcd_row5_col2 {\n  background-color: #4a98c5;\n  color: #f1f1f1;\n}\n#T_8afcd_row5_col4 {\n  background-color: #045a8d;\n  color: #f1f1f1;\n}\n#T_8afcd_row5_col5 {\n  background-color: #045585;\n  color: #f1f1f1;\n}\n#T_8afcd_row6_col0 {\n  background-color: #afc1dd;\n  color: #000000;\n}\n#T_8afcd_row6_col1 {\n  background-color: #abbfdc;\n  color: #000000;\n}\n#T_8afcd_row6_col3 {\n  background-color: #eee8f3;\n  color: #000000;\n}\n#T_8afcd_row6_col5 {\n  background-color: #f5eef6;\n  color: #000000;\n}\n#T_8afcd_row7_col0 {\n  background-color: #04588a;\n  color: #f1f1f1;\n}\n#T_8afcd_row7_col1 {\n  background-color: #83afd3;\n  color: #f1f1f1;\n}\n#T_8afcd_row7_col5 {\n  background-color: #034a74;\n  color: #f1f1f1;\n}\n#T_8afcd_row8_col1 {\n  background-color: #034973;\n  color: #f1f1f1;\n}\n#T_8afcd_row8_col4 {\n  background-color: #dfddec;\n  color: #000000;\n}\n#T_8afcd_row8_col5 {\n  background-color: #cdd0e5;\n  color: #000000;\n}\n#T_8afcd_row9_col0 {\n  background-color: #eee9f3;\n  color: #000000;\n}\n#T_8afcd_row9_col1 {\n  background-color: #8eb3d5;\n  color: #000000;\n}\n#T_8afcd_row9_col2 {\n  background-color: #e4e1ef;\n  color: #000000;\n}\n#T_8afcd_row10_col0 {\n  background-color: #3790c0;\n  color: #f1f1f1;\n}\n#T_8afcd_row10_col1 {\n  background-color: #f9f2f8;\n  color: #000000;\n}\n#T_8afcd_row10_col2 {\n  background-color: #80aed2;\n  color: #f1f1f1;\n}\n#T_8afcd_row10_col4 {\n  background-color: #9fbad9;\n  color: #000000;\n}\n#T_8afcd_row10_col5 {\n  background-color: #f7f0f7;\n  color: #000000;\n}\n</style>\n<table id=\"T_8afcd\">\n  <thead>\n    <tr>\n      <th class=\"blank level0\" >&nbsp;</th>\n      <th id=\"T_8afcd_level0_col0\" class=\"col_heading level0 col0\" >human</th>\n      <th id=\"T_8afcd_level0_col1\" class=\"col_heading level0 col1\" >iteration 1</th>\n      <th id=\"T_8afcd_level0_col2\" class=\"col_heading level0 col2\" >iteration 2</th>\n      <th id=\"T_8afcd_level0_col3\" class=\"col_heading level0 col3\" >iteration 3</th>\n      <th id=\"T_8afcd_level0_col4\" class=\"col_heading level0 col4\" >iteration 4</th>\n      <th id=\"T_8afcd_level0_col5\" class=\"col_heading level0 col5\" >iteration 5</th>\n    </tr>\n  </thead>\n  <tbody>\n    <tr>\n      <th id=\"T_8afcd_level0_row0\" class=\"row_heading level0 row0\" >0</th>\n      <td id=\"T_8afcd_row0_col0\" class=\"data row0 col0\" >0.249209</td>\n      <td id=\"T_8afcd_row0_col1\" class=\"data row0 col1\" >0.272238</td>\n      <td id=\"T_8afcd_row0_col2\" class=\"data row0 col2\" >0.185465</td>\n      <td id=\"T_8afcd_row0_col3\" class=\"data row0 col3\" >0.178628</td>\n      <td id=\"T_8afcd_row0_col4\" class=\"data row0 col4\" >0.144559</td>\n      <td id=\"T_8afcd_row0_col5\" class=\"data row0 col5\" >0.255028</td>\n    </tr>\n    <tr>\n      <th id=\"T_8afcd_level0_row1\" class=\"row_heading level0 row1\" >1</th>\n      <td id=\"T_8afcd_row1_col0\" class=\"data row1 col0\" >0.243629</td>\n      <td id=\"T_8afcd_row1_col1\" class=\"data row1 col1\" >0.139101</td>\n      <td id=\"T_8afcd_row1_col2\" class=\"data row1 col2\" >0.136639</td>\n      <td id=\"T_8afcd_row1_col3\" class=\"data row1 col3\" >0.226110</td>\n      <td id=\"T_8afcd_row1_col4\" class=\"data row1 col4\" >0.115445</td>\n      <td id=\"T_8afcd_row1_col5\" class=\"data row1 col5\" >0.196254</td>\n    </tr>\n    <tr>\n      <th id=\"T_8afcd_level0_row2\" class=\"row_heading level0 row2\" >2</th>\n      <td id=\"T_8afcd_row2_col0\" class=\"data row2 col0\" >0.321649</td>\n      <td id=\"T_8afcd_row2_col1\" class=\"data row2 col1\" >0.295191</td>\n      <td id=\"T_8afcd_row2_col2\" class=\"data row2 col2\" >0.132038</td>\n      <td id=\"T_8afcd_row2_col3\" class=\"data row2 col3\" >0.173457</td>\n      <td id=\"T_8afcd_row2_col4\" class=\"data row2 col4\" >0.191801</td>\n      <td id=\"T_8afcd_row2_col5\" class=\"data row2 col5\" >0.265659</td>\n    </tr>\n    <tr>\n      <th id=\"T_8afcd_level0_row3\" class=\"row_heading level0 row3\" >3</th>\n      <td id=\"T_8afcd_row3_col0\" class=\"data row3 col0\" >0.317053</td>\n      <td id=\"T_8afcd_row3_col1\" class=\"data row3 col1\" >0.141965</td>\n      <td id=\"T_8afcd_row3_col2\" class=\"data row3 col2\" >0.190726</td>\n      <td id=\"T_8afcd_row3_col3\" class=\"data row3 col3\" >0.211800</td>\n      <td id=\"T_8afcd_row3_col4\" class=\"data row3 col4\" >0.139574</td>\n      <td id=\"T_8afcd_row3_col5\" class=\"data row3 col5\" >0.117120</td>\n    </tr>\n    <tr>\n      <th id=\"T_8afcd_level0_row4\" class=\"row_heading level0 row4\" >4</th>\n      <td id=\"T_8afcd_row4_col0\" class=\"data row4 col0\" >0.338390</td>\n      <td id=\"T_8afcd_row4_col1\" class=\"data row4 col1\" >0.056472</td>\n      <td id=\"T_8afcd_row4_col2\" class=\"data row4 col2\" >0.349411</td>\n      <td id=\"T_8afcd_row4_col3\" class=\"data row4 col3\" >0.220953</td>\n      <td id=\"T_8afcd_row4_col4\" class=\"data row4 col4\" >0.220270</td>\n      <td id=\"T_8afcd_row4_col5\" class=\"data row4 col5\" >0.077826</td>\n    </tr>\n    <tr>\n      <th id=\"T_8afcd_level0_row5\" class=\"row_heading level0 row5\" >5</th>\n      <td id=\"T_8afcd_row5_col0\" class=\"data row5 col0\" >0.330279</td>\n      <td id=\"T_8afcd_row5_col1\" class=\"data row5 col1\" >0.247635</td>\n      <td id=\"T_8afcd_row5_col2\" class=\"data row5 col2\" >0.245501</td>\n      <td id=\"T_8afcd_row5_col3\" class=\"data row5 col3\" >0.301907</td>\n      <td id=\"T_8afcd_row5_col4\" class=\"data row5 col4\" >0.265899</td>\n      <td id=\"T_8afcd_row5_col5\" class=\"data row5 col5\" >0.243826</td>\n    </tr>\n    <tr>\n      <th id=\"T_8afcd_level0_row6\" class=\"row_heading level0 row6\" >6</th>\n      <td id=\"T_8afcd_row6_col0\" class=\"data row6 col0\" >0.276590</td>\n      <td id=\"T_8afcd_row6_col1\" class=\"data row6 col1\" >0.142680</td>\n      <td id=\"T_8afcd_row6_col2\" class=\"data row6 col2\" >0.064899</td>\n      <td id=\"T_8afcd_row6_col3\" class=\"data row6 col3\" >0.126344</td>\n      <td id=\"T_8afcd_row6_col4\" class=\"data row6 col4\" >0.294472</td>\n      <td id=\"T_8afcd_row6_col5\" class=\"data row6 col5\" >0.075083</td>\n    </tr>\n    <tr>\n      <th id=\"T_8afcd_level0_row7\" class=\"row_heading level0 row7\" >7</th>\n      <td id=\"T_8afcd_row7_col0\" class=\"data row7 col0\" >0.327088</td>\n      <td id=\"T_8afcd_row7_col1\" class=\"data row7 col1\" >0.167231</td>\n      <td id=\"T_8afcd_row7_col2\" class=\"data row7 col2\" >0.373654</td>\n      <td id=\"T_8afcd_row7_col3\" class=\"data row7 col3\" >0.352700</td>\n      <td id=\"T_8afcd_row7_col4\" class=\"data row7 col4\" >0.132803</td>\n      <td id=\"T_8afcd_row7_col5\" class=\"data row7 col5\" >0.251590</td>\n    </tr>\n    <tr>\n      <th id=\"T_8afcd_level0_row8\" class=\"row_heading level0 row8\" >8</th>\n      <td id=\"T_8afcd_row8_col0\" class=\"data row8 col0\" >0.306567</td>\n      <td id=\"T_8afcd_row8_col1\" class=\"data row8 col1\" >0.280266</td>\n      <td id=\"T_8afcd_row8_col2\" class=\"data row8 col2\" >0.091362</td>\n      <td id=\"T_8afcd_row8_col3\" class=\"data row8 col3\" >0.096986</td>\n      <td id=\"T_8afcd_row8_col4\" class=\"data row8 col4\" >0.112691</td>\n      <td id=\"T_8afcd_row8_col5\" class=\"data row8 col5\" >0.114206</td>\n    </tr>\n    <tr>\n      <th id=\"T_8afcd_level0_row9\" class=\"row_heading level0 row9\" >9</th>\n      <td id=\"T_8afcd_row9_col0\" class=\"data row9 col0\" >0.254090</td>\n      <td id=\"T_8afcd_row9_col1\" class=\"data row9 col1\" >0.160218</td>\n      <td id=\"T_8afcd_row9_col2\" class=\"data row9 col2\" >0.114390</td>\n      <td id=\"T_8afcd_row9_col3\" class=\"data row9 col3\" >0.185052</td>\n      <td id=\"T_8afcd_row9_col4\" class=\"data row9 col4\" >0.071063</td>\n      <td id=\"T_8afcd_row9_col5\" class=\"data row9 col5\" >0.060806</td>\n    </tr>\n    <tr>\n      <th id=\"T_8afcd_level0_row10\" class=\"row_heading level0 row10\" >10</th>\n      <td id=\"T_8afcd_row10_col0\" class=\"data row10 col0\" >0.302798</td>\n      <td id=\"T_8afcd_row10_col1\" class=\"data row10 col1\" >0.065935</td>\n      <td id=\"T_8afcd_row10_col2\" class=\"data row10 col2\" >0.210290</td>\n      <td id=\"T_8afcd_row10_col3\" class=\"data row10 col3\" >0.097610</td>\n      <td id=\"T_8afcd_row10_col4\" class=\"data row10 col4\" >0.158573</td>\n      <td id=\"T_8afcd_row10_col5\" class=\"data row10 col5\" >0.072631</td>\n    </tr>\n  </tbody>\n</table>\n"
     },
     "execution_count": 81,
     "metadata": {},
     "output_type": "execute_result"
    }
   ],
   "source": [
    "convex_hull_volumes_df = pd.DataFrame(volumes_all, index=['human', 'iteration 1', 'iteration 2', 'iteration 3', 'iteration 4', 'iteration 5']).transpose()\n",
    "convex_hull_volumes_df.style.background_gradient()"
   ],
   "metadata": {
    "collapsed": false,
    "pycharm": {
     "name": "#%%\n"
    }
   }
  },
  {
   "cell_type": "code",
   "execution_count": 82,
   "outputs": [
    {
     "data": {
      "text/plain": "human          0.297031\niteration 1    0.178994\niteration 2    0.190398\niteration 3    0.197413\niteration 4    0.167923\niteration 5    0.157275\ndtype: float64"
     },
     "execution_count": 82,
     "metadata": {},
     "output_type": "execute_result"
    }
   ],
   "source": [
    "convex_hull_volumes_df.mean(axis=0)"
   ],
   "metadata": {
    "collapsed": false,
    "pycharm": {
     "name": "#%%\n"
    }
   }
  },
  {
   "cell_type": "code",
   "execution_count": 83,
   "outputs": [
    {
     "data": {
      "text/plain": "0     0.214188\n1     0.176196\n2     0.229966\n3     0.186373\n4     0.210554\n5     0.272508\n6     0.163345\n7     0.267511\n8     0.167013\n9     0.140937\n10    0.151306\ndtype: float64"
     },
     "execution_count": 83,
     "metadata": {},
     "output_type": "execute_result"
    }
   ],
   "source": [
    "convex_hull_volumes_df.mean(axis=1)"
   ],
   "metadata": {
    "collapsed": false,
    "pycharm": {
     "name": "#%%\n"
    }
   }
  }
 ],
 "metadata": {
  "kernelspec": {
   "name": "conceptnetmaterials",
   "language": "python",
   "display_name": "Python (conceptNetMaterials)"
  },
  "language_info": {
   "codemirror_mode": {
    "name": "ipython",
    "version": 3
   },
   "file_extension": ".py",
   "mimetype": "text/x-python",
   "name": "python",
   "nbconvert_exporter": "python",
   "pygments_lexer": "ipython3",
   "version": "3.10.9"
  }
 },
 "nbformat": 4,
 "nbformat_minor": 5
}