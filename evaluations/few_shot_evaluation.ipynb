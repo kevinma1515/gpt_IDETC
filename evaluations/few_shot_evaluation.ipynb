{
 "cells": [
  {
   "cell_type": "code",
   "execution_count": 40,
   "id": "88316a13",
   "metadata": {
    "pycharm": {
     "name": "#%%\n"
    }
   },
   "outputs": [],
   "source": [
    "import csv\n",
    "import pandas as pd\n",
    "from sentence_transformers import SentenceTransformer\n",
    "import numpy as np\n",
    "from statistics import mean\n",
    "from numpy.linalg import norm\n",
    "from pathlib import Path"
   ]
  },
  {
   "cell_type": "markdown",
   "source": [
    "## Load Human Prompts"
   ],
   "metadata": {
    "collapsed": false,
    "pycharm": {
     "name": "#%% md\n"
    }
   }
  },
  {
   "cell_type": "code",
   "execution_count": 41,
   "outputs": [],
   "source": [
    "human_prompt_files = [\n",
    "    \"../sentence_embeddings/data/amazonTurkDesPrompt1.csv\",\n",
    "    \"../sentence_embeddings/data/amazonTurkDesPrompt2.csv\",\n",
    "    \"../sentence_embeddings/data/amazonTurkDesPrompt3.csv\",\n",
    "    \"../sentence_embeddings/data/amazonTurkDesPrompt4.csv\",\n",
    "    \"../sentence_embeddings/data/amazonTurkDesPrompt5.csv\",\n",
    "    \"../sentence_embeddings/data/amazonTurkDesPrompt6.csv\",\n",
    "    \"../sentence_embeddings/data/amazonTurkDesPrompt7.csv\",\n",
    "    \"../sentence_embeddings/data/amazonTurkDesPrompt8.csv\",\n",
    "    \"../sentence_embeddings/data/amazonTurkDesPrompt9.csv\",\n",
    "    \"../sentence_embeddings/data/amazonTurkDesPrompt10.csv\",\n",
    "    \"../sentence_embeddings/data/amazonTurkDesPrompt11.csv\",\n",
    "    \"../sentence_embeddings/data/amazonTurkDesPromptNA.csv\",\n",
    "]\n",
    "\n",
    "human_prompts = []\n",
    "\n",
    "for human_prompt in human_prompt_files:\n",
    "    prompts = []\n",
    "    with open(human_prompt, 'r') as file:\n",
    "        csvreader = csv.reader(file)\n",
    "        for row in csvreader:\n",
    "            prompts.append(row[0])\n",
    "    prompts = [i.replace('\\n',' ') for i in prompts]\n",
    "    human_prompts.append(prompts)"
   ],
   "metadata": {
    "collapsed": false,
    "pycharm": {
     "name": "#%%\n"
    }
   }
  },
  {
   "cell_type": "code",
   "execution_count": 42,
   "outputs": [
    {
     "data": {
      "text/plain": "                                                   0   \\\n0   ï»¿A jump rope that is also to be used as a ti...   \n1   ï»¿A vest made of crystal quartz pieces connec...   \n2               ï»¿with a candle that has marks on it   \n3                       ï»¿\"A tall cylindrical bottle   \n4   ï»¿\"A retractable gripper that has a central h...   \n5   ï»¿A small hand mixer that can be put into a g...   \n6   ï»¿\"A text app that used the acceleramator in ...   \n7   ï»¿programmed mechanical arms that are thin an...   \n8                 ï»¿\"Some sort of lift on the bottom   \n9   ï»¿\"It would have to be a cup with an electron...   \n10  ï»¿\"The device is a simple plastic sleeve with...   \n11  ï»¿An energy meter that plugs into an outlet t...   \n\n                                                   1   \\\n0   A muscle stimulate band that can be worn over ...   \n1   Perhaps there could be something...a cord?...a...   \n2   A clock or new redesigned clock that measures ...   \n3   Like a party pop, this would be for celebratio...   \n4   A rotating shelf that works like a dry-cleaner...   \n5   A voice activated mixer that you can turn on, ...   \n6   Having a device on your phone that is able to ...   \n7   A thin plastic sheet that is segmented and fol...   \n8   Push A button affixed to the wall of a buildin...   \n9                            A talking measuring cup.   \n10  A brace that clamps down over the joint and st...   \n11  A way to link the home exercise device to the ...   \n\n                                                   2   \\\n0   A simple, but strong band that has a hook to b...   \n1   a device which is attached to the joints so wh...   \n2      waterfall clock tracking time by water ammount   \n3   a turn table which senses something underneath...   \n4   A smart bookshelf that is app controlled and h...   \n5   An electronic probe that froths on a molecular...   \n6   Require a one hour class for purchases of new ...   \n7   A device that attaches you our dryer that fold...   \n8   the fountain can have a stool that can be pull...   \n9   The measuring cup has a scale built into it, w...   \n10  A rigid wrap. This is not a brace nor is it a ...   \n11  it would be nice if someone came up with a swi...   \n\n                                                   3   \\\n0   A calf strengthener, similar to a finger stren...   \n1   When you blush, you put sensors on your cheeks...   \n2   Instead of relying on visual inputs these woul...   \n3   It would be a puffer kind of like a perfume bo...   \n4   A ladder or stepladder to enable people to use...   \n5   This will be a cup that has a whisk in the bot...   \n6   An alert system attached to the back of a phon...   \n7   tortilla folding like device that folds in an ...   \n8   Since public drinking fountains are already ma...   \n9   \"Sous Chef\" measuring cups come in sizes from ...   \n10  A circular firm clamp type of device that is e...   \n11  A device that creates energy by converting thi...   \n\n                                                   4   \\\n0   A rubber ball that can be inflated / deflated ...   \n1   People could wear kinetic bracelets and anklet...   \n2                         A small chart on your wrist   \n3   Use the same container that weed killer comes ...   \n4   A device that allows you to install magnetic c...   \n5   an electric metal spinner that will cause a re...   \n6   At crosswalks, an arm comes down and a bell so...   \n7   This is a small, discreet machine that folds t...   \n8   A nozzle that is adjustable to height, but sti...   \n9   The measuring cup has a small microchip that d...   \n10  The devise would be a soft putty-like substanc...   \n11  The device that i would use would be a device ...   \n\n                                                   5   \\\n0   An x shaped resistance band that has 2 hand gr...   \n1                     solar equipment collects energy   \n2                                   A giant hourglass   \n3   I thought of an automatic powdered sugar dispe...   \n4   a long stick, with skinny tongs that can slide...   \n5   The item i thought of consists of a bowl like ...   \n6   Cell phones should include a feature that dete...   \n7                                        robotic hand   \n8   Accessible for people of all ages indicates to...   \n9   A measuring cup that when filled, braille is p...   \n10  A firm piece of metal or plastic attached dire...   \n11  A stationary bicycle that can be pedaled and w...   \n\n                                                   6   \\\n0   A mat that has electrosensitive pressure point...   \n1                        A bicycle-powered television   \n2           A clock that used binary to measure time.   \n3   Conveyor belt through a box that sprays the po...   \n4   A small, lightweight drone with a mechanical a...   \n5   a small spinning ball with blades that you pla...   \n6   An app that makes turns the camera on so that ...   \n7   I think it would be something like a flat surf...   \n8   Have a lever attached to the side with a mecha...   \n9   I am thinking of a measuring cup that looks li...   \n10  A smart brace for a knee that allows for assis...   \n11  A device that connects to your home's circuit ...   \n\n                                                   7   \\\n0   A fold bike that could be used as a bike and a...   \n1   have electrodes that can suction cup to our bo...   \n2   Marking a piece of string with knots to measur...   \n3   A metal powder shaker with small circular hole...   \n4              Rotating shelves that move up or down.   \n5   a disposable compression device that lets out ...   \n6   A series of reflective mirrors on a head devic...   \n7   An electronic folding device that allows you t...   \n8   we can put a pedal or handle to change the hei...   \n9   A plastic cup with a lid with raised graduatio...   \n10  A tube which slides over a joint which then is...   \n11  I thought of a device that turns off appliance...   \n\n                                                   8   \\\n0   I think there should be a product that will he...   \n1   A battery that is charged by the energy from y...   \n2   A medication that lets you be so in tune with ...   \n3   An electrically powered sifter. Like a hand po...   \n4   A bookshelf that knows what books are on the s...   \n5   It would be a little mini automated whisk that...   \n6   A ball, similar to a hamster ball, but human-s...   \n7   A template-based design with a base utilizing ...   \n8   Instead of the traditional spout method of dri...   \n9   machine that will dispense amount of fluid bas...   \n10  An implanted chip that can be turned on and of...   \n11  A control panel in your bedroom that allows yo...   \n\n                                                   9   ...  \\\n0        I am thinking of a portable exercise device.  ...   \n1   A shoe that collects the energy generated when...  ...   \n2   a clock that acts more like a measure of the s...  ...   \n3   A small long object that looks like a scanner....  ...   \n4   a device that you wear around your wrist that ...  ...   \n5   The device should be a small funnel through wh...  ...   \n6   having the background on your text as your cam...  ...   \n7   A robotic machine with an arm that picks up th...  ...   \n8   Have the fountain be on a movable electric lif...  ...   \n9   Have a clay cup that had deep marks in it with...  ...   \n10  A cast that can be 3d-printed from a CT or MRI...  ...   \n11  Some kind of sensor that will be set up in eac...  ...   \n\n                                                   90  \\\n0   A vest that makes you flex your chest muscles ...   \n1   Im thinking of clothing that contians statice ...   \n2   \"Timeline\" is a flexible strip of LED lights e...   \n3   A series of spinning rotors move several spray...   \n4   A small drone with an extendable arm so that i...   \n5   It's a stick with some rods coming out of it t...   \n6   A thing on a cell phone that emits a shock whe...   \n7   You set the clothing into the open device.   T...   \n8       A drinking fountain that can raise and lower.   \n9   I would take a regular measuring cup and put b...   \n10  A set of bungees that pull the join in the opp...   \n11  An app on your phone that would detect which a...   \n\n                                                   91  \\\n0   A fold up tension devise that can fit into a s...   \n1   I know skin conductance goes up when people ar...   \n2   Digital self-drawn laser clock art. The design...   \n3   This would be like a car wash, but instead of ...   \n4   A block for one to stand on to reach the book....   \n5                    electrical pulse or laser sensor   \n6        Do not text and walk with cars nearby signs.   \n7   The device is a funnel that accepts the wash c...   \n8   A public drinking fountain on a barber chair-l...   \n9   A measuring cup with a sensor attached to the ...   \n10  This device would be a series of gears that lo...   \n11  A small robot that plugs into your electrical ...   \n\n                                                   92  \\\n0   something very small that will allow you to wo...   \n1   A stationary bike with the wheel connected to ...   \n2              Use base 10 instead of base-6 numbers.   \n3   a cannister that sprays and coats something of...   \n4   A flying robot with useable arms and seeing ey...   \n5   I wasn't sure, but googling seems to suggest t...   \n6   Crash avoidance sensors on the phone or attach...   \n7   The magic sheet.  It is a sheet of metal that ...   \n8   You could have an attachment that would fit on...   \n9   A cup that uses voice and sound to let a perso...   \n10  A stiff sleeve of like Kevlar that can be pull...   \n11  A fridge and freezer with glass doors that onl...   \n\n                                                   93  \\\n0   A rowing type machine that can be folded up in...   \n1   put pressure buttons in the bottoms of shoes a...   \n2   A block you put in the freezer and it turns bl...   \n3   A small canister with a spigot at the top and ...   \n4   A bookshelf that has moving shelves controlled...   \n5   A pot that has a built in stir mechanism to fr...   \n6   an app that shows a small window of whats in f...   \n7   This device would be like a paper towel dispen...   \n8   a rising booster stool that allows a person of...   \n9   There will be a deep cup, and a easily identif...   \n10  A small almost band aid type sticker that atta...   \n11  Something that could be used to section off ar...   \n\n                                                   94  \\\n0   This device is a dumbbell in which the weighte...   \n1   I am thinking of something simple like a watch...   \n2   We could divide time up into different color q...   \n3   A container with a perforated lid to dispense ...   \n4   A remote controlled robot with hands and finge...   \n5   A small interwoven wire whisk that attaches to...   \n6   Visors that have a clear view for walking and ...   \n7   A machine that you lay the towel/cloth on and ...   \n8   My idea is a water fountain that has more than...   \n9   maybe a cup with raised lines on the outside a...   \n10            A quick-closing perpendicular disk set.   \n11  the device would me something that gets power ...   \n\n                                                   95  \\\n0   a small collapsible step that can be used to d...   \n1   sort of like roller blades that store the mech...   \n2   The sun app.  The sun app uses a satellite in ...   \n3   A small salt-shaker like item. This one has a ...   \n4   A Book Drone. It has the ability and strength ...   \n5   A handheld device that spins on one end at hig...   \n6                  A wearable cell phone like glasses   \n7   Hand crank towel folder. Like the machines use...   \n8                     Auto-adjustable water fountain.   \n9   a cup that is slightly larger than what it nee...   \n10  Device consists of two rings connects to each ...   \n11  System that automatically shuts off things tha...   \n\n                                                   96  \\\n0   How about an abdominal or muscle training MP3 ...   \n1   Energy from the motion of walking could be col...   \n2   It would be the number of times my fan turned ...   \n3   A cup/tube cover, with multiple layers that ha...   \n4   An extendable chair that raises or lowers base...   \n5   The first thing that came to mind is a tiny fa...   \n6   an emergency alert alarm that goes off when ab...   \n7   A hand cranked item that has a set arrangement...   \n8   a motorized lift which raises and lowers the d...   \n9   automated voice, braille numbers, programmable...   \n10                  a cast that is totally waterproof   \n11  Water heater that cycles on and off to agree w...   \n\n                                                   97  \\\n0          Flexible, non-electric, ergonomic, compact   \n1   A smart phone app that trackA smart phone app ...   \n2   A device that monitors the rotations and posit...   \n3   I bake often at home and this prompt made me i...   \n4   A book grabber. A long stock like thing with a...   \n5   A machine that accepts an seal glass container...   \n6   an app that knows when you are walking, and sh...   \n7                  An automatic robotic cloth folder.   \n8   The device is a like a fixed stationary step s...   \n9           I am thinking of a Braille measuring cup.   \n10  A special cuff could be placed around the join...   \n11  This is very easy. You would make a magnetic m...   \n\n                                                   98  \\\n0          A collapsible, compact elliptical machine.   \n1   To collect energy from human motion, a station...   \n2   TIME IS INFINITE THEREFORE SOMETHING HAS TO BE...   \n3   A device that can be used while cooking and ba...   \n4   create an object made like a tong  to grab a book   \n5                A battery opperated whisk like tool.   \n6   An app that does not allow someone to walk and...   \n7   the device is a folding, hinged contraption th...   \n8   A drinking fountain with different steps aroun...   \n9   Braille on the side of the handle that tells t...   \n10                                I thought of a cast   \n11  An energy monitor wired to the power main that...   \n\n                                                   99  \n0   I am thinking of some sort of rubber band stro...  \n1   Power collecting shoes that joggers or top rac...  \n2           light bulbs that dim as the sun goes down  \n3   An automatic brush machine that could be adjus...  \n4   This device would act like one of those child ...  \n5   A jar that warms up inside with lots of metal ...  \n6   the phone would have a walk mode where sensors...  \n7   Set of 3 plastic boards with recessed hinges t...  \n8   Utilizing a typical drinking fountain cooling ...  \n9   It would have to be tactile. For a liquid meas...  \n10  There could be a small robots that is used to ...  \n11  This would be a type of heat sync that would s...  \n\n[12 rows x 100 columns]",
      "text/html": "<div>\n<style scoped>\n    .dataframe tbody tr th:only-of-type {\n        vertical-align: middle;\n    }\n\n    .dataframe tbody tr th {\n        vertical-align: top;\n    }\n\n    .dataframe thead th {\n        text-align: right;\n    }\n</style>\n<table border=\"1\" class=\"dataframe\">\n  <thead>\n    <tr style=\"text-align: right;\">\n      <th></th>\n      <th>0</th>\n      <th>1</th>\n      <th>2</th>\n      <th>3</th>\n      <th>4</th>\n      <th>5</th>\n      <th>6</th>\n      <th>7</th>\n      <th>8</th>\n      <th>9</th>\n      <th>...</th>\n      <th>90</th>\n      <th>91</th>\n      <th>92</th>\n      <th>93</th>\n      <th>94</th>\n      <th>95</th>\n      <th>96</th>\n      <th>97</th>\n      <th>98</th>\n      <th>99</th>\n    </tr>\n  </thead>\n  <tbody>\n    <tr>\n      <th>0</th>\n      <td>ï»¿A jump rope that is also to be used as a ti...</td>\n      <td>A muscle stimulate band that can be worn over ...</td>\n      <td>A simple, but strong band that has a hook to b...</td>\n      <td>A calf strengthener, similar to a finger stren...</td>\n      <td>A rubber ball that can be inflated / deflated ...</td>\n      <td>An x shaped resistance band that has 2 hand gr...</td>\n      <td>A mat that has electrosensitive pressure point...</td>\n      <td>A fold bike that could be used as a bike and a...</td>\n      <td>I think there should be a product that will he...</td>\n      <td>I am thinking of a portable exercise device.</td>\n      <td>...</td>\n      <td>A vest that makes you flex your chest muscles ...</td>\n      <td>A fold up tension devise that can fit into a s...</td>\n      <td>something very small that will allow you to wo...</td>\n      <td>A rowing type machine that can be folded up in...</td>\n      <td>This device is a dumbbell in which the weighte...</td>\n      <td>a small collapsible step that can be used to d...</td>\n      <td>How about an abdominal or muscle training MP3 ...</td>\n      <td>Flexible, non-electric, ergonomic, compact</td>\n      <td>A collapsible, compact elliptical machine.</td>\n      <td>I am thinking of some sort of rubber band stro...</td>\n    </tr>\n    <tr>\n      <th>1</th>\n      <td>ï»¿A vest made of crystal quartz pieces connec...</td>\n      <td>Perhaps there could be something...a cord?...a...</td>\n      <td>a device which is attached to the joints so wh...</td>\n      <td>When you blush, you put sensors on your cheeks...</td>\n      <td>People could wear kinetic bracelets and anklet...</td>\n      <td>solar equipment collects energy</td>\n      <td>A bicycle-powered television</td>\n      <td>have electrodes that can suction cup to our bo...</td>\n      <td>A battery that is charged by the energy from y...</td>\n      <td>A shoe that collects the energy generated when...</td>\n      <td>...</td>\n      <td>Im thinking of clothing that contians statice ...</td>\n      <td>I know skin conductance goes up when people ar...</td>\n      <td>A stationary bike with the wheel connected to ...</td>\n      <td>put pressure buttons in the bottoms of shoes a...</td>\n      <td>I am thinking of something simple like a watch...</td>\n      <td>sort of like roller blades that store the mech...</td>\n      <td>Energy from the motion of walking could be col...</td>\n      <td>A smart phone app that trackA smart phone app ...</td>\n      <td>To collect energy from human motion, a station...</td>\n      <td>Power collecting shoes that joggers or top rac...</td>\n    </tr>\n    <tr>\n      <th>2</th>\n      <td>ï»¿with a candle that has marks on it</td>\n      <td>A clock or new redesigned clock that measures ...</td>\n      <td>waterfall clock tracking time by water ammount</td>\n      <td>Instead of relying on visual inputs these woul...</td>\n      <td>A small chart on your wrist</td>\n      <td>A giant hourglass</td>\n      <td>A clock that used binary to measure time.</td>\n      <td>Marking a piece of string with knots to measur...</td>\n      <td>A medication that lets you be so in tune with ...</td>\n      <td>a clock that acts more like a measure of the s...</td>\n      <td>...</td>\n      <td>\"Timeline\" is a flexible strip of LED lights e...</td>\n      <td>Digital self-drawn laser clock art. The design...</td>\n      <td>Use base 10 instead of base-6 numbers.</td>\n      <td>A block you put in the freezer and it turns bl...</td>\n      <td>We could divide time up into different color q...</td>\n      <td>The sun app.  The sun app uses a satellite in ...</td>\n      <td>It would be the number of times my fan turned ...</td>\n      <td>A device that monitors the rotations and posit...</td>\n      <td>TIME IS INFINITE THEREFORE SOMETHING HAS TO BE...</td>\n      <td>light bulbs that dim as the sun goes down</td>\n    </tr>\n    <tr>\n      <th>3</th>\n      <td>ï»¿\"A tall cylindrical bottle</td>\n      <td>Like a party pop, this would be for celebratio...</td>\n      <td>a turn table which senses something underneath...</td>\n      <td>It would be a puffer kind of like a perfume bo...</td>\n      <td>Use the same container that weed killer comes ...</td>\n      <td>I thought of an automatic powdered sugar dispe...</td>\n      <td>Conveyor belt through a box that sprays the po...</td>\n      <td>A metal powder shaker with small circular hole...</td>\n      <td>An electrically powered sifter. Like a hand po...</td>\n      <td>A small long object that looks like a scanner....</td>\n      <td>...</td>\n      <td>A series of spinning rotors move several spray...</td>\n      <td>This would be like a car wash, but instead of ...</td>\n      <td>a cannister that sprays and coats something of...</td>\n      <td>A small canister with a spigot at the top and ...</td>\n      <td>A container with a perforated lid to dispense ...</td>\n      <td>A small salt-shaker like item. This one has a ...</td>\n      <td>A cup/tube cover, with multiple layers that ha...</td>\n      <td>I bake often at home and this prompt made me i...</td>\n      <td>A device that can be used while cooking and ba...</td>\n      <td>An automatic brush machine that could be adjus...</td>\n    </tr>\n    <tr>\n      <th>4</th>\n      <td>ï»¿\"A retractable gripper that has a central h...</td>\n      <td>A rotating shelf that works like a dry-cleaner...</td>\n      <td>A smart bookshelf that is app controlled and h...</td>\n      <td>A ladder or stepladder to enable people to use...</td>\n      <td>A device that allows you to install magnetic c...</td>\n      <td>a long stick, with skinny tongs that can slide...</td>\n      <td>A small, lightweight drone with a mechanical a...</td>\n      <td>Rotating shelves that move up or down.</td>\n      <td>A bookshelf that knows what books are on the s...</td>\n      <td>a device that you wear around your wrist that ...</td>\n      <td>...</td>\n      <td>A small drone with an extendable arm so that i...</td>\n      <td>A block for one to stand on to reach the book....</td>\n      <td>A flying robot with useable arms and seeing ey...</td>\n      <td>A bookshelf that has moving shelves controlled...</td>\n      <td>A remote controlled robot with hands and finge...</td>\n      <td>A Book Drone. It has the ability and strength ...</td>\n      <td>An extendable chair that raises or lowers base...</td>\n      <td>A book grabber. A long stock like thing with a...</td>\n      <td>create an object made like a tong  to grab a book</td>\n      <td>This device would act like one of those child ...</td>\n    </tr>\n    <tr>\n      <th>5</th>\n      <td>ï»¿A small hand mixer that can be put into a g...</td>\n      <td>A voice activated mixer that you can turn on, ...</td>\n      <td>An electronic probe that froths on a molecular...</td>\n      <td>This will be a cup that has a whisk in the bot...</td>\n      <td>an electric metal spinner that will cause a re...</td>\n      <td>The item i thought of consists of a bowl like ...</td>\n      <td>a small spinning ball with blades that you pla...</td>\n      <td>a disposable compression device that lets out ...</td>\n      <td>It would be a little mini automated whisk that...</td>\n      <td>The device should be a small funnel through wh...</td>\n      <td>...</td>\n      <td>It's a stick with some rods coming out of it t...</td>\n      <td>electrical pulse or laser sensor</td>\n      <td>I wasn't sure, but googling seems to suggest t...</td>\n      <td>A pot that has a built in stir mechanism to fr...</td>\n      <td>A small interwoven wire whisk that attaches to...</td>\n      <td>A handheld device that spins on one end at hig...</td>\n      <td>The first thing that came to mind is a tiny fa...</td>\n      <td>A machine that accepts an seal glass container...</td>\n      <td>A battery opperated whisk like tool.</td>\n      <td>A jar that warms up inside with lots of metal ...</td>\n    </tr>\n    <tr>\n      <th>6</th>\n      <td>ï»¿\"A text app that used the acceleramator in ...</td>\n      <td>Having a device on your phone that is able to ...</td>\n      <td>Require a one hour class for purchases of new ...</td>\n      <td>An alert system attached to the back of a phon...</td>\n      <td>At crosswalks, an arm comes down and a bell so...</td>\n      <td>Cell phones should include a feature that dete...</td>\n      <td>An app that makes turns the camera on so that ...</td>\n      <td>A series of reflective mirrors on a head devic...</td>\n      <td>A ball, similar to a hamster ball, but human-s...</td>\n      <td>having the background on your text as your cam...</td>\n      <td>...</td>\n      <td>A thing on a cell phone that emits a shock whe...</td>\n      <td>Do not text and walk with cars nearby signs.</td>\n      <td>Crash avoidance sensors on the phone or attach...</td>\n      <td>an app that shows a small window of whats in f...</td>\n      <td>Visors that have a clear view for walking and ...</td>\n      <td>A wearable cell phone like glasses</td>\n      <td>an emergency alert alarm that goes off when ab...</td>\n      <td>an app that knows when you are walking, and sh...</td>\n      <td>An app that does not allow someone to walk and...</td>\n      <td>the phone would have a walk mode where sensors...</td>\n    </tr>\n    <tr>\n      <th>7</th>\n      <td>ï»¿programmed mechanical arms that are thin an...</td>\n      <td>A thin plastic sheet that is segmented and fol...</td>\n      <td>A device that attaches you our dryer that fold...</td>\n      <td>tortilla folding like device that folds in an ...</td>\n      <td>This is a small, discreet machine that folds t...</td>\n      <td>robotic hand</td>\n      <td>I think it would be something like a flat surf...</td>\n      <td>An electronic folding device that allows you t...</td>\n      <td>A template-based design with a base utilizing ...</td>\n      <td>A robotic machine with an arm that picks up th...</td>\n      <td>...</td>\n      <td>You set the clothing into the open device.   T...</td>\n      <td>The device is a funnel that accepts the wash c...</td>\n      <td>The magic sheet.  It is a sheet of metal that ...</td>\n      <td>This device would be like a paper towel dispen...</td>\n      <td>A machine that you lay the towel/cloth on and ...</td>\n      <td>Hand crank towel folder. Like the machines use...</td>\n      <td>A hand cranked item that has a set arrangement...</td>\n      <td>An automatic robotic cloth folder.</td>\n      <td>the device is a folding, hinged contraption th...</td>\n      <td>Set of 3 plastic boards with recessed hinges t...</td>\n    </tr>\n    <tr>\n      <th>8</th>\n      <td>ï»¿\"Some sort of lift on the bottom</td>\n      <td>Push A button affixed to the wall of a buildin...</td>\n      <td>the fountain can have a stool that can be pull...</td>\n      <td>Since public drinking fountains are already ma...</td>\n      <td>A nozzle that is adjustable to height, but sti...</td>\n      <td>Accessible for people of all ages indicates to...</td>\n      <td>Have a lever attached to the side with a mecha...</td>\n      <td>we can put a pedal or handle to change the hei...</td>\n      <td>Instead of the traditional spout method of dri...</td>\n      <td>Have the fountain be on a movable electric lif...</td>\n      <td>...</td>\n      <td>A drinking fountain that can raise and lower.</td>\n      <td>A public drinking fountain on a barber chair-l...</td>\n      <td>You could have an attachment that would fit on...</td>\n      <td>a rising booster stool that allows a person of...</td>\n      <td>My idea is a water fountain that has more than...</td>\n      <td>Auto-adjustable water fountain.</td>\n      <td>a motorized lift which raises and lowers the d...</td>\n      <td>The device is a like a fixed stationary step s...</td>\n      <td>A drinking fountain with different steps aroun...</td>\n      <td>Utilizing a typical drinking fountain cooling ...</td>\n    </tr>\n    <tr>\n      <th>9</th>\n      <td>ï»¿\"It would have to be a cup with an electron...</td>\n      <td>A talking measuring cup.</td>\n      <td>The measuring cup has a scale built into it, w...</td>\n      <td>\"Sous Chef\" measuring cups come in sizes from ...</td>\n      <td>The measuring cup has a small microchip that d...</td>\n      <td>A measuring cup that when filled, braille is p...</td>\n      <td>I am thinking of a measuring cup that looks li...</td>\n      <td>A plastic cup with a lid with raised graduatio...</td>\n      <td>machine that will dispense amount of fluid bas...</td>\n      <td>Have a clay cup that had deep marks in it with...</td>\n      <td>...</td>\n      <td>I would take a regular measuring cup and put b...</td>\n      <td>A measuring cup with a sensor attached to the ...</td>\n      <td>A cup that uses voice and sound to let a perso...</td>\n      <td>There will be a deep cup, and a easily identif...</td>\n      <td>maybe a cup with raised lines on the outside a...</td>\n      <td>a cup that is slightly larger than what it nee...</td>\n      <td>automated voice, braille numbers, programmable...</td>\n      <td>I am thinking of a Braille measuring cup.</td>\n      <td>Braille on the side of the handle that tells t...</td>\n      <td>It would have to be tactile. For a liquid meas...</td>\n    </tr>\n    <tr>\n      <th>10</th>\n      <td>ï»¿\"The device is a simple plastic sleeve with...</td>\n      <td>A brace that clamps down over the joint and st...</td>\n      <td>A rigid wrap. This is not a brace nor is it a ...</td>\n      <td>A circular firm clamp type of device that is e...</td>\n      <td>The devise would be a soft putty-like substanc...</td>\n      <td>A firm piece of metal or plastic attached dire...</td>\n      <td>A smart brace for a knee that allows for assis...</td>\n      <td>A tube which slides over a joint which then is...</td>\n      <td>An implanted chip that can be turned on and of...</td>\n      <td>A cast that can be 3d-printed from a CT or MRI...</td>\n      <td>...</td>\n      <td>A set of bungees that pull the join in the opp...</td>\n      <td>This device would be a series of gears that lo...</td>\n      <td>A stiff sleeve of like Kevlar that can be pull...</td>\n      <td>A small almost band aid type sticker that atta...</td>\n      <td>A quick-closing perpendicular disk set.</td>\n      <td>Device consists of two rings connects to each ...</td>\n      <td>a cast that is totally waterproof</td>\n      <td>A special cuff could be placed around the join...</td>\n      <td>I thought of a cast</td>\n      <td>There could be a small robots that is used to ...</td>\n    </tr>\n    <tr>\n      <th>11</th>\n      <td>ï»¿An energy meter that plugs into an outlet t...</td>\n      <td>A way to link the home exercise device to the ...</td>\n      <td>it would be nice if someone came up with a swi...</td>\n      <td>A device that creates energy by converting thi...</td>\n      <td>The device that i would use would be a device ...</td>\n      <td>A stationary bicycle that can be pedaled and w...</td>\n      <td>A device that connects to your home's circuit ...</td>\n      <td>I thought of a device that turns off appliance...</td>\n      <td>A control panel in your bedroom that allows yo...</td>\n      <td>Some kind of sensor that will be set up in eac...</td>\n      <td>...</td>\n      <td>An app on your phone that would detect which a...</td>\n      <td>A small robot that plugs into your electrical ...</td>\n      <td>A fridge and freezer with glass doors that onl...</td>\n      <td>Something that could be used to section off ar...</td>\n      <td>the device would me something that gets power ...</td>\n      <td>System that automatically shuts off things tha...</td>\n      <td>Water heater that cycles on and off to agree w...</td>\n      <td>This is very easy. You would make a magnetic m...</td>\n      <td>An energy monitor wired to the power main that...</td>\n      <td>This would be a type of heat sync that would s...</td>\n    </tr>\n  </tbody>\n</table>\n<p>12 rows × 100 columns</p>\n</div>"
     },
     "execution_count": 42,
     "metadata": {},
     "output_type": "execute_result"
    }
   ],
   "source": [
    "pd.DataFrame(human_prompts)"
   ],
   "metadata": {
    "collapsed": false,
    "pycharm": {
     "name": "#%%\n"
    }
   }
  },
  {
   "cell_type": "markdown",
   "source": [
    "## Load GPT Prompts"
   ],
   "metadata": {
    "collapsed": false,
    "pycharm": {
     "name": "#%% md\n"
    }
   }
  },
  {
   "cell_type": "code",
   "execution_count": 43,
   "outputs": [],
   "source": [
    "def get_all_files(directory, pattern):\n",
    "    return [f for f in Path(directory).glob(pattern)]"
   ],
   "metadata": {
    "collapsed": false,
    "pycharm": {
     "name": "#%%\n"
    }
   }
  },
  {
   "cell_type": "code",
   "execution_count": 44,
   "outputs": [
    {
     "data": {
      "text/plain": "60"
     },
     "execution_count": 44,
     "metadata": {},
     "output_type": "execute_result"
    }
   ],
   "source": [
    "gpt_files = get_all_files(\"../prompt_engineering/data/few_shot/\", \"*.csv\")\n",
    "len(gpt_files)"
   ],
   "metadata": {
    "collapsed": false,
    "pycharm": {
     "name": "#%%\n"
    }
   }
  },
  {
   "cell_type": "code",
   "execution_count": 45,
   "outputs": [
    {
     "name": "stdout",
     "output_type": "stream",
     "text": [
      "Could not process design_prompt_1_0\n",
      "Could not process design_prompt_0_1\n",
      "Could not process design_prompt_0_2\n",
      "Could not process design_prompt_10_2\n",
      "Could not process design_prompt_9_3\n",
      "Could not process design_prompt_10_3\n",
      "Could not process design_prompt_10_4\n"
     ]
    }
   ],
   "source": [
    "gpt_prompts = []\n",
    "\n",
    "# for design_prompt_count in range(11):\n",
    "for iteration_count in range(5):\n",
    "    iteration_prompts = []\n",
    "    # for iteration_count in range(5):\n",
    "    for design_prompt_count in range(12):\n",
    "        fail = False\n",
    "        prompt = pd.read_csv(f\"../prompt_engineering/data/few_shot/design_prompt_{design_prompt_count}_{iteration_count}.csv\", sep=\",\") #, header=None)\n",
    "        lst = []\n",
    "        for d in prompt.values:\n",
    "            lst.append(d[0])\n",
    "        prompt = []\n",
    "        for i in range(len(lst)):\n",
    "            try:\n",
    "                mod_statements = lst[i].replace(lst[i][:3], '')\n",
    "                prompt.append(mod_statements)\n",
    "            except AttributeError:\n",
    "                fail = True\n",
    "        if fail:\n",
    "            print(f\"Could not process design_prompt_{design_prompt_count}_{iteration_count}\")\n",
    "\n",
    "        iteration_prompts.append(prompt)\n",
    "    gpt_prompts.append(iteration_prompts)"
   ],
   "metadata": {
    "collapsed": false,
    "pycharm": {
     "name": "#%%\n"
    }
   }
  },
  {
   "cell_type": "code",
   "execution_count": 46,
   "outputs": [
    {
     "data": {
      "text/plain": "                                                  0   \\\n0  [A collapsible set of weights that have a buil...   \n1  [A core activator belt that can be worn to act...   \n2  [A handheld device with elastic bands and a ha...   \n3  [An adjustable resistance band that wraps arou...   \n4  [A retractable jump rope that is stored in an ...   \n\n                                                  1   \\\n0  [A backpack that contains a motorized pulley s...   \n1  [A generator that fits around the waist and us...   \n2  [a small weighted wheel that rotates when you ...   \n3  [A device that attaches to your arms and legs ...   \n4  [A lightweight elastic fitness band that can b...   \n\n                                                  2   \\\n0  [Mechanically powered wall clock with a 24-hou...   \n1  [An hourglass that measures the passage of tim...   \n2  [mechanical gears clock that tracks time, robo...   \n3  [A wristwatch that measures the passage of tim...   \n4  [A bracelet with tiny beads spaced out at each...   \n\n                                                  3   \\\n0  [A handheld device with a reservoir of powder,...   \n1  [Like a fog machine, this would be able to dis...   \n2  [An automated robotic arm that moves around th...   \n3  [It would be a spray bottle that sprays a fine...   \n4  [A handheld device that has a nozzle that shoo...   \n\n                                                  4   \\\n0  [\"A rotary-style robotic arm mounted on the ce...   \n1  [A extendable ladder with a hook on the end., ...   \n2  [A motorized robotic arm that sits in the spac...   \n3  [A telescoping pole with a basket on the end t...   \n4  [A telescopic “grabber” unit with an extendabl...   \n\n                                                  5   \\\n0  [A powerful frother attachment that can be use...   \n1  [A portable handheld frother that runs from an...   \n2  [A manual contraption that fits into a standar...   \n3  [A milk frothing pitcher with a built-in motor...   \n4  [a battery-powered whisk that creates a vortex...   \n\n                                                  6   \\\n0  [Phone cases that have a built in strap so it ...   \n1  [Having a device that works with smart watches...   \n2  [Place signs in public areas warning pedestria...   \n3  [A text alert that reminds users to be aware o...   \n4  [Install sensors in the road to detect cell ph...   \n\n                                                  7   \\\n0  [A hands-free device that takes the clothes/to...   \n1  [A foldable metal frame with two arms that can...   \n2  [A laundry machine with inbuilt folding capabi...   \n3  [Hand-cranked machine with flat surface and ar...   \n4  [An automated wall-mounted device that folds t...   \n\n                                                  8   \\\n0  [Have the fountain mounted to the wall at an a...   \n1  [Install a longer-length flexible drinking hos...   \n2  [Make the fountain accessible to both wheelcha...   \n3  [Install a drinking fountain with disability-f...   \n4  [A built in water filter to provide clean drin...   \n\n                                                  9   \\\n0  [The measuring cup would be equipped with a sp...   \n1  [A tactile measuring cup with raised numbers.,...   \n2  [The measuring cup has a setting to vibrate wh...   \n3  [Provide a measuring cup with Braille identifi...   \n4  [The measuring cup has a series of tactile mar...   \n\n                                                  10  \\\n0  [A knee brace that wraps around the joint and ...   \n1  [A metal structure with adjustable joints to i...   \n2  [A passive restraint device with straps and bu...   \n3  [A device that employs infrared sensors and ai...   \n4  [A device that uses an exoskeleton of rods and...   \n\n                                                  11  \n0  [A device that automatically dims electrical l...  \n1  [An automated system to adjust the thermostat ...  \n2  [A thermostat system that tracks and maintains...  \n3  [A device that uses the sun’s energy to heat o...  \n4  [A device that detects when our home exceeds i...  ",
      "text/html": "<div>\n<style scoped>\n    .dataframe tbody tr th:only-of-type {\n        vertical-align: middle;\n    }\n\n    .dataframe tbody tr th {\n        vertical-align: top;\n    }\n\n    .dataframe thead th {\n        text-align: right;\n    }\n</style>\n<table border=\"1\" class=\"dataframe\">\n  <thead>\n    <tr style=\"text-align: right;\">\n      <th></th>\n      <th>0</th>\n      <th>1</th>\n      <th>2</th>\n      <th>3</th>\n      <th>4</th>\n      <th>5</th>\n      <th>6</th>\n      <th>7</th>\n      <th>8</th>\n      <th>9</th>\n      <th>10</th>\n      <th>11</th>\n    </tr>\n  </thead>\n  <tbody>\n    <tr>\n      <th>0</th>\n      <td>[A collapsible set of weights that have a buil...</td>\n      <td>[A backpack that contains a motorized pulley s...</td>\n      <td>[Mechanically powered wall clock with a 24-hou...</td>\n      <td>[A handheld device with a reservoir of powder,...</td>\n      <td>[\"A rotary-style robotic arm mounted on the ce...</td>\n      <td>[A powerful frother attachment that can be use...</td>\n      <td>[Phone cases that have a built in strap so it ...</td>\n      <td>[A hands-free device that takes the clothes/to...</td>\n      <td>[Have the fountain mounted to the wall at an a...</td>\n      <td>[The measuring cup would be equipped with a sp...</td>\n      <td>[A knee brace that wraps around the joint and ...</td>\n      <td>[A device that automatically dims electrical l...</td>\n    </tr>\n    <tr>\n      <th>1</th>\n      <td>[A core activator belt that can be worn to act...</td>\n      <td>[A generator that fits around the waist and us...</td>\n      <td>[An hourglass that measures the passage of tim...</td>\n      <td>[Like a fog machine, this would be able to dis...</td>\n      <td>[A extendable ladder with a hook on the end., ...</td>\n      <td>[A portable handheld frother that runs from an...</td>\n      <td>[Having a device that works with smart watches...</td>\n      <td>[A foldable metal frame with two arms that can...</td>\n      <td>[Install a longer-length flexible drinking hos...</td>\n      <td>[A tactile measuring cup with raised numbers.,...</td>\n      <td>[A metal structure with adjustable joints to i...</td>\n      <td>[An automated system to adjust the thermostat ...</td>\n    </tr>\n    <tr>\n      <th>2</th>\n      <td>[A handheld device with elastic bands and a ha...</td>\n      <td>[a small weighted wheel that rotates when you ...</td>\n      <td>[mechanical gears clock that tracks time, robo...</td>\n      <td>[An automated robotic arm that moves around th...</td>\n      <td>[A motorized robotic arm that sits in the spac...</td>\n      <td>[A manual contraption that fits into a standar...</td>\n      <td>[Place signs in public areas warning pedestria...</td>\n      <td>[A laundry machine with inbuilt folding capabi...</td>\n      <td>[Make the fountain accessible to both wheelcha...</td>\n      <td>[The measuring cup has a setting to vibrate wh...</td>\n      <td>[A passive restraint device with straps and bu...</td>\n      <td>[A thermostat system that tracks and maintains...</td>\n    </tr>\n    <tr>\n      <th>3</th>\n      <td>[An adjustable resistance band that wraps arou...</td>\n      <td>[A device that attaches to your arms and legs ...</td>\n      <td>[A wristwatch that measures the passage of tim...</td>\n      <td>[It would be a spray bottle that sprays a fine...</td>\n      <td>[A telescoping pole with a basket on the end t...</td>\n      <td>[A milk frothing pitcher with a built-in motor...</td>\n      <td>[A text alert that reminds users to be aware o...</td>\n      <td>[Hand-cranked machine with flat surface and ar...</td>\n      <td>[Install a drinking fountain with disability-f...</td>\n      <td>[Provide a measuring cup with Braille identifi...</td>\n      <td>[A device that employs infrared sensors and ai...</td>\n      <td>[A device that uses the sun’s energy to heat o...</td>\n    </tr>\n    <tr>\n      <th>4</th>\n      <td>[A retractable jump rope that is stored in an ...</td>\n      <td>[A lightweight elastic fitness band that can b...</td>\n      <td>[A bracelet with tiny beads spaced out at each...</td>\n      <td>[A handheld device that has a nozzle that shoo...</td>\n      <td>[A telescopic “grabber” unit with an extendabl...</td>\n      <td>[a battery-powered whisk that creates a vortex...</td>\n      <td>[Install sensors in the road to detect cell ph...</td>\n      <td>[An automated wall-mounted device that folds t...</td>\n      <td>[A built in water filter to provide clean drin...</td>\n      <td>[The measuring cup has a series of tactile mar...</td>\n      <td>[A device that uses an exoskeleton of rods and...</td>\n      <td>[A device that detects when our home exceeds i...</td>\n    </tr>\n  </tbody>\n</table>\n</div>"
     },
     "execution_count": 46,
     "metadata": {},
     "output_type": "execute_result"
    }
   ],
   "source": [
    "pd.DataFrame(gpt_prompts)"
   ],
   "metadata": {
    "collapsed": false,
    "pycharm": {
     "name": "#%%\n"
    }
   }
  },
  {
   "cell_type": "code",
   "execution_count": 47,
   "outputs": [
    {
     "data": {
      "text/plain": "                                                   0   \\\n0   A collapsible set of weights that have a built...   \n1   A backpack that contains a motorized pulley sy...   \n2   Mechanically powered wall clock with a 24-hour...   \n3   A handheld device with a reservoir of powder, ...   \n4   \"A rotary-style robotic arm mounted on the cei...   \n5   A powerful frother attachment that can be used...   \n6   Phone cases that have a built in strap so it c...   \n7   A hands-free device that takes the clothes/tow...   \n8   Have the fountain mounted to the wall at an ad...   \n9   The measuring cup would be equipped with a spo...   \n10  A knee brace that wraps around the joint and t...   \n11  A device that automatically dims electrical li...   \n\n                                                   1   \\\n0   A Yoga mat that folds into a small bag with a ...   \n1   A pair of shoes with a built-in kinetic energy...   \n2        Cuckoo clock that has five minutes increment   \n3   A bucket or container with a conveyor belt att...   \n4   \"A telescopic arm with a grabber at the end. T...   \n5     A mini whisk with a built-in frothing function.   \n6   An app that automatically lowers the phone's b...   \n7   An automated robot that takes the clothes/towe...   \n8   Attach a long tube/straw to the mouth of the f...   \n9   The cup would have a top that slides up and do...   \n10  A wrap-around splint made of thin and flexible...   \n11  A device that shuts off all electronics in the...   \n\n                                                   2   \\\n0   A set of collapsible resistance bands that can...   \n1   An adjustable arm band made of a flexible mate...   \n2   Sun-dial with shadows of the sun used to measu...   \n3   A hopper mounted on a framework, above the sur...   \n4   \"A mobile robotic book retrieval system. It wi...   \n5   A battery-powered milk frother with a built-in...   \n6   Dedicated pedestrian lanes in high traffic are...   \n7   A clothes-folding machine that is mounted on a...   \n8   Put the fountain on a wheeled cart or platform...   \n9   A touch sensitive surface with raised Braille ...   \n10  An adjustable ankle brace with an elastic band...   \n11  A thermostat programmed to only heat or cool t...   \n\n                                                   3   \\\n0   A pair of hand weights that are designed to fi...   \n1   A pair of kinetic energy harvesting wrist band...   \n2   Color-coded clock that display the time in hue...   \n3   A backpack style device, with a reservoir of p...   \n4   \"A wall-mounted robotic arm that will lift and...   \n5   A manual milk frother with a lever-style handl...   \n6   Requiring cell phones that are used in public ...   \n7   A foldable device with adjustable settings tha...   \n8   Have an adjustable arm that is attached to the...   \n9   The handle would be fitted with a rotating dia...   \n10  A knee wrap with breathable fabric, adjustable...   \n11  An automated window shade or curtain that is p...   \n\n                                                   4   \\\n0   A mini-elliptical that folds up and is designe...   \n1   A stationary bike with a built-in solar panel....   \n2   Clock that is powered by sound waves from a so...   \n3   A wall-mounted device with a reservoir of powd...   \n4   \"A telescopic rod with a robotic arm at the en...   \n5   An electric handheld milk frother with rotatin...   \n6   A designated \"texting zone\" in public areas wh...   \n7   An automated machine that is equipped with a s...   \n8        Use a motion sensor to activate the fountain   \n9   The measuring cup would be equipped with a top...   \n10  A neoprene sleeve with adjustable straps for a...   \n11  A movement sensor installed in the house that ...   \n\n                                                   5   \\\n0   A folding travel-weight lifting bench that has...   \n1   An adjustable elastic belt with a built-in kin...   \n2         Personal digital assistant (PDA) with timer   \n3   A handheld device with a reservoir of powder, ...   \n4   \"A mobile robotic book retrieval system with a...   \n5   A single-serve, countertop milk frother that a...   \n6   Smartphone cases that have a safety feature wh...   \n7   A device that uses a rotating drum to quickly ...   \n8   Have an adjustable arm or flexible tubing that...   \n9   A vibrating handle would indicate when a certa...   \n10  A removable, adjustable knee stabilizer with a...   \n11  A device that monitors the rate of air leakage...   \n\n                                                   6   \\\n0   A collapsible pull-up bar that attaches to the...   \n1   A hand crank generator attached to an exercise...   \n2   Digital watch with LCD display and multiple al...   \n3   A pump-action device, with a reservoir of powd...   \n4   \"A wall-mounted robotic arm with a magnetized ...   \n5   A reusable metal milk frother with adjustable ...   \n6   Banning the use of cell phones while crossing ...   \n7   A device that uses multiple robotic arms to gr...   \n8                  Put the fountain on a scissor lift   \n9   The cup would have a grooved handle that would...   \n10  A custom orthopedic cast with a hard outer she...   \n11  An app that allows users to control the temper...   \n\n                                                   7   \\\n0   A set of travel-sized dumbbells that are light...   \n1   A set of hand weights with a built-in generato...   \n2   Digital clock that is synchronized with the TV...   \n3   A stand-mounted device with a reservoir of pow...   \n4   \"A robotic arm with a vacuum suction cup. The ...   \n5   A rechargeable milk frother with interchangeab...   \n6   Enforcing a no hands-free cell phone policy wh...   \n7   A wall-mounted device that uses suction to gra...   \n8   Have a fountain that can be raised or lowered ...   \n9   The cup handle would have a button that would ...   \n10  A knee brace with adjustable straps and a hing...   \n11  A device that can detect temperature changes i...   \n\n                                                   8   \\\n0    A jump rope that can be wrapped around a suit...   \n1    A weighted vest with a built-in kinetic energ...   \n2    Wall-mounted timer which is programmable and ...   \n3    A container with a funnel, filled with powder...   \n4    \"An articulated arm with a spring-loaded claw...   \n5    An adjustable milk frother with interchangeab...   \n6    Installing bumpy tiles or strips which vibrat...   \n7    A two-part device that uses a motorized mecha...   \n8    Put the fountain on a platform that rises to ...   \n9    The handle would have a dial that would incre...   \n10   A hinged knee immobilizer with two elastic st...   \n11   A device that monitors the temperature of app...   \n\n                                                   9   ...  \\\n0    Yoga blocks made out of foam that can easily ...  ...   \n1    An exercise machine with a built-in kinetic e...  ...   \n2             Smartphone apps that track elapsed time  ...   \n3    A container with a spigot and a perforated li...  ...   \n4    \"An adjustable robotic arm with a magnetized ...  ...   \n5    A vertical milk frother that pumps from the b...  ...   \n6    Installing holograms or projections which ale...  ...   \n7    A portable device that utilizes a simple desi...  ...   \n8               Put the fountain on a motorized lift   ...   \n9    The cup would have embossed Braille to indica...  ...   \n10   An ankle brace with a flexible and breathable...  ...   \n11   A device that know when appliances are not be...  ...   \n\n                                                   89  \\\n0    A jump rope that can be wrapped around a back...   \n1                                                None   \n2          Digital wristwatch with a light-up display   \n3    A container with a lid and a number of small ...   \n4                                                None   \n5    An electric milk frother with a detachable ju...   \n6    Requiring pedestrians to use their cell phone...   \n7    A device with a motorized system and programm...   \n8    Put the fountain on a platform that is adjust...   \n9    The cup handle would have an adjustable ring ...   \n10   An adjustable knee brace with an elastic band...   \n11   A device that shuts off all electronics in th...   \n\n                                                   90  \\\n0    A set of foam blocks that are adjustable for ...   \n1                                                None   \n2                 Wristwatch with a compass and timer   \n3    A motorized device with a reservoir of powder...   \n4                                                None   \n5    An adjustable milk frother with two interchan...   \n6    Introducing speed cameras which detect when s...   \n7    A device that utilizes a series of robotic ar...   \n8    Have an adjustable arm that is attached to th...   \n9    The cup handle would have a textured surface ...   \n10   A compression wrap with a secure closure and ...   \n11   An energy meter that plugs into an outlet tha...   \n\n                                                   91  \\\n0    A yoga mat with straps that can be used for a...   \n1                                                None   \n2                 Pocket watch with a 24-hour display   \n3    A handheld device with a reservoir of powder ...   \n4                                                None   \n5    A countertop milk frother with three intercha...   \n6    Requiring pedestrians to keep one hand free w...   \n7    A portable folding station that uses suction ...   \n8    Put the fountain on a platform with adjustabl...   \n9    The cup handle would have a series of bumps t...   \n10   An adjustable knee brace with a support band ...   \n11   A device that can detect temperature changes ...   \n\n                                                   92  \\\n0    A set of balance discs that can be stored in ...   \n1                                                None   \n2               Smartwatch with a pedometer and timer   \n3    A stand-mounted device with a reservoir of po...   \n4                                                None   \n5    An espresso-style milk frother with a built-i...   \n6    Requiring cell phones to be in a special mode...   \n7    A wall-mounted folding machine that uses infr...   \n8    Have a fountain mounted on a wall that can be...   \n9    The cup would have an electronic sensor that ...   \n10   A neoprene ankle brace with adjustable straps...   \n11   A device that monitors the rate of air leakag...   \n\n                                                   93  \\\n0    A chest press machine that can be stored in a...   \n1                                                None   \n2             Digital clock with a programmable timer   \n3    A tall cylindrical bottle with a spout on the...   \n4                                                None   \n5    A rechargeable milk frother with a self-conta...   \n6    Installing sensors in public areas that detec...   \n7    A device that uses a rotating drum and progra...   \n8    Put the fountain on a motorized lift that is ...   \n9    The cup handle would have a tactile numeric k...   \n10   A wrap-around knee brace with adjustable stra...   \n11   A thermostat programmed to only heat or cool ...   \n\n                                                   94  \\\n0    A doorway pull-up bar with adjustable tension...   \n1                                                None   \n2            Digital timer with a rechargable battery   \n3    A hand-held device with a reservoir of powder...   \n4                                                None   \n5    A cordless milk frother with two adjustable w...   \n6    Requiring pedestrians to wear a special pedom...   \n7    A machine that uses a heated plate and an art...   \n8    Have a fountain with extendable and adjustabl...   \n9    The handle would have a spring-loaded measure...   \n10   A custom orthopedic cast with a hard outer sh...   \n11   An automated window shade or curtain that is ...   \n\n                                                   95  \\\n0    A folding exercise bench designed to fit in a...   \n1                                                None   \n2                   Digital timer with a touch screen   \n3    A backpack style device, with a reservoir of ...   \n4                                                None   \n5    A two-speed milk frother with a built-in heat...   \n6    Requiring pedestrians to use special GPS-enab...   \n7    A device that utilizes a series of rollers an...   \n8    Put the fountain on a platform that is adjust...   \n9    The cup handle would have a digital display t...   \n10   A knee immobilizer with an adjustable strap a...   \n11   A device that monitors the temperature of app...   \n\n                                                   96  \\\n0    A handheld device with adjustable weights to ...   \n1                                                None   \n2     Automated clock with a voice recognition system   \n3    A handheld device with a reservoir of powder,...   \n4                                                None   \n5    An all-in-one milk frother, steamer, and warm...   \n6    Requiring pedestrians to wear special glasses...   \n7    An automated device that is programmed with i...   \n8    Have an adjustable arm that is attached to th...   \n9    The cup would have an LED indicator that woul...   \n10   A lightweight and flexible wrap-around splint...   \n11   An app that allows users to control the tempe...   \n\n                                                   97  \\\n0    A balance ball that can be adjusted to differ...   \n1                                                None   \n2      Digital timer with a solar-powered LCD display   \n3    A handheld device with a reservoir of powder ...   \n4                                                None   \n5    An automatic milk frother with an interchange...   \n6    Requiring pedestrians to wear a special refle...   \n7    A robotic device that is pre-programmed with ...   \n8    Put the fountain on a scissor lift that is ad...   \n9    The cup handle would have an LCD display that...   \n10   A removable and adjustable hinged knee brace ...   \n11   A device that detects the presence of people ...   \n\n                                                   98  \n0   . A resistance tunnel that is easy to store an...  \n1                                                None  \n2            . Hand-held timer with a digital display  \n3   . A stand-mounted device with a reservoir of p...  \n4                                                None  \n5   . A commercial-grade milk frother with an adju...  \n6   . Introducing laws that mandate that pedestria...  \n7   . A device that utilizes steam to remove wrink...  \n8   . Have a fountain mounted on a post that can b...  \n9   . The cup would have a Braille inscription on ...  \n10  . A neoprene knee brace with adjustable straps...  \n11  . An LED light bulb that brightens or dims dep...  \n\n[12 rows x 99 columns]",
      "text/html": "<div>\n<style scoped>\n    .dataframe tbody tr th:only-of-type {\n        vertical-align: middle;\n    }\n\n    .dataframe tbody tr th {\n        vertical-align: top;\n    }\n\n    .dataframe thead th {\n        text-align: right;\n    }\n</style>\n<table border=\"1\" class=\"dataframe\">\n  <thead>\n    <tr style=\"text-align: right;\">\n      <th></th>\n      <th>0</th>\n      <th>1</th>\n      <th>2</th>\n      <th>3</th>\n      <th>4</th>\n      <th>5</th>\n      <th>6</th>\n      <th>7</th>\n      <th>8</th>\n      <th>9</th>\n      <th>...</th>\n      <th>89</th>\n      <th>90</th>\n      <th>91</th>\n      <th>92</th>\n      <th>93</th>\n      <th>94</th>\n      <th>95</th>\n      <th>96</th>\n      <th>97</th>\n      <th>98</th>\n    </tr>\n  </thead>\n  <tbody>\n    <tr>\n      <th>0</th>\n      <td>A collapsible set of weights that have a built...</td>\n      <td>A Yoga mat that folds into a small bag with a ...</td>\n      <td>A set of collapsible resistance bands that can...</td>\n      <td>A pair of hand weights that are designed to fi...</td>\n      <td>A mini-elliptical that folds up and is designe...</td>\n      <td>A folding travel-weight lifting bench that has...</td>\n      <td>A collapsible pull-up bar that attaches to the...</td>\n      <td>A set of travel-sized dumbbells that are light...</td>\n      <td>A jump rope that can be wrapped around a suit...</td>\n      <td>Yoga blocks made out of foam that can easily ...</td>\n      <td>...</td>\n      <td>A jump rope that can be wrapped around a back...</td>\n      <td>A set of foam blocks that are adjustable for ...</td>\n      <td>A yoga mat with straps that can be used for a...</td>\n      <td>A set of balance discs that can be stored in ...</td>\n      <td>A chest press machine that can be stored in a...</td>\n      <td>A doorway pull-up bar with adjustable tension...</td>\n      <td>A folding exercise bench designed to fit in a...</td>\n      <td>A handheld device with adjustable weights to ...</td>\n      <td>A balance ball that can be adjusted to differ...</td>\n      <td>. A resistance tunnel that is easy to store an...</td>\n    </tr>\n    <tr>\n      <th>1</th>\n      <td>A backpack that contains a motorized pulley sy...</td>\n      <td>A pair of shoes with a built-in kinetic energy...</td>\n      <td>An adjustable arm band made of a flexible mate...</td>\n      <td>A pair of kinetic energy harvesting wrist band...</td>\n      <td>A stationary bike with a built-in solar panel....</td>\n      <td>An adjustable elastic belt with a built-in kin...</td>\n      <td>A hand crank generator attached to an exercise...</td>\n      <td>A set of hand weights with a built-in generato...</td>\n      <td>A weighted vest with a built-in kinetic energ...</td>\n      <td>An exercise machine with a built-in kinetic e...</td>\n      <td>...</td>\n      <td>None</td>\n      <td>None</td>\n      <td>None</td>\n      <td>None</td>\n      <td>None</td>\n      <td>None</td>\n      <td>None</td>\n      <td>None</td>\n      <td>None</td>\n      <td>None</td>\n    </tr>\n    <tr>\n      <th>2</th>\n      <td>Mechanically powered wall clock with a 24-hour...</td>\n      <td>Cuckoo clock that has five minutes increment</td>\n      <td>Sun-dial with shadows of the sun used to measu...</td>\n      <td>Color-coded clock that display the time in hue...</td>\n      <td>Clock that is powered by sound waves from a so...</td>\n      <td>Personal digital assistant (PDA) with timer</td>\n      <td>Digital watch with LCD display and multiple al...</td>\n      <td>Digital clock that is synchronized with the TV...</td>\n      <td>Wall-mounted timer which is programmable and ...</td>\n      <td>Smartphone apps that track elapsed time</td>\n      <td>...</td>\n      <td>Digital wristwatch with a light-up display</td>\n      <td>Wristwatch with a compass and timer</td>\n      <td>Pocket watch with a 24-hour display</td>\n      <td>Smartwatch with a pedometer and timer</td>\n      <td>Digital clock with a programmable timer</td>\n      <td>Digital timer with a rechargable battery</td>\n      <td>Digital timer with a touch screen</td>\n      <td>Automated clock with a voice recognition system</td>\n      <td>Digital timer with a solar-powered LCD display</td>\n      <td>. Hand-held timer with a digital display</td>\n    </tr>\n    <tr>\n      <th>3</th>\n      <td>A handheld device with a reservoir of powder, ...</td>\n      <td>A bucket or container with a conveyor belt att...</td>\n      <td>A hopper mounted on a framework, above the sur...</td>\n      <td>A backpack style device, with a reservoir of p...</td>\n      <td>A wall-mounted device with a reservoir of powd...</td>\n      <td>A handheld device with a reservoir of powder, ...</td>\n      <td>A pump-action device, with a reservoir of powd...</td>\n      <td>A stand-mounted device with a reservoir of pow...</td>\n      <td>A container with a funnel, filled with powder...</td>\n      <td>A container with a spigot and a perforated li...</td>\n      <td>...</td>\n      <td>A container with a lid and a number of small ...</td>\n      <td>A motorized device with a reservoir of powder...</td>\n      <td>A handheld device with a reservoir of powder ...</td>\n      <td>A stand-mounted device with a reservoir of po...</td>\n      <td>A tall cylindrical bottle with a spout on the...</td>\n      <td>A hand-held device with a reservoir of powder...</td>\n      <td>A backpack style device, with a reservoir of ...</td>\n      <td>A handheld device with a reservoir of powder,...</td>\n      <td>A handheld device with a reservoir of powder ...</td>\n      <td>. A stand-mounted device with a reservoir of p...</td>\n    </tr>\n    <tr>\n      <th>4</th>\n      <td>\"A rotary-style robotic arm mounted on the cei...</td>\n      <td>\"A telescopic arm with a grabber at the end. T...</td>\n      <td>\"A mobile robotic book retrieval system. It wi...</td>\n      <td>\"A wall-mounted robotic arm that will lift and...</td>\n      <td>\"A telescopic rod with a robotic arm at the en...</td>\n      <td>\"A mobile robotic book retrieval system with a...</td>\n      <td>\"A wall-mounted robotic arm with a magnetized ...</td>\n      <td>\"A robotic arm with a vacuum suction cup. The ...</td>\n      <td>\"An articulated arm with a spring-loaded claw...</td>\n      <td>\"An adjustable robotic arm with a magnetized ...</td>\n      <td>...</td>\n      <td>None</td>\n      <td>None</td>\n      <td>None</td>\n      <td>None</td>\n      <td>None</td>\n      <td>None</td>\n      <td>None</td>\n      <td>None</td>\n      <td>None</td>\n      <td>None</td>\n    </tr>\n    <tr>\n      <th>5</th>\n      <td>A powerful frother attachment that can be used...</td>\n      <td>A mini whisk with a built-in frothing function.</td>\n      <td>A battery-powered milk frother with a built-in...</td>\n      <td>A manual milk frother with a lever-style handl...</td>\n      <td>An electric handheld milk frother with rotatin...</td>\n      <td>A single-serve, countertop milk frother that a...</td>\n      <td>A reusable metal milk frother with adjustable ...</td>\n      <td>A rechargeable milk frother with interchangeab...</td>\n      <td>An adjustable milk frother with interchangeab...</td>\n      <td>A vertical milk frother that pumps from the b...</td>\n      <td>...</td>\n      <td>An electric milk frother with a detachable ju...</td>\n      <td>An adjustable milk frother with two interchan...</td>\n      <td>A countertop milk frother with three intercha...</td>\n      <td>An espresso-style milk frother with a built-i...</td>\n      <td>A rechargeable milk frother with a self-conta...</td>\n      <td>A cordless milk frother with two adjustable w...</td>\n      <td>A two-speed milk frother with a built-in heat...</td>\n      <td>An all-in-one milk frother, steamer, and warm...</td>\n      <td>An automatic milk frother with an interchange...</td>\n      <td>. A commercial-grade milk frother with an adju...</td>\n    </tr>\n    <tr>\n      <th>6</th>\n      <td>Phone cases that have a built in strap so it c...</td>\n      <td>An app that automatically lowers the phone's b...</td>\n      <td>Dedicated pedestrian lanes in high traffic are...</td>\n      <td>Requiring cell phones that are used in public ...</td>\n      <td>A designated \"texting zone\" in public areas wh...</td>\n      <td>Smartphone cases that have a safety feature wh...</td>\n      <td>Banning the use of cell phones while crossing ...</td>\n      <td>Enforcing a no hands-free cell phone policy wh...</td>\n      <td>Installing bumpy tiles or strips which vibrat...</td>\n      <td>Installing holograms or projections which ale...</td>\n      <td>...</td>\n      <td>Requiring pedestrians to use their cell phone...</td>\n      <td>Introducing speed cameras which detect when s...</td>\n      <td>Requiring pedestrians to keep one hand free w...</td>\n      <td>Requiring cell phones to be in a special mode...</td>\n      <td>Installing sensors in public areas that detec...</td>\n      <td>Requiring pedestrians to wear a special pedom...</td>\n      <td>Requiring pedestrians to use special GPS-enab...</td>\n      <td>Requiring pedestrians to wear special glasses...</td>\n      <td>Requiring pedestrians to wear a special refle...</td>\n      <td>. Introducing laws that mandate that pedestria...</td>\n    </tr>\n    <tr>\n      <th>7</th>\n      <td>A hands-free device that takes the clothes/tow...</td>\n      <td>An automated robot that takes the clothes/towe...</td>\n      <td>A clothes-folding machine that is mounted on a...</td>\n      <td>A foldable device with adjustable settings tha...</td>\n      <td>An automated machine that is equipped with a s...</td>\n      <td>A device that uses a rotating drum to quickly ...</td>\n      <td>A device that uses multiple robotic arms to gr...</td>\n      <td>A wall-mounted device that uses suction to gra...</td>\n      <td>A two-part device that uses a motorized mecha...</td>\n      <td>A portable device that utilizes a simple desi...</td>\n      <td>...</td>\n      <td>A device with a motorized system and programm...</td>\n      <td>A device that utilizes a series of robotic ar...</td>\n      <td>A portable folding station that uses suction ...</td>\n      <td>A wall-mounted folding machine that uses infr...</td>\n      <td>A device that uses a rotating drum and progra...</td>\n      <td>A machine that uses a heated plate and an art...</td>\n      <td>A device that utilizes a series of rollers an...</td>\n      <td>An automated device that is programmed with i...</td>\n      <td>A robotic device that is pre-programmed with ...</td>\n      <td>. A device that utilizes steam to remove wrink...</td>\n    </tr>\n    <tr>\n      <th>8</th>\n      <td>Have the fountain mounted to the wall at an ad...</td>\n      <td>Attach a long tube/straw to the mouth of the f...</td>\n      <td>Put the fountain on a wheeled cart or platform...</td>\n      <td>Have an adjustable arm that is attached to the...</td>\n      <td>Use a motion sensor to activate the fountain</td>\n      <td>Have an adjustable arm or flexible tubing that...</td>\n      <td>Put the fountain on a scissor lift</td>\n      <td>Have a fountain that can be raised or lowered ...</td>\n      <td>Put the fountain on a platform that rises to ...</td>\n      <td>Put the fountain on a motorized lift</td>\n      <td>...</td>\n      <td>Put the fountain on a platform that is adjust...</td>\n      <td>Have an adjustable arm that is attached to th...</td>\n      <td>Put the fountain on a platform with adjustabl...</td>\n      <td>Have a fountain mounted on a wall that can be...</td>\n      <td>Put the fountain on a motorized lift that is ...</td>\n      <td>Have a fountain with extendable and adjustabl...</td>\n      <td>Put the fountain on a platform that is adjust...</td>\n      <td>Have an adjustable arm that is attached to th...</td>\n      <td>Put the fountain on a scissor lift that is ad...</td>\n      <td>. Have a fountain mounted on a post that can b...</td>\n    </tr>\n    <tr>\n      <th>9</th>\n      <td>The measuring cup would be equipped with a spo...</td>\n      <td>The cup would have a top that slides up and do...</td>\n      <td>A touch sensitive surface with raised Braille ...</td>\n      <td>The handle would be fitted with a rotating dia...</td>\n      <td>The measuring cup would be equipped with a top...</td>\n      <td>A vibrating handle would indicate when a certa...</td>\n      <td>The cup would have a grooved handle that would...</td>\n      <td>The cup handle would have a button that would ...</td>\n      <td>The handle would have a dial that would incre...</td>\n      <td>The cup would have embossed Braille to indica...</td>\n      <td>...</td>\n      <td>The cup handle would have an adjustable ring ...</td>\n      <td>The cup handle would have a textured surface ...</td>\n      <td>The cup handle would have a series of bumps t...</td>\n      <td>The cup would have an electronic sensor that ...</td>\n      <td>The cup handle would have a tactile numeric k...</td>\n      <td>The handle would have a spring-loaded measure...</td>\n      <td>The cup handle would have a digital display t...</td>\n      <td>The cup would have an LED indicator that woul...</td>\n      <td>The cup handle would have an LCD display that...</td>\n      <td>. The cup would have a Braille inscription on ...</td>\n    </tr>\n    <tr>\n      <th>10</th>\n      <td>A knee brace that wraps around the joint and t...</td>\n      <td>A wrap-around splint made of thin and flexible...</td>\n      <td>An adjustable ankle brace with an elastic band...</td>\n      <td>A knee wrap with breathable fabric, adjustable...</td>\n      <td>A neoprene sleeve with adjustable straps for a...</td>\n      <td>A removable, adjustable knee stabilizer with a...</td>\n      <td>A custom orthopedic cast with a hard outer she...</td>\n      <td>A knee brace with adjustable straps and a hing...</td>\n      <td>A hinged knee immobilizer with two elastic st...</td>\n      <td>An ankle brace with a flexible and breathable...</td>\n      <td>...</td>\n      <td>An adjustable knee brace with an elastic band...</td>\n      <td>A compression wrap with a secure closure and ...</td>\n      <td>An adjustable knee brace with a support band ...</td>\n      <td>A neoprene ankle brace with adjustable straps...</td>\n      <td>A wrap-around knee brace with adjustable stra...</td>\n      <td>A custom orthopedic cast with a hard outer sh...</td>\n      <td>A knee immobilizer with an adjustable strap a...</td>\n      <td>A lightweight and flexible wrap-around splint...</td>\n      <td>A removable and adjustable hinged knee brace ...</td>\n      <td>. A neoprene knee brace with adjustable straps...</td>\n    </tr>\n    <tr>\n      <th>11</th>\n      <td>A device that automatically dims electrical li...</td>\n      <td>A device that shuts off all electronics in the...</td>\n      <td>A thermostat programmed to only heat or cool t...</td>\n      <td>An automated window shade or curtain that is p...</td>\n      <td>A movement sensor installed in the house that ...</td>\n      <td>A device that monitors the rate of air leakage...</td>\n      <td>An app that allows users to control the temper...</td>\n      <td>A device that can detect temperature changes i...</td>\n      <td>A device that monitors the temperature of app...</td>\n      <td>A device that know when appliances are not be...</td>\n      <td>...</td>\n      <td>A device that shuts off all electronics in th...</td>\n      <td>An energy meter that plugs into an outlet tha...</td>\n      <td>A device that can detect temperature changes ...</td>\n      <td>A device that monitors the rate of air leakag...</td>\n      <td>A thermostat programmed to only heat or cool ...</td>\n      <td>An automated window shade or curtain that is ...</td>\n      <td>A device that monitors the temperature of app...</td>\n      <td>An app that allows users to control the tempe...</td>\n      <td>A device that detects the presence of people ...</td>\n      <td>. An LED light bulb that brightens or dims dep...</td>\n    </tr>\n  </tbody>\n</table>\n<p>12 rows × 99 columns</p>\n</div>"
     },
     "execution_count": 47,
     "metadata": {},
     "output_type": "execute_result"
    }
   ],
   "source": [
    "pd.DataFrame(gpt_prompts[0])"
   ],
   "metadata": {
    "collapsed": false,
    "pycharm": {
     "name": "#%%\n"
    }
   }
  },
  {
   "cell_type": "markdown",
   "source": [
    "## Embed data"
   ],
   "metadata": {
    "collapsed": false,
    "pycharm": {
     "name": "#%% md\n"
    }
   }
  },
  {
   "cell_type": "code",
   "execution_count": 48,
   "outputs": [],
   "source": [
    "model = SentenceTransformer('all-MiniLM-L6-v2')"
   ],
   "metadata": {
    "collapsed": false,
    "pycharm": {
     "name": "#%%\n"
    }
   }
  },
  {
   "cell_type": "code",
   "execution_count": 49,
   "outputs": [],
   "source": [
    "human_embeddings = [model.encode(prompt) for prompt in human_prompts]\n",
    "\n",
    "gpt_embeddings_iterations = []\n",
    "for iteration in gpt_prompts:\n",
    "    gpt_embeddings_iterations.append([model.encode(prompt) for prompt in iteration])"
   ],
   "metadata": {
    "collapsed": false,
    "pycharm": {
     "name": "#%%\n"
    }
   }
  },
  {
   "cell_type": "code",
   "execution_count": 50,
   "outputs": [
    {
     "name": "stderr",
     "output_type": "stream",
     "text": [
      "C:\\Users\\grandid\\AppData\\Local\\Temp\\1\\ipykernel_55524\\2590467071.py:1: VisibleDeprecationWarning: Creating an ndarray from ragged nested sequences (which is a list-or-tuple of lists-or-tuples-or ndarrays with different lengths or shapes) is deprecated. If you meant to do this, you must specify 'dtype=object' when creating the ndarray.\n",
      "  np.array(gpt_embeddings_iterations).shape\n"
     ]
    },
    {
     "data": {
      "text/plain": "(5, 12)"
     },
     "execution_count": 50,
     "metadata": {},
     "output_type": "execute_result"
    }
   ],
   "source": [
    "np.array(gpt_embeddings_iterations).shape"
   ],
   "metadata": {
    "collapsed": false,
    "pycharm": {
     "name": "#%%\n"
    }
   }
  },
  {
   "cell_type": "markdown",
   "source": [
    "\n",
    "# Similarity Metrics\n",
    "## Nearest Generated Sample\n",
    "Using cosine distance\n",
    "Focus on design space coverage"
   ],
   "metadata": {
    "collapsed": false,
    "pycharm": {
     "name": "#%% md\n"
    }
   }
  },
  {
   "cell_type": "code",
   "execution_count": 51,
   "outputs": [],
   "source": [
    "distances_all = []\n",
    "\n",
    "for embedding in gpt_embeddings_iterations:\n",
    "    distances_model = []\n",
    "    for count, generated_embedding in enumerate(embedding):\n",
    "        distances = []\n",
    "        for original_datapoint in human_embeddings[count]:\n",
    "            max_distance = -1e9\n",
    "            for generated_datapoint in generated_embedding:\n",
    "                distance = np.dot(original_datapoint, generated_datapoint)/(norm(original_datapoint)*norm(generated_datapoint))\n",
    "                if distance > max_distance:\n",
    "                    max_distance = distance\n",
    "            distances.append(max_distance)\n",
    "        mean_distance = mean(distances)\n",
    "        # print(f\"Mean distance of nearest generated samples for prompt {count} to human: {mean_distance}\")\n",
    "        distances_model.append(mean_distance)\n",
    "    distances_all.append(distances_model)\n"
   ],
   "metadata": {
    "collapsed": false,
    "pycharm": {
     "name": "#%%\n"
    }
   }
  },
  {
   "cell_type": "code",
   "execution_count": 52,
   "outputs": [
    {
     "data": {
      "text/plain": "<pandas.io.formats.style.Styler at 0x1d2859cb340>",
      "text/html": "<style type=\"text/css\">\n#T_910e8_row0_col0 {\n  background-color: #529bc7;\n  color: #f1f1f1;\n}\n#T_910e8_row0_col1 {\n  background-color: #b3c3de;\n  color: #000000;\n}\n#T_910e8_row0_col2 {\n  background-color: #e1dfed;\n  color: #000000;\n}\n#T_910e8_row0_col3 {\n  background-color: #056dac;\n  color: #f1f1f1;\n}\n#T_910e8_row0_col4 {\n  background-color: #97b7d7;\n  color: #000000;\n}\n#T_910e8_row1_col0 {\n  background-color: #b5c4df;\n  color: #000000;\n}\n#T_910e8_row1_col1 {\n  background-color: #69a5cc;\n  color: #f1f1f1;\n}\n#T_910e8_row1_col2 {\n  background-color: #8eb3d5;\n  color: #000000;\n}\n#T_910e8_row1_col3 {\n  background-color: #328dbf;\n  color: #f1f1f1;\n}\n#T_910e8_row1_col4 {\n  background-color: #509ac6;\n  color: #f1f1f1;\n}\n#T_910e8_row2_col0, #T_910e8_row2_col2, #T_910e8_row2_col3, #T_910e8_row2_col4, #T_910e8_row3_col1 {\n  background-color: #fff7fb;\n  color: #000000;\n}\n#T_910e8_row2_col1 {\n  background-color: #c1cae2;\n  color: #000000;\n}\n#T_910e8_row3_col0 {\n  background-color: #d7d6e9;\n  color: #000000;\n}\n#T_910e8_row3_col2 {\n  background-color: #2182b9;\n  color: #f1f1f1;\n}\n#T_910e8_row3_col3 {\n  background-color: #034267;\n  color: #f1f1f1;\n}\n#T_910e8_row3_col4 {\n  background-color: #5a9ec9;\n  color: #f1f1f1;\n}\n#T_910e8_row4_col0 {\n  background-color: #3f93c2;\n  color: #f1f1f1;\n}\n#T_910e8_row4_col1 {\n  background-color: #05659f;\n  color: #f1f1f1;\n}\n#T_910e8_row4_col2, #T_910e8_row4_col3, #T_910e8_row9_col0, #T_910e8_row9_col1, #T_910e8_row9_col4 {\n  background-color: #023858;\n  color: #f1f1f1;\n}\n#T_910e8_row4_col4 {\n  background-color: #04639b;\n  color: #f1f1f1;\n}\n#T_910e8_row5_col0 {\n  background-color: #04649e;\n  color: #f1f1f1;\n}\n#T_910e8_row5_col1 {\n  background-color: #2081b9;\n  color: #f1f1f1;\n}\n#T_910e8_row5_col2 {\n  background-color: #045e94;\n  color: #f1f1f1;\n}\n#T_910e8_row5_col3 {\n  background-color: #023d60;\n  color: #f1f1f1;\n}\n#T_910e8_row5_col4 {\n  background-color: #03456c;\n  color: #f1f1f1;\n}\n#T_910e8_row6_col0 {\n  background-color: #67a4cc;\n  color: #f1f1f1;\n}\n#T_910e8_row6_col1, #T_910e8_row8_col4 {\n  background-color: #78abd0;\n  color: #f1f1f1;\n}\n#T_910e8_row6_col2 {\n  background-color: #65a3cb;\n  color: #f1f1f1;\n}\n#T_910e8_row6_col3, #T_910e8_row11_col1 {\n  background-color: #d4d4e8;\n  color: #000000;\n}\n#T_910e8_row6_col4 {\n  background-color: #79abd0;\n  color: #f1f1f1;\n}\n#T_910e8_row7_col0 {\n  background-color: #045585;\n  color: #f1f1f1;\n}\n#T_910e8_row7_col1 {\n  background-color: #0d75b3;\n  color: #f1f1f1;\n}\n#T_910e8_row7_col2 {\n  background-color: #023e62;\n  color: #f1f1f1;\n}\n#T_910e8_row7_col3 {\n  background-color: #0a73b2;\n  color: #f1f1f1;\n}\n#T_910e8_row7_col4 {\n  background-color: #045483;\n  color: #f1f1f1;\n}\n#T_910e8_row8_col0 {\n  background-color: #187cb6;\n  color: #f1f1f1;\n}\n#T_910e8_row8_col1 {\n  background-color: #8fb4d6;\n  color: #000000;\n}\n#T_910e8_row8_col2 {\n  background-color: #2685bb;\n  color: #f1f1f1;\n}\n#T_910e8_row8_col3 {\n  background-color: #c0c9e2;\n  color: #000000;\n}\n#T_910e8_row9_col2 {\n  background-color: #73a9cf;\n  color: #f1f1f1;\n}\n#T_910e8_row9_col3 {\n  background-color: #034369;\n  color: #f1f1f1;\n}\n#T_910e8_row10_col0 {\n  background-color: #f7f0f7;\n  color: #000000;\n}\n#T_910e8_row10_col1 {\n  background-color: #b8c6e0;\n  color: #000000;\n}\n#T_910e8_row10_col2 {\n  background-color: #e7e3f0;\n  color: #000000;\n}\n#T_910e8_row10_col3 {\n  background-color: #2c89bd;\n  color: #f1f1f1;\n}\n#T_910e8_row10_col4 {\n  background-color: #f6eff7;\n  color: #000000;\n}\n#T_910e8_row11_col0 {\n  background-color: #75a9cf;\n  color: #f1f1f1;\n}\n#T_910e8_row11_col2 {\n  background-color: #1077b4;\n  color: #f1f1f1;\n}\n#T_910e8_row11_col3 {\n  background-color: #0771b1;\n  color: #f1f1f1;\n}\n#T_910e8_row11_col4 {\n  background-color: #a2bcda;\n  color: #000000;\n}\n</style>\n<table id=\"T_910e8\">\n  <thead>\n    <tr>\n      <th class=\"blank level0\" >&nbsp;</th>\n      <th id=\"T_910e8_level0_col0\" class=\"col_heading level0 col0\" >0</th>\n      <th id=\"T_910e8_level0_col1\" class=\"col_heading level0 col1\" >1</th>\n      <th id=\"T_910e8_level0_col2\" class=\"col_heading level0 col2\" >2</th>\n      <th id=\"T_910e8_level0_col3\" class=\"col_heading level0 col3\" >3</th>\n      <th id=\"T_910e8_level0_col4\" class=\"col_heading level0 col4\" >4</th>\n    </tr>\n  </thead>\n  <tbody>\n    <tr>\n      <th id=\"T_910e8_level0_row0\" class=\"row_heading level0 row0\" >0</th>\n      <td id=\"T_910e8_row0_col0\" class=\"data row0 col0\" >0.627114</td>\n      <td id=\"T_910e8_row0_col1\" class=\"data row0 col1\" >0.607393</td>\n      <td id=\"T_910e8_row0_col2\" class=\"data row0 col2\" >0.562197</td>\n      <td id=\"T_910e8_row0_col3\" class=\"data row0 col3\" >0.639350</td>\n      <td id=\"T_910e8_row0_col4\" class=\"data row0 col4\" >0.606247</td>\n    </tr>\n    <tr>\n      <th id=\"T_910e8_level0_row1\" class=\"row_heading level0 row1\" >1</th>\n      <td id=\"T_910e8_row1_col0\" class=\"data row1 col0\" >0.585320</td>\n      <td id=\"T_910e8_row1_col1\" class=\"data row1 col1\" >0.639346</td>\n      <td id=\"T_910e8_row1_col2\" class=\"data row1 col2\" >0.600368</td>\n      <td id=\"T_910e8_row1_col3\" class=\"data row1 col3\" >0.627129</td>\n      <td id=\"T_910e8_row1_col4\" class=\"data row1 col4\" >0.632547</td>\n    </tr>\n    <tr>\n      <th id=\"T_910e8_level0_row2\" class=\"row_heading level0 row2\" >2</th>\n      <td id=\"T_910e8_row2_col0\" class=\"data row2 col0\" >0.527584</td>\n      <td id=\"T_910e8_row2_col1\" class=\"data row2 col1\" >0.600213</td>\n      <td id=\"T_910e8_row2_col2\" class=\"data row2 col2\" >0.536957</td>\n      <td id=\"T_910e8_row2_col3\" class=\"data row2 col3\" >0.565999</td>\n      <td id=\"T_910e8_row2_col4\" class=\"data row2 col4\" >0.539008</td>\n    </tr>\n    <tr>\n      <th id=\"T_910e8_level0_row3\" class=\"row_heading level0 row3\" >3</th>\n      <td id=\"T_910e8_row3_col0\" class=\"data row3 col0\" >0.565822</td>\n      <td id=\"T_910e8_row3_col1\" class=\"data row3 col1\" >0.548775</td>\n      <td id=\"T_910e8_row3_col2\" class=\"data row3 col2\" >0.635790</td>\n      <td id=\"T_910e8_row3_col3\" class=\"data row3 col3\" >0.658715</td>\n      <td id=\"T_910e8_row3_col4\" class=\"data row3 col4\" >0.629024</td>\n    </tr>\n    <tr>\n      <th id=\"T_910e8_level0_row4\" class=\"row_heading level0 row4\" >4</th>\n      <td id=\"T_910e8_row4_col0\" class=\"data row4 col0\" >0.633661</td>\n      <td id=\"T_910e8_row4_col1\" class=\"data row4 col1\" >0.689637</td>\n      <td id=\"T_910e8_row4_col2\" class=\"data row4 col2\" >0.682826</td>\n      <td id=\"T_910e8_row4_col3\" class=\"data row4 col3\" >0.662271</td>\n      <td id=\"T_910e8_row4_col4\" class=\"data row4 col4\" >0.673035</td>\n    </tr>\n    <tr>\n      <th id=\"T_910e8_level0_row5\" class=\"row_heading level0 row5\" >5</th>\n      <td id=\"T_910e8_row5_col0\" class=\"data row5 col0\" >0.670159</td>\n      <td id=\"T_910e8_row5_col1\" class=\"data row5 col1\" >0.667160</td>\n      <td id=\"T_910e8_row5_col2\" class=\"data row5 col2\" >0.660797</td>\n      <td id=\"T_910e8_row5_col3\" class=\"data row5 col3\" >0.660311</td>\n      <td id=\"T_910e8_row5_col4\" class=\"data row5 col4\" >0.693853</td>\n    </tr>\n    <tr>\n      <th id=\"T_910e8_level0_row6\" class=\"row_heading level0 row6\" >6</th>\n      <td id=\"T_910e8_row6_col0\" class=\"data row6 col0\" >0.619632</td>\n      <td id=\"T_910e8_row6_col1\" class=\"data row6 col1\" >0.633647</td>\n      <td id=\"T_910e8_row6_col2\" class=\"data row6 col2\" >0.614082</td>\n      <td id=\"T_910e8_row6_col3\" class=\"data row6 col3\" >0.588461</td>\n      <td id=\"T_910e8_row6_col4\" class=\"data row6 col4\" >0.617993</td>\n    </tr>\n    <tr>\n      <th id=\"T_910e8_level0_row7\" class=\"row_heading level0 row7\" >7</th>\n      <td id=\"T_910e8_row7_col0\" class=\"data row7 col0\" >0.683686</td>\n      <td id=\"T_910e8_row7_col1\" class=\"data row7 col1\" >0.675421</td>\n      <td id=\"T_910e8_row7_col2\" class=\"data row7 col2\" >0.679342</td>\n      <td id=\"T_910e8_row7_col3\" class=\"data row7 col3\" >0.636916</td>\n      <td id=\"T_910e8_row7_col4\" class=\"data row7 col4\" >0.685366</td>\n    </tr>\n    <tr>\n      <th id=\"T_910e8_level0_row8\" class=\"row_heading level0 row8\" >8</th>\n      <td id=\"T_910e8_row8_col0\" class=\"data row8 col0\" >0.650402</td>\n      <td id=\"T_910e8_row8_col1\" class=\"data row8 col1\" >0.623654</td>\n      <td id=\"T_910e8_row8_col2\" class=\"data row8 col2\" >0.634307</td>\n      <td id=\"T_910e8_row8_col3\" class=\"data row8 col3\" >0.594744</td>\n      <td id=\"T_910e8_row8_col4\" class=\"data row8 col4\" >0.618794</td>\n    </tr>\n    <tr>\n      <th id=\"T_910e8_level0_row9\" class=\"row_heading level0 row9\" >9</th>\n      <td id=\"T_910e8_row9_col0\" class=\"data row9 col0\" >0.702319</td>\n      <td id=\"T_910e8_row9_col1\" class=\"data row9 col1\" >0.722276</td>\n      <td id=\"T_910e8_row9_col2\" class=\"data row9 col2\" >0.610386</td>\n      <td id=\"T_910e8_row9_col3\" class=\"data row9 col3\" >0.658365</td>\n      <td id=\"T_910e8_row9_col4\" class=\"data row9 col4\" >0.701942</td>\n    </tr>\n    <tr>\n      <th id=\"T_910e8_level0_row10\" class=\"row_heading level0 row10\" >10</th>\n      <td id=\"T_910e8_row10_col0\" class=\"data row10 col0\" >0.537143</td>\n      <td id=\"T_910e8_row10_col1\" class=\"data row10 col1\" >0.604575</td>\n      <td id=\"T_910e8_row10_col2\" class=\"data row10 col2\" >0.558292</td>\n      <td id=\"T_910e8_row10_col3\" class=\"data row10 col3\" >0.628758</td>\n      <td id=\"T_910e8_row10_col4\" class=\"data row10 col4\" >0.549122</td>\n    </tr>\n    <tr>\n      <th id=\"T_910e8_level0_row11\" class=\"row_heading level0 row11\" >11</th>\n      <td id=\"T_910e8_row11_col0\" class=\"data row11 col0\" >0.614923</td>\n      <td id=\"T_910e8_row11_col1\" class=\"data row11 col1\" >0.588839</td>\n      <td id=\"T_910e8_row11_col2\" class=\"data row11 col2\" >0.642238</td>\n      <td id=\"T_910e8_row11_col3\" class=\"data row11 col3\" >0.637594</td>\n      <td id=\"T_910e8_row11_col4\" class=\"data row11 col4\" >0.601489</td>\n    </tr>\n  </tbody>\n</table>\n"
     },
     "execution_count": 52,
     "metadata": {},
     "output_type": "execute_result"
    }
   ],
   "source": [
    "distances_pd = pd.DataFrame(distances_all, index=range(5)).transpose()\n",
    "distances_pd.style.background_gradient()"
   ],
   "metadata": {
    "collapsed": false,
    "pycharm": {
     "name": "#%%\n"
    }
   }
  },
  {
   "cell_type": "code",
   "execution_count": 53,
   "outputs": [
    {
     "data": {
      "text/plain": "0     0.608460\n1     0.616942\n2     0.553952\n3     0.607625\n4     0.668286\n5     0.670456\n6     0.614763\n7     0.672146\n8     0.624380\n9     0.679058\n10    0.575578\n11    0.617017\ndtype: float32"
     },
     "execution_count": 53,
     "metadata": {},
     "output_type": "execute_result"
    }
   ],
   "source": [
    "distances_pd.mean(axis=1)"
   ],
   "metadata": {
    "collapsed": false,
    "pycharm": {
     "name": "#%%\n"
    }
   }
  },
  {
   "cell_type": "markdown",
   "source": [
    "### Mean distance"
   ],
   "metadata": {
    "collapsed": false,
    "pycharm": {
     "name": "#%% md\n"
    }
   }
  },
  {
   "cell_type": "code",
   "execution_count": 54,
   "outputs": [
    {
     "data": {
      "text/plain": "<pandas.io.formats.style.Styler at 0x1d2859b1270>",
      "text/html": "<style type=\"text/css\">\n#T_3b0c5_row0_col0 {\n  background-color: #bcc7e1;\n  color: #000000;\n}\n#T_3b0c5_row0_col1 {\n  background-color: #a9bfdc;\n  color: #000000;\n}\n#T_3b0c5_row0_col2 {\n  background-color: #b3c3de;\n  color: #000000;\n}\n#T_3b0c5_row0_col3 {\n  background-color: #7dacd1;\n  color: #f1f1f1;\n}\n#T_3b0c5_row0_col4, #T_3b0c5_row2_col0, #T_3b0c5_row2_col2, #T_3b0c5_row6_col3, #T_3b0c5_row11_col1 {\n  background-color: #fff7fb;\n  color: #000000;\n}\n#T_3b0c5_row1_col0 {\n  background-color: #4697c4;\n  color: #f1f1f1;\n}\n#T_3b0c5_row1_col1 {\n  background-color: #04649e;\n  color: #f1f1f1;\n}\n#T_3b0c5_row1_col2 {\n  background-color: #9ab8d8;\n  color: #000000;\n}\n#T_3b0c5_row1_col3, #T_3b0c5_row9_col4 {\n  background-color: #2a88bc;\n  color: #f1f1f1;\n}\n#T_3b0c5_row1_col4 {\n  background-color: #99b8d8;\n  color: #000000;\n}\n#T_3b0c5_row2_col1 {\n  background-color: #8bb2d4;\n  color: #000000;\n}\n#T_3b0c5_row2_col3 {\n  background-color: #c1cae2;\n  color: #000000;\n}\n#T_3b0c5_row2_col4 {\n  background-color: #fef6fb;\n  color: #000000;\n}\n#T_3b0c5_row3_col0 {\n  background-color: #4e9ac6;\n  color: #f1f1f1;\n}\n#T_3b0c5_row3_col1 {\n  background-color: #6fa7ce;\n  color: #f1f1f1;\n}\n#T_3b0c5_row3_col2 {\n  background-color: #3d93c2;\n  color: #f1f1f1;\n}\n#T_3b0c5_row3_col3 {\n  background-color: #05659f;\n  color: #f1f1f1;\n}\n#T_3b0c5_row3_col4 {\n  background-color: #2182b9;\n  color: #f1f1f1;\n}\n#T_3b0c5_row4_col0, #T_3b0c5_row5_col0, #T_3b0c5_row5_col3, #T_3b0c5_row7_col1, #T_3b0c5_row7_col2, #T_3b0c5_row7_col4 {\n  background-color: #023858;\n  color: #f1f1f1;\n}\n#T_3b0c5_row4_col1 {\n  background-color: #c5cce3;\n  color: #000000;\n}\n#T_3b0c5_row4_col2 {\n  background-color: #045687;\n  color: #f1f1f1;\n}\n#T_3b0c5_row4_col3 {\n  background-color: #80aed2;\n  color: #f1f1f1;\n}\n#T_3b0c5_row4_col4 {\n  background-color: #045d92;\n  color: #f1f1f1;\n}\n#T_3b0c5_row5_col1 {\n  background-color: #0872b1;\n  color: #f1f1f1;\n}\n#T_3b0c5_row5_col2 {\n  background-color: #056aa6;\n  color: #f1f1f1;\n}\n#T_3b0c5_row5_col4 {\n  background-color: #197db7;\n  color: #f1f1f1;\n}\n#T_3b0c5_row6_col0, #T_3b0c5_row7_col3, #T_3b0c5_row11_col0 {\n  background-color: #88b1d4;\n  color: #000000;\n}\n#T_3b0c5_row6_col1 {\n  background-color: #5c9fc9;\n  color: #f1f1f1;\n}\n#T_3b0c5_row6_col2 {\n  background-color: #d7d6e9;\n  color: #000000;\n}\n#T_3b0c5_row6_col4 {\n  background-color: #dfddec;\n  color: #000000;\n}\n#T_3b0c5_row7_col0 {\n  background-color: #045e93;\n  color: #f1f1f1;\n}\n#T_3b0c5_row8_col0 {\n  background-color: #056dac;\n  color: #f1f1f1;\n}\n#T_3b0c5_row8_col1 {\n  background-color: #c0c9e2;\n  color: #000000;\n}\n#T_3b0c5_row8_col2 {\n  background-color: #4295c3;\n  color: #f1f1f1;\n}\n#T_3b0c5_row8_col3 {\n  background-color: #69a5cc;\n  color: #f1f1f1;\n}\n#T_3b0c5_row8_col4 {\n  background-color: #fdf5fa;\n  color: #000000;\n}\n#T_3b0c5_row9_col0 {\n  background-color: #0569a4;\n  color: #f1f1f1;\n}\n#T_3b0c5_row9_col1 {\n  background-color: #023f64;\n  color: #f1f1f1;\n}\n#T_3b0c5_row9_col2 {\n  background-color: #046299;\n  color: #f1f1f1;\n}\n#T_3b0c5_row9_col3 {\n  background-color: #034267;\n  color: #f1f1f1;\n}\n#T_3b0c5_row10_col0 {\n  background-color: #d3d4e7;\n  color: #000000;\n}\n#T_3b0c5_row10_col1 {\n  background-color: #60a1ca;\n  color: #f1f1f1;\n}\n#T_3b0c5_row10_col2 {\n  background-color: #d2d2e7;\n  color: #000000;\n}\n#T_3b0c5_row10_col3 {\n  background-color: #056ead;\n  color: #f1f1f1;\n}\n#T_3b0c5_row10_col4 {\n  background-color: #89b1d4;\n  color: #000000;\n}\n#T_3b0c5_row11_col2, #T_3b0c5_row11_col3 {\n  background-color: #6ba5cd;\n  color: #f1f1f1;\n}\n#T_3b0c5_row11_col4 {\n  background-color: #abbfdc;\n  color: #000000;\n}\n</style>\n<table id=\"T_3b0c5\">\n  <thead>\n    <tr>\n      <th class=\"blank level0\" >&nbsp;</th>\n      <th id=\"T_3b0c5_level0_col0\" class=\"col_heading level0 col0\" >0</th>\n      <th id=\"T_3b0c5_level0_col1\" class=\"col_heading level0 col1\" >1</th>\n      <th id=\"T_3b0c5_level0_col2\" class=\"col_heading level0 col2\" >2</th>\n      <th id=\"T_3b0c5_level0_col3\" class=\"col_heading level0 col3\" >3</th>\n      <th id=\"T_3b0c5_level0_col4\" class=\"col_heading level0 col4\" >4</th>\n    </tr>\n  </thead>\n  <tbody>\n    <tr>\n      <th id=\"T_3b0c5_level0_row0\" class=\"row_heading level0 row0\" >0</th>\n      <td id=\"T_3b0c5_row0_col0\" class=\"data row0 col0\" >0.372530</td>\n      <td id=\"T_3b0c5_row0_col1\" class=\"data row0 col1\" >0.392267</td>\n      <td id=\"T_3b0c5_row0_col2\" class=\"data row0 col2\" >0.389239</td>\n      <td id=\"T_3b0c5_row0_col3\" class=\"data row0 col3\" >0.447118</td>\n      <td id=\"T_3b0c5_row0_col4\" class=\"data row0 col4\" >0.365505</td>\n    </tr>\n    <tr>\n      <th id=\"T_3b0c5_level0_row1\" class=\"row_heading level0 row1\" >1</th>\n      <td id=\"T_3b0c5_row1_col0\" class=\"data row1 col0\" >0.443753</td>\n      <td id=\"T_3b0c5_row1_col1\" class=\"data row1 col1\" >0.511920</td>\n      <td id=\"T_3b0c5_row1_col2\" class=\"data row1 col2\" >0.405486</td>\n      <td id=\"T_3b0c5_row1_col3\" class=\"data row1 col3\" >0.482308</td>\n      <td id=\"T_3b0c5_row1_col4\" class=\"data row1 col4\" >0.459516</td>\n    </tr>\n    <tr>\n      <th id=\"T_3b0c5_level0_row2\" class=\"row_heading level0 row2\" >2</th>\n      <td id=\"T_3b0c5_row2_col0\" class=\"data row2 col0\" >0.293067</td>\n      <td id=\"T_3b0c5_row2_col1\" class=\"data row2 col1\" >0.412406</td>\n      <td id=\"T_3b0c5_row2_col2\" class=\"data row2 col2\" >0.303294</td>\n      <td id=\"T_3b0c5_row2_col3\" class=\"data row2 col3\" >0.410021</td>\n      <td id=\"T_3b0c5_row2_col4\" class=\"data row2 col4\" >0.366695</td>\n    </tr>\n    <tr>\n      <th id=\"T_3b0c5_level0_row3\" class=\"row_heading level0 row3\" >3</th>\n      <td id=\"T_3b0c5_row3_col0\" class=\"data row3 col0\" >0.439801</td>\n      <td id=\"T_3b0c5_row3_col1\" class=\"data row3 col1\" >0.430949</td>\n      <td id=\"T_3b0c5_row3_col2\" class=\"data row3 col2\" >0.457495</td>\n      <td id=\"T_3b0c5_row3_col3\" class=\"data row3 col3\" >0.513490</td>\n      <td id=\"T_3b0c5_row3_col4\" class=\"data row3 col4\" >0.521246</td>\n    </tr>\n    <tr>\n      <th id=\"T_3b0c5_level0_row4\" class=\"row_heading level0 row4\" >4</th>\n      <td id=\"T_3b0c5_row4_col0\" class=\"data row4 col0\" >0.548053</td>\n      <td id=\"T_3b0c5_row4_col1\" class=\"data row4 col1\" >0.369348</td>\n      <td id=\"T_3b0c5_row4_col2\" class=\"data row4 col2\" >0.527755</td>\n      <td id=\"T_3b0c5_row4_col3\" class=\"data row4 col3\" >0.445517</td>\n      <td id=\"T_3b0c5_row4_col4\" class=\"data row4 col4\" >0.562875</td>\n    </tr>\n    <tr>\n      <th id=\"T_3b0c5_level0_row5\" class=\"row_heading level0 row5\" >5</th>\n      <td id=\"T_3b0c5_row5_col0\" class=\"data row5 col0\" >0.547830</td>\n      <td id=\"T_3b0c5_row5_col1\" class=\"data row5 col1\" >0.492322</td>\n      <td id=\"T_3b0c5_row5_col2\" class=\"data row5 col2\" >0.501844</td>\n      <td id=\"T_3b0c5_row5_col3\" class=\"data row5 col3\" >0.551451</td>\n      <td id=\"T_3b0c5_row5_col4\" class=\"data row5 col4\" >0.525897</td>\n    </tr>\n    <tr>\n      <th id=\"T_3b0c5_level0_row6\" class=\"row_heading level0 row6\" >6</th>\n      <td id=\"T_3b0c5_row6_col0\" class=\"data row6 col0\" >0.407751</td>\n      <td id=\"T_3b0c5_row6_col1\" class=\"data row6 col1\" >0.441370</td>\n      <td id=\"T_3b0c5_row6_col2\" class=\"data row6 col2\" >0.359449</td>\n      <td id=\"T_3b0c5_row6_col3\" class=\"data row6 col3\" >0.350939</td>\n      <td id=\"T_3b0c5_row6_col4\" class=\"data row6 col4\" >0.407933</td>\n    </tr>\n    <tr>\n      <th id=\"T_3b0c5_level0_row7\" class=\"row_heading level0 row7\" >7</th>\n      <td id=\"T_3b0c5_row7_col0\" class=\"data row7 col0\" >0.510794</td>\n      <td id=\"T_3b0c5_row7_col1\" class=\"data row7 col1\" >0.561851</td>\n      <td id=\"T_3b0c5_row7_col2\" class=\"data row7 col2\" >0.556203</td>\n      <td id=\"T_3b0c5_row7_col3\" class=\"data row7 col3\" >0.441682</td>\n      <td id=\"T_3b0c5_row7_col4\" class=\"data row7 col4\" >0.595650</td>\n    </tr>\n    <tr>\n      <th id=\"T_3b0c5_level0_row8\" class=\"row_heading level0 row8\" >8</th>\n      <td id=\"T_3b0c5_row8_col0\" class=\"data row8 col0\" >0.487680</td>\n      <td id=\"T_3b0c5_row8_col1\" class=\"data row8 col1\" >0.373928</td>\n      <td id=\"T_3b0c5_row8_col2\" class=\"data row8 col2\" >0.454524</td>\n      <td id=\"T_3b0c5_row8_col3\" class=\"data row8 col3\" >0.455119</td>\n      <td id=\"T_3b0c5_row8_col4\" class=\"data row8 col4\" >0.369838</td>\n    </tr>\n    <tr>\n      <th id=\"T_3b0c5_level0_row9\" class=\"row_heading level0 row9\" >9</th>\n      <td id=\"T_3b0c5_row9_col0\" class=\"data row9 col0\" >0.494741</td>\n      <td id=\"T_3b0c5_row9_col1\" class=\"data row9 col1\" >0.553807</td>\n      <td id=\"T_3b0c5_row9_col2\" class=\"data row9 col2\" >0.512802</td>\n      <td id=\"T_3b0c5_row9_col3\" class=\"data row9 col3\" >0.543941</td>\n      <td id=\"T_3b0c5_row9_col4\" class=\"data row9 col4\" >0.515843</td>\n    </tr>\n    <tr>\n      <th id=\"T_3b0c5_level0_row10\" class=\"row_heading level0 row10\" >10</th>\n      <td id=\"T_3b0c5_row10_col0\" class=\"data row10 col0\" >0.353716</td>\n      <td id=\"T_3b0c5_row10_col1\" class=\"data row10 col1\" >0.438418</td>\n      <td id=\"T_3b0c5_row10_col2\" class=\"data row10 col2\" >0.365066</td>\n      <td id=\"T_3b0c5_row10_col3\" class=\"data row10 col3\" >0.503408</td>\n      <td id=\"T_3b0c5_row10_col4\" class=\"data row10 col4\" >0.468177</td>\n    </tr>\n    <tr>\n      <th id=\"T_3b0c5_level0_row11\" class=\"row_heading level0 row11\" >11</th>\n      <td id=\"T_3b0c5_row11_col0\" class=\"data row11 col0\" >0.408479</td>\n      <td id=\"T_3b0c5_row11_col1\" class=\"data row11 col1\" >0.293899</td>\n      <td id=\"T_3b0c5_row11_col2\" class=\"data row11 col2\" >0.434436</td>\n      <td id=\"T_3b0c5_row11_col3\" class=\"data row11 col3\" >0.455064</td>\n      <td id=\"T_3b0c5_row11_col4\" class=\"data row11 col4\" >0.448793</td>\n    </tr>\n  </tbody>\n</table>\n"
     },
     "execution_count": 54,
     "metadata": {},
     "output_type": "execute_result"
    }
   ],
   "source": [
    "distances_all = []\n",
    "\n",
    "for embedding in gpt_embeddings_iterations:\n",
    "    distances_model = []\n",
    "    for count, generated_embedding in enumerate(embedding):\n",
    "        distances = []\n",
    "        for original_datapoint in human_embeddings[count]:\n",
    "            max_distance = -1e9\n",
    "            for generated_datapoint in generated_embedding:\n",
    "                distance = np.dot(original_datapoint, generated_datapoint) / (\n",
    "                            norm(original_datapoint) * norm(generated_datapoint))\n",
    "                distances.append(distance)\n",
    "        mean_distance = mean(distances)\n",
    "        # print(f\"Mean distance of nearest generated samples for prompt {count} to human: {mean_distance}\")\n",
    "        distances_model.append(mean_distance)\n",
    "    distances_all.append(distances_model)\n",
    "\n",
    "distances_pd = pd.DataFrame(distances_all, range(5)).transpose()\n",
    "distances_pd.style.background_gradient()"
   ],
   "metadata": {
    "collapsed": false,
    "pycharm": {
     "name": "#%%\n"
    }
   }
  },
  {
   "cell_type": "markdown",
   "source": [
    "### Mean distance with combinatorial selection"
   ],
   "metadata": {
    "collapsed": false,
    "pycharm": {
     "name": "#%% md\n"
    }
   }
  },
  {
   "cell_type": "code",
   "execution_count": 56,
   "outputs": [],
   "source": [
    "from itertools import combinations\n",
    "\n",
    "distances_all = []\n",
    "\n",
    "for embedding in gpt_embeddings_iterations:\n",
    "    distances_prompt = []\n",
    "    for count in range(len(embedding)):\n",
    "        distances_row = []\n",
    "        iterate = list(range(len(np.array(embedding[count]))))\n",
    "        max_distance = -1e9\n",
    "        for combo in combinations(iterate, 2):\n",
    "            # dot product\n",
    "            distance = np.dot(human_embeddings[count][combo[0],:], embedding[count][combo[1],:])/(norm(human_embeddings[count][combo[0],:])*norm(embedding[count][combo[1],:]))\n",
    "            if distance > max_distance:\n",
    "                max_distance = distance\n",
    "            distances_row.append(max_distance)\n",
    "        distances_prompt.append(np.mean(distances_row))\n",
    "    distances_all.append(distances_prompt)"
   ],
   "metadata": {
    "collapsed": false,
    "pycharm": {
     "name": "#%%\n"
    }
   }
  },
  {
   "cell_type": "code",
   "execution_count": 57,
   "outputs": [
    {
     "data": {
      "text/plain": "<pandas.io.formats.style.Styler at 0x1d2859cb8e0>",
      "text/html": "<style type=\"text/css\">\n#T_52b3e_row0_col0 {\n  background-color: #7dacd1;\n  color: #f1f1f1;\n}\n#T_52b3e_row0_col1 {\n  background-color: #1c7fb8;\n  color: #f1f1f1;\n}\n#T_52b3e_row0_col2, #T_52b3e_row1_col0, #T_52b3e_row1_col4, #T_52b3e_row3_col1, #T_52b3e_row8_col3 {\n  background-color: #fff7fb;\n  color: #000000;\n}\n#T_52b3e_row0_col3, #T_52b3e_row8_col1 {\n  background-color: #1379b5;\n  color: #f1f1f1;\n}\n#T_52b3e_row0_col4 {\n  background-color: #2987bc;\n  color: #f1f1f1;\n}\n#T_52b3e_row1_col1 {\n  background-color: #8fb4d6;\n  color: #000000;\n}\n#T_52b3e_row1_col2 {\n  background-color: #2182b9;\n  color: #f1f1f1;\n}\n#T_52b3e_row1_col3 {\n  background-color: #0569a4;\n  color: #f1f1f1;\n}\n#T_52b3e_row2_col0 {\n  background-color: #f1ebf5;\n  color: #000000;\n}\n#T_52b3e_row2_col1, #T_52b3e_row9_col3 {\n  background-color: #96b6d7;\n  color: #000000;\n}\n#T_52b3e_row2_col2 {\n  background-color: #4e9ac6;\n  color: #f1f1f1;\n}\n#T_52b3e_row2_col3 {\n  background-color: #04639b;\n  color: #f1f1f1;\n}\n#T_52b3e_row2_col4 {\n  background-color: #c6cce3;\n  color: #000000;\n}\n#T_52b3e_row3_col0 {\n  background-color: #e6e2ef;\n  color: #000000;\n}\n#T_52b3e_row3_col2 {\n  background-color: #167bb6;\n  color: #f1f1f1;\n}\n#T_52b3e_row3_col3 {\n  background-color: #2685bb;\n  color: #f1f1f1;\n}\n#T_52b3e_row3_col4 {\n  background-color: #9ab8d8;\n  color: #000000;\n}\n#T_52b3e_row4_col0 {\n  background-color: #a5bddb;\n  color: #000000;\n}\n#T_52b3e_row4_col1 {\n  background-color: #3991c1;\n  color: #f1f1f1;\n}\n#T_52b3e_row4_col2, #T_52b3e_row7_col3 {\n  background-color: #045f95;\n  color: #f1f1f1;\n}\n#T_52b3e_row4_col3 {\n  background-color: #0771b1;\n  color: #f1f1f1;\n}\n#T_52b3e_row4_col4 {\n  background-color: #308cbe;\n  color: #f1f1f1;\n}\n#T_52b3e_row5_col0 {\n  background-color: #76aad0;\n  color: #f1f1f1;\n}\n#T_52b3e_row5_col1 {\n  background-color: #328dbf;\n  color: #f1f1f1;\n}\n#T_52b3e_row5_col2 {\n  background-color: #045a8d;\n  color: #f1f1f1;\n}\n#T_52b3e_row5_col3 {\n  background-color: #045d92;\n  color: #f1f1f1;\n}\n#T_52b3e_row5_col4 {\n  background-color: #2786bb;\n  color: #f1f1f1;\n}\n#T_52b3e_row6_col0 {\n  background-color: #8eb3d5;\n  color: #000000;\n}\n#T_52b3e_row6_col1 {\n  background-color: #62a2cb;\n  color: #f1f1f1;\n}\n#T_52b3e_row6_col2, #T_52b3e_row7_col1 {\n  background-color: #046299;\n  color: #f1f1f1;\n}\n#T_52b3e_row6_col3 {\n  background-color: #9fbad9;\n  color: #000000;\n}\n#T_52b3e_row6_col4 {\n  background-color: #0569a5;\n  color: #f1f1f1;\n}\n#T_52b3e_row7_col0 {\n  background-color: #569dc8;\n  color: #f1f1f1;\n}\n#T_52b3e_row7_col2, #T_52b3e_row7_col4, #T_52b3e_row9_col1, #T_52b3e_row11_col0, #T_52b3e_row11_col3 {\n  background-color: #023858;\n  color: #f1f1f1;\n}\n#T_52b3e_row8_col0 {\n  background-color: #6da6cd;\n  color: #f1f1f1;\n}\n#T_52b3e_row8_col2 {\n  background-color: #2383ba;\n  color: #f1f1f1;\n}\n#T_52b3e_row8_col4 {\n  background-color: #c4cbe3;\n  color: #000000;\n}\n#T_52b3e_row9_col0 {\n  background-color: #0d75b3;\n  color: #f1f1f1;\n}\n#T_52b3e_row9_col2 {\n  background-color: #1077b4;\n  color: #f1f1f1;\n}\n#T_52b3e_row9_col4 {\n  background-color: #0567a1;\n  color: #f1f1f1;\n}\n#T_52b3e_row10_col0, #T_52b3e_row11_col1 {\n  background-color: #81aed2;\n  color: #f1f1f1;\n}\n#T_52b3e_row10_col1 {\n  background-color: #0566a0;\n  color: #f1f1f1;\n}\n#T_52b3e_row10_col2 {\n  background-color: #045687;\n  color: #f1f1f1;\n}\n#T_52b3e_row10_col3 {\n  background-color: #04598c;\n  color: #f1f1f1;\n}\n#T_52b3e_row10_col4 {\n  background-color: #f4edf6;\n  color: #000000;\n}\n#T_52b3e_row11_col2 {\n  background-color: #023f64;\n  color: #f1f1f1;\n}\n#T_52b3e_row11_col4 {\n  background-color: #549cc7;\n  color: #f1f1f1;\n}\n</style>\n<table id=\"T_52b3e\">\n  <thead>\n    <tr>\n      <th class=\"blank level0\" >&nbsp;</th>\n      <th id=\"T_52b3e_level0_col0\" class=\"col_heading level0 col0\" >0</th>\n      <th id=\"T_52b3e_level0_col1\" class=\"col_heading level0 col1\" >1</th>\n      <th id=\"T_52b3e_level0_col2\" class=\"col_heading level0 col2\" >2</th>\n      <th id=\"T_52b3e_level0_col3\" class=\"col_heading level0 col3\" >3</th>\n      <th id=\"T_52b3e_level0_col4\" class=\"col_heading level0 col4\" >4</th>\n    </tr>\n  </thead>\n  <tbody>\n    <tr>\n      <th id=\"T_52b3e_level0_row0\" class=\"row_heading level0 row0\" >0</th>\n      <td id=\"T_52b3e_row0_col0\" class=\"data row0 col0\" >0.803382</td>\n      <td id=\"T_52b3e_row0_col1\" class=\"data row0 col1\" >0.831761</td>\n      <td id=\"T_52b3e_row0_col2\" class=\"data row0 col2\" >0.641473</td>\n      <td id=\"T_52b3e_row0_col3\" class=\"data row0 col3\" >0.777952</td>\n      <td id=\"T_52b3e_row0_col4\" class=\"data row0 col4\" >0.811662</td>\n    </tr>\n    <tr>\n      <th id=\"T_52b3e_level0_row1\" class=\"row_heading level0 row1\" >1</th>\n      <td id=\"T_52b3e_row1_col0\" class=\"data row1 col0\" >0.670526</td>\n      <td id=\"T_52b3e_row1_col1\" class=\"data row1 col1\" >0.784065</td>\n      <td id=\"T_52b3e_row1_col2\" class=\"data row1 col2\" >0.778102</td>\n      <td id=\"T_52b3e_row1_col3\" class=\"data row1 col3\" >0.795430</td>\n      <td id=\"T_52b3e_row1_col4\" class=\"data row1 col4\" >0.685583</td>\n    </tr>\n    <tr>\n      <th id=\"T_52b3e_level0_row2\" class=\"row_heading level0 row2\" >2</th>\n      <td id=\"T_52b3e_row2_col0\" class=\"data row2 col0\" >0.696181</td>\n      <td id=\"T_52b3e_row2_col1\" class=\"data row2 col1\" >0.780873</td>\n      <td id=\"T_52b3e_row2_col2\" class=\"data row2 col2\" >0.757348</td>\n      <td id=\"T_52b3e_row2_col3\" class=\"data row2 col3\" >0.802845</td>\n      <td id=\"T_52b3e_row2_col4\" class=\"data row2 col4\" >0.739251</td>\n    </tr>\n    <tr>\n      <th id=\"T_52b3e_level0_row3\" class=\"row_heading level0 row3\" >3</th>\n      <td id=\"T_52b3e_row3_col0\" class=\"data row3 col0\" >0.713660</td>\n      <td id=\"T_52b3e_row3_col1\" class=\"data row3 col1\" >0.704148</td>\n      <td id=\"T_52b3e_row3_col2\" class=\"data row3 col2\" >0.783050</td>\n      <td id=\"T_52b3e_row3_col3\" class=\"data row3 col3\" >0.767813</td>\n      <td id=\"T_52b3e_row3_col4\" class=\"data row3 col4\" >0.763004</td>\n    </tr>\n    <tr>\n      <th id=\"T_52b3e_level0_row4\" class=\"row_heading level0 row4\" >4</th>\n      <td id=\"T_52b3e_row4_col0\" class=\"data row4 col0\" >0.775471</td>\n      <td id=\"T_52b3e_row4_col1\" class=\"data row4 col1\" >0.818587</td>\n      <td id=\"T_52b3e_row4_col2\" class=\"data row4 col2\" >0.811613</td>\n      <td id=\"T_52b3e_row4_col3\" class=\"data row4 col3\" >0.785756</td>\n      <td id=\"T_52b3e_row4_col4\" class=\"data row4 col4\" >0.807854</td>\n    </tr>\n    <tr>\n      <th id=\"T_52b3e_level0_row5\" class=\"row_heading level0 row5\" >5</th>\n      <td id=\"T_52b3e_row5_col0\" class=\"data row5 col0\" >0.807617</td>\n      <td id=\"T_52b3e_row5_col1\" class=\"data row5 col1\" >0.821751</td>\n      <td id=\"T_52b3e_row5_col2\" class=\"data row5 col2\" >0.817344</td>\n      <td id=\"T_52b3e_row5_col3\" class=\"data row5 col3\" >0.811116</td>\n      <td id=\"T_52b3e_row5_col4\" class=\"data row5 col4\" >0.812543</td>\n    </tr>\n    <tr>\n      <th id=\"T_52b3e_level0_row6\" class=\"row_heading level0 row6\" >6</th>\n      <td id=\"T_52b3e_row6_col0\" class=\"data row6 col0\" >0.792017</td>\n      <td id=\"T_52b3e_row6_col1\" class=\"data row6 col1\" >0.803559</td>\n      <td id=\"T_52b3e_row6_col2\" class=\"data row6 col2\" >0.808472</td>\n      <td id=\"T_52b3e_row6_col3\" class=\"data row6 col3\" >0.706480</td>\n      <td id=\"T_52b3e_row6_col4\" class=\"data row6 col4\" >0.836358</td>\n    </tr>\n    <tr>\n      <th id=\"T_52b3e_level0_row7\" class=\"row_heading level0 row7\" >7</th>\n      <td id=\"T_52b3e_row7_col0\" class=\"data row7 col0\" >0.826030</td>\n      <td id=\"T_52b3e_row7_col1\" class=\"data row7 col1\" >0.857638</td>\n      <td id=\"T_52b3e_row7_col2\" class=\"data row7 col2\" >0.842654</td>\n      <td id=\"T_52b3e_row7_col3\" class=\"data row7 col3\" >0.808053</td>\n      <td id=\"T_52b3e_row7_col4\" class=\"data row7 col4\" >0.877208</td>\n    </tr>\n    <tr>\n      <th id=\"T_52b3e_level0_row8\" class=\"row_heading level0 row8\" >8</th>\n      <td id=\"T_52b3e_row8_col0\" class=\"data row8 col0\" >0.813626</td>\n      <td id=\"T_52b3e_row8_col1\" class=\"data row8 col1\" >0.835568</td>\n      <td id=\"T_52b3e_row8_col2\" class=\"data row8 col2\" >0.777360</td>\n      <td id=\"T_52b3e_row8_col3\" class=\"data row8 col3\" >0.618698</td>\n      <td id=\"T_52b3e_row8_col4\" class=\"data row8 col4\" >0.740768</td>\n    </tr>\n    <tr>\n      <th id=\"T_52b3e_level0_row9\" class=\"row_heading level0 row9\" >9</th>\n      <td id=\"T_52b3e_row9_col0\" class=\"data row9 col0\" >0.872596</td>\n      <td id=\"T_52b3e_row9_col1\" class=\"data row9 col1\" >0.888945</td>\n      <td id=\"T_52b3e_row9_col2\" class=\"data row9 col2\" >0.786405</td>\n      <td id=\"T_52b3e_row9_col3\" class=\"data row9 col3\" >0.712135</td>\n      <td id=\"T_52b3e_row9_col4\" class=\"data row9 col4\" >0.839304</td>\n    </tr>\n    <tr>\n      <th id=\"T_52b3e_level0_row10\" class=\"row_heading level0 row10\" >10</th>\n      <td id=\"T_52b3e_row10_col0\" class=\"data row10 col0\" >0.800440</td>\n      <td id=\"T_52b3e_row10_col1\" class=\"data row10 col1\" >0.853256</td>\n      <td id=\"T_52b3e_row10_col2\" class=\"data row10 col2\" >0.820030</td>\n      <td id=\"T_52b3e_row10_col3\" class=\"data row10 col3\" >0.815295</td>\n      <td id=\"T_52b3e_row10_col4\" class=\"data row10 col4\" >0.699865</td>\n    </tr>\n    <tr>\n      <th id=\"T_52b3e_level0_row11\" class=\"row_heading level0 row11\" >11</th>\n      <td id=\"T_52b3e_row11_col0\" class=\"data row11 col0\" >0.948513</td>\n      <td id=\"T_52b3e_row11_col1\" class=\"data row11 col1\" >0.790576</td>\n      <td id=\"T_52b3e_row11_col2\" class=\"data row11 col2\" >0.837106</td>\n      <td id=\"T_52b3e_row11_col3\" class=\"data row11 col3\" >0.842656</td>\n      <td id=\"T_52b3e_row11_col4\" class=\"data row11 col4\" >0.793622</td>\n    </tr>\n  </tbody>\n</table>\n"
     },
     "execution_count": 57,
     "metadata": {},
     "output_type": "execute_result"
    }
   ],
   "source": [
    "\n",
    "distances_pd = pd.DataFrame(distances_all, range(5)).transpose()\n",
    "distances_pd.style.background_gradient()"
   ],
   "metadata": {
    "collapsed": false,
    "pycharm": {
     "name": "#%%\n"
    }
   }
  },
  {
   "cell_type": "code",
   "execution_count": 58,
   "outputs": [
    {
     "data": {
      "text/plain": "0    0.793338\n1    0.814227\n2    0.788413\n3    0.770352\n4    0.783919\ndtype: float32"
     },
     "execution_count": 58,
     "metadata": {},
     "output_type": "execute_result"
    }
   ],
   "source": [
    "distances_pd.mean(axis=0)"
   ],
   "metadata": {
    "collapsed": false,
    "pycharm": {
     "name": "#%%\n"
    }
   }
  },
  {
   "cell_type": "markdown",
   "source": [
    "# Novelty/Diversity Metrics\n",
    "## Convex hull hypervolume"
   ],
   "metadata": {
    "collapsed": false,
    "pycharm": {
     "name": "#%% md\n"
    }
   }
  },
  {
   "cell_type": "code",
   "execution_count": 59,
   "outputs": [],
   "source": [
    "from scipy.spatial import ConvexHull\n",
    "from sklearn.decomposition import PCA\n",
    "from tqdm import tqdm"
   ],
   "metadata": {
    "collapsed": false,
    "pycharm": {
     "name": "#%%\n"
    }
   }
  },
  {
   "cell_type": "code",
   "execution_count": 60,
   "outputs": [
    {
     "data": {
      "text/plain": "(12, 100, 384)"
     },
     "execution_count": 60,
     "metadata": {},
     "output_type": "execute_result"
    }
   ],
   "source": [
    "np.array(human_embeddings).shape"
   ],
   "metadata": {
    "collapsed": false,
    "pycharm": {
     "name": "#%%\n"
    }
   }
  },
  {
   "cell_type": "code",
   "execution_count": 61,
   "outputs": [
    {
     "name": "stderr",
     "output_type": "stream",
     "text": [
      "C:\\Users\\grandid\\AppData\\Local\\Temp\\1\\ipykernel_55524\\549932370.py:1: VisibleDeprecationWarning: Creating an ndarray from ragged nested sequences (which is a list-or-tuple of lists-or-tuples-or ndarrays with different lengths or shapes) is deprecated. If you meant to do this, you must specify 'dtype=object' when creating the ndarray.\n",
      "  np.array([human_embeddings] + gpt_embeddings_iterations).shape\n"
     ]
    },
    {
     "data": {
      "text/plain": "(6, 12)"
     },
     "execution_count": 61,
     "metadata": {},
     "output_type": "execute_result"
    }
   ],
   "source": [
    "np.array([human_embeddings] + gpt_embeddings_iterations).shape"
   ],
   "metadata": {
    "collapsed": false,
    "pycharm": {
     "name": "#%%\n"
    }
   }
  },
  {
   "cell_type": "code",
   "execution_count": 62,
   "outputs": [
    {
     "name": "stderr",
     "output_type": "stream",
     "text": [
      "  0%|          | 0/6 [00:00<?, ?it/s]\n",
      "  0%|          | 0/12 [00:00<?, ?it/s]\u001B[A\n",
      " 58%|█████▊    | 7/12 [00:00<00:00, 68.63it/s]\u001B[A\n",
      " 17%|█▋        | 1/6 [00:00<00:00,  5.78it/s] \u001B[A\n",
      "  0%|          | 0/12 [00:00<?, ?it/s]\u001B[A\n",
      " 92%|█████████▏| 11/12 [00:00<00:00, 105.77it/s]\u001B[A\n",
      " 33%|███▎      | 2/6 [00:00<00:00,  6.99it/s]   \u001B[A\n",
      "  0%|          | 0/12 [00:00<?, ?it/s]\u001B[A\n",
      " 67%|██████▋   | 8/12 [00:00<00:00, 77.67it/s]\u001B[A\n",
      " 50%|█████     | 3/6 [00:00<00:00,  6.61it/s] \u001B[A\n",
      "  0%|          | 0/12 [00:00<?, ?it/s]\u001B[A\n",
      " 92%|█████████▏| 11/12 [00:00<00:00, 107.84it/s]\u001B[A\n",
      " 67%|██████▋   | 4/6 [00:00<00:00,  7.20it/s]   \u001B[A\n",
      "  0%|          | 0/12 [00:00<?, ?it/s]\u001B[A\n",
      " 92%|█████████▏| 11/12 [00:00<00:00, 104.76it/s]\u001B[A\n",
      " 83%|████████▎ | 5/6 [00:00<00:00,  7.53it/s]   \u001B[A\n",
      "  0%|          | 0/12 [00:00<?, ?it/s]\u001B[A\n",
      " 75%|███████▌  | 9/12 [00:00<00:00, 84.11it/s]\u001B[A\n",
      "100%|██████████| 6/6 [00:00<00:00,  7.22it/s] \u001B[A\n"
     ]
    }
   ],
   "source": [
    "pca = PCA(n_components=3)\n",
    "\n",
    "volumes_all = []\n",
    "for prompts in tqdm([human_embeddings] + gpt_embeddings_iterations):\n",
    "    volumes_prompts = []\n",
    "    for prompt in tqdm(prompts, leave=False):\n",
    "        embeddings = pca.fit_transform(prompt)\n",
    "        convex_hull = ConvexHull(embeddings)\n",
    "        volume_prompt = convex_hull.volume\n",
    "        volumes_prompts.append(volume_prompt)\n",
    "    volumes_all.append(volumes_prompts)"
   ],
   "metadata": {
    "collapsed": false,
    "pycharm": {
     "name": "#%%\n"
    }
   }
  },
  {
   "cell_type": "code",
   "execution_count": 63,
   "outputs": [
    {
     "data": {
      "text/plain": "<pandas.io.formats.style.Styler at 0x1d33876e830>",
      "text/html": "<style type=\"text/css\">\n#T_4bdd1_row0_col0 {\n  background-color: #f6eff7;\n  color: #000000;\n}\n#T_4bdd1_row0_col1 {\n  background-color: #045280;\n  color: #f1f1f1;\n}\n#T_4bdd1_row0_col2, #T_4bdd1_row5_col3 {\n  background-color: #a1bbda;\n  color: #000000;\n}\n#T_4bdd1_row0_col3 {\n  background-color: #b9c6e0;\n  color: #000000;\n}\n#T_4bdd1_row0_col4 {\n  background-color: #b5c4df;\n  color: #000000;\n}\n#T_4bdd1_row0_col5 {\n  background-color: #03466e;\n  color: #f1f1f1;\n}\n#T_4bdd1_row1_col0, #T_4bdd1_row4_col1, #T_4bdd1_row7_col2, #T_4bdd1_row9_col3, #T_4bdd1_row10_col4, #T_4bdd1_row10_col5 {\n  background-color: #fff7fb;\n  color: #000000;\n}\n#T_4bdd1_row1_col1, #T_4bdd1_row10_col3 {\n  background-color: #b0c2de;\n  color: #000000;\n}\n#T_4bdd1_row1_col2 {\n  background-color: #d4d4e8;\n  color: #000000;\n}\n#T_4bdd1_row1_col3 {\n  background-color: #71a8ce;\n  color: #f1f1f1;\n}\n#T_4bdd1_row1_col4 {\n  background-color: #dcdaeb;\n  color: #000000;\n}\n#T_4bdd1_row1_col5 {\n  background-color: #2786bb;\n  color: #f1f1f1;\n}\n#T_4bdd1_row2_col0 {\n  background-color: #04639b;\n  color: #f1f1f1;\n}\n#T_4bdd1_row2_col1, #T_4bdd1_row2_col5, #T_4bdd1_row4_col0, #T_4bdd1_row7_col4, #T_4bdd1_row8_col2, #T_4bdd1_row8_col3 {\n  background-color: #023858;\n  color: #f1f1f1;\n}\n#T_4bdd1_row2_col2 {\n  background-color: #d8d7e9;\n  color: #000000;\n}\n#T_4bdd1_row2_col3 {\n  background-color: #c0c9e2;\n  color: #000000;\n}\n#T_4bdd1_row2_col4 {\n  background-color: #60a1ca;\n  color: #f1f1f1;\n}\n#T_4bdd1_row3_col0 {\n  background-color: #056ba9;\n  color: #f1f1f1;\n}\n#T_4bdd1_row3_col1, #T_4bdd1_row11_col4 {\n  background-color: #acc0dd;\n  color: #000000;\n}\n#T_4bdd1_row3_col2 {\n  background-color: #99b8d8;\n  color: #000000;\n}\n#T_4bdd1_row3_col3 {\n  background-color: #89b1d4;\n  color: #000000;\n}\n#T_4bdd1_row3_col4 {\n  background-color: #bdc8e1;\n  color: #000000;\n}\n#T_4bdd1_row3_col5, #T_4bdd1_row8_col4 {\n  background-color: #c8cde4;\n  color: #000000;\n}\n#T_4bdd1_row4_col2 {\n  background-color: #034d79;\n  color: #f1f1f1;\n}\n#T_4bdd1_row4_col3 {\n  background-color: #79abd0;\n  color: #f1f1f1;\n}\n#T_4bdd1_row4_col4, #T_4bdd1_row9_col0 {\n  background-color: #2685bb;\n  color: #f1f1f1;\n}\n#T_4bdd1_row4_col5, #T_4bdd1_row9_col2 {\n  background-color: #f2ecf5;\n  color: #000000;\n}\n#T_4bdd1_row5_col0, #T_4bdd1_row9_col4 {\n  background-color: #dfddec;\n  color: #000000;\n}\n#T_4bdd1_row5_col1, #T_4bdd1_row11_col0 {\n  background-color: #eee9f3;\n  color: #000000;\n}\n#T_4bdd1_row5_col2 {\n  background-color: #dedcec;\n  color: #000000;\n}\n#T_4bdd1_row5_col4 {\n  background-color: #e7e3f0;\n  color: #000000;\n}\n#T_4bdd1_row5_col5 {\n  background-color: #04598c;\n  color: #f1f1f1;\n}\n#T_4bdd1_row6_col0 {\n  background-color: #034e7b;\n  color: #f1f1f1;\n}\n#T_4bdd1_row6_col1, #T_4bdd1_row6_col3 {\n  background-color: #0567a1;\n  color: #f1f1f1;\n}\n#T_4bdd1_row6_col2 {\n  background-color: #4a98c5;\n  color: #f1f1f1;\n}\n#T_4bdd1_row6_col4 {\n  background-color: #045a8d;\n  color: #f1f1f1;\n}\n#T_4bdd1_row6_col5 {\n  background-color: #045585;\n  color: #f1f1f1;\n}\n#T_4bdd1_row7_col0 {\n  background-color: #afc1dd;\n  color: #000000;\n}\n#T_4bdd1_row7_col1 {\n  background-color: #abbfdc;\n  color: #000000;\n}\n#T_4bdd1_row7_col3 {\n  background-color: #eee8f3;\n  color: #000000;\n}\n#T_4bdd1_row7_col5 {\n  background-color: #f5eef6;\n  color: #000000;\n}\n#T_4bdd1_row8_col0 {\n  background-color: #04588a;\n  color: #f1f1f1;\n}\n#T_4bdd1_row8_col1 {\n  background-color: #83afd3;\n  color: #f1f1f1;\n}\n#T_4bdd1_row8_col5 {\n  background-color: #034a74;\n  color: #f1f1f1;\n}\n#T_4bdd1_row9_col1 {\n  background-color: #034973;\n  color: #f1f1f1;\n}\n#T_4bdd1_row9_col5 {\n  background-color: #cdd0e5;\n  color: #000000;\n}\n#T_4bdd1_row10_col0 {\n  background-color: #3790c0;\n  color: #f1f1f1;\n}\n#T_4bdd1_row10_col1 {\n  background-color: #8eb3d5;\n  color: #000000;\n}\n#T_4bdd1_row10_col2 {\n  background-color: #e4e1ef;\n  color: #000000;\n}\n#T_4bdd1_row11_col1 {\n  background-color: #04649e;\n  color: #f1f1f1;\n}\n#T_4bdd1_row11_col2 {\n  background-color: #045382;\n  color: #f1f1f1;\n}\n#T_4bdd1_row11_col3 {\n  background-color: #76aad0;\n  color: #f1f1f1;\n}\n#T_4bdd1_row11_col5 {\n  background-color: #a8bedc;\n  color: #000000;\n}\n</style>\n<table id=\"T_4bdd1\">\n  <thead>\n    <tr>\n      <th class=\"blank level0\" >&nbsp;</th>\n      <th id=\"T_4bdd1_level0_col0\" class=\"col_heading level0 col0\" >human</th>\n      <th id=\"T_4bdd1_level0_col1\" class=\"col_heading level0 col1\" >iteration 1</th>\n      <th id=\"T_4bdd1_level0_col2\" class=\"col_heading level0 col2\" >iteration 2</th>\n      <th id=\"T_4bdd1_level0_col3\" class=\"col_heading level0 col3\" >iteration 3</th>\n      <th id=\"T_4bdd1_level0_col4\" class=\"col_heading level0 col4\" >iteration 4</th>\n      <th id=\"T_4bdd1_level0_col5\" class=\"col_heading level0 col5\" >iteration 5</th>\n    </tr>\n  </thead>\n  <tbody>\n    <tr>\n      <th id=\"T_4bdd1_level0_row0\" class=\"row_heading level0 row0\" >0</th>\n      <td id=\"T_4bdd1_row0_col0\" class=\"data row0 col0\" >0.249209</td>\n      <td id=\"T_4bdd1_row0_col1\" class=\"data row0 col1\" >0.272238</td>\n      <td id=\"T_4bdd1_row0_col2\" class=\"data row0 col2\" >0.185465</td>\n      <td id=\"T_4bdd1_row0_col3\" class=\"data row0 col3\" >0.178628</td>\n      <td id=\"T_4bdd1_row0_col4\" class=\"data row0 col4\" >0.144559</td>\n      <td id=\"T_4bdd1_row0_col5\" class=\"data row0 col5\" >0.255028</td>\n    </tr>\n    <tr>\n      <th id=\"T_4bdd1_level0_row1\" class=\"row_heading level0 row1\" >1</th>\n      <td id=\"T_4bdd1_row1_col0\" class=\"data row1 col0\" >0.243629</td>\n      <td id=\"T_4bdd1_row1_col1\" class=\"data row1 col1\" >0.139101</td>\n      <td id=\"T_4bdd1_row1_col2\" class=\"data row1 col2\" >0.136639</td>\n      <td id=\"T_4bdd1_row1_col3\" class=\"data row1 col3\" >0.226110</td>\n      <td id=\"T_4bdd1_row1_col4\" class=\"data row1 col4\" >0.115445</td>\n      <td id=\"T_4bdd1_row1_col5\" class=\"data row1 col5\" >0.196254</td>\n    </tr>\n    <tr>\n      <th id=\"T_4bdd1_level0_row2\" class=\"row_heading level0 row2\" >2</th>\n      <td id=\"T_4bdd1_row2_col0\" class=\"data row2 col0\" >0.321649</td>\n      <td id=\"T_4bdd1_row2_col1\" class=\"data row2 col1\" >0.295191</td>\n      <td id=\"T_4bdd1_row2_col2\" class=\"data row2 col2\" >0.132038</td>\n      <td id=\"T_4bdd1_row2_col3\" class=\"data row2 col3\" >0.173457</td>\n      <td id=\"T_4bdd1_row2_col4\" class=\"data row2 col4\" >0.191801</td>\n      <td id=\"T_4bdd1_row2_col5\" class=\"data row2 col5\" >0.265659</td>\n    </tr>\n    <tr>\n      <th id=\"T_4bdd1_level0_row3\" class=\"row_heading level0 row3\" >3</th>\n      <td id=\"T_4bdd1_row3_col0\" class=\"data row3 col0\" >0.317053</td>\n      <td id=\"T_4bdd1_row3_col1\" class=\"data row3 col1\" >0.141965</td>\n      <td id=\"T_4bdd1_row3_col2\" class=\"data row3 col2\" >0.190726</td>\n      <td id=\"T_4bdd1_row3_col3\" class=\"data row3 col3\" >0.211800</td>\n      <td id=\"T_4bdd1_row3_col4\" class=\"data row3 col4\" >0.139574</td>\n      <td id=\"T_4bdd1_row3_col5\" class=\"data row3 col5\" >0.117120</td>\n    </tr>\n    <tr>\n      <th id=\"T_4bdd1_level0_row4\" class=\"row_heading level0 row4\" >4</th>\n      <td id=\"T_4bdd1_row4_col0\" class=\"data row4 col0\" >0.338390</td>\n      <td id=\"T_4bdd1_row4_col1\" class=\"data row4 col1\" >0.056472</td>\n      <td id=\"T_4bdd1_row4_col2\" class=\"data row4 col2\" >0.349411</td>\n      <td id=\"T_4bdd1_row4_col3\" class=\"data row4 col3\" >0.220953</td>\n      <td id=\"T_4bdd1_row4_col4\" class=\"data row4 col4\" >0.220270</td>\n      <td id=\"T_4bdd1_row4_col5\" class=\"data row4 col5\" >0.077826</td>\n    </tr>\n    <tr>\n      <th id=\"T_4bdd1_level0_row5\" class=\"row_heading level0 row5\" >5</th>\n      <td id=\"T_4bdd1_row5_col0\" class=\"data row5 col0\" >0.261036</td>\n      <td id=\"T_4bdd1_row5_col1\" class=\"data row5 col1\" >0.083188</td>\n      <td id=\"T_4bdd1_row5_col2\" class=\"data row5 col2\" >0.123826</td>\n      <td id=\"T_4bdd1_row5_col3\" class=\"data row5 col3\" >0.196066</td>\n      <td id=\"T_4bdd1_row5_col4\" class=\"data row5 col4\" >0.105052</td>\n      <td id=\"T_4bdd1_row5_col5\" class=\"data row5 col5\" >0.240811</td>\n    </tr>\n    <tr>\n      <th id=\"T_4bdd1_level0_row6\" class=\"row_heading level0 row6\" >6</th>\n      <td id=\"T_4bdd1_row6_col0\" class=\"data row6 col0\" >0.330279</td>\n      <td id=\"T_4bdd1_row6_col1\" class=\"data row6 col1\" >0.247635</td>\n      <td id=\"T_4bdd1_row6_col2\" class=\"data row6 col2\" >0.245501</td>\n      <td id=\"T_4bdd1_row6_col3\" class=\"data row6 col3\" >0.301907</td>\n      <td id=\"T_4bdd1_row6_col4\" class=\"data row6 col4\" >0.265899</td>\n      <td id=\"T_4bdd1_row6_col5\" class=\"data row6 col5\" >0.243826</td>\n    </tr>\n    <tr>\n      <th id=\"T_4bdd1_level0_row7\" class=\"row_heading level0 row7\" >7</th>\n      <td id=\"T_4bdd1_row7_col0\" class=\"data row7 col0\" >0.276590</td>\n      <td id=\"T_4bdd1_row7_col1\" class=\"data row7 col1\" >0.142680</td>\n      <td id=\"T_4bdd1_row7_col2\" class=\"data row7 col2\" >0.064899</td>\n      <td id=\"T_4bdd1_row7_col3\" class=\"data row7 col3\" >0.126344</td>\n      <td id=\"T_4bdd1_row7_col4\" class=\"data row7 col4\" >0.294472</td>\n      <td id=\"T_4bdd1_row7_col5\" class=\"data row7 col5\" >0.075083</td>\n    </tr>\n    <tr>\n      <th id=\"T_4bdd1_level0_row8\" class=\"row_heading level0 row8\" >8</th>\n      <td id=\"T_4bdd1_row8_col0\" class=\"data row8 col0\" >0.327088</td>\n      <td id=\"T_4bdd1_row8_col1\" class=\"data row8 col1\" >0.167231</td>\n      <td id=\"T_4bdd1_row8_col2\" class=\"data row8 col2\" >0.373654</td>\n      <td id=\"T_4bdd1_row8_col3\" class=\"data row8 col3\" >0.352700</td>\n      <td id=\"T_4bdd1_row8_col4\" class=\"data row8 col4\" >0.132803</td>\n      <td id=\"T_4bdd1_row8_col5\" class=\"data row8 col5\" >0.251590</td>\n    </tr>\n    <tr>\n      <th id=\"T_4bdd1_level0_row9\" class=\"row_heading level0 row9\" >9</th>\n      <td id=\"T_4bdd1_row9_col0\" class=\"data row9 col0\" >0.306567</td>\n      <td id=\"T_4bdd1_row9_col1\" class=\"data row9 col1\" >0.280266</td>\n      <td id=\"T_4bdd1_row9_col2\" class=\"data row9 col2\" >0.091362</td>\n      <td id=\"T_4bdd1_row9_col3\" class=\"data row9 col3\" >0.096986</td>\n      <td id=\"T_4bdd1_row9_col4\" class=\"data row9 col4\" >0.112691</td>\n      <td id=\"T_4bdd1_row9_col5\" class=\"data row9 col5\" >0.114206</td>\n    </tr>\n    <tr>\n      <th id=\"T_4bdd1_level0_row10\" class=\"row_heading level0 row10\" >10</th>\n      <td id=\"T_4bdd1_row10_col0\" class=\"data row10 col0\" >0.302798</td>\n      <td id=\"T_4bdd1_row10_col1\" class=\"data row10 col1\" >0.160218</td>\n      <td id=\"T_4bdd1_row10_col2\" class=\"data row10 col2\" >0.114390</td>\n      <td id=\"T_4bdd1_row10_col3\" class=\"data row10 col3\" >0.185052</td>\n      <td id=\"T_4bdd1_row10_col4\" class=\"data row10 col4\" >0.071063</td>\n      <td id=\"T_4bdd1_row10_col5\" class=\"data row10 col5\" >0.060806</td>\n    </tr>\n    <tr>\n      <th id=\"T_4bdd1_level0_row11\" class=\"row_heading level0 row11\" >11</th>\n      <td id=\"T_4bdd1_row11_col0\" class=\"data row11 col0\" >0.254090</td>\n      <td id=\"T_4bdd1_row11_col1\" class=\"data row11 col1\" >0.251292</td>\n      <td id=\"T_4bdd1_row11_col2\" class=\"data row11 col2\" >0.342734</td>\n      <td id=\"T_4bdd1_row11_col3\" class=\"data row11 col3\" >0.223071</td>\n      <td id=\"T_4bdd1_row11_col4\" class=\"data row11 col4\" >0.151075</td>\n      <td id=\"T_4bdd1_row11_col5\" class=\"data row11 col5\" >0.136143</td>\n    </tr>\n  </tbody>\n</table>\n"
     },
     "execution_count": 63,
     "metadata": {},
     "output_type": "execute_result"
    }
   ],
   "source": [
    "convex_hull_volumes_df = pd.DataFrame(volumes_all, index=['human', 'iteration 1', 'iteration 2', 'iteration 3', 'iteration 4', 'iteration 5']).transpose()\n",
    "convex_hull_volumes_df.style.background_gradient()"
   ],
   "metadata": {
    "collapsed": false,
    "pycharm": {
     "name": "#%%\n"
    }
   }
  },
  {
   "cell_type": "code",
   "execution_count": 64,
   "outputs": [
    {
     "data": {
      "text/plain": "human          0.294032\niteration 1    0.186456\niteration 2    0.195887\niteration 3    0.207756\niteration 4    0.162059\niteration 5    0.169529\ndtype: float64"
     },
     "execution_count": 64,
     "metadata": {},
     "output_type": "execute_result"
    }
   ],
   "source": [
    "convex_hull_volumes_df.mean(axis=0)"
   ],
   "metadata": {
    "collapsed": false,
    "pycharm": {
     "name": "#%%\n"
    }
   }
  },
  {
   "cell_type": "code",
   "execution_count": 65,
   "outputs": [
    {
     "data": {
      "text/plain": "0     0.214188\n1     0.176196\n2     0.229966\n3     0.186373\n4     0.210554\n5     0.168330\n6     0.272508\n7     0.163345\n8     0.267511\n9     0.167013\n10    0.149055\n11    0.226401\ndtype: float64"
     },
     "execution_count": 65,
     "metadata": {},
     "output_type": "execute_result"
    }
   ],
   "source": [
    "convex_hull_volumes_df.mean(axis=1)"
   ],
   "metadata": {
    "collapsed": false,
    "pycharm": {
     "name": "#%%\n"
    }
   }
  },
  {
   "cell_type": "code",
   "execution_count": null,
   "outputs": [],
   "source": [],
   "metadata": {
    "collapsed": false,
    "pycharm": {
     "name": "#%%\n"
    }
   }
  }
 ],
 "metadata": {
  "kernelspec": {
   "name": "conceptnetmaterials",
   "language": "python",
   "display_name": "Python (conceptNetMaterials)"
  },
  "language_info": {
   "codemirror_mode": {
    "name": "ipython",
    "version": 3
   },
   "file_extension": ".py",
   "mimetype": "text/x-python",
   "name": "python",
   "nbconvert_exporter": "python",
   "pygments_lexer": "ipython3",
   "version": "3.10.9"
  }
 },
 "nbformat": 4,
 "nbformat_minor": 5
}