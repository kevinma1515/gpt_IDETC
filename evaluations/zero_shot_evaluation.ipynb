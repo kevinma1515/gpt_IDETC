{
 "cells": [
  {
   "cell_type": "code",
   "execution_count": 1,
   "id": "88316a13",
   "metadata": {
    "pycharm": {
     "name": "#%%\n"
    }
   },
   "outputs": [
    {
     "name": "stderr",
     "output_type": "stream",
     "text": [
      "C:\\Users\\kevin\\anaconda3\\envs\\chatgpt\\lib\\site-packages\\tqdm\\auto.py:21: TqdmWarning: IProgress not found. Please update jupyter and ipywidgets. See https://ipywidgets.readthedocs.io/en/stable/user_install.html\n",
      "  from .autonotebook import tqdm as notebook_tqdm\n"
     ]
    }
   ],
   "source": [
    "import csv\n",
    "import pandas as pd\n",
    "from sentence_transformers import SentenceTransformer\n",
    "import numpy as np\n",
    "from statistics import mean\n",
    "from numpy.linalg import norm"
   ]
  },
  {
   "cell_type": "markdown",
   "id": "900e999a",
   "metadata": {
    "pycharm": {
     "name": "#%% md\n"
    }
   },
   "source": [
    "## Load Human Prompts"
   ]
  },
  {
   "cell_type": "code",
   "execution_count": 2,
   "id": "bf56cb54",
   "metadata": {
    "pycharm": {
     "name": "#%%\n"
    }
   },
   "outputs": [],
   "source": [
    "human_prompt_files = [\n",
    "    \"../sentence_embeddings/data/amazonTurkDesPrompt1.csv\",\n",
    "    \"../sentence_embeddings/data/amazonTurkDesPrompt2.csv\",\n",
    "    \"../sentence_embeddings/data/amazonTurkDesPrompt3.csv\",\n",
    "    \"../sentence_embeddings/data/amazonTurkDesPrompt4.csv\",\n",
    "    \"../sentence_embeddings/data/amazonTurkDesPrompt5.csv\",\n",
    "    \"../sentence_embeddings/data/amazonTurkDesPrompt6.csv\",\n",
    "    \"../sentence_embeddings/data/amazonTurkDesPrompt7.csv\",\n",
    "    \"../sentence_embeddings/data/amazonTurkDesPrompt8.csv\",\n",
    "    \"../sentence_embeddings/data/amazonTurkDesPrompt9.csv\",\n",
    "    \"../sentence_embeddings/data/amazonTurkDesPrompt10.csv\",\n",
    "    \"../sentence_embeddings/data/amazonTurkDesPrompt11.csv\",\n",
    "    \"../sentence_embeddings/data/amazonTurkDesPromptNA.csv\",\n",
    "]\n",
    "\n",
    "human_prompts = []\n",
    "\n",
    "for human_prompt in human_prompt_files:\n",
    "    prompts = []\n",
    "    with open(human_prompt, 'r') as file: #, encoding='Windows-1252') as file:\n",
    "        csvreader = csv.reader(file)\n",
    "        for row in csvreader:\n",
    "            prompts.append(row[0])\n",
    "    prompts = [i.replace('\\n',' ') for i in prompts]\n",
    "    human_prompts.append(prompts)"
   ]
  },
  {
   "cell_type": "markdown",
   "id": "3d1a435d",
   "metadata": {
    "pycharm": {
     "name": "#%% md\n"
    }
   },
   "source": [
    "## Load GPT Base Prompts"
   ]
  },
  {
   "cell_type": "code",
   "execution_count": 3,
   "id": "b9002345",
   "metadata": {
    "pycharm": {
     "name": "#%%\n"
    }
   },
   "outputs": [],
   "source": [
    "gpt_base_prompt_files = [\n",
    "    \"../sentence_embeddings/data/Design_Prompt1.csv\",\n",
    "    \"../sentence_embeddings/data/Design_Prompt2.csv\",\n",
    "    \"../sentence_embeddings/data/Design_Prompt3.csv\",\n",
    "    \"../sentence_embeddings/data/Design_Prompt4.csv\",\n",
    "    \"../sentence_embeddings/data/Design_Prompt5.csv\",\n",
    "    \"../sentence_embeddings/data/Design_Prompt6.csv\",\n",
    "    \"../sentence_embeddings/data/Design_Prompt7.csv\",\n",
    "    \"../sentence_embeddings/data/Design_Prompt8.csv\",\n",
    "    \"../sentence_embeddings/data/Design_Prompt9.csv\",\n",
    "    \"../sentence_embeddings/data/Design_Prompt10.csv\",\n",
    "    \"../sentence_embeddings/data/Design_Prompt11.csv\",\n",
    "    \"../sentence_embeddings/data/Design_PromptNA.csv\",\n",
    "]\n",
    "\n",
    "gpt_base_prompts = []\n",
    "\n",
    "for gpt_base_prompt in gpt_base_prompt_files:\n",
    "    prompt = pd.read_csv(gpt_base_prompt, sep=\",\", header=None)\n",
    "    lst = []\n",
    "    for d in prompt.values:\n",
    "        lst.append(d[0])\n",
    "    prompt = []\n",
    "    for i in range(len(lst)):\n",
    "        mod_statements = lst[i].replace(lst[i][:3], '')\n",
    "        prompt.append(mod_statements)\n",
    "\n",
    "    gpt_base_prompts.append(prompt)"
   ]
  },
  {
   "cell_type": "markdown",
   "id": "dc7833b6",
   "metadata": {
    "pycharm": {
     "name": "#%% md\n"
    }
   },
   "source": [
    "## Load GPT Unique Prompts"
   ]
  },
  {
   "cell_type": "code",
   "execution_count": 4,
   "id": "986f0a48",
   "metadata": {
    "pycharm": {
     "name": "#%%\n"
    }
   },
   "outputs": [],
   "source": [
    "gpt_unique_files = [\n",
    "    \"../prompt_engineering/data/zero_shot/unique_1.csv\",\n",
    "    \"../prompt_engineering/data/zero_shot/unique_2.csv\",\n",
    "    \"../prompt_engineering/data/zero_shot/unique_3.csv\",\n",
    "    \"../prompt_engineering/data/zero_shot/unique_4.csv\",\n",
    "    \"../prompt_engineering/data/zero_shot/unique_5.csv\",\n",
    "    \"../prompt_engineering/data/zero_shot/unique_6.csv\",\n",
    "    \"../prompt_engineering/data/zero_shot/unique_7.csv\",\n",
    "    \"../prompt_engineering/data/zero_shot/unique_8.csv\",\n",
    "    \"../prompt_engineering/data/zero_shot/unique_9.csv\",\n",
    "    \"../prompt_engineering/data/zero_shot/unique_10.csv\",\n",
    "    \"../prompt_engineering/data/zero_shot/unique_11.csv\",\n",
    "    \"../prompt_engineering/data/zero_shot/unique_12.csv\"\n",
    "]\n",
    "\n",
    "gpt_unique_prompts = []\n",
    "\n",
    "for gpt_unique_prompt in gpt_unique_files:\n",
    "    try:\n",
    "        prompt = pd.read_csv(gpt_unique_prompt, sep=\",\")\n",
    "    except UnicodeDecodeError:\n",
    "        prompt = pd.read_csv(gpt_unique_prompt, sep=\",\", encoding='Windows-1252')\n",
    "    lst = []\n",
    "    for d in prompt.values:\n",
    "        lst.append(d[0])\n",
    "    prompt = []\n",
    "    for i in range(len(lst)):\n",
    "        if type(lst[i]) is not float:\n",
    "            mod_statements = lst[i].replace(lst[i][:3], '')\n",
    "            prompt.append(mod_statements)\n",
    "\n",
    "    gpt_unique_prompts.append(prompt)"
   ]
  },
  {
   "cell_type": "markdown",
   "id": "3b9afe93",
   "metadata": {
    "pycharm": {
     "name": "#%% md\n"
    }
   },
   "source": [
    "## Load GPT Diverse Prompts"
   ]
  },
  {
   "cell_type": "code",
   "execution_count": 5,
   "id": "10d9205a",
   "metadata": {
    "pycharm": {
     "name": "#%%\n"
    }
   },
   "outputs": [],
   "source": [
    "gpt_files = [\n",
    "    \"../prompt_engineering/data/zero_shot/diverse_1.csv\",\n",
    "    \"../prompt_engineering/data/zero_shot/diverse_2.csv\",\n",
    "    \"../prompt_engineering/data/zero_shot/diverse_3.csv\",\n",
    "    \"../prompt_engineering/data/zero_shot/diverse_4.csv\",\n",
    "    \"../prompt_engineering/data/zero_shot/diverse_5.csv\",\n",
    "    \"../prompt_engineering/data/zero_shot/diverse_6.csv\",\n",
    "    \"../prompt_engineering/data/zero_shot/diverse_7.csv\",\n",
    "    \"../prompt_engineering/data/zero_shot/diverse_8.csv\",\n",
    "    \"../prompt_engineering/data/zero_shot/diverse_9.csv\",\n",
    "    \"../prompt_engineering/data/zero_shot/diverse_10.csv\",\n",
    "    \"../prompt_engineering/data/zero_shot/diverse_11.csv\",\n",
    "    \"../prompt_engineering/data/zero_shot/diverse_12.csv\"\n",
    "]\n",
    "\n",
    "gpt_diverse_prompts = []\n",
    "\n",
    "for gpt_prompt in gpt_files:\n",
    "    try:\n",
    "        prompt = pd.read_csv(gpt_prompt, sep=\",\")\n",
    "    except UnicodeDecodeError:\n",
    "        prompt = pd.read_csv(gpt_prompt, sep=\",\", encoding='Windows-1252')\n",
    "    lst = []\n",
    "    for d in prompt.values:\n",
    "        lst.append(d[0])\n",
    "    prompt = []\n",
    "    for i in range(len(lst)):\n",
    "        if type(lst[i]) is not float:\n",
    "            mod_statements = lst[i].replace(lst[i][:3], '')\n",
    "            prompt.append(mod_statements)\n",
    "\n",
    "    gpt_diverse_prompts.append(prompt)"
   ]
  },
  {
   "cell_type": "markdown",
   "id": "3572a2cd",
   "metadata": {
    "pycharm": {
     "name": "#%% md\n"
    }
   },
   "source": [
    "## Load GPT Novel Prompts"
   ]
  },
  {
   "cell_type": "code",
   "execution_count": 6,
   "id": "90f78d79",
   "metadata": {
    "pycharm": {
     "name": "#%%\n"
    }
   },
   "outputs": [],
   "source": [
    "gpt_files = [\n",
    "    \"../prompt_engineering/data/zero_shot/novel_1.csv\",\n",
    "    \"../prompt_engineering/data/zero_shot/novel_2.csv\",\n",
    "    \"../prompt_engineering/data/zero_shot/novel_3.csv\",\n",
    "    \"../prompt_engineering/data/zero_shot/novel_4.csv\",\n",
    "    \"../prompt_engineering/data/zero_shot/novel_5.csv\",\n",
    "    \"../prompt_engineering/data/zero_shot/novel_6.csv\",\n",
    "    \"../prompt_engineering/data/zero_shot/novel_7.csv\",\n",
    "    \"../prompt_engineering/data/zero_shot/novel_8.csv\",\n",
    "    \"../prompt_engineering/data/zero_shot/novel_9.csv\",\n",
    "    \"../prompt_engineering/data/zero_shot/novel_10.csv\",\n",
    "    \"../prompt_engineering/data/zero_shot/novel_11.csv\",\n",
    "    \"../prompt_engineering/data/zero_shot/novel_12.csv\"\n",
    "]\n",
    "\n",
    "gpt_novel_prompts = []\n",
    "\n",
    "for gpt_prompt in gpt_files:\n",
    "    try:\n",
    "        prompt = pd.read_csv(gpt_prompt, sep=\",\")\n",
    "    except UnicodeDecodeError:\n",
    "        prompt = pd.read_csv(gpt_prompt, sep=\",\", encoding='Windows-1252')\n",
    "    lst = []\n",
    "    for d in prompt.values:\n",
    "        lst.append(d[0])\n",
    "    prompt = []\n",
    "    for i in range(len(lst)):\n",
    "        if type(lst[i]) is not float:\n",
    "            mod_statements = lst[i].replace(lst[i][:3], '')\n",
    "            prompt.append(mod_statements)\n",
    "\n",
    "    gpt_novel_prompts.append(prompt)"
   ]
  },
  {
   "cell_type": "markdown",
   "id": "ab5e524e",
   "metadata": {
    "pycharm": {
     "name": "#%% md\n"
    }
   },
   "source": [
    "## Embed data"
   ]
  },
  {
   "cell_type": "code",
   "execution_count": 7,
   "id": "c5f394c0",
   "metadata": {
    "pycharm": {
     "name": "#%%\n"
    }
   },
   "outputs": [],
   "source": [
    "model = SentenceTransformer('all-MiniLM-L6-v2')"
   ]
  },
  {
   "cell_type": "code",
   "execution_count": 8,
   "id": "653c7cfb",
   "metadata": {
    "pycharm": {
     "name": "#%%\n"
    }
   },
   "outputs": [],
   "source": [
    "human_embeddings = [model.encode(prompt) for prompt in human_prompts]\n",
    "gpt_base_embeddings = [model.encode(prompt) for prompt in gpt_base_prompts]\n",
    "gpt_unique_embeddings = [model.encode(prompt) for prompt in gpt_unique_prompts]\n",
    "gpt_novel_embeddings = [model.encode(prompt) for prompt in gpt_novel_prompts]\n",
    "gpt_diverse_embeddings = [model.encode(prompt) for prompt in gpt_diverse_prompts]"
   ]
  },
  {
   "cell_type": "markdown",
   "id": "19a619e3",
   "metadata": {
    "pycharm": {
     "name": "#%% md\n"
    }
   },
   "source": [
    "\n",
    "# Similarity Metrics\n",
    "## Nearest Generated Sample\n",
    "Using cosine distance\n",
    "Focus on design space coverage"
   ]
  },
  {
   "cell_type": "code",
   "execution_count": 9,
   "id": "94283f70",
   "metadata": {
    "pycharm": {
     "name": "#%%\n"
    }
   },
   "outputs": [],
   "source": [
    "from itertools import combinations\n",
    "\n",
    "\n",
    "distances_all = []\n",
    "std_all = []\n",
    "distances_total = []\n",
    "for embedding in [gpt_base_embeddings, gpt_unique_embeddings, gpt_novel_embeddings, gpt_diverse_embeddings]:\n",
    "    distances_prompt = []\n",
    "    std_prompt = []\n",
    "    for count in range(len(embedding)):\n",
    "        distances_row = []\n",
    "        iterate = list(range(len(np.array(embedding[count]))))\n",
    "        max_distance = -1e9\n",
    "        for combo in combinations(iterate, 2):\n",
    "            # dot product\n",
    "            distance = np.dot(human_embeddings[count][combo[0],:], embedding[count][combo[1],:])/(norm(human_embeddings[count][combo[0],:])*norm(embedding[count][combo[1],:]))\n",
    "\n",
    "            if distance > max_distance:\n",
    "                max_distance = distance\n",
    "            distances_row.append(max_distance)\n",
    "        distances_total.append(np.array(distances_row))\n",
    "        distances_prompt.append(np.mean(distances_row))\n",
    "        std_prompt.append(np.std(distances_row))\n",
    "    distances_all.append(distances_prompt)\n",
    "    std_all.append(std_prompt)"
   ]
  },
  {
   "cell_type": "code",
   "execution_count": 10,
   "id": "b97d6177",
   "metadata": {
    "pycharm": {
     "name": "#%%\n"
    }
   },
   "outputs": [
    {
     "data": {
      "text/html": [
       "<style type=\"text/css\">\n",
       "#T_bac4b_row0_col0 {\n",
       "  background-color: #3d93c2;\n",
       "  color: #f1f1f1;\n",
       "}\n",
       "#T_bac4b_row0_col1 {\n",
       "  background-color: #abbfdc;\n",
       "  color: #000000;\n",
       "}\n",
       "#T_bac4b_row0_col2 {\n",
       "  background-color: #2786bb;\n",
       "  color: #f1f1f1;\n",
       "}\n",
       "#T_bac4b_row0_col3 {\n",
       "  background-color: #73a9cf;\n",
       "  color: #f1f1f1;\n",
       "}\n",
       "#T_bac4b_row1_col0, #T_bac4b_row5_col2, #T_bac4b_row10_col1, #T_bac4b_row10_col3 {\n",
       "  background-color: #fff7fb;\n",
       "  color: #000000;\n",
       "}\n",
       "#T_bac4b_row1_col1, #T_bac4b_row11_col3 {\n",
       "  background-color: #69a5cc;\n",
       "  color: #f1f1f1;\n",
       "}\n",
       "#T_bac4b_row1_col2 {\n",
       "  background-color: #f8f1f8;\n",
       "  color: #000000;\n",
       "}\n",
       "#T_bac4b_row1_col3 {\n",
       "  background-color: #2484ba;\n",
       "  color: #f1f1f1;\n",
       "}\n",
       "#T_bac4b_row2_col0 {\n",
       "  background-color: #589ec8;\n",
       "  color: #f1f1f1;\n",
       "}\n",
       "#T_bac4b_row2_col1 {\n",
       "  background-color: #5c9fc9;\n",
       "  color: #f1f1f1;\n",
       "}\n",
       "#T_bac4b_row2_col2 {\n",
       "  background-color: #81aed2;\n",
       "  color: #f1f1f1;\n",
       "}\n",
       "#T_bac4b_row2_col3 {\n",
       "  background-color: #a8bedc;\n",
       "  color: #000000;\n",
       "}\n",
       "#T_bac4b_row3_col0 {\n",
       "  background-color: #046198;\n",
       "  color: #f1f1f1;\n",
       "}\n",
       "#T_bac4b_row3_col1, #T_bac4b_row7_col1 {\n",
       "  background-color: #c2cbe2;\n",
       "  color: #000000;\n",
       "}\n",
       "#T_bac4b_row3_col2 {\n",
       "  background-color: #2a88bc;\n",
       "  color: #f1f1f1;\n",
       "}\n",
       "#T_bac4b_row3_col3 {\n",
       "  background-color: #b7c5df;\n",
       "  color: #000000;\n",
       "}\n",
       "#T_bac4b_row4_col0 {\n",
       "  background-color: #034871;\n",
       "  color: #f1f1f1;\n",
       "}\n",
       "#T_bac4b_row4_col1 {\n",
       "  background-color: #d2d3e7;\n",
       "  color: #000000;\n",
       "}\n",
       "#T_bac4b_row4_col2 {\n",
       "  background-color: #1278b4;\n",
       "  color: #f1f1f1;\n",
       "}\n",
       "#T_bac4b_row4_col3 {\n",
       "  background-color: #045d92;\n",
       "  color: #f1f1f1;\n",
       "}\n",
       "#T_bac4b_row5_col0, #T_bac4b_row7_col3, #T_bac4b_row9_col1, #T_bac4b_row9_col2 {\n",
       "  background-color: #023858;\n",
       "  color: #f1f1f1;\n",
       "}\n",
       "#T_bac4b_row5_col1 {\n",
       "  background-color: #04629a;\n",
       "  color: #f1f1f1;\n",
       "}\n",
       "#T_bac4b_row5_col3 {\n",
       "  background-color: #569dc8;\n",
       "  color: #f1f1f1;\n",
       "}\n",
       "#T_bac4b_row6_col0 {\n",
       "  background-color: #056ba7;\n",
       "  color: #f1f1f1;\n",
       "}\n",
       "#T_bac4b_row6_col1 {\n",
       "  background-color: #1e80b8;\n",
       "  color: #f1f1f1;\n",
       "}\n",
       "#T_bac4b_row6_col2 {\n",
       "  background-color: #dddbec;\n",
       "  color: #000000;\n",
       "}\n",
       "#T_bac4b_row6_col3 {\n",
       "  background-color: #eee8f3;\n",
       "  color: #000000;\n",
       "}\n",
       "#T_bac4b_row7_col0, #T_bac4b_row11_col2 {\n",
       "  background-color: #91b5d6;\n",
       "  color: #000000;\n",
       "}\n",
       "#T_bac4b_row7_col2 {\n",
       "  background-color: #adc1dd;\n",
       "  color: #000000;\n",
       "}\n",
       "#T_bac4b_row8_col0 {\n",
       "  background-color: #0568a3;\n",
       "  color: #f1f1f1;\n",
       "}\n",
       "#T_bac4b_row8_col1 {\n",
       "  background-color: #2081b9;\n",
       "  color: #f1f1f1;\n",
       "}\n",
       "#T_bac4b_row8_col2 {\n",
       "  background-color: #8bb2d4;\n",
       "  color: #000000;\n",
       "}\n",
       "#T_bac4b_row8_col3 {\n",
       "  background-color: #0d75b3;\n",
       "  color: #f1f1f1;\n",
       "}\n",
       "#T_bac4b_row9_col0 {\n",
       "  background-color: #056dac;\n",
       "  color: #f1f1f1;\n",
       "}\n",
       "#T_bac4b_row9_col3 {\n",
       "  background-color: #056faf;\n",
       "  color: #f1f1f1;\n",
       "}\n",
       "#T_bac4b_row10_col0 {\n",
       "  background-color: #3b92c1;\n",
       "  color: #f1f1f1;\n",
       "}\n",
       "#T_bac4b_row10_col2 {\n",
       "  background-color: #e8e4f0;\n",
       "  color: #000000;\n",
       "}\n",
       "#T_bac4b_row11_col0 {\n",
       "  background-color: #197db7;\n",
       "  color: #f1f1f1;\n",
       "}\n",
       "#T_bac4b_row11_col1 {\n",
       "  background-color: #faf3f9;\n",
       "  color: #000000;\n",
       "}\n",
       "</style>\n",
       "<table id=\"T_bac4b\">\n",
       "  <thead>\n",
       "    <tr>\n",
       "      <th class=\"blank level0\" >&nbsp;</th>\n",
       "      <th id=\"T_bac4b_level0_col0\" class=\"col_heading level0 col0\" >base</th>\n",
       "      <th id=\"T_bac4b_level0_col1\" class=\"col_heading level0 col1\" >unique</th>\n",
       "      <th id=\"T_bac4b_level0_col2\" class=\"col_heading level0 col2\" >novel</th>\n",
       "      <th id=\"T_bac4b_level0_col3\" class=\"col_heading level0 col3\" >diverse</th>\n",
       "    </tr>\n",
       "  </thead>\n",
       "  <tbody>\n",
       "    <tr>\n",
       "      <th id=\"T_bac4b_level0_row0\" class=\"row_heading level0 row0\" >0</th>\n",
       "      <td id=\"T_bac4b_row0_col0\" class=\"data row0 col0\" >0.737221</td>\n",
       "      <td id=\"T_bac4b_row0_col1\" class=\"data row0 col1\" >0.728106</td>\n",
       "      <td id=\"T_bac4b_row0_col2\" class=\"data row0 col2\" >0.787831</td>\n",
       "      <td id=\"T_bac4b_row0_col3\" class=\"data row0 col3\" >0.772523</td>\n",
       "    </tr>\n",
       "    <tr>\n",
       "      <th id=\"T_bac4b_level0_row1\" class=\"row_heading level0 row1\" >1</th>\n",
       "      <td id=\"T_bac4b_row1_col0\" class=\"data row1 col0\" >0.627234</td>\n",
       "      <td id=\"T_bac4b_row1_col1\" class=\"data row1 col1\" >0.754285</td>\n",
       "      <td id=\"T_bac4b_row1_col2\" class=\"data row1 col2\" >0.693840</td>\n",
       "      <td id=\"T_bac4b_row1_col3\" class=\"data row1 col3\" >0.804790</td>\n",
       "    </tr>\n",
       "    <tr>\n",
       "      <th id=\"T_bac4b_level0_row2\" class=\"row_heading level0 row2\" >2</th>\n",
       "      <td id=\"T_bac4b_row2_col0\" class=\"data row2 col0\" >0.727203</td>\n",
       "      <td id=\"T_bac4b_row2_col1\" class=\"data row2 col1\" >0.759167</td>\n",
       "      <td id=\"T_bac4b_row2_col2\" class=\"data row2 col2\" >0.757869</td>\n",
       "      <td id=\"T_bac4b_row2_col3\" class=\"data row2 col3\" >0.746776</td>\n",
       "    </tr>\n",
       "    <tr>\n",
       "      <th id=\"T_bac4b_level0_row3\" class=\"row_heading level0 row3\" >3</th>\n",
       "      <td id=\"T_bac4b_row3_col0\" class=\"data row3 col0\" >0.777565</td>\n",
       "      <td id=\"T_bac4b_row3_col1\" class=\"data row3 col1\" >0.716467</td>\n",
       "      <td id=\"T_bac4b_row3_col2\" class=\"data row3 col2\" >0.786489</td>\n",
       "      <td id=\"T_bac4b_row3_col3\" class=\"data row3 col3\" >0.738319</td>\n",
       "    </tr>\n",
       "    <tr>\n",
       "      <th id=\"T_bac4b_level0_row4\" class=\"row_heading level0 row4\" >4</th>\n",
       "      <td id=\"T_bac4b_row4_col0\" class=\"data row4 col0\" >0.796006</td>\n",
       "      <td id=\"T_bac4b_row4_col1\" class=\"data row4 col1\" >0.708150</td>\n",
       "      <td id=\"T_bac4b_row4_col2\" class=\"data row4 col2\" >0.796256</td>\n",
       "      <td id=\"T_bac4b_row4_col3\" class=\"data row4 col3\" >0.842013</td>\n",
       "    </tr>\n",
       "    <tr>\n",
       "      <th id=\"T_bac4b_level0_row5\" class=\"row_heading level0 row5\" >5</th>\n",
       "      <td id=\"T_bac4b_row5_col0\" class=\"data row5 col0\" >0.807182</td>\n",
       "      <td id=\"T_bac4b_row5_col1\" class=\"data row5 col1\" >0.804529</td>\n",
       "      <td id=\"T_bac4b_row5_col2\" class=\"data row5 col2\" >0.686086</td>\n",
       "      <td id=\"T_bac4b_row5_col3\" class=\"data row5 col3\" >0.783779</td>\n",
       "    </tr>\n",
       "    <tr>\n",
       "      <th id=\"T_bac4b_level0_row6\" class=\"row_heading level0 row6\" >6</th>\n",
       "      <td id=\"T_bac4b_row6_col0\" class=\"data row6 col0\" >0.767732</td>\n",
       "      <td id=\"T_bac4b_row6_col1\" class=\"data row6 col1\" >0.781708</td>\n",
       "      <td id=\"T_bac4b_row6_col2\" class=\"data row6 col2\" >0.716082</td>\n",
       "      <td id=\"T_bac4b_row6_col3\" class=\"data row6 col3\" >0.697302</td>\n",
       "    </tr>\n",
       "    <tr>\n",
       "      <th id=\"T_bac4b_level0_row7\" class=\"row_heading level0 row7\" >7</th>\n",
       "      <td id=\"T_bac4b_row7_col0\" class=\"data row7 col0\" >0.704262</td>\n",
       "      <td id=\"T_bac4b_row7_col1\" class=\"data row7 col1\" >0.716625</td>\n",
       "      <td id=\"T_bac4b_row7_col2\" class=\"data row7 col2\" >0.740587</td>\n",
       "      <td id=\"T_bac4b_row7_col3\" class=\"data row7 col3\" >0.869470</td>\n",
       "    </tr>\n",
       "    <tr>\n",
       "      <th id=\"T_bac4b_level0_row8\" class=\"row_heading level0 row8\" >8</th>\n",
       "      <td id=\"T_bac4b_row8_col0\" class=\"data row8 col0\" >0.770319</td>\n",
       "      <td id=\"T_bac4b_row8_col1\" class=\"data row8 col1\" >0.780850</td>\n",
       "      <td id=\"T_bac4b_row8_col2\" class=\"data row8 col2\" >0.753955</td>\n",
       "      <td id=\"T_bac4b_row8_col3\" class=\"data row8 col3\" >0.816280</td>\n",
       "    </tr>\n",
       "    <tr>\n",
       "      <th id=\"T_bac4b_level0_row9\" class=\"row_heading level0 row9\" >9</th>\n",
       "      <td id=\"T_bac4b_row9_col0\" class=\"data row9 col0\" >0.764971</td>\n",
       "      <td id=\"T_bac4b_row9_col1\" class=\"data row9 col1\" >0.833361</td>\n",
       "      <td id=\"T_bac4b_row9_col2\" class=\"data row9 col2\" >0.839784</td>\n",
       "      <td id=\"T_bac4b_row9_col3\" class=\"data row9 col3\" >0.820882</td>\n",
       "    </tr>\n",
       "    <tr>\n",
       "      <th id=\"T_bac4b_level0_row10\" class=\"row_heading level0 row10\" >10</th>\n",
       "      <td id=\"T_bac4b_row10_col0\" class=\"data row10 col0\" >0.738230</td>\n",
       "      <td id=\"T_bac4b_row10_col1\" class=\"data row10 col1\" >0.668437</td>\n",
       "      <td id=\"T_bac4b_row10_col2\" class=\"data row10 col2\" >0.708191</td>\n",
       "      <td id=\"T_bac4b_row10_col3\" class=\"data row10 col3\" >0.674596</td>\n",
       "    </tr>\n",
       "    <tr>\n",
       "      <th id=\"T_bac4b_level0_row11\" class=\"row_heading level0 row11\" >11</th>\n",
       "      <td id=\"T_bac4b_row11_col0\" class=\"data row11 col0\" >0.752681</td>\n",
       "      <td id=\"T_bac4b_row11_col1\" class=\"data row11 col1\" >0.673640</td>\n",
       "      <td id=\"T_bac4b_row11_col2\" class=\"data row11 col2\" >0.751540</td>\n",
       "      <td id=\"T_bac4b_row11_col3\" class=\"data row11 col3\" >0.775913</td>\n",
       "    </tr>\n",
       "  </tbody>\n",
       "</table>\n"
      ],
      "text/plain": [
       "<pandas.io.formats.style.Styler at 0x1f019e22260>"
      ]
     },
     "execution_count": 10,
     "metadata": {},
     "output_type": "execute_result"
    }
   ],
   "source": [
    "distances_pd = pd.DataFrame(distances_all, index=['base', 'unique', 'novel', 'diverse']).transpose()\n",
    "distances_pd.style.background_gradient()"
   ]
  },
  {
   "cell_type": "code",
   "execution_count": 12,
   "id": "cbb06e11",
   "metadata": {},
   "outputs": [
    {
     "name": "stderr",
     "output_type": "stream",
     "text": [
      "C:\\Users\\kevin\\AppData\\Local\\Temp\\ipykernel_44872\\1301606569.py:1: VisibleDeprecationWarning: Creating an ndarray from ragged nested sequences (which is a list-or-tuple of lists-or-tuples-or ndarrays with different lengths or shapes) is deprecated. If you meant to do this, you must specify 'dtype=object' when creating the ndarray.\n",
      "  all_distance = np.array(distances_total)\n"
     ]
    }
   ],
   "source": [
    "all_distance = np.array(distances_total)"
   ]
  },
  {
   "cell_type": "code",
   "execution_count": 13,
   "id": "a0262fb9",
   "metadata": {},
   "outputs": [
    {
     "name": "stdout",
     "output_type": "stream",
     "text": [
      "mean  0.7475506116946539\n",
      "std  0.059973298598778\n"
     ]
    }
   ],
   "source": [
    "# base soln std + mean\n",
    "mean_collect = []\n",
    "stddev_collect = []\n",
    "collec_num = []\n",
    "for i in range(12):\n",
    "    std_dist = np.std(all_distance[i])\n",
    "    mu_dist = np.mean(all_distance[i])\n",
    "    std_dist_collec = (all_distance[i].shape[0]-1)*std_dist**2\n",
    "    stddev_collect.append(std_dist_collec)\n",
    "    mu_dist_collec = all_distance[i].shape[0]*mu_dist\n",
    "    mean_collect.append(mu_dist_collec)\n",
    "    collec_num.append(all_distance[i].shape[0])\n",
    "\n",
    "total_mu = np.sum(np.array(mean_collect))/np.sum(np.array(collec_num))\n",
    "total_std = np.sqrt(np.sum(np.array(stddev_collect))/np.sum(np.array(collec_num)))\n",
    "print('mean ', total_mu)\n",
    "print('std ', total_std)"
   ]
  },
  {
   "cell_type": "code",
   "execution_count": 14,
   "id": "a9232f5f",
   "metadata": {},
   "outputs": [
    {
     "name": "stdout",
     "output_type": "stream",
     "text": [
      "mean  0.7461424653648806\n",
      "std  0.05561045383301105\n"
     ]
    }
   ],
   "source": [
    "# unique zero-shot soln std + mean\n",
    "mean_collect = []\n",
    "stddev_collect = []\n",
    "collec_num = []\n",
    "for i in range(12, 24):\n",
    "    std_dist = np.std(all_distance[i])\n",
    "    mu_dist = np.mean(all_distance[i])\n",
    "    std_dist_collec = (all_distance[i].shape[0]-1)*std_dist**2\n",
    "    stddev_collect.append(std_dist_collec)\n",
    "    mu_dist_collec = all_distance[i].shape[0]*mu_dist\n",
    "    mean_collect.append(mu_dist_collec)\n",
    "    collec_num.append(all_distance[i].shape[0])\n",
    "\n",
    "total_mu = np.sum(np.array(mean_collect))/np.sum(np.array(collec_num))\n",
    "total_std = np.sqrt(np.sum(np.array(stddev_collect))/np.sum(np.array(collec_num)))\n",
    "print('mean ', total_mu)\n",
    "print('std ', total_std)"
   ]
  },
  {
   "cell_type": "code",
   "execution_count": 15,
   "id": "f2fa4f3b",
   "metadata": {},
   "outputs": [
    {
     "name": "stdout",
     "output_type": "stream",
     "text": [
      "mean  0.7748129103103597\n",
      "std  0.0691595598915258\n"
     ]
    }
   ],
   "source": [
    "# novel zero-shot soln std + mean\n",
    "mean_collect = []\n",
    "stddev_collect = []\n",
    "collec_num = []\n",
    "for i in range(24, 36):\n",
    "    std_dist = np.std(all_distance[i])\n",
    "    mu_dist = np.mean(all_distance[i])\n",
    "    std_dist_collec = (all_distance[i].shape[0]-1)*std_dist**2\n",
    "    stddev_collect.append(std_dist_collec)\n",
    "    mu_dist_collec = all_distance[i].shape[0]*mu_dist\n",
    "    mean_collect.append(mu_dist_collec)\n",
    "    collec_num.append(all_distance[i].shape[0])\n",
    "\n",
    "total_mu = np.sum(np.array(mean_collect))/np.sum(np.array(collec_num))\n",
    "total_std = np.sqrt(np.sum(np.array(stddev_collect))/np.sum(np.array(collec_num)))\n",
    "print('mean ', total_mu)\n",
    "print('std ', total_std)"
   ]
  },
  {
   "cell_type": "code",
   "execution_count": 16,
   "id": "e444dc71",
   "metadata": {},
   "outputs": [
    {
     "name": "stdout",
     "output_type": "stream",
     "text": [
      "mean  0.7787709691772763\n",
      "std  0.06504224718231634\n"
     ]
    }
   ],
   "source": [
    "# diverse zero-shot soln std + mean\n",
    "mean_collect = []\n",
    "stddev_collect = []\n",
    "collec_num = []\n",
    "for i in range(36, 48):\n",
    "    std_dist = np.std(all_distance[i])\n",
    "    mu_dist = np.mean(all_distance[i])\n",
    "    std_dist_collec = (all_distance[i].shape[0]-1)*std_dist**2\n",
    "    stddev_collect.append(std_dist_collec)\n",
    "    mu_dist_collec = all_distance[i].shape[0]*mu_dist\n",
    "    mean_collect.append(mu_dist_collec)\n",
    "    collec_num.append(all_distance[i].shape[0])\n",
    "\n",
    "total_mu = np.sum(np.array(mean_collect))/np.sum(np.array(collec_num))\n",
    "total_std = np.sqrt(np.sum(np.array(stddev_collect))/np.sum(np.array(collec_num)))\n",
    "print('mean ', total_mu)\n",
    "print('std ', total_std)"
   ]
  },
  {
   "cell_type": "markdown",
   "id": "ece308a9",
   "metadata": {
    "pycharm": {
     "name": "#%% md\n"
    }
   },
   "source": [
    "# Novelty/Diversity Metrics\n",
    "## Convex hull hypervolume"
   ]
  },
  {
   "cell_type": "code",
   "execution_count": 17,
   "id": "7a3364a0",
   "metadata": {
    "pycharm": {
     "name": "#%%\n"
    }
   },
   "outputs": [],
   "source": [
    "from scipy.spatial import ConvexHull\n",
    "from sklearn.decomposition import PCA\n",
    "from tqdm import tqdm"
   ]
  },
  {
   "cell_type": "code",
   "execution_count": 18,
   "id": "9e5ba47a",
   "metadata": {
    "pycharm": {
     "name": "#%%\n"
    }
   },
   "outputs": [
    {
     "name": "stderr",
     "output_type": "stream",
     "text": [
      "  0%|                                                                                            | 0/5 [00:00<?, ?it/s]\n",
      "  0%|                                                                                           | 0/12 [00:00<?, ?it/s]\u001b[A\n",
      " 25%|████████████████████▊                                                              | 3/12 [00:00<00:00, 20.41it/s]\u001b[A\n",
      " 50%|█████████████████████████████████████████▌                                         | 6/12 [00:00<00:00, 20.52it/s]\u001b[A\n",
      " 75%|██████████████████████████████████████████████████████████████▎                    | 9/12 [00:00<00:00, 20.50it/s]\u001b[A\n",
      "100%|██████████████████████████████████████████████████████████████████████████████████| 12/12 [00:00<00:00, 20.45it/s]\u001b[A\n",
      " 20%|████████████████▊                                                                   | 1/5 [00:00<00:02,  1.69it/s]\u001b[A\n",
      "  0%|                                                                                           | 0/12 [00:00<?, ?it/s]\u001b[A\n",
      " 25%|████████████████████▊                                                              | 3/12 [00:00<00:00, 20.76it/s]\u001b[A\n",
      " 50%|█████████████████████████████████████████▌                                         | 6/12 [00:00<00:00, 20.46it/s]\u001b[A\n",
      " 75%|██████████████████████████████████████████████████████████████▎                    | 9/12 [00:00<00:00, 20.53it/s]\u001b[A\n",
      "100%|██████████████████████████████████████████████████████████████████████████████████| 12/12 [00:00<00:00, 20.56it/s]\u001b[A\n",
      " 40%|█████████████████████████████████▌                                                  | 2/5 [00:01<00:01,  1.70it/s]\u001b[A\n",
      "  0%|                                                                                           | 0/12 [00:00<?, ?it/s]\u001b[A\n",
      " 25%|████████████████████▊                                                              | 3/12 [00:00<00:00, 21.09it/s]\u001b[A\n",
      " 50%|█████████████████████████████████████████▌                                         | 6/12 [00:00<00:00, 20.79it/s]\u001b[A\n",
      " 83%|████████████████████████████████████████████████████████████████████▎             | 10/12 [00:00<00:00, 23.80it/s]\u001b[A\n",
      " 60%|██████████████████████████████████████████████████▍                                 | 3/5 [00:01<00:01,  1.77it/s]\u001b[A\n",
      "  0%|                                                                                           | 0/12 [00:00<?, ?it/s]\u001b[A\n",
      " 33%|███████████████████████████▋                                                       | 4/12 [00:00<00:00, 27.62it/s]\u001b[A\n",
      " 67%|███████████████████████████████████████████████████████▎                           | 8/12 [00:00<00:00, 33.75it/s]\u001b[A\n",
      "100%|██████████████████████████████████████████████████████████████████████████████████| 12/12 [00:00<00:00, 35.47it/s]\u001b[A\n",
      " 80%|███████████████████████████████████████████████████████████████████▏                | 4/5 [00:02<00:00,  2.07it/s]\u001b[A\n",
      "  0%|                                                                                           | 0/12 [00:00<?, ?it/s]\u001b[A\n",
      " 25%|████████████████████▊                                                              | 3/12 [00:00<00:00, 20.62it/s]\u001b[A\n",
      " 50%|█████████████████████████████████████████▌                                         | 6/12 [00:00<00:00, 20.58it/s]\u001b[A\n",
      " 75%|██████████████████████████████████████████████████████████████▎                    | 9/12 [00:00<00:00, 20.66it/s]\u001b[A\n",
      "100%|██████████████████████████████████████████████████████████████████████████████████| 12/12 [00:00<00:00, 23.13it/s]\u001b[A\n",
      "100%|████████████████████████████████████████████████████████████████████████████████████| 5/5 [00:02<00:00,  1.91it/s]\u001b[A\n"
     ]
    }
   ],
   "source": [
    "pca = PCA(n_components=3)\n",
    "\n",
    "volumes_all = []\n",
    "for prompts in tqdm([human_embeddings, gpt_base_embeddings, gpt_unique_embeddings, gpt_novel_embeddings, gpt_diverse_embeddings]):\n",
    "    volumes_prompts = []\n",
    "    for prompt in tqdm(prompts, leave=False):\n",
    "        embeddings = pca.fit_transform(prompt)\n",
    "        convex_hull = ConvexHull(embeddings)\n",
    "        volume_prompt = convex_hull.volume\n",
    "        volumes_prompts.append(volume_prompt)\n",
    "    volumes_all.append(volumes_prompts)"
   ]
  },
  {
   "cell_type": "code",
   "execution_count": 19,
   "id": "a84227cc",
   "metadata": {
    "pycharm": {
     "name": "#%%\n"
    }
   },
   "outputs": [
    {
     "data": {
      "text/html": [
       "<style type=\"text/css\">\n",
       "#T_a2593_row0_col0 {\n",
       "  background-color: #f6eff7;\n",
       "  color: #000000;\n",
       "}\n",
       "#T_a2593_row0_col1 {\n",
       "  background-color: #0d75b3;\n",
       "  color: #f1f1f1;\n",
       "}\n",
       "#T_a2593_row0_col2 {\n",
       "  background-color: #2987bc;\n",
       "  color: #f1f1f1;\n",
       "}\n",
       "#T_a2593_row0_col3 {\n",
       "  background-color: #0568a3;\n",
       "  color: #f1f1f1;\n",
       "}\n",
       "#T_a2593_row0_col4 {\n",
       "  background-color: #034369;\n",
       "  color: #f1f1f1;\n",
       "}\n",
       "#T_a2593_row1_col0, #T_a2593_row4_col4, #T_a2593_row5_col3, #T_a2593_row7_col1, #T_a2593_row7_col2 {\n",
       "  background-color: #fff7fb;\n",
       "  color: #000000;\n",
       "}\n",
       "#T_a2593_row1_col1, #T_a2593_row8_col1 {\n",
       "  background-color: #c9cee4;\n",
       "  color: #000000;\n",
       "}\n",
       "#T_a2593_row1_col2 {\n",
       "  background-color: #2f8bbe;\n",
       "  color: #f1f1f1;\n",
       "}\n",
       "#T_a2593_row1_col3 {\n",
       "  background-color: #b4c4df;\n",
       "  color: #000000;\n",
       "}\n",
       "#T_a2593_row1_col4 {\n",
       "  background-color: #b9c6e0;\n",
       "  color: #000000;\n",
       "}\n",
       "#T_a2593_row2_col0 {\n",
       "  background-color: #04639b;\n",
       "  color: #f1f1f1;\n",
       "}\n",
       "#T_a2593_row2_col1 {\n",
       "  background-color: #94b6d7;\n",
       "  color: #000000;\n",
       "}\n",
       "#T_a2593_row2_col2 {\n",
       "  background-color: #75a9cf;\n",
       "  color: #f1f1f1;\n",
       "}\n",
       "#T_a2593_row2_col3 {\n",
       "  background-color: #a4bcda;\n",
       "  color: #000000;\n",
       "}\n",
       "#T_a2593_row2_col4 {\n",
       "  background-color: #96b6d7;\n",
       "  color: #000000;\n",
       "}\n",
       "#T_a2593_row3_col0 {\n",
       "  background-color: #056ba9;\n",
       "  color: #f1f1f1;\n",
       "}\n",
       "#T_a2593_row3_col1 {\n",
       "  background-color: #cdd0e5;\n",
       "  color: #000000;\n",
       "}\n",
       "#T_a2593_row3_col2 {\n",
       "  background-color: #197db7;\n",
       "  color: #f1f1f1;\n",
       "}\n",
       "#T_a2593_row3_col3 {\n",
       "  background-color: #b5c4df;\n",
       "  color: #000000;\n",
       "}\n",
       "#T_a2593_row3_col4, #T_a2593_row9_col4 {\n",
       "  background-color: #a5bddb;\n",
       "  color: #000000;\n",
       "}\n",
       "#T_a2593_row4_col0, #T_a2593_row8_col3, #T_a2593_row9_col1, #T_a2593_row10_col4, #T_a2593_row11_col2 {\n",
       "  background-color: #023858;\n",
       "  color: #f1f1f1;\n",
       "}\n",
       "#T_a2593_row4_col1 {\n",
       "  background-color: #045788;\n",
       "  color: #f1f1f1;\n",
       "}\n",
       "#T_a2593_row4_col2 {\n",
       "  background-color: #1e80b8;\n",
       "  color: #f1f1f1;\n",
       "}\n",
       "#T_a2593_row4_col3 {\n",
       "  background-color: #046198;\n",
       "  color: #f1f1f1;\n",
       "}\n",
       "#T_a2593_row5_col0 {\n",
       "  background-color: #dfddec;\n",
       "  color: #000000;\n",
       "}\n",
       "#T_a2593_row5_col1 {\n",
       "  background-color: #e6e2ef;\n",
       "  color: #000000;\n",
       "}\n",
       "#T_a2593_row5_col2 {\n",
       "  background-color: #c4cbe3;\n",
       "  color: #000000;\n",
       "}\n",
       "#T_a2593_row5_col4 {\n",
       "  background-color: #a9bfdc;\n",
       "  color: #000000;\n",
       "}\n",
       "#T_a2593_row6_col0 {\n",
       "  background-color: #034e7b;\n",
       "  color: #f1f1f1;\n",
       "}\n",
       "#T_a2593_row6_col1 {\n",
       "  background-color: #2484ba;\n",
       "  color: #f1f1f1;\n",
       "}\n",
       "#T_a2593_row6_col2 {\n",
       "  background-color: #bcc7e1;\n",
       "  color: #000000;\n",
       "}\n",
       "#T_a2593_row6_col3 {\n",
       "  background-color: #056faf;\n",
       "  color: #f1f1f1;\n",
       "}\n",
       "#T_a2593_row6_col4 {\n",
       "  background-color: #034267;\n",
       "  color: #f1f1f1;\n",
       "}\n",
       "#T_a2593_row7_col0 {\n",
       "  background-color: #afc1dd;\n",
       "  color: #000000;\n",
       "}\n",
       "#T_a2593_row7_col3 {\n",
       "  background-color: #b8c6e0;\n",
       "  color: #000000;\n",
       "}\n",
       "#T_a2593_row7_col4 {\n",
       "  background-color: #cacee5;\n",
       "  color: #000000;\n",
       "}\n",
       "#T_a2593_row8_col0 {\n",
       "  background-color: #04588a;\n",
       "  color: #f1f1f1;\n",
       "}\n",
       "#T_a2593_row8_col2 {\n",
       "  background-color: #e5e1ef;\n",
       "  color: #000000;\n",
       "}\n",
       "#T_a2593_row8_col4 {\n",
       "  background-color: #d2d2e7;\n",
       "  color: #000000;\n",
       "}\n",
       "#T_a2593_row9_col0 {\n",
       "  background-color: #2685bb;\n",
       "  color: #f1f1f1;\n",
       "}\n",
       "#T_a2593_row9_col2 {\n",
       "  background-color: #d6d6e9;\n",
       "  color: #000000;\n",
       "}\n",
       "#T_a2593_row9_col3 {\n",
       "  background-color: #eae6f1;\n",
       "  color: #000000;\n",
       "}\n",
       "#T_a2593_row10_col0 {\n",
       "  background-color: #3790c0;\n",
       "  color: #f1f1f1;\n",
       "}\n",
       "#T_a2593_row10_col1 {\n",
       "  background-color: #529bc7;\n",
       "  color: #f1f1f1;\n",
       "}\n",
       "#T_a2593_row10_col2 {\n",
       "  background-color: #5c9fc9;\n",
       "  color: #f1f1f1;\n",
       "}\n",
       "#T_a2593_row10_col3 {\n",
       "  background-color: #6da6cd;\n",
       "  color: #f1f1f1;\n",
       "}\n",
       "#T_a2593_row11_col0 {\n",
       "  background-color: #eee9f3;\n",
       "  color: #000000;\n",
       "}\n",
       "#T_a2593_row11_col1 {\n",
       "  background-color: #1278b4;\n",
       "  color: #f1f1f1;\n",
       "}\n",
       "#T_a2593_row11_col3 {\n",
       "  background-color: #7dacd1;\n",
       "  color: #f1f1f1;\n",
       "}\n",
       "#T_a2593_row11_col4 {\n",
       "  background-color: #9ebad9;\n",
       "  color: #000000;\n",
       "}\n",
       "</style>\n",
       "<table id=\"T_a2593\">\n",
       "  <thead>\n",
       "    <tr>\n",
       "      <th class=\"blank level0\" >&nbsp;</th>\n",
       "      <th id=\"T_a2593_level0_col0\" class=\"col_heading level0 col0\" >human</th>\n",
       "      <th id=\"T_a2593_level0_col1\" class=\"col_heading level0 col1\" >base</th>\n",
       "      <th id=\"T_a2593_level0_col2\" class=\"col_heading level0 col2\" >unique</th>\n",
       "      <th id=\"T_a2593_level0_col3\" class=\"col_heading level0 col3\" >novel</th>\n",
       "      <th id=\"T_a2593_level0_col4\" class=\"col_heading level0 col4\" >diverse</th>\n",
       "    </tr>\n",
       "  </thead>\n",
       "  <tbody>\n",
       "    <tr>\n",
       "      <th id=\"T_a2593_level0_row0\" class=\"row_heading level0 row0\" >0</th>\n",
       "      <td id=\"T_a2593_row0_col0\" class=\"data row0 col0\" >0.249209</td>\n",
       "      <td id=\"T_a2593_row0_col1\" class=\"data row0 col1\" >0.324143</td>\n",
       "      <td id=\"T_a2593_row0_col2\" class=\"data row0 col2\" >0.331999</td>\n",
       "      <td id=\"T_a2593_row0_col3\" class=\"data row0 col3\" >0.254749</td>\n",
       "      <td id=\"T_a2593_row0_col4\" class=\"data row0 col4\" >0.347631</td>\n",
       "    </tr>\n",
       "    <tr>\n",
       "      <th id=\"T_a2593_level0_row1\" class=\"row_heading level0 row1\" >1</th>\n",
       "      <td id=\"T_a2593_row1_col0\" class=\"data row1 col0\" >0.243630</td>\n",
       "      <td id=\"T_a2593_row1_col1\" class=\"data row1 col1\" >0.197065</td>\n",
       "      <td id=\"T_a2593_row1_col2\" class=\"data row1 col2\" >0.326193</td>\n",
       "      <td id=\"T_a2593_row1_col3\" class=\"data row1 col3\" >0.150178</td>\n",
       "      <td id=\"T_a2593_row1_col4\" class=\"data row1 col4\" >0.174642</td>\n",
       "    </tr>\n",
       "    <tr>\n",
       "      <th id=\"T_a2593_level0_row2\" class=\"row_heading level0 row2\" >2</th>\n",
       "      <td id=\"T_a2593_row2_col0\" class=\"data row2 col0\" >0.321649</td>\n",
       "      <td id=\"T_a2593_row2_col1\" class=\"data row2 col1\" >0.238125</td>\n",
       "      <td id=\"T_a2593_row2_col2\" class=\"data row2 col2\" >0.274756</td>\n",
       "      <td id=\"T_a2593_row2_col3\" class=\"data row2 col3\" >0.160631</td>\n",
       "      <td id=\"T_a2593_row2_col4\" class=\"data row2 col4\" >0.200796</td>\n",
       "    </tr>\n",
       "    <tr>\n",
       "      <th id=\"T_a2593_level0_row3\" class=\"row_heading level0 row3\" >3</th>\n",
       "      <td id=\"T_a2593_row3_col0\" class=\"data row3 col0\" >0.317053</td>\n",
       "      <td id=\"T_a2593_row3_col1\" class=\"data row3 col1\" >0.193241</td>\n",
       "      <td id=\"T_a2593_row3_col2\" class=\"data row3 col2\" >0.346561</td>\n",
       "      <td id=\"T_a2593_row3_col3\" class=\"data row3 col3\" >0.148948</td>\n",
       "      <td id=\"T_a2593_row3_col4\" class=\"data row3 col4\" >0.190490</td>\n",
       "    </tr>\n",
       "    <tr>\n",
       "      <th id=\"T_a2593_level0_row4\" class=\"row_heading level0 row4\" >4</th>\n",
       "      <td id=\"T_a2593_row4_col0\" class=\"data row4 col0\" >0.338390</td>\n",
       "      <td id=\"T_a2593_row4_col1\" class=\"data row4 col1\" >0.367969</td>\n",
       "      <td id=\"T_a2593_row4_col2\" class=\"data row4 col2\" >0.341639</td>\n",
       "      <td id=\"T_a2593_row4_col3\" class=\"data row4 col3\" >0.264245</td>\n",
       "      <td id=\"T_a2593_row4_col4\" class=\"data row4 col4\" >0.089236</td>\n",
       "    </tr>\n",
       "    <tr>\n",
       "      <th id=\"T_a2593_level0_row5\" class=\"row_heading level0 row5\" >5</th>\n",
       "      <td id=\"T_a2593_row5_col0\" class=\"data row5 col0\" >0.261036</td>\n",
       "      <td id=\"T_a2593_row5_col1\" class=\"data row5 col1\" >0.164198</td>\n",
       "      <td id=\"T_a2593_row5_col2\" class=\"data row5 col2\" >0.197921</td>\n",
       "      <td id=\"T_a2593_row5_col3\" class=\"data row5 col3\" >0.074321</td>\n",
       "      <td id=\"T_a2593_row5_col4\" class=\"data row5 col4\" >0.187192</td>\n",
       "    </tr>\n",
       "    <tr>\n",
       "      <th id=\"T_a2593_level0_row6\" class=\"row_heading level0 row6\" >6</th>\n",
       "      <td id=\"T_a2593_row6_col0\" class=\"data row6 col0\" >0.330278</td>\n",
       "      <td id=\"T_a2593_row6_col1\" class=\"data row6 col1\" >0.307938</td>\n",
       "      <td id=\"T_a2593_row6_col2\" class=\"data row6 col2\" >0.206876</td>\n",
       "      <td id=\"T_a2593_row6_col3\" class=\"data row6 col3\" >0.245315</td>\n",
       "      <td id=\"T_a2593_row6_col4\" class=\"data row6 col4\" >0.348458</td>\n",
       "    </tr>\n",
       "    <tr>\n",
       "      <th id=\"T_a2593_level0_row7\" class=\"row_heading level0 row7\" >7</th>\n",
       "      <td id=\"T_a2593_row7_col0\" class=\"data row7 col0\" >0.276590</td>\n",
       "      <td id=\"T_a2593_row7_col1\" class=\"data row7 col1\" >0.120958</td>\n",
       "      <td id=\"T_a2593_row7_col2\" class=\"data row7 col2\" >0.094294</td>\n",
       "      <td id=\"T_a2593_row7_col3\" class=\"data row7 col3\" >0.147923</td>\n",
       "      <td id=\"T_a2593_row7_col4\" class=\"data row7 col4\" >0.161171</td>\n",
       "    </tr>\n",
       "    <tr>\n",
       "      <th id=\"T_a2593_level0_row8\" class=\"row_heading level0 row8\" >8</th>\n",
       "      <td id=\"T_a2593_row8_col0\" class=\"data row8 col0\" >0.327088</td>\n",
       "      <td id=\"T_a2593_row8_col1\" class=\"data row8 col1\" >0.196484</td>\n",
       "      <td id=\"T_a2593_row8_col2\" class=\"data row8 col2\" >0.151242</td>\n",
       "      <td id=\"T_a2593_row8_col3\" class=\"data row8 col3\" >0.301653</td>\n",
       "      <td id=\"T_a2593_row8_col4\" class=\"data row8 col4\" >0.155180</td>\n",
       "    </tr>\n",
       "    <tr>\n",
       "      <th id=\"T_a2593_level0_row9\" class=\"row_heading level0 row9\" >9</th>\n",
       "      <td id=\"T_a2593_row9_col0\" class=\"data row9 col0\" >0.306566</td>\n",
       "      <td id=\"T_a2593_row9_col1\" class=\"data row9 col1\" >0.399708</td>\n",
       "      <td id=\"T_a2593_row9_col2\" class=\"data row9 col2\" >0.175190</td>\n",
       "      <td id=\"T_a2593_row9_col3\" class=\"data row9 col3\" >0.104635</td>\n",
       "      <td id=\"T_a2593_row9_col4\" class=\"data row9 col4\" >0.190654</td>\n",
       "    </tr>\n",
       "    <tr>\n",
       "      <th id=\"T_a2593_level0_row10\" class=\"row_heading level0 row10\" >10</th>\n",
       "      <td id=\"T_a2593_row10_col0\" class=\"data row10 col0\" >0.302798</td>\n",
       "      <td id=\"T_a2593_row10_col1\" class=\"data row10 col1\" >0.279686</td>\n",
       "      <td id=\"T_a2593_row10_col2\" class=\"data row10 col2\" >0.292655</td>\n",
       "      <td id=\"T_a2593_row10_col3\" class=\"data row10 col3\" >0.191065</td>\n",
       "      <td id=\"T_a2593_row10_col4\" class=\"data row10 col4\" >0.358186</td>\n",
       "    </tr>\n",
       "    <tr>\n",
       "      <th id=\"T_a2593_level0_row11\" class=\"row_heading level0 row11\" >11</th>\n",
       "      <td id=\"T_a2593_row11_col0\" class=\"data row11 col0\" >0.254090</td>\n",
       "      <td id=\"T_a2593_row11_col1\" class=\"data row11 col1\" >0.320867</td>\n",
       "      <td id=\"T_a2593_row11_col2\" class=\"data row11 col2\" >0.455579</td>\n",
       "      <td id=\"T_a2593_row11_col3\" class=\"data row11 col3\" >0.182803</td>\n",
       "      <td id=\"T_a2593_row11_col4\" class=\"data row11 col4\" >0.196257</td>\n",
       "    </tr>\n",
       "  </tbody>\n",
       "</table>\n"
      ],
      "text/plain": [
       "<pandas.io.formats.style.Styler at 0x1f031afad10>"
      ]
     },
     "execution_count": 19,
     "metadata": {},
     "output_type": "execute_result"
    }
   ],
   "source": [
    "convex_hull_volumes_df = pd.DataFrame(volumes_all, index=['human', 'base', 'unique', 'novel', 'diverse']).transpose()\n",
    "convex_hull_volumes_df.style.background_gradient()"
   ]
  },
  {
   "cell_type": "code",
   "execution_count": 20,
   "id": "ddfbab67",
   "metadata": {
    "pycharm": {
     "name": "#%%\n"
    }
   },
   "outputs": [
    {
     "data": {
      "text/html": [
       "<div>\n",
       "<style scoped>\n",
       "    .dataframe tbody tr th:only-of-type {\n",
       "        vertical-align: middle;\n",
       "    }\n",
       "\n",
       "    .dataframe tbody tr th {\n",
       "        vertical-align: top;\n",
       "    }\n",
       "\n",
       "    .dataframe thead th {\n",
       "        text-align: right;\n",
       "    }\n",
       "</style>\n",
       "<table border=\"1\" class=\"dataframe\">\n",
       "  <thead>\n",
       "    <tr style=\"text-align: right;\">\n",
       "      <th></th>\n",
       "      <th>human</th>\n",
       "      <th>base</th>\n",
       "      <th>unique</th>\n",
       "      <th>novel</th>\n",
       "      <th>diverse</th>\n",
       "    </tr>\n",
       "  </thead>\n",
       "  <tbody>\n",
       "    <tr>\n",
       "      <th>0</th>\n",
       "      <td>0.249209</td>\n",
       "      <td>0.324143</td>\n",
       "      <td>0.331999</td>\n",
       "      <td>0.254749</td>\n",
       "      <td>0.347631</td>\n",
       "    </tr>\n",
       "    <tr>\n",
       "      <th>1</th>\n",
       "      <td>0.243630</td>\n",
       "      <td>0.197065</td>\n",
       "      <td>0.326193</td>\n",
       "      <td>0.150178</td>\n",
       "      <td>0.174642</td>\n",
       "    </tr>\n",
       "    <tr>\n",
       "      <th>2</th>\n",
       "      <td>0.321649</td>\n",
       "      <td>0.238125</td>\n",
       "      <td>0.274756</td>\n",
       "      <td>0.160631</td>\n",
       "      <td>0.200796</td>\n",
       "    </tr>\n",
       "    <tr>\n",
       "      <th>3</th>\n",
       "      <td>0.317053</td>\n",
       "      <td>0.193241</td>\n",
       "      <td>0.346561</td>\n",
       "      <td>0.148948</td>\n",
       "      <td>0.190490</td>\n",
       "    </tr>\n",
       "    <tr>\n",
       "      <th>4</th>\n",
       "      <td>0.338390</td>\n",
       "      <td>0.367969</td>\n",
       "      <td>0.341639</td>\n",
       "      <td>0.264245</td>\n",
       "      <td>0.089236</td>\n",
       "    </tr>\n",
       "    <tr>\n",
       "      <th>5</th>\n",
       "      <td>0.261036</td>\n",
       "      <td>0.164198</td>\n",
       "      <td>0.197921</td>\n",
       "      <td>0.074321</td>\n",
       "      <td>0.187192</td>\n",
       "    </tr>\n",
       "    <tr>\n",
       "      <th>6</th>\n",
       "      <td>0.330278</td>\n",
       "      <td>0.307938</td>\n",
       "      <td>0.206876</td>\n",
       "      <td>0.245315</td>\n",
       "      <td>0.348458</td>\n",
       "    </tr>\n",
       "    <tr>\n",
       "      <th>7</th>\n",
       "      <td>0.276590</td>\n",
       "      <td>0.120958</td>\n",
       "      <td>0.094294</td>\n",
       "      <td>0.147923</td>\n",
       "      <td>0.161171</td>\n",
       "    </tr>\n",
       "    <tr>\n",
       "      <th>8</th>\n",
       "      <td>0.327088</td>\n",
       "      <td>0.196484</td>\n",
       "      <td>0.151242</td>\n",
       "      <td>0.301653</td>\n",
       "      <td>0.155180</td>\n",
       "    </tr>\n",
       "    <tr>\n",
       "      <th>9</th>\n",
       "      <td>0.306566</td>\n",
       "      <td>0.399708</td>\n",
       "      <td>0.175190</td>\n",
       "      <td>0.104635</td>\n",
       "      <td>0.190654</td>\n",
       "    </tr>\n",
       "    <tr>\n",
       "      <th>10</th>\n",
       "      <td>0.302798</td>\n",
       "      <td>0.279686</td>\n",
       "      <td>0.292655</td>\n",
       "      <td>0.191065</td>\n",
       "      <td>0.358186</td>\n",
       "    </tr>\n",
       "    <tr>\n",
       "      <th>11</th>\n",
       "      <td>0.254090</td>\n",
       "      <td>0.320867</td>\n",
       "      <td>0.455579</td>\n",
       "      <td>0.182803</td>\n",
       "      <td>0.196257</td>\n",
       "    </tr>\n",
       "  </tbody>\n",
       "</table>\n",
       "</div>"
      ],
      "text/plain": [
       "       human      base    unique     novel   diverse\n",
       "0   0.249209  0.324143  0.331999  0.254749  0.347631\n",
       "1   0.243630  0.197065  0.326193  0.150178  0.174642\n",
       "2   0.321649  0.238125  0.274756  0.160631  0.200796\n",
       "3   0.317053  0.193241  0.346561  0.148948  0.190490\n",
       "4   0.338390  0.367969  0.341639  0.264245  0.089236\n",
       "5   0.261036  0.164198  0.197921  0.074321  0.187192\n",
       "6   0.330278  0.307938  0.206876  0.245315  0.348458\n",
       "7   0.276590  0.120958  0.094294  0.147923  0.161171\n",
       "8   0.327088  0.196484  0.151242  0.301653  0.155180\n",
       "9   0.306566  0.399708  0.175190  0.104635  0.190654\n",
       "10  0.302798  0.279686  0.292655  0.191065  0.358186\n",
       "11  0.254090  0.320867  0.455579  0.182803  0.196257"
      ]
     },
     "execution_count": 20,
     "metadata": {},
     "output_type": "execute_result"
    }
   ],
   "source": [
    "convex_hull_volumes_df"
   ]
  },
  {
   "cell_type": "code",
   "execution_count": 21,
   "id": "0d5ac6ed",
   "metadata": {
    "pycharm": {
     "name": "#%%\n"
    }
   },
   "outputs": [
    {
     "data": {
      "text/plain": [
       "human      0.294032\n",
       "base       0.259198\n",
       "unique     0.266242\n",
       "novel      0.185539\n",
       "diverse    0.216658\n",
       "dtype: float64"
      ]
     },
     "execution_count": 21,
     "metadata": {},
     "output_type": "execute_result"
    }
   ],
   "source": [
    "convex_hull_volumes_df.mean(axis=0)"
   ]
  },
  {
   "cell_type": "code",
   "execution_count": 22,
   "id": "fa7c10fd",
   "metadata": {
    "pycharm": {
     "name": "#%%\n"
    }
   },
   "outputs": [
    {
     "data": {
      "text/plain": [
       "0     0.301546\n",
       "1     0.218341\n",
       "2     0.239191\n",
       "3     0.239259\n",
       "4     0.280296\n",
       "5     0.176934\n",
       "6     0.287773\n",
       "7     0.160187\n",
       "8     0.226330\n",
       "9     0.235351\n",
       "10    0.284878\n",
       "11    0.281919\n",
       "dtype: float64"
      ]
     },
     "execution_count": 22,
     "metadata": {},
     "output_type": "execute_result"
    }
   ],
   "source": [
    "convex_hull_volumes_df.mean(axis=1)"
   ]
  },
  {
   "cell_type": "code",
   "execution_count": 23,
   "id": "6ba0b6f5",
   "metadata": {
    "pycharm": {
     "name": "#%%\n"
    }
   },
   "outputs": [
    {
     "data": {
      "text/plain": [
       "0     0.046073\n",
       "1     0.069426\n",
       "2     0.062672\n",
       "3     0.086916\n",
       "4     0.113562\n",
       "5     0.067658\n",
       "6     0.059672\n",
       "7     0.069968\n",
       "8     0.082791\n",
       "9     0.117035\n",
       "10    0.060381\n",
       "11    0.111368\n",
       "dtype: float64"
      ]
     },
     "execution_count": 23,
     "metadata": {},
     "output_type": "execute_result"
    }
   ],
   "source": [
    "convex_hull_volumes_df.std(axis=1)"
   ]
  }
 ],
 "metadata": {
  "kernelspec": {
   "display_name": "Python [conda env:chatgpt]",
   "language": "python",
   "name": "conda-env-chatgpt-py"
  },
  "language_info": {
   "codemirror_mode": {
    "name": "ipython",
    "version": 3
   },
   "file_extension": ".py",
   "mimetype": "text/x-python",
   "name": "python",
   "nbconvert_exporter": "python",
   "pygments_lexer": "ipython3",
   "version": "3.10.9"
  }
 },
 "nbformat": 4,
 "nbformat_minor": 5
}
