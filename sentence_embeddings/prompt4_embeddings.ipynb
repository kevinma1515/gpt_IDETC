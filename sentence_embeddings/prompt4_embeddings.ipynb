{
 "cells": [
  {
   "cell_type": "code",
   "execution_count": 18,
   "id": "88316a13",
   "metadata": {
    "pycharm": {
     "name": "#%%\n"
    }
   },
   "outputs": [],
   "source": [
    "import torch\n",
    "from torch.utils.tensorboard import SummaryWriter\n",
    "import csv\n",
    "import pandas as pd\n",
    "from sentence_transformers import SentenceTransformer, util\n",
    "import os\n",
    "from statistics import mean\n",
    "from numpy.linalg import norm\n",
    "import numpy as np"
   ]
  },
  {
   "cell_type": "code",
   "execution_count": 3,
   "id": "4e25a774",
   "metadata": {
    "pycharm": {
     "name": "#%%\n"
    }
   },
   "outputs": [
    {
     "data": {
      "text/plain": "['ï»¿A vest made of crystal quartz pieces connected by thin copper infused string. The vest is then draped over a machine after being charged for 8-24 hrs by human wear.',\n 'Perhaps there could be something...a cord?...attached to a bicycle or treadmill that would carry the energy to a port of some sort. The port would collect and convert the human energy for use elsewhere.',\n 'a device which is attached to the joints so when they move they turn a coil which generates energy.',\n 'When you blush, you put sensors on your cheeks and the warmth transfers to energy. This is effective for embarrassment, excitement, and joy.',\n 'People could wear kinetic bracelets and anklets that could collect and store energy from normal human activities like walking. Pumping your arms while walking would collect additional energy. The energy could be downloaded by removing the bracelets and anklets and placing them on a reverse charging pad, which could then power other devices.',\n 'solar equipment collects energy',\n 'A bicycle-powered television',\n 'have electrodes that can suction cup to our bodies that charges a device as they move/work out',\n 'A battery that is charged by the energy from your pulse on your wrist',\n 'A shoe that collects the energy generated when your foot hits the ground every step',\n 'an almost weightless shear undergarment that collects the energy of every motion the wearer makes that can be transferred to batteries wirelessly',\n 'A giant hamster wheel contraption that also has strings attached to limbs to maximize energy harnessing',\n \"This is something that you wear. It must be lightweight, like clothing or maybe a wristband or ankleband of somekind that converts a person's movements from either walking, swinging arms when walking, etc into energy that can be used to charge your cell phone or smart watch.\",\n 'Portable Charger for Mobile that can be charged from the bike. During the classes on a stationary bike, you connect the device via usb, and it is charged from  of your movement.',\n \"A device that can be hooked up to your Child's, or yours, electronic devices. The amount of energy you burn while wearing the device is the amount of time you get on the electronic device you have set up to the device.\",\n 'Something where the soles of your shoes compress and decompress which helps to turn some sort of small turbine.',\n 'This device would be worn on joints or where energy could be collected from a movement device like a pedometer. Motion would be mechanically stored as energy. Moving arms or legs would be converted to a rotational device that makes energy. Energy from the pedometer like device would make energy from the shaking of the device.',\n 'The sweat detector.  This camera can see the sweat come out of people.  It tells people how much excersise they are getting by measuring the amount of sweat.  Just take a picture like a regular camera.',\n 'A suit made of ultra thin, elastic material that a person wears.  The sensors in the suit detect motion and convert to usable energy.',\n 'A pair of shoes that will collect energy in an attached device or in something placed in the sole of the shoe. It would collect the energy whenever a step was taken. The device could then be attached to a battery charger. Or it could be used to power a light attached to the shoes to enable the wearer to see in the dark.',\n 'A shirt/sweater/vest, any article of clothing, you wear when you work out that can convert kinetic energy into energy for reuse.  The article of clothing would have sensors all over it that track movement and then a battery that you can attach/detach when you are done to use to charge various items such as phones, computers, ect.  You could also have it so you can \"sell your energy\" or \"donate your energy\" at various spots in parks or on running paths to give back.',\n 'a human size hamster wheel that produces energy when turned,could be used as a playground ride for kids or as a workout device for adults.',\n 'Squares on the sidewalk that move down slightly and the friction and weight create electricity',\n 'This would be an exercise bike that can be used to charge electronics. The pedal motion would be converted to trickle charge a device. This way exercise could be used to recharge a phone or ipod.',\n 'Using energy generated by riding a bicycle',\n 'Wrist bands that collect energy as you walk and move. Could be based on the same type of technology as the watches that remain charged using the motion as you wear it.',\n 'thumb windmills. Attach some strings to your fingers that are attached to a little windmill that collects energy in a solenoid. Whenever someone is texting or typing, all that energy can do something more than simply enter text. It can be powering a little windmill that is storing up all that energy. Maybe even enough over time to recharge the device.',\n 'This would be a series of pulleys and counterweights in an exercise machine. As the humans exercise, the kinetic energy would be collected and stored into giant batteries.',\n 'Something like a cell phone/smartphone sized box that you wear that your body literally transfers energy into it, charging it but it can be used to then power other objects like a battery pack',\n \"A digital watch and fitness tracker that uses the person's own energy to run the device. People would be encouraged to walk or run to make the device work. As a bonus, the more you exercise the more features will work on the device, like if you walk/run a certain amount each week it unlocks a new feature.\",\n 'A clothing garment that collects and stores a static charge.',\n \"The item will be using the human's walking motion to make electricity.  Simply put, a cycle is inspiration but it would have to be designed more aerodynamically so the maximum electricity output can happen.\",\n 'addition to phone which when moved converts energy on the phone',\n 'To collect energy from human motion, create a suit (think space suit) that can collect heat from the body as action is performed then converted into a useable energy.',\n 'A generator that can be retrofitted to exercise bikes and elliptical machines, and a system that would allow for the collection of energy created at a gym to be cleaned and stored.',\n 'A device that uses coils or some sort of item that could store potential energy when humans walk or sit on it. This potential energy could then somehow be transmitted via tubes through thermal energy for storage. This device could be a type of flooring or seating that humans walk on to transfer their motion into energy for collection.',\n 'I am thinking of a human hamster wheel.',\n 'a device that tracks movement and converts the chemical reaction from walking into energy.',\n 'One idea for a device that collects energy from human motion is a self-powered flashlight. The flashlight collects energy from your body movements like a battery, without the need of a power outlet.  This could be very useful during a black out or some other crisis.',\n '\"Pedal\" generator, with energy reservoir, powered by hands/arms rather than feet.    \"Manual\" or \"hands-on\" might be better terms than pedal.  This alternative would work well for building upper-body strength (along with charging tablets), and may be a desirable option for people with limited strength/mobility in their legs and feet.',\n \"The device would be placed at the bottom of a pair of running shoes. The impact of the runner's foot with the ground would create energy. Each stomp of the runner would be more energy.\",\n 'An invisible field that can be put in a doorway to keep out flies/insects but is completely safe for humans to walk through. This field may use sound or vibration or scent to ward off insects, but should be nearly undetectable by humans.',\n 'Clothing with probes that can collect the energy as humans do their daily tasks. This energy is then stored in a battery maybe in a belt on the pants.',\n 'It is a giant straw that suctions the energy from your body as you move. The straw is hidden inside fibers in your shirt & invisible from the outside.',\n 'Something that goes around the ankle or wrist, as those places move the most. It would have to be small and lightweight in order for it to be easier to use. Use while jogging or walking.',\n 'Eyeglass that capture energy from the movement of the eye lids. the device would be worn as a eyeglasses/ sunglasses apparatus. Basically like a windmill turbine of sorts. A wire from the arm of the glasses would extend to a belt device to store the created energy. Each eye would have an individual device.',\n 'the pulse tap, soletaker, existing energy',\n 'Lightweight wrist device that stores energy from body heat in battery-like cells. The cells are later placed in an energy transfer device where the energy is converted to electricity.',\n 'A device like an accelerometer that can measure movement, packed into a wearable or cellphone sized object. The user simply puts it in a pocket or bag like a cellphone and the device can pick up movements like a typical pedometer now. The movement would turn tiny magnetic orbits which would generate energy which could be stored.',\n 'a floor that can store the energy that you use when you walk on it, so every step you take, it uses the pressure and stores it in a battery, or puts it into the electricity meter',\n 'Since humans generate the most energy from walking or being upright, a spring that collects energy would be the best thing. It would probably be in the shoe. Also something that collects energy from air moving in and out and a  contraction and expansion would add more collection. The issue would be collecting that energy would need a battery could be fitted in the tongue.',\n \"A device that installs into the user's shoe that converts the kinetic energy into usable energy.\",\n \"We know that people's temperature rises when they experience high levels of emotion.  So put electrodes on people where the increased heat from the skin stimulates the electrons and then that movement is captured and then transferred to a battery.\",\n 'A band that you wear around your wrist that counts your steps, like a fitbit. But each step adds charge to the band. There is a usb port in the band so that it can be used as a mobile charger for small devices like cell phones, ipods, tablets, cameras, etc.',\n 'It would be nice if somehow you could collect energy with the use of your fitness tracker based on the amount of steps it records for you each day.  Many of us wear fitness trackers all the time.  It would be nice to have additional benefits such as energy production.',\n 'I would create an exercise machine like a rower that takes in more energy than it expels',\n 'A bracelet that is worn that collects energy that a person uses throughout the day, the move active and mobile the person is that more energy gets collected. At the end of the day this device can be plugged into a device in their home and is converted as energy.',\n 'A giant hamster wheel that powers a generator. The wheel is turned when a human runs on it.',\n 'A small device that is similar to the way a windmill works, but you use it to exercise while you are watching tv, or just sitting around. You could use your arms to move pedals or your feet, but it would generate electricity using the same device that a windmill would.',\n 'You would wear it around your ankle and It would calculate steps similar to a pedometer.  Each step would help the unit build energy.',\n 'It could be a full-sized multi-purpose exercise machine. There can be a bike elliptical type thing and even a standing platform so you can do squats, jumps and stretches that will even collect energy. The device could be hooked up to a large battery that harvests the energy and can be used in many different machines.',\n 'It would be similar to a tape recorder with a mic that receives and records electromagnetic impulses as well as changes in temperature.',\n 'A device you wear on your foot/ankle that harnesses energy from walking',\n 'A trampoline that would be able to store the energy made from jumping on it.  The energy stored would go into a small box and could be stored for small things like radios or recharging cell phones.',\n 'I think it could be something comparable to a fitbit or Jawbone where you wear it on your wrist and it \"absorbs\" energy or is powered by human movement.',\n 'Kinetic energy wrist band or ankle tethered device. Something that requires motion to develop an electrical charge.',\n 'Treadmill that collects the energy caused by running',\n 'a device on the end of a rope.  The person would swing it around their head like a windmill.',\n \"a running path that every time an impact of a runners foot hits the ground, beneath the surface of the path, it pushes or does something to create a movement (powered by runner's footsteps) to create energy in the end process. That could be applying a squeeze of air pressure into a chamber to move a wheel like device. Of course, once that gets turning, it can be used to make electricity.\",\n 'Some sort of small machine like the size of a pedometer. It would convert your steps into energy the more you move the more your energy you can collect. Collecting energy would help to have some stored for later.',\n 'A sensor built into to a fish tank that dispenses food to feed fish automatically when you wave your hand over the lid.',\n 'This would be a panel that is placed under treadmills. It hooks up to a generator. While people are exercising on the treadmill, the energy causing the treadmill to move would be recaptured by the panel and stored in the generator.',\n \"A generator that uses pressure to generate a current. This would go in someone's shoe and could be used to charge a variety of batteries.\",\n 'treadmill',\n 'Lightweight and ergonomic, this band to collect energy from human motion may be worn on the wrist or ankle.  Energy is transferred to a battery or device.  In the case of a battery, that can then be used to charge a device.',\n 'A series of band-aid like patches placed on joints, then generate an electric charge when joints are flexed, then wireless transmits this energy to an attached cellphone battery, saving it for later.',\n 'A device similar to a pedometer or heart monitor (EKG) that can collect energy from highs of emotions, such as anger or excitement.',\n 'A lightweight machine that connects to your legs and is attached to your backpack. You wear it while you ride bike and it collects energy from your pedaling motion.',\n 'treadmills powered by people running on them and can be connected to batteries that will store extra power.',\n 'Considering that we are always on our smartphones, playing some game, answering an email, sending a text, etc. Perhaps you could invent a chip that stored the energy create by your phone every time you either use a keystroke or turn the phone in anyway. Then that chip could be removed at the end of the day and the energy drawn from it and stored, until enough is collected to be use-able.',\n \"A machine that can harness the energy from peoples' blood pressure as it pumps through the human body.\",\n 'I am thinking of an athletic shoe that has wiring attached to the foam core under the heel of the shoe that collects some of the impact energy that is generated whenever a step is taken and is usually partially absorbed and diffused by the foam in the sole of the shoe. Ideally, there will be a way to wirelessly transfer the power generated to a device while the user is wearing the shoes and wearing the receiving device, but until that is the case, a usb plug (protected by a weatherproof cover) will allow for transfer of power to device.',\n 'A pedal powered exercise machine that uses your energy to spin a generator that charges a battery used to power small devices in your home.',\n 'Shoes equipped with energy responsive shoes. Sensors collecting the body heat off of a person. Sometype of sensor that collects your body heat while you sleep.',\n 'I would like to see a device that is like a pedometer.  It will store energy as you walk or run and after you walk/run you could hook it to your cell phone and collect the energy, much like a solar powered battery, but it is human energy it is storing instead.  Or better yet it could be a cell phone that collects energy as you walk.',\n 'a device connected to a bike that uses wind motion and transfers it to mechanical power or electricity since wind is used to generate mechanical power or electricity',\n \"A machine would be hooked up to a man or woman's chest (right over there heart) while they are exercising.  This machine would be able to take the vibrations from the heart beating and transfer that into electric energy.\",\n 'energy made from exercise equipment',\n 'An orb that collects the energy while people exercise letting people work out and stay healthy while the device is working',\n 'A device that uses the same mechanism is a self-winding spring watch but stores the energy generated into a batter. The device should be small enough to be wearable but large enough to store a significant amount of energy in a battery. The battery should be removable and usable in ordinary household items.',\n 'Im thinking of clothing that contians statice electricity capacitors. The capacitors can collect the static energy built up by the human body through movement. The capacitors could then be used to charge batteies for use in various devices.',\n 'I know skin conductance goes up when people are excited or anxious. Maybe something on a cell phone which could get energy from that, meaning that holding it when moving would charge it.',\n 'A stationary bike with the wheel connected to a small fan that spins with the wheel The fan produces a small amount of wind to power very small electronics Base in the front of the bike to place laptop, ipod, etc that is currently being powered',\n 'put pressure buttons in the bottoms of shoes along with a rechargeable battery. every time the person takes a step, it compresses the button which spins a small generator that produces electricity that is passed to the battery. put an led charge meter on the outside of the shoe so you can look down to know how much more walking you need endure to charge your battery.',\n 'I am thinking of something simple like a watch or bracelet that could be worn on the wrist. that device may be equipped to collect energy from human motion. when I say energy I am thinking something that could be worn and then taken off and used to charge a tablet or a cell phone or something like that,',\n 'sort of like roller blades that store the mechanical energy',\n 'Energy from the motion of walking could be collected by an anklet. As people step, the anklet collects the energy produced from each step.',\n 'A smart phone app that trackA smart phone app that tracks movement and collects energy from your kinetic energy. s movement and collects energy from your kinetic energy.',\n 'To collect energy from human motion, a stationary bike could be used. When the person is pedaling, it would turn a generator, which would produce electricity. Every time the pedals are rotated energy would be made, which could be harvested through a small cable connected either to a device to power it directly or to a battery to be stored for later use.',\n 'Power collecting shoes that joggers or top racers wear, creating and storing energy as they increase speed or create movement and acceleration.']"
     },
     "execution_count": 3,
     "metadata": {},
     "output_type": "execute_result"
    }
   ],
   "source": [
    "# Design prompt 3, human prompts\n",
    "human = []\n",
    "with open(\"data/amazonTurkDesPrompt4.csv\", 'r') as file:\n",
    "    csvreader = csv.reader(file)\n",
    "    for row in csvreader:\n",
    "        human.append(row[0])\n",
    "human = [i.replace('\\n',' ') for i in human]    # Removing the line breaks as they mess with tensorboard.\n",
    "human"
   ]
  },
  {
   "cell_type": "code",
   "execution_count": 4,
   "id": "77698907",
   "metadata": {
    "pycharm": {
     "name": "#%%\n"
    }
   },
   "outputs": [],
   "source": [
    "# Design prompt 3, gpt prompts\n",
    "desprompt4 = pd.read_csv('data/DesPrompt4_100Soln_FP0.csv', sep = \",\")\n",
    "lst = []\n",
    "for d in desprompt4.values:\n",
    "    lst.append(d[0])\n",
    "gpt_FP0 = []\n",
    "for i in range(len(lst)):\n",
    "    mod_statements = lst[i].replace(lst[i][:3], '')\n",
    "    mod_statements = mod_statements.strip()\n",
    "    gpt_FP0.append(mod_statements)\n",
    "gpt_FP0[98] = gpt_FP0[98].replace('. ', '')\n"
   ]
  },
  {
   "cell_type": "code",
   "execution_count": 5,
   "id": "8d7046ed",
   "metadata": {
    "pycharm": {
     "name": "#%%\n"
    }
   },
   "outputs": [],
   "source": [
    "desprompt4_FP0_PP2 = pd.read_csv('data/DesPrompt4_100Soln_FP0_PP2.csv', sep = \",\")\n",
    "lst = []\n",
    "for d in desprompt4_FP0_PP2.values:\n",
    "    lst.append(d[0])\n",
    "gpt_FP0_PP2 = []\n",
    "for i in range(len(lst)):\n",
    "    mod_statements = lst[i].replace(lst[i][:3], '')\n",
    "    mod_statements = mod_statements.strip()\n",
    "    gpt_FP0_PP2.append(mod_statements)\n",
    "gpt_FP0_PP2[98] = gpt_FP0_PP2[98].replace('. ', '')"
   ]
  },
  {
   "cell_type": "code",
   "execution_count": 6,
   "id": "6c336b4e",
   "metadata": {
    "pycharm": {
     "name": "#%%\n"
    }
   },
   "outputs": [
    {
     "data": {
      "text/plain": "['An ankle bracelet with a wind-up mechanism that generates power when walking or running.',\n 'Foot pedals connected to a dynamo that produces energy while walking or jogging on treadmills or stairmasters.',\n 'A treadmill designed to harvest kinetic energy with every stride and store it in rechargeable batteries for later use.',\n 'Wristbands fitted with mini-generators which produce small amounts of electricity when moved up & down or rotated while typing, playing video games, etcetera..',\n 'A device featured on treadmills, stationary bikes and ellipticals which captures kinetic energy produced by cycling, running and walking respectively and stores it for further use as electrical power in rechargeable batteries connected directly to those devices .',\n \"Electronic cubicles installed at gyms where users generate electrical power by pedaling on ergometers (ergometers generate electric current due to their varying resistance against the user's motion).\",\n 'Robotic exoskeleton suits that harvest human muscle movements through electromagnets & convert them into electric current which is stored in nearby containers for later usage .',\n 'Backpack with kinetic generators attached to its body converting movement from walking/running into electricity stored inside its battery pack for later usage .',\n 'An elliptical machine featuring resistive technology in its handlebars & footplates generating mechanical energy through user’s push and pull motions each time the machine is used; resulting stored electrical power produced can be then used as needed or collected into a storage container outside of the equipment itself ready for download at any given time.',\n \"Pressure sensors placed beneath carpets throughout one's home turning various types of floor surface pressure into electrical charges; these charges can be monitored via a main interface showing how much electricity is being generated from those pressure sensors over time\",\n 'Replacing car engines with flywheels linked to cylinders operating like combustion pistons capturing our bodies motions through mechanical arms transferring their momentum into rotational force powering an electric motor spinning rapidly enough creating large amount of electricity able be captured as needed ; this system helps replace gasoline vehicles becoming more efficient fuel wise having zero emissions along side creating clean renewable energy source transforming vehicle fleets across globe',\n 'Floor pads activated by continuous footsteps producing vibrations sensed by piezoelectric crystals underneath pads converting vibration waves created from user’s feet steps directly into usable AC/DC current; this system allows harvesting enormous amounts of free green energy by utilizing piezoelectric technology within homes , offices, public places like malls etc',\n 'Utilizing solar cells combined alongside mechanical actuators producing linear motion converted during exercise machines (treadmill , stationary bikes etc.) operate efficiently saving lots money spent monthly buying expensive fuels + releasing hazardous pollutants anymore',\n 'Kinetic Watches – wristwatches equipped with small motors enabling users convert body movements like flexing wrists / shaking hands etc., transformed mechanical motion transmitted onto tiny gears spinning continuously turning wheels moving drive shaft accumulating rotational force outputting minor currents charge each second enough replenish watch battery back full',\n 'New type modern shoes built structural elements added soles allowing capture transfer human’s ankle roll moments converted useful AC/DC using Piezoelectrics materials inserted heels sole sides specially modified device stitched shoe connecting external source portable charging devices same shoes approved FAA flights travel long distances airports comfortably',\n 'Power Chair – portable electronic chair designed enhance comfort physically challenged individuals requiring effortless movement providing seating cushion support enhanced via integrated lithium ion batteries coupled small motorized pulleys constructed chair capturing body movements transmitting DC voltage controller responsible controlling speed direction chair moves according needs patient',\n 'Push Bike Generator – bicycle engineered specific function collecting human’s pedal generated wide range geometrical shapes captured converted direct alternating current cycle generator frame registering total amperes watts produced day ride track rider progress monitor maintain performance levels longterm utilization',\n 'Gym Disk - levitating disk featuring special gearing mechanism revolving slowly opposite direction rest disks located center shape activity connected internal circuitry allowing simultaneously capture multiple exercisers’ efforts sending signal cage displaying readouts temperatures conditions safely improve easily view',\n 'Central Heating System integrating thermopile inside radiator collects heat generated activities taking place room heating up property evenly reducing cost bills keeping environment healthy environmentally friendly manner',\n 'Occupancy Sensors – small devices located top walls hallways lobbies equipped detect persons entering within range trigger designated tasks assigned such controlling lights opening closing doors activating AC/DC systems playing soothing sounds when necessary keeping premises secure enjoyable same time',\n 'Smart Shoes – functional footwear utilizing motion sensors body accelerometers transmit data wireless networks computers analyzing movements letting users optimize performance easier tracking calories burned calories consumed increasing motivation doing physical activities longterm basis',\n 'Solar Roadway – solar powered road system containing embedded photovoltaic cells capturing energy vehicles passing over them providing lighting turn signals crossing turns even operating autonomous cars network converting electricity generated storing batteries safe power supply further public transport later on',\n 'Human Powered Generator System designed capture kinetic energy produced during regular motion house home gym theater store etc. works generating mechanical rubbing contact components incorporated product mounting wall anyone executes pedaling exercise machine jump rope stationary bike trampoline etc generating electricity stored same location providing outlet plug into any electronic appliance needed used anywhere time required',\n 'Kinetic Bells – small metallic bells attached door handles outdoor garden fences staircases windows generate power through vibrations user triggers action sound sensors collect convert vibration watts measure battery device providing light nearby environment dark times emergency situations eliminating need carry traditional flashlights',\n 'A kinetic roller which when spun at a fast enough rate by hand or a foot produces enough electrical current to be stored as usable electricity for later use.',\n 'A net fitted over the surface of an indoor treadmill to catch and store the kinetic energy created by its spinning wheels with every stride taken on it.',\n 'An automated staircase containing channels underneath each step connected to turbines that spin at different speeds depending on how much pressure is placed on them and thus generate electrical current while people are moving up & down it .',\n 'A generator made from bicycle pedals connected to gears producing electricity in response to pedalling motions which can be transferred through cables into external storage batteries for future usage .',\n 'Mechanical soles of shoes composed of tiny generators connected directly with laces collecting electrons produced from walking/running footsteps & transferring their output into rechargeable batteries provided in heel part of shoe making sneakers more efficient means of transportation allowing wearer perform multiple tasks simultaneously .',\n 'An arm bracelet featuring two mini-generators strapped onto wrists alongside movement trackers measuring speed,pressure,angle that work together producing electric charges converted into useful energies during everyday actions like typing, eating, signing documents or shaking hands enabled wrist bands saving lots money spent buying expensive fuels releasing hazardous pollutants along side recharging own personal gadgets anytime wanted    .',\n 'Motion activated ceiling fans embedded inside our roofs harvesting gentle body movements individuals living house convert rotating force creating tiny pulses direct current feed appliances within property eliminating need frequent trips centers charge digital devices again reducing carbon footprints drastically helping fight climate change more effectively',\n 'Portable Kinetic backpacks specially designed wearers carrying heavy loads times featuring built-in twist mechanism located straps combined small generators capable transforming entire backpack’s weight kinetic form collected either internal battery cycled exterior source releasing user’s arms legs reducing risks getting strained damaged due excessive burden placed upon turning tiresome journey breeze instead',\n 'Football goalposts wired circuitry storing electrical generated shots footballs trapped pads adjoining posts siding around filed capturing pressure having ball introduced center energy stored portable containers brought indoors recharged ready next match',\n 'Snowboarder’s board modified feature thermoelectric generator mounted bottom side absorb heat snow melting converting thermal differential DC charge ready plugged charging ports found bottom edge sending gained extra juice cellphones just few seconds',\n 'Rollerblade designed skaters children adults incorporating turbine feature enabling bladers skate faster extended periods time gaining momentum excess transformed electric wattage top blades adding turbo mode whenever needed',\n 'Wearable smartwatch powered hand crank consists gear wheel handle held fixed position facilitates operations watch function able transfer extra generated electrons internal chip watching videos videos gaming web browsing listening music',\n 'Motorized scooter fitting coils rubber wire windings unicycle motor hub motor allows rider turn handlebars left right switch directions produces DC currents stored internal battery accurate readings track expended saved inspected regularly',\n 'Sailboat featuring flexible laminate sails fitted nano solar panels absorbing sunrays transforming gold free green source beach boats campsites parks coming upper surface hull engaging mechanisms collect wind force converted steady stream usable AC/DC',\n 'Stand-up paddleboard (SUP) equipped lateral fins angled stern board responsible flapping water paddle push thrust forward turning rotational energy turbine anchor room connect blocks flywheels acting generator offline storage unit pumped indirectly',\n 'Organically constructed houses plastered straw compressed cob beds replacing brick walls loaded layers earth filled hollow chambers under floors trapping human body warmth day night throughout year circulated underground pipes reduce utility bills save money',\n 'Moveable magnetic trainers running tracks equipped powerful neodymium magnets two opposite poles reacting each other resulting circular motion triggering currents transferred interior chamber recycled powering lights equipment continuously',\n 'Specialized grip gloves finger pieces internally equipment joint absorbs squeezing pressing motions giving amazing feedback precision understanding person capabilities articulating difficulties worries mental level lifestyle satisfaction real world applications',\n 'Slides playground parks designed spinners attached seats lower middle portion provide added balancing rotation spinning kids create velocity spins converting present inside dynamo translating positive charges supplied meter begin drawn scattered locations',\n 'Hairpin shaped devices worn belts easy access tight spaces automotive garages cars repair shops concentrated mechanical vibration motors free high amount rotational power scrapes scraps nails bolts dust particles ground',\n 'Automatic chairs gyms sports arenas saunas health facilities operated bioelectricity users sitting chairs derived muscular contractions surrounding knee ankle joints removable units swapped charged suitability places',\n 'Interactive ping pong tables fitted customized fan blades assist couple players play game smoothly efficiently separating them gases outdoors add convenience bringing fresh air porch table',\n 'Electric skateboards great enthusiast device offers traction control extremely fast acceleration pure adrenaline suitable ages groups having battery banks internal boards fully charged few minutes',\n \"Terracotta tiles warm footsteps conventional tiles hardwood flooring interspersed terracotta ceramic plates react user's circulation leather coat comfortable feeling agreeable moments\",\n 'Track runners employing magnetorheological dampers inner sole shoes shaft connected drive belt configured move freely according person running speed smooth transition circuits break measured manage collected energy customizable amounts sent sensors display monitor',\n 'A robotic exosuit embedded with solar panels and wind turbines harvesting energy from human motion in order to power the suit’s movements for extreme sports and other activities.',\n 'An interactive treadmill featuring a built-in generator that captures kinetic energy produced by running or jogging motions to store inside the machine’s battery for later use .',\n 'Sneakers with hidden motorized gears connected to Piezo crystals that capture vibrations created while walking and converts them into usable electricity inside their internal storage cells .',\n 'An automated chair featuring an integrated regulator which stores kinetic energy created by user’s movement in a bank of rechargeable batteries beneath its seat cushion located right under the person sitting on it .',\n 'A series of sails attached onto tumble dryers or washing machines which move according to its clothes spinning motions, capturing wind currents as they turn, converting it into direct current stored as electrical power in batteries hidden beneath reachable drawers around front part of machines .',\n 'Smart room designed featuring recessed chambers underneath floorboards collecting movements echoing space transferring them mechanical motion then converting useful AC/DC charge integral backup system home offices construction sites facilities ensuring continuous power supply required tasks executed anything fails unexpectedly     57     Body monitoring app linked wireless wearable device capable detecting users day long activity subtle body signals turning signal electrical wattage amount depending monitored parameters mobility stride length frequency jump height type exercise performed',\n 'Cycling shoes enabling special mode riders press center sole both feet pedal simultaneously generating extra rotational force outputting significant amounts electrons collected within shoe transferred external sources efficiently',\n 'Multi-purpose furniture chair tables equipped attached motors paddles producing enough force turn cylinders rotate gears creating considerable amount electric current directed receptor transferring surplus amounts outlet connect appliance',\n 'Portable generators wheels installed top sides vehicles pushing universal fitted system capable storage generate mechanical electricity required actuate vehicle mechanisms keeping regular moving running smoothly without fueling anymore',\n 'Personal wristband providing customizable control buttons finely calibrated access detailed information body stats health related data sleeping patterns activities allow tracking aspects life real time offering accurate feedback throughout journey',\n 'Folding treadmills incorporating tiny turbines placed inner sections wheels rotation producing DC voltage stored mini lithium ion cells used developing countries remote regions lack infrastructure allowing gyms places operate self powered methods saving money',\n 'Drapes intelligent fabrics thermoelectric materials absorb surrounding heat released persons usually asleep bed night convert thermal differential electricty powering laptop lamps phones charged recycled day',\n 'Exercise bike produces variation resistances user’s pedaling connected dynamo side wall generates electric pulses stored removable container provide outlets situated gymnasium areas distributing generated electrons directly 65 Solar Panels engineered windows catch sunlight during daytime hours transmitting UV rays specialized transformers produce alternating currents energies collected stored nearby distant source',\n 'Lightweight portable backpacks USB ports smartphones tablets cameras electronics devices internal battery packs elastic bands fibers stretched back flexible plates position modify facilitate recharge process',\n 'Aerospace Gloves tough durable Kevlar cloth engrained cables sensors intercept muscular contractions most advanced robotics workspaces wearers decreasing stress overall letting feel comfortable working constantly',\n 'Skateboard Engine – Small engine buried skateboard tail transmits rotary motion direct electricity generated transfer hand held controller flick switch start loading motor boosting speed cruising hills steeper angles',\n 'Cell Pads – Advanced technology pads silicone materials sticks carried bags practice Tai Chi Qi Gong exercises routines activated automatically start counting reps keep track practicing easily share performance others',\n 'Wind Farms utilizing turbine arrays mounted cars trucks trucks moving highways generating massive amperes voltages transforming streets complex network wires storing renewable capacity industrial applications',\n 'Water Bottles – Special models bottles fitting collapsible bladders hydroelectricity coming reservoirs accumulating water pressure applied certain degree force turbine blades turned spin rapidly giving electric spark',\n 'Foam Furniture implemented homes car interiors squeezable elastic covering materials heat resistive manage compress wearer’s pressure providing levels comfort protection body regular basis',\n 'Irrigation System drip pipes partially electrified irrigation posts supplying farms agricultural lands voltage help generate entire region supplies responding weather conditions monitored local monitor station',\n 'Turbine House tiny turbines mounted four corners house assembly interconnected combining strength crank shaft transmitting converted energy central hub containing one big generator supplying power whole place',\n 'Fire Wood Stove – Compact aluminum contraption firewood stove adopted equipped nickel hydrogen oxide strips harnessing flames emitted wood burn fireplace converted output alternating current sent charge electronics counter',\n 'Kinetic Wheelchairs wheelchairs customized fit users programmable settings velocity intensity deceleration acceleration speeds accessories wheel angle handlebars rotation readouts outputs LCD touchscreen display surveillance travel distance',\n 'Skateboard Batteries custom shaped lithium ion batteries strapped middle deck rotating wheel tire high speed enabling extended ride times same time collects kinetic converts usable AC/DC plug charging station',\n 'Walking Canes traditional accessory walking canes electronically integrated grid sensors scattering carpet measure person moves processes electromagnetic fields turning voltage photovoltaic cell directly',\n 'Intelligent Blankets quilted insulation fabric sheets poly cotton composite material encompassing multiple layers combine form heated blankets individuals lying upon collecting own heat levels releasing gentle warmth surroundings keeping warm throughout night eight Zinc Air Batteries solar powered zinc air cylindrical containers water activated extraction electron exchange reverse process reused cycle accumulators eliminating need traditional fuels hazardous emissions',\n 'Ship Propellers – Large vessels feature propellers spinning barrels air turbines attached connected intake valve creating large compressive forces producing small amount electricity pushed top tanks integrated charge controllers',\n 'Wearable Jackets jacket featuring lightweight aluminum panels constructed body facing direction wearer standing spin driven wind turbines generating DC current storing batteries located zippered pockets sleeve tips',\n 'Vibrating Bands adjustable armbands equipped vibration motors users adjust intensity turn voltage up down via control panel beside keeps track performance history analysing increasing lowering vibrations appropriate periods time',\n 'Centrifugal Fans – discs fans fitted machines fan blades rotate high speeds collecting wind generated magnetic fields converting supply public places shopping malls cinemas arcades gyms requiring large',\n 'Powered Treehouse tiny motorized treehouse couples surrounding trees movements persons walking ground below turning rotational movement force helping charge device located balcony giving charging opportunities',\n 'Robotic vacuum cleaners installed hardwood flooring tiles processors imbedded sensors motion creates electrical power vacuuming furniture surfaces walls carpeted floors automatically cells rechargeable provides continious source energy',\n 'Motion Activated Soap Dispenser special hands free device requiring minimum movement detect change temperature pressure used soap liquid detergents pumps activating releasing allocated quantity per action reaction',\n 'Carbon Filter System placed exhaust pipes automobiles trucks buses vans etc. emitted pollutants carbon dioxide replaced through filtered elements converting organic waste heat current usable fuels alternative sources',\n 'Magnetic Floor Panels designed placed underneath floorboards floor’s surface flat magnets electricity connecting exterior grids providing clean steady current running homes commercial purposes',\n 'Bicycle equipped modified strong wheels designed hold placed externally spokes rotate attract embedded neodymium magnets inner part wheel catching help create smooth torque electric potential gathered stored capacitor batteries ride',\n 'Solar Horse Fencing systems layered chain link fences solar cells installed top layer absorb light throughout day convert direct simple charge solar inverter attaching fence posts boosting voltage sent main grid',\n 'Nanowire Floor Tiles produced nanowires manufactured fibers resistivity change resistance heat inside embedded tiles walk touch automatically detect whether person present room area',\n 'Portable Dynamo Campfire – Camper’s tent set linked manually dynamo generator fireplace campers involved lit firewood burning generate continuous cycle convert mechanical thermal energy supplying against weather conditions',\n 'Water Pumps mechanically diverted water electrical turbine pump flow generates needed sufficient AC/DC stored backup capacitors regulating everything flow rate stored power bottle units',\n 'Free Energy Machines combination wheel pressurized air chambers powering machine extract natural occurring within atmosphere environment converted usable electricity operate efficiently',\n 'Solar Powered Roofs photovoltaic glass cellular structures cover entire roof divert sunlight renewable creation batteries releasing save households spending conventional gas oil powered furnaces',\n 'Automobile Radiator System incorporated car design transform hot engine coolant cooling radiators steam boilers hydropower generators feed outlet transmitting AC/DC modern cars save increase performance',\n 'Automatic Roller Coasters playground amusement parks kinetic locomotive ride people travel vehicles coaster tracks combines roller coaster passenger carts geared motors harvesting displayed monitor',\n 'Kinetic Knees prosthetic knees working mechanical lever arms connected external hydraulic pressure fibers cycling transmission force rotary converted DC flowing smart computer chips controlling running efficiency',\n 'Piezoelectric Heel Shoes intelligent shoes designed soles engineered piezoelectric material detecting steps taken wearer transferring electrostatic charges storage reservoir',\n 'Laser Harvesters small laser based emitters buildings rooftops harvested ambient Sunlight converged towards single receiving where data detected logged processed environmental system']"
     },
     "execution_count": 6,
     "metadata": {},
     "output_type": "execute_result"
    }
   ],
   "source": [
    "desprompt4_FP1 = pd.read_csv('data/DesPrompt4_100Soln_FP1.csv', sep = \",\")\n",
    "lst = []\n",
    "for d in desprompt4_FP1.values:\n",
    "    lst.append(d[0])\n",
    "gpt_FP1 = []\n",
    "for i in range(len(lst)):\n",
    "    mod_statements = lst[i].replace(lst[i][:3], '')\n",
    "    mod_statements = mod_statements.strip()\n",
    "    if mod_statements[0] == ')':\n",
    "        mod_statements = mod_statements.replace(')', '')\n",
    "    if mod_statements[0] == '.':\n",
    "        mod_statements = mod_statements.replace('.', '')\n",
    "    if mod_statements[0:2] == '4 ':\n",
    "        mod_statements = mod_statements.replace('4 ', '')\n",
    "    gpt_FP1.append(mod_statements)\n",
    "gpt_FP1"
   ]
  },
  {
   "cell_type": "code",
   "execution_count": 7,
   "id": "e19c2fcf",
   "metadata": {
    "pycharm": {
     "name": "#%%\n"
    }
   },
   "outputs": [
    {
     "data": {
      "text/plain": "Downloading (…)e9125/.gitattributes:   0%|          | 0.00/1.18k [00:00<?, ?B/s]",
      "application/vnd.jupyter.widget-view+json": {
       "version_major": 2,
       "version_minor": 0,
       "model_id": "49e9844af90f42eeb9392c6abe3656a1"
      }
     },
     "metadata": {},
     "output_type": "display_data"
    },
    {
     "data": {
      "text/plain": "Downloading (…)_Pooling/config.json:   0%|          | 0.00/190 [00:00<?, ?B/s]",
      "application/vnd.jupyter.widget-view+json": {
       "version_major": 2,
       "version_minor": 0,
       "model_id": "7e13fe3d26d748df80bc735649f2d97b"
      }
     },
     "metadata": {},
     "output_type": "display_data"
    },
    {
     "data": {
      "text/plain": "Downloading (…)7e55de9125/README.md:   0%|          | 0.00/10.6k [00:00<?, ?B/s]",
      "application/vnd.jupyter.widget-view+json": {
       "version_major": 2,
       "version_minor": 0,
       "model_id": "ed23dc5f418c4574a18b53235f11fc30"
      }
     },
     "metadata": {},
     "output_type": "display_data"
    },
    {
     "data": {
      "text/plain": "Downloading (…)55de9125/config.json:   0%|          | 0.00/612 [00:00<?, ?B/s]",
      "application/vnd.jupyter.widget-view+json": {
       "version_major": 2,
       "version_minor": 0,
       "model_id": "60ecc83edd1443dfaa929c6739e48fcc"
      }
     },
     "metadata": {},
     "output_type": "display_data"
    },
    {
     "data": {
      "text/plain": "Downloading (…)ce_transformers.json:   0%|          | 0.00/116 [00:00<?, ?B/s]",
      "application/vnd.jupyter.widget-view+json": {
       "version_major": 2,
       "version_minor": 0,
       "model_id": "e0a5279178b843a1aed0580a3b8c021c"
      }
     },
     "metadata": {},
     "output_type": "display_data"
    },
    {
     "data": {
      "text/plain": "Downloading (…)125/data_config.json:   0%|          | 0.00/39.3k [00:00<?, ?B/s]",
      "application/vnd.jupyter.widget-view+json": {
       "version_major": 2,
       "version_minor": 0,
       "model_id": "4dc0ebb7c7f2408f88d57f511068a350"
      }
     },
     "metadata": {},
     "output_type": "display_data"
    },
    {
     "data": {
      "text/plain": "Downloading (…)\"pytorch_model.bin\";:   0%|          | 0.00/90.9M [00:00<?, ?B/s]",
      "application/vnd.jupyter.widget-view+json": {
       "version_major": 2,
       "version_minor": 0,
       "model_id": "da36b423e5d9438cb065a441052391d3"
      }
     },
     "metadata": {},
     "output_type": "display_data"
    },
    {
     "data": {
      "text/plain": "Downloading (…)nce_bert_config.json:   0%|          | 0.00/53.0 [00:00<?, ?B/s]",
      "application/vnd.jupyter.widget-view+json": {
       "version_major": 2,
       "version_minor": 0,
       "model_id": "911cb472addb407292ea1d8d4e1a934a"
      }
     },
     "metadata": {},
     "output_type": "display_data"
    },
    {
     "data": {
      "text/plain": "Downloading (…)cial_tokens_map.json:   0%|          | 0.00/112 [00:00<?, ?B/s]",
      "application/vnd.jupyter.widget-view+json": {
       "version_major": 2,
       "version_minor": 0,
       "model_id": "bf910f88646d4b51a65388fa62fdb3cf"
      }
     },
     "metadata": {},
     "output_type": "display_data"
    },
    {
     "data": {
      "text/plain": "Downloading (…)e9125/tokenizer.json:   0%|          | 0.00/466k [00:00<?, ?B/s]",
      "application/vnd.jupyter.widget-view+json": {
       "version_major": 2,
       "version_minor": 0,
       "model_id": "e1dedb6611214a12b6f70a9c2026ce77"
      }
     },
     "metadata": {},
     "output_type": "display_data"
    },
    {
     "data": {
      "text/plain": "Downloading (…)okenizer_config.json:   0%|          | 0.00/350 [00:00<?, ?B/s]",
      "application/vnd.jupyter.widget-view+json": {
       "version_major": 2,
       "version_minor": 0,
       "model_id": "ffc831664fce4f31bbbadbfd235cab24"
      }
     },
     "metadata": {},
     "output_type": "display_data"
    },
    {
     "data": {
      "text/plain": "Downloading (…)9125/train_script.py:   0%|          | 0.00/13.2k [00:00<?, ?B/s]",
      "application/vnd.jupyter.widget-view+json": {
       "version_major": 2,
       "version_minor": 0,
       "model_id": "e8a6ca48b38b4f4096282f72605c9a94"
      }
     },
     "metadata": {},
     "output_type": "display_data"
    },
    {
     "data": {
      "text/plain": "Downloading (…)7e55de9125/vocab.txt:   0%|          | 0.00/232k [00:00<?, ?B/s]",
      "application/vnd.jupyter.widget-view+json": {
       "version_major": 2,
       "version_minor": 0,
       "model_id": "649d28988d0b4ba2810d213eb208955e"
      }
     },
     "metadata": {},
     "output_type": "display_data"
    },
    {
     "data": {
      "text/plain": "Downloading (…)5de9125/modules.json:   0%|          | 0.00/349 [00:00<?, ?B/s]",
      "application/vnd.jupyter.widget-view+json": {
       "version_major": 2,
       "version_minor": 0,
       "model_id": "e366f8687b57421f9a8b0d8ea7047198"
      }
     },
     "metadata": {},
     "output_type": "display_data"
    }
   ],
   "source": [
    "# embed data\n",
    "model = SentenceTransformer('all-MiniLM-L6-v2')\n",
    "gpt_FP0_embeddings = model.encode(gpt_FP0)\n",
    "gpt_FP0_PP2_embeddings = model.encode(gpt_FP0_PP2)\n",
    "gpt_FP1_embeddings = model.encode(gpt_FP1)\n",
    "human_embeddings = model.encode(human)"
   ]
  },
  {
   "cell_type": "code",
   "execution_count": 8,
   "id": "d141e2ac",
   "metadata": {
    "pycharm": {
     "name": "#%%\n"
    }
   },
   "outputs": [],
   "source": [
    "bert_output_human = torch.from_numpy(human_embeddings)\n",
    "bert_output_gpt_FP0 = torch.from_numpy(gpt_FP0_embeddings)\n",
    "bert_output_gpt_FP0_PP2 = torch.from_numpy(gpt_FP0_PP2_embeddings)\n",
    "bert_output_gpt_FP1 = torch.from_numpy(gpt_FP1_embeddings)"
   ]
  },
  {
   "cell_type": "code",
   "execution_count": 9,
   "id": "fc20ff48",
   "metadata": {
    "pycharm": {
     "name": "#%%\n"
    }
   },
   "outputs": [
    {
     "data": {
      "text/plain": "tensor([[-0.1310,  0.0865, -0.0136,  ..., -0.0233, -0.0274,  0.0179],\n        [-0.0891,  0.0217, -0.0144,  ...,  0.0011,  0.0267, -0.0334],\n        [-0.1362,  0.0422, -0.0383,  ..., -0.0186,  0.0215,  0.0011],\n        ...,\n        [-0.0744,  0.0209, -0.0141,  ..., -0.0511,  0.0312, -0.0275],\n        [-0.0950,  0.0184,  0.0395,  ..., -0.1207,  0.0055, -0.0402],\n        [ 0.0351,  0.0526, -0.0031,  ..., -0.0094, -0.0863,  0.0572]])"
     },
     "execution_count": 9,
     "metadata": {},
     "output_type": "execute_result"
    }
   ],
   "source": [
    "bert_output_gpt_FP1"
   ]
  },
  {
   "cell_type": "code",
   "execution_count": 10,
   "outputs": [],
   "source": [
    "metadata = [('human', line) for line in human] + [('gpt_FP0', line) for line in gpt_FP0] + [('gpt_FP0_PP2', line) for line in gpt_FP0_PP2] + [('gpt_FP1', line) for line in gpt_FP1]\n",
    "embeddings = torch.cat((bert_output_human, bert_output_gpt_FP0, bert_output_gpt_FP0_PP2, bert_output_gpt_FP1), 0)"
   ],
   "metadata": {
    "collapsed": false,
    "pycharm": {
     "name": "#%%\n"
    }
   }
  },
  {
   "cell_type": "code",
   "execution_count": 28,
   "id": "2f8c67eb",
   "metadata": {
    "pycharm": {
     "name": "#%%\n"
    }
   },
   "outputs": [],
   "source": [
    "# visualize embeddings\n",
    "writer = SummaryWriter('embeddings_4')\n",
    "writer.add_embedding(embeddings, metadata=metadata, metadata_header=['writer', 'prompt'])"
   ]
  },
  {
   "cell_type": "markdown",
   "id": "55272d6a",
   "metadata": {
    "pycharm": {
     "name": "#%% md\n"
    }
   },
   "source": [
    "Run in terminal: tensorboard --logdir=\"embeddings\\\" --host localhost http://localhost:6006/ to open Tensorboard Refresh page.\n",
    "Note when you run from anaconda, conda activate chatgpt -> cd chatgpt -> run the terminal command above."
   ]
  },
  {
   "cell_type": "markdown",
   "source": [
    "## Save Embeddings"
   ],
   "metadata": {
    "collapsed": false,
    "pycharm": {
     "name": "#%% md\n"
    }
   }
  },
  {
   "cell_type": "code",
   "execution_count": 15,
   "outputs": [],
   "source": [
    "def save_embeddings(data, metadata, file_name=None):\n",
    "    if file_name is None:\n",
    "        dest = '/data/embeddings/'\n",
    "    else:\n",
    "        dest = os.getcwd() + '/data/embeddings/' + file_name + '.pkl'\n",
    "    os.makedirs('data/embeddings/', exist_ok=True)\n",
    "\n",
    "    writer = [x[0] for x in metadata]\n",
    "    prompt = [x[1] for x in metadata]\n",
    "    embedding_df = pd.DataFrame(list(zip(writer, prompt, data)), columns=[\"writer\", \"prompt\", \"embedding\"])\n",
    "\n",
    "    embedding_df.to_pickle(dest)\n",
    "\n",
    "    return embedding_df"
   ],
   "metadata": {
    "collapsed": false,
    "pycharm": {
     "name": "#%%\n"
    }
   }
  },
  {
   "cell_type": "code",
   "execution_count": 16,
   "outputs": [],
   "source": [
    "file_name = 'prompt4_embeddings'\n",
    "embedding_df = save_embeddings(embeddings, metadata, file_name=file_name)"
   ],
   "metadata": {
    "collapsed": false,
    "pycharm": {
     "name": "#%%\n"
    }
   }
  },
  {
   "cell_type": "markdown",
   "source": [
    "## Load embeddings"
   ],
   "metadata": {
    "collapsed": false,
    "pycharm": {
     "name": "#%% md\n"
    }
   }
  },
  {
   "cell_type": "code",
   "execution_count": 14,
   "outputs": [],
   "source": [
    "# TODO"
   ],
   "metadata": {
    "collapsed": false,
    "pycharm": {
     "name": "#%%\n"
    }
   }
  },
  {
   "cell_type": "markdown",
   "source": [
    "\n",
    "# Similarity Metrics\n",
    "## Nearest Generated Sample\n",
    "Using cosine distance"
   ],
   "metadata": {
    "collapsed": false,
    "pycharm": {
     "name": "#%% md\n"
    }
   }
  },
  {
   "cell_type": "code",
   "execution_count": 28,
   "outputs": [
    {
     "name": "stdout",
     "output_type": "stream",
     "text": [
      "Mean of nearest generated samples for gpt_FP0: 0.29521146416664124\n",
      "Mean of nearest generated samples for gpt_FP0_PP2: 0.03285186365246773\n",
      "Mean of nearest generated samples for gpt_FP1: 0.04373559355735779\n"
     ]
    }
   ],
   "source": [
    "writers = ['gpt_FP0', 'gpt_FP0_PP2', 'gpt_FP1']\n",
    "\n",
    "original_datapoints = embedding_df[embedding_df['writer'] == 'human']['embedding'].tolist()\n",
    "for writer in writers:\n",
    "    generated_datapoints = embedding_df[embedding_df['writer'] == writer]['embedding'].tolist()\n",
    "    distances = []\n",
    "    for original_datapoint in original_datapoints:\n",
    "        min_distance = 1e9\n",
    "        for generated_datapoint in generated_datapoints:\n",
    "            distance = np.dot(original_datapoint, generated_datapoint)/(norm(original_datapoint)*norm(generated_datapoint))\n",
    "            if distance < min_distance:\n",
    "                min_distance = distance\n",
    "        distances.append(min_distance)\n",
    "    mean_distance = mean(distances)\n",
    "    print(f\"Mean of nearest generated samples for {writer}: {mean_distance}\")\n"
   ],
   "metadata": {
    "collapsed": false,
    "pycharm": {
     "name": "#%%\n"
    }
   }
  },
  {
   "cell_type": "code",
   "execution_count": 28,
   "outputs": [],
   "source": [],
   "metadata": {
    "collapsed": false,
    "pycharm": {
     "name": "#%%\n"
    }
   }
  }
 ],
 "metadata": {
  "kernelspec": {
   "name": "conceptnetmaterials",
   "language": "python",
   "display_name": "Python (conceptNetMaterials)"
  },
  "language_info": {
   "codemirror_mode": {
    "name": "ipython",
    "version": 3
   },
   "file_extension": ".py",
   "mimetype": "text/x-python",
   "name": "python",
   "nbconvert_exporter": "python",
   "pygments_lexer": "ipython3",
   "version": "3.10.9"
  }
 },
 "nbformat": 4,
 "nbformat_minor": 5
}