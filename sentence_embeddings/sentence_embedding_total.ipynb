{
 "cells": [
  {
   "cell_type": "code",
   "execution_count": 36,
   "id": "88316a13",
   "metadata": {
    "pycharm": {
     "name": "#%%\n"
    }
   },
   "outputs": [],
   "source": [
    "from transformers import BertModel, BertTokenizer\n",
    "import torch\n",
    "from torch.utils.tensorboard import SummaryWriter\n",
    "import csv\n",
    "import pandas as pd\n",
    "from sentence_transformers import SentenceTransformer, util"
   ]
  },
  {
   "cell_type": "code",
   "execution_count": 37,
   "id": "4e25a774",
   "metadata": {
    "pycharm": {
     "name": "#%%\n"
    }
   },
   "outputs": [],
   "source": [
    "# Design prompt 1, human prompts\n",
    "human1 = []\n",
    "with open(\"data/amazonTurkDesPrompt1.csv\", 'r') as file:\n",
    "    csvreader = csv.reader(file)\n",
    "    for row in csvreader:\n",
    "        human1.append(row[0])\n",
    "human1 = [i.replace('\\n',' ') for i in human1]    # Removing the line breaks as they mess with tensorboard."
   ]
  },
  {
   "cell_type": "code",
   "execution_count": 38,
   "id": "c5b877c3",
   "metadata": {
    "pycharm": {
     "name": "#%%\n"
    }
   },
   "outputs": [],
   "source": [
    "human2 = []\n",
    "with open(\"data/amazonTurkDesPrompt2.csv\", 'r') as file:\n",
    "    csvreader = csv.reader(file)\n",
    "    for row in csvreader:\n",
    "        human2.append(row[0])\n",
    "human2 = [i.replace('\\n',' ') for i in human2]    # Removing the line breaks as they mess with tensorboard."
   ]
  },
  {
   "cell_type": "code",
   "execution_count": 39,
   "id": "3e4f9c5c",
   "metadata": {
    "pycharm": {
     "name": "#%%\n"
    }
   },
   "outputs": [],
   "source": [
    "human3 = []\n",
    "with open(\"data/amazonTurkDesPrompt3.csv\", 'r') as file:\n",
    "    csvreader = csv.reader(file)\n",
    "    for row in csvreader:\n",
    "        human3.append(row[0])\n",
    "human3 = [i.replace('\\n',' ') for i in human3]    # Removing the line breaks as they mess with tensorboard."
   ]
  },
  {
   "cell_type": "code",
   "execution_count": 40,
   "id": "65844746",
   "metadata": {
    "pycharm": {
     "name": "#%%\n"
    }
   },
   "outputs": [],
   "source": [
    "human4 = []\n",
    "with open(\"data/amazonTurkDesPrompt4.csv\", 'r') as file:\n",
    "    csvreader = csv.reader(file)\n",
    "    for row in csvreader:\n",
    "        human4.append(row[0])\n",
    "human4 = [i.replace('\\n',' ') for i in human4] "
   ]
  },
  {
   "cell_type": "code",
   "execution_count": 41,
   "id": "cd07bed5",
   "metadata": {
    "pycharm": {
     "name": "#%%\n"
    }
   },
   "outputs": [],
   "source": [
    "human5 = []\n",
    "with open(\"data/amazonTurkDesPrompt5.csv\", 'r') as file:\n",
    "    csvreader = csv.reader(file)\n",
    "    for row in csvreader:\n",
    "        human5.append(row[0])\n",
    "human5 = [i.replace('\\n',' ') for i in human5] "
   ]
  },
  {
   "cell_type": "code",
   "execution_count": 42,
   "id": "d131868a",
   "metadata": {
    "pycharm": {
     "name": "#%%\n"
    }
   },
   "outputs": [],
   "source": [
    "human7 = []\n",
    "with open(\"data/amazonTurkDesPrompt7.csv\", 'r') as file:\n",
    "    csvreader = csv.reader(file)\n",
    "    for row in csvreader:\n",
    "        human7.append(row[0])\n",
    "human7 = [i.replace('\\n',' ') for i in human7] "
   ]
  },
  {
   "cell_type": "code",
   "execution_count": 43,
   "id": "0a4a59e6",
   "metadata": {
    "pycharm": {
     "name": "#%%\n"
    }
   },
   "outputs": [],
   "source": [
    "human8 = []\n",
    "with open(\"data/amazonTurkDesPrompt8.csv\", 'r') as file:\n",
    "    csvreader = csv.reader(file)\n",
    "    for row in csvreader:\n",
    "        human8.append(row[0])\n",
    "human8 = [i.replace('\\n',' ') for i in human8] "
   ]
  },
  {
   "cell_type": "code",
   "execution_count": 44,
   "id": "233d1612",
   "metadata": {
    "pycharm": {
     "name": "#%%\n"
    }
   },
   "outputs": [],
   "source": [
    "human9 = []\n",
    "with open(\"data/amazonTurkDesPrompt9.csv\", 'r') as file:\n",
    "    csvreader = csv.reader(file)\n",
    "    for row in csvreader:\n",
    "        human9.append(row[0])\n",
    "human9 = [i.replace('\\n',' ') for i in human9] "
   ]
  },
  {
   "cell_type": "code",
   "execution_count": 45,
   "id": "ccc13e0d",
   "metadata": {
    "pycharm": {
     "name": "#%%\n"
    }
   },
   "outputs": [],
   "source": [
    "human10 = []\n",
    "with open(\"data/amazonTurkDesPrompt10.csv\", 'r') as file:\n",
    "    csvreader = csv.reader(file)\n",
    "    for row in csvreader:\n",
    "        human10.append(row[0])\n",
    "human10 = [i.replace('\\n',' ') for i in human10] "
   ]
  },
  {
   "cell_type": "code",
   "execution_count": 46,
   "id": "adaba7e6",
   "metadata": {
    "pycharm": {
     "name": "#%%\n"
    }
   },
   "outputs": [],
   "source": [
    "human11 = []\n",
    "with open(\"data/amazonTurkDesPrompt11.csv\", 'r') as file:\n",
    "    csvreader = csv.reader(file)\n",
    "    for row in csvreader:\n",
    "        human11.append(row[0])\n",
    "human11 = [i.replace('\\n',' ') for i in human11] "
   ]
  },
  {
   "cell_type": "code",
   "execution_count": 47,
   "id": "ab4dfcda",
   "metadata": {
    "pycharm": {
     "name": "#%%\n"
    }
   },
   "outputs": [],
   "source": [
    "human12 = []\n",
    "with open(\"data/amazonTurkDesPrompt12.csv\", 'r') as file:\n",
    "    csvreader = csv.reader(file)\n",
    "    for row in csvreader:\n",
    "        human12.append(row[0])\n",
    "human12 = [i.replace('\\n',' ') for i in human12] "
   ]
  },
  {
   "cell_type": "code",
   "execution_count": 48,
   "id": "77698907",
   "metadata": {
    "pycharm": {
     "name": "#%%\n"
    }
   },
   "outputs": [],
   "source": [
    "# Design prompt 1, gpt prompts\n",
    "desprompt1 = pd.read_csv('data/Design_Prompt1.csv', sep = \",\", header=None)\n",
    "lst1 = []\n",
    "for d in desprompt1.values:\n",
    "    lst1.append(d[0])\n",
    "gpt1 = []\n",
    "for i in range(len(lst1)):\n",
    "    mod_statements1 = lst1[i].replace(lst1[i][:3], '')\n",
    "    gpt1.append(mod_statements1)"
   ]
  },
  {
   "cell_type": "code",
   "execution_count": 49,
   "id": "b73ee13d",
   "metadata": {
    "pycharm": {
     "name": "#%%\n"
    }
   },
   "outputs": [],
   "source": [
    "# Design Prompt 2, gpt prompts\n",
    "desprompt2 = pd.read_csv('data/Design_Prompt2.csv', sep = \",\", header = None)\n",
    "lst2 = []\n",
    "for d in desprompt2.values:\n",
    "    lst2.append(d[0])\n",
    "gpt2 = []\n",
    "for i in range(len(lst2)):\n",
    "    mod_statements2 = lst2[i].replace(lst2[i][:3], '')\n",
    "    gpt2.append(mod_statements2)"
   ]
  },
  {
   "cell_type": "code",
   "execution_count": 50,
   "id": "d903a168",
   "metadata": {
    "pycharm": {
     "name": "#%%\n"
    }
   },
   "outputs": [],
   "source": [
    "# Design Prompt 3, gpt prompts\n",
    "desprompt3 = pd.read_csv('data/Design_Prompt3.csv', sep = \",\", header = None)\n",
    "lst3 = []\n",
    "for d in desprompt3.values:\n",
    "    lst3.append(d[0])\n",
    "gpt3 = []\n",
    "for i in range(len(lst3)):\n",
    "    mod_statements3 = lst3[i].replace(lst3[i][:3], '')\n",
    "    gpt3.append(mod_statements3)"
   ]
  },
  {
   "cell_type": "code",
   "execution_count": 51,
   "id": "9ebfe381",
   "metadata": {
    "pycharm": {
     "name": "#%%\n"
    }
   },
   "outputs": [],
   "source": [
    "desprompt4 = pd.read_csv('data/Design_Prompt4.csv', sep = \",\", header = None)\n",
    "lst4 = []\n",
    "for d in desprompt4.values:\n",
    "    lst4.append(d[0])\n",
    "gpt4 = []\n",
    "for i in range(len(lst4)):\n",
    "    mod_statements4 = lst4[i].replace(lst4[i][:3], '')\n",
    "    gpt4.append(mod_statements4)"
   ]
  },
  {
   "cell_type": "code",
   "execution_count": 52,
   "id": "29ff4f02",
   "metadata": {
    "pycharm": {
     "name": "#%%\n"
    }
   },
   "outputs": [],
   "source": [
    "desprompt5 = pd.read_csv('data/Design_Prompt5.csv', sep = \",\", header = None)\n",
    "lst5 = []\n",
    "for d in desprompt5.values:\n",
    "    lst5.append(d[0])\n",
    "gpt5 = []\n",
    "for i in range(len(lst5)):\n",
    "    mod_statements5 = lst5[i].replace(lst5[i][:3], '')\n",
    "    gpt5.append(mod_statements5)"
   ]
  },
  {
   "cell_type": "code",
   "execution_count": 53,
   "id": "53a14dea",
   "metadata": {
    "pycharm": {
     "name": "#%%\n"
    }
   },
   "outputs": [],
   "source": [
    "desprompt6 = pd.read_csv('data/Design_Prompt6.csv', sep = \",\", header = None)\n",
    "lst6 = []\n",
    "for d in desprompt6.values:\n",
    "    lst6.append(d[0])\n",
    "gpt6 = []\n",
    "for i in range(len(lst6)):\n",
    "    mod_statements6 = lst6[i].replace(lst6[i][:3], '')\n",
    "    gpt6.append(mod_statements6)"
   ]
  },
  {
   "cell_type": "code",
   "execution_count": 54,
   "id": "b96b3e6f",
   "metadata": {
    "pycharm": {
     "name": "#%%\n"
    }
   },
   "outputs": [],
   "source": [
    "desprompt7 = pd.read_csv('data/Design_Prompt7.csv', sep = \",\", header = None)\n",
    "lst7 = []\n",
    "for d in desprompt7.values:\n",
    "    lst7.append(d[0])\n",
    "gpt7 = []\n",
    "for i in range(len(lst7)):\n",
    "    mod_statements7 = lst7[i].replace(lst7[i][:3], '')\n",
    "    gpt7.append(mod_statements7)"
   ]
  },
  {
   "cell_type": "code",
   "execution_count": 55,
   "id": "1412a0db",
   "metadata": {
    "pycharm": {
     "name": "#%%\n"
    }
   },
   "outputs": [],
   "source": [
    "desprompt8 = pd.read_csv('data/Design_Prompt8.csv', sep = \",\", header = None)\n",
    "lst8 = []\n",
    "for d in desprompt8.values:\n",
    "    lst8.append(d[0])\n",
    "gpt8 = []\n",
    "for i in range(len(lst8)):\n",
    "    mod_statements8 = lst8[i].replace(lst8[i][:3], '')\n",
    "    gpt8.append(mod_statements8)"
   ]
  },
  {
   "cell_type": "code",
   "execution_count": 56,
   "id": "7b59d06c",
   "metadata": {
    "pycharm": {
     "name": "#%%\n"
    }
   },
   "outputs": [],
   "source": [
    "desprompt9 = pd.read_csv('data/Design_Prompt9.csv', sep = \",\", header = None)\n",
    "lst9 = []\n",
    "for d in desprompt9.values:\n",
    "    lst9.append(d[0])\n",
    "gpt9 = []\n",
    "for i in range(len(lst9)):\n",
    "    mod_statements9 = lst9[i].replace(lst9[i][:3], '')\n",
    "    gpt9.append(mod_statements9)"
   ]
  },
  {
   "cell_type": "code",
   "execution_count": 57,
   "id": "27d3f3d0",
   "metadata": {
    "pycharm": {
     "name": "#%%\n"
    }
   },
   "outputs": [],
   "source": [
    "desprompt10 = pd.read_csv('data/Design_Prompt10.csv', sep = \",\", header = None)\n",
    "lst10 = []\n",
    "for d in desprompt10.values:\n",
    "    lst10.append(d[0])\n",
    "gpt10 = []\n",
    "for i in range(len(lst10)):\n",
    "    mod_statements10 = lst10[i].replace(lst10[i][:3], '')\n",
    "    gpt10.append(mod_statements10)"
   ]
  },
  {
   "cell_type": "code",
   "execution_count": 58,
   "id": "be24fa42",
   "metadata": {
    "pycharm": {
     "name": "#%%\n"
    }
   },
   "outputs": [],
   "source": [
    "desprompt11 = pd.read_csv('data/Design_Prompt11.csv', sep = \",\", header = None)\n",
    "lst11 = []\n",
    "for d in desprompt11.values:\n",
    "    lst11.append(d[0])\n",
    "gpt11 = []\n",
    "for i in range(len(lst11)):\n",
    "    mod_statements11 = lst11[i].replace(lst11[i][:3], '')\n",
    "    gpt11.append(mod_statements11)"
   ]
  },
  {
   "cell_type": "code",
   "execution_count": 59,
   "id": "7fa0d1be",
   "metadata": {},
   "outputs": [],
   "source": [
    "desprompt12 = pd.read_csv('data/Design_Prompt12.csv', sep = \",\", header = None)\n",
    "lst12 = []\n",
    "for d in desprompt12.values:\n",
    "    lst12.append(d[0])\n",
    "gpt12 = []\n",
    "for i in range(len(lst12)):\n",
    "    mod_statements12 = lst12[i].replace(lst12[i][:3], '')\n",
    "    gpt12.append(mod_statements12)"
   ]
  },
  {
   "cell_type": "code",
   "execution_count": 60,
   "id": "e19c2fcf",
   "metadata": {
    "pycharm": {
     "name": "#%%\n"
    }
   },
   "outputs": [],
   "source": [
    "# embed data\n",
    "# this is brute forced. Just easier to debug sometimes...\n",
    "model = SentenceTransformer('all-MiniLM-L6-v2')\n",
    "gpt1_embeddings = model.encode(gpt1)\n",
    "human1_embeddings = model.encode(human1)\n",
    "\n",
    "gpt2_embeddings = model.encode(gpt2)\n",
    "human2_embeddings = model.encode(human2)\n",
    "\n",
    "gpt3_embeddings = model.encode(gpt3)\n",
    "human3_embeddings = model.encode(human3)\n",
    "\n",
    "gpt4_embeddings = model.encode(gpt4)\n",
    "human4_embeddings = model.encode(human4)\n",
    "\n",
    "gpt5_embeddings = model.encode(gpt5)\n",
    "human5_embeddings = model.encode(human5)\n",
    "\n",
    "gpt7_embeddings = model.encode(gpt7)\n",
    "human7_embeddings = model.encode(human7)\n",
    "\n",
    "gpt8_embeddings = model.encode(gpt8)\n",
    "human8_embeddings = model.encode(human8)\n",
    "\n",
    "gpt9_embeddings = model.encode(gpt9)\n",
    "human9_embeddings = model.encode(human9)\n",
    "\n",
    "gpt10_embeddings = model.encode(gpt10)\n",
    "human10_embeddings = model.encode(human10)\n",
    "\n",
    "gpt11_embeddings = model.encode(gpt11)\n",
    "human11_embeddings = model.encode(human11)"
   ]
  },
  {
   "cell_type": "code",
   "execution_count": 61,
   "id": "d141e2ac",
   "metadata": {
    "pycharm": {
     "name": "#%%\n"
    }
   },
   "outputs": [],
   "source": [
    "bert_human1 = torch.from_numpy(human1_embeddings)\n",
    "bert_gpt1 = torch.from_numpy(gpt1_embeddings)\n",
    "\n",
    "bert_human2 = torch.from_numpy(human2_embeddings)\n",
    "bert_gpt2 = torch.from_numpy(gpt2_embeddings)\n",
    "\n",
    "bert_human3 = torch.from_numpy(human3_embeddings)\n",
    "bert_gpt3 = torch.from_numpy(gpt3_embeddings)\n",
    "\n",
    "bert_human4 = torch.from_numpy(human4_embeddings)\n",
    "bert_gpt4 = torch.from_numpy(gpt4_embeddings)\n",
    "\n",
    "bert_human5 = torch.from_numpy(human5_embeddings)\n",
    "bert_gpt5 = torch.from_numpy(gpt5_embeddings)\n",
    "\n",
    "bert_human7 = torch.from_numpy(human7_embeddings)\n",
    "bert_gpt7 = torch.from_numpy(gpt7_embeddings)\n",
    "\n",
    "bert_human8 = torch.from_numpy(human8_embeddings)\n",
    "bert_gpt8 = torch.from_numpy(gpt8_embeddings)\n",
    "\n",
    "bert_human9 = torch.from_numpy(human9_embeddings)\n",
    "bert_gpt9 = torch.from_numpy(gpt9_embeddings)\n",
    "\n",
    "bert_human10 = torch.from_numpy(human10_embeddings)\n",
    "bert_gpt10 = torch.from_numpy(gpt10_embeddings)\n",
    "\n",
    "bert_human11 = torch.from_numpy(human11_embeddings)\n",
    "bert_gpt11 = torch.from_numpy(gpt11_embeddings)"
   ]
  },
  {
   "cell_type": "code",
   "execution_count": 62,
   "id": "653b4a7b",
   "metadata": {},
   "outputs": [],
   "source": [
    "gpt12_embeddings = model.encode(gpt12)\n",
    "human12_embeddings = model.encode(human12)\n",
    "\n",
    "bert_human12 = torch.from_numpy(human12_embeddings)\n",
    "bert_gpt12 = torch.from_numpy(gpt12_embeddings)"
   ]
  },
  {
   "cell_type": "code",
   "execution_count": 63,
   "id": "2f8c67eb",
   "metadata": {
    "pycharm": {
     "name": "#%%\n"
    }
   },
   "outputs": [
    {
     "name": "stdout",
     "output_type": "stream",
     "text": [
      "warning: Embedding dir exists, did you set global_step for add_embedding()?\n"
     ]
    }
   ],
   "source": [
    "# visualize embeddings\n",
    "writer = SummaryWriter('embeddings_total')\n",
    "metadata = [('human1', line) for line in human1] + [('gpt1', line) for line in gpt1] +\\\n",
    "            [('human2', line) for line in human2] + [('gpt2', line) for line in gpt2]+\\\n",
    "[('human3', line) for line in human3] + [('gpt3', line) for line in gpt3]+\\\n",
    "[('human4', line) for line in human4] + [('gpt4', line) for line in gpt4]+\\\n",
    "[('human5', line) for line in human5] + [('gpt5', line) for line in gpt5]+\\\n",
    "[('human7', line) for line in human7] + [('gpt7', line) for line in gpt7]+\\\n",
    "[('human8', line) for line in human8] + [('gpt8', line) for line in gpt8]+\\\n",
    "[('human9', line) for line in human9] + [('gpt9', line) for line in gpt9]+\\\n",
    "[('human10', line) for line in human10] + [('gpt10', line) for line in gpt10]+\\\n",
    "[('human11', line) for line in human11] + [('gpt11', line) for line in gpt11]+\\\n",
    "[('human12', line) for line in human12] + [('gpt12', line) for line in gpt12]\n",
    "\n",
    "\n",
    "writer.add_embedding(torch.cat((bert_human1, bert_gpt1, bert_human2, bert_gpt2, bert_human3, bert_gpt3, bert_human4, \n",
    "                                bert_gpt4, bert_human5, bert_gpt5, bert_human7, bert_gpt7, bert_human8, \n",
    "                                bert_gpt8, bert_human9, bert_gpt9, bert_human10, \n",
    "                                bert_gpt10, bert_human11, bert_gpt11, bert_human12, bert_gpt12), 0), metadata=metadata, metadata_header=['writer', 'prompt'])"
   ]
  },
  {
   "cell_type": "markdown",
   "id": "55272d6a",
   "metadata": {
    "pycharm": {
     "name": "#%% md\n"
    }
   },
   "source": [
    "Run in terminal: tensorboard --logdir=\"embeddings\\\" --host localhost http://localhost:6006/ to open Tensorboard Refresh page.\n",
    "Note when you run from anaconda, conda activate chatgpt -> cd chatgpt -> run the terminal command above."
   ]
  },
  {
   "cell_type": "markdown",
   "id": "5fadd9b6",
   "metadata": {},
   "source": [
    "## How to interpret the cosine distance?\n",
    "\n",
    "Let two vectors $ a, b, \\theta$ be obtained by the scalar product and the norm of the vectors:\n",
    "$$ \\cos(\\theta) = \\frac{a \\cdot b}{||a|| \\cdot ||b||} $$\n",
    "Since $\\cos(\\theta)$ value is in the range $[-1 , 1]$:\n",
    "* $-1$ value will indicate strongly opposite vectors (a and b are very different)\n",
    "* $0$ independent (orthogonal) vectors (no correlation between a and b)\n",
    "* $1$ similar (positive co-linear) vecctors. Intermediate values are used to assess the degree of similarity. (a and b are very similar)"
   ]
  },
  {
   "cell_type": "code",
   "execution_count": 64,
   "id": "41f0b8ae",
   "metadata": {
    "pycharm": {
     "name": "#%%\n"
    }
   },
   "outputs": [],
   "source": [
    "import numpy as np\n",
    "from numpy.linalg import norm\n",
    "from statistics import mean\n",
    "generated_embeddings = [gpt1_embeddings, gpt2_embeddings, gpt3_embeddings, gpt4_embeddings, gpt5_embeddings, gpt7_embeddings, gpt8_embeddings, gpt9_embeddings, gpt10_embeddings, gpt11_embeddings, gpt12_embeddings]\n",
    "human_embeddings = [human1_embeddings, human2_embeddings, human3_embeddings, human4_embeddings, human5_embeddings, human7_embeddings, human8_embeddings, human9_embeddings, human10_embeddings, human11_embeddings, human12_embeddings]"
   ]
  },
  {
   "cell_type": "code",
   "execution_count": 65,
   "id": "b2e3cb3e",
   "metadata": {
    "scrolled": true
   },
   "outputs": [
    {
     "name": "stdout",
     "output_type": "stream",
     "text": [
      "Mean distance of nearest generated samples for prompt to human: 0.3184424936771393\n",
      "Mean distance of nearest generated samples for prompt to human: 0.33622682094573975\n",
      "Mean distance of nearest generated samples for prompt to human: 0.33667927980422974\n",
      "Mean distance of nearest generated samples for prompt to human: 0.4694971442222595\n",
      "Mean distance of nearest generated samples for prompt to human: 0.3255586326122284\n",
      "Mean distance of nearest generated samples for prompt to human: 0.2531582713127136\n",
      "Mean distance of nearest generated samples for prompt to human: 0.4217812418937683\n",
      "Mean distance of nearest generated samples for prompt to human: 0.446638822555542\n",
      "Mean distance of nearest generated samples for prompt to human: 0.3235302269458771\n",
      "Mean distance of nearest generated samples for prompt to human: 0.0355365015566349\n",
      "Mean distance of nearest generated samples for prompt to human: 0.2576938569545746\n"
     ]
    }
   ],
   "source": [
    "# enumerate through generated_embeddings to get (100x384) or (99x384) vectors\n",
    "# count is just collecting the iterations\n",
    "for count, generated_embedding in enumerate(generated_embeddings):\n",
    "    distances = []\n",
    "    # human embeddings is also of length 11 and collect each human embedding via indexing\n",
    "        # cosine distance\n",
    "    distance = np.dot(human_embeddings[count].flatten(), generated_embedding.flatten())/(norm(human_embeddings[count])*norm(generated_embedding))\n",
    "\n",
    "    distances.append(distance)\n",
    "    mean_distance = mean(distances)\n",
    "    print(f\"Mean distance of nearest generated samples for prompt to human: {mean_distance}\")"
   ]
  },
  {
   "cell_type": "code",
   "execution_count": 66,
   "id": "83ba1a8c",
   "metadata": {},
   "outputs": [],
   "source": [
    "from scipy.spatial import ConvexHull\n",
    "from sklearn.decomposition import PCA"
   ]
  },
  {
   "cell_type": "code",
   "execution_count": 67,
   "id": "28d9ff37",
   "metadata": {},
   "outputs": [
    {
     "name": "stdout",
     "output_type": "stream",
     "text": [
      "Volume of human convex hull: 0.24920921368630627 | generated convex hull: 0.32414290190684225 | Difference: 0.07493368822053598\n",
      "Volume of human convex hull: 0.24362950965191404 | generated convex hull: 0.1970649608202382 | Difference: -0.04656454883167585\n",
      "Volume of human convex hull: 0.3216490475307161 | generated convex hull: 0.2381245599552197 | Difference: -0.08352448757549641\n",
      "Volume of human convex hull: 0.3170534306855752 | generated convex hull: 0.19324097771937304 | Difference: -0.12381245296620214\n",
      "Volume of human convex hull: 0.3383896149055536 | generated convex hull: 0.36796906298895854 | Difference: 0.029579448083404958\n",
      "Volume of human convex hull: 0.3302783400363774 | generated convex hull: 0.307938172149308 | Difference: -0.022340167887069384\n",
      "Volume of human convex hull: 0.27659003986012826 | generated convex hull: 0.12095790133636541 | Difference: -0.15563213852376284\n",
      "Volume of human convex hull: 0.3270883277780447 | generated convex hull: 0.19648421655245954 | Difference: -0.13060411122558516\n",
      "Volume of human convex hull: 0.3065662541377364 | generated convex hull: 0.3997078182076905 | Difference: 0.09314156406995411\n",
      "Volume of human convex hull: 0.2540898844997239 | generated convex hull: 0.27968560074007887 | Difference: 0.02559571624035495\n",
      "Volume of human convex hull: 0.30279813260917304 | generated convex hull: 0.2109784468434549 | Difference: -0.09181968576571814\n"
     ]
    }
   ],
   "source": [
    "# should we be using PCA? \n",
    "pca = PCA(n_components=3)\n",
    "writers = zip(human_embeddings, generated_embeddings)\n",
    "for writer in writers:\n",
    "    datapoints_human = pca.fit_transform(writer[0])\n",
    "    hull_human = ConvexHull(datapoints_human)\n",
    "    volume_human = hull_human.volume\n",
    "\n",
    "    datapoints_generated = pca.fit_transform(writer[1])\n",
    "    hull_generated = ConvexHull(datapoints_generated)\n",
    "    volume_generated = hull_generated.volume\n",
    "\n",
    "\n",
    "    print(f\"Volume of human convex hull: {volume_human} | generated convex hull: {volume_generated} | Difference: {volume_generated - volume_human}\")"
   ]
  },
  {
   "cell_type": "markdown",
   "id": "ed7ebc34",
   "metadata": {},
   "source": [
    "## Attempt at using K-Means to improve PCA\n",
    "The idea is that we can use K-Means to cluster our data and analyze whether the PCA results actually mean something. Not sure how useful it is since we already have clusters.."
   ]
  },
  {
   "cell_type": "code",
   "execution_count": 71,
   "id": "98a29755",
   "metadata": {},
   "outputs": [
    {
     "name": "stderr",
     "output_type": "stream",
     "text": [
      "C:\\Users\\kevin\\anaconda3\\envs\\chatgpt\\lib\\site-packages\\sklearn\\cluster\\_kmeans.py:870: FutureWarning: The default value of `n_init` will change from 10 to 'auto' in 1.4. Set the value of `n_init` explicitly to suppress the warning\n",
      "  warnings.warn(\n",
      "C:\\Users\\kevin\\anaconda3\\envs\\chatgpt\\lib\\site-packages\\sklearn\\cluster\\_kmeans.py:1382: UserWarning: KMeans is known to have a memory leak on Windows with MKL, when there are less chunks than available threads. You can avoid it by setting the environment variable OMP_NUM_THREADS=1.\n",
      "  warnings.warn(\n",
      "C:\\Users\\kevin\\anaconda3\\envs\\chatgpt\\lib\\site-packages\\sklearn\\cluster\\_kmeans.py:870: FutureWarning: The default value of `n_init` will change from 10 to 'auto' in 1.4. Set the value of `n_init` explicitly to suppress the warning\n",
      "  warnings.warn(\n",
      "C:\\Users\\kevin\\anaconda3\\envs\\chatgpt\\lib\\site-packages\\sklearn\\cluster\\_kmeans.py:1382: UserWarning: KMeans is known to have a memory leak on Windows with MKL, when there are less chunks than available threads. You can avoid it by setting the environment variable OMP_NUM_THREADS=1.\n",
      "  warnings.warn(\n",
      "C:\\Users\\kevin\\anaconda3\\envs\\chatgpt\\lib\\site-packages\\sklearn\\cluster\\_kmeans.py:870: FutureWarning: The default value of `n_init` will change from 10 to 'auto' in 1.4. Set the value of `n_init` explicitly to suppress the warning\n",
      "  warnings.warn(\n",
      "C:\\Users\\kevin\\anaconda3\\envs\\chatgpt\\lib\\site-packages\\sklearn\\cluster\\_kmeans.py:1382: UserWarning: KMeans is known to have a memory leak on Windows with MKL, when there are less chunks than available threads. You can avoid it by setting the environment variable OMP_NUM_THREADS=1.\n",
      "  warnings.warn(\n",
      "C:\\Users\\kevin\\anaconda3\\envs\\chatgpt\\lib\\site-packages\\sklearn\\cluster\\_kmeans.py:870: FutureWarning: The default value of `n_init` will change from 10 to 'auto' in 1.4. Set the value of `n_init` explicitly to suppress the warning\n",
      "  warnings.warn(\n",
      "C:\\Users\\kevin\\anaconda3\\envs\\chatgpt\\lib\\site-packages\\sklearn\\cluster\\_kmeans.py:1382: UserWarning: KMeans is known to have a memory leak on Windows with MKL, when there are less chunks than available threads. You can avoid it by setting the environment variable OMP_NUM_THREADS=1.\n",
      "  warnings.warn(\n",
      "C:\\Users\\kevin\\anaconda3\\envs\\chatgpt\\lib\\site-packages\\sklearn\\cluster\\_kmeans.py:870: FutureWarning: The default value of `n_init` will change from 10 to 'auto' in 1.4. Set the value of `n_init` explicitly to suppress the warning\n",
      "  warnings.warn(\n",
      "C:\\Users\\kevin\\anaconda3\\envs\\chatgpt\\lib\\site-packages\\sklearn\\cluster\\_kmeans.py:1382: UserWarning: KMeans is known to have a memory leak on Windows with MKL, when there are less chunks than available threads. You can avoid it by setting the environment variable OMP_NUM_THREADS=1.\n",
      "  warnings.warn(\n",
      "C:\\Users\\kevin\\anaconda3\\envs\\chatgpt\\lib\\site-packages\\sklearn\\cluster\\_kmeans.py:870: FutureWarning: The default value of `n_init` will change from 10 to 'auto' in 1.4. Set the value of `n_init` explicitly to suppress the warning\n",
      "  warnings.warn(\n",
      "C:\\Users\\kevin\\anaconda3\\envs\\chatgpt\\lib\\site-packages\\sklearn\\cluster\\_kmeans.py:1382: UserWarning: KMeans is known to have a memory leak on Windows with MKL, when there are less chunks than available threads. You can avoid it by setting the environment variable OMP_NUM_THREADS=1.\n",
      "  warnings.warn(\n",
      "C:\\Users\\kevin\\anaconda3\\envs\\chatgpt\\lib\\site-packages\\sklearn\\cluster\\_kmeans.py:870: FutureWarning: The default value of `n_init` will change from 10 to 'auto' in 1.4. Set the value of `n_init` explicitly to suppress the warning\n",
      "  warnings.warn(\n",
      "C:\\Users\\kevin\\anaconda3\\envs\\chatgpt\\lib\\site-packages\\sklearn\\cluster\\_kmeans.py:1382: UserWarning: KMeans is known to have a memory leak on Windows with MKL, when there are less chunks than available threads. You can avoid it by setting the environment variable OMP_NUM_THREADS=1.\n",
      "  warnings.warn(\n",
      "C:\\Users\\kevin\\anaconda3\\envs\\chatgpt\\lib\\site-packages\\sklearn\\cluster\\_kmeans.py:870: FutureWarning: The default value of `n_init` will change from 10 to 'auto' in 1.4. Set the value of `n_init` explicitly to suppress the warning\n",
      "  warnings.warn(\n",
      "C:\\Users\\kevin\\anaconda3\\envs\\chatgpt\\lib\\site-packages\\sklearn\\cluster\\_kmeans.py:1382: UserWarning: KMeans is known to have a memory leak on Windows with MKL, when there are less chunks than available threads. You can avoid it by setting the environment variable OMP_NUM_THREADS=1.\n",
      "  warnings.warn(\n",
      "C:\\Users\\kevin\\anaconda3\\envs\\chatgpt\\lib\\site-packages\\sklearn\\cluster\\_kmeans.py:870: FutureWarning: The default value of `n_init` will change from 10 to 'auto' in 1.4. Set the value of `n_init` explicitly to suppress the warning\n",
      "  warnings.warn(\n",
      "C:\\Users\\kevin\\anaconda3\\envs\\chatgpt\\lib\\site-packages\\sklearn\\cluster\\_kmeans.py:1382: UserWarning: KMeans is known to have a memory leak on Windows with MKL, when there are less chunks than available threads. You can avoid it by setting the environment variable OMP_NUM_THREADS=1.\n",
      "  warnings.warn(\n",
      "C:\\Users\\kevin\\anaconda3\\envs\\chatgpt\\lib\\site-packages\\sklearn\\cluster\\_kmeans.py:870: FutureWarning: The default value of `n_init` will change from 10 to 'auto' in 1.4. Set the value of `n_init` explicitly to suppress the warning\n",
      "  warnings.warn(\n",
      "C:\\Users\\kevin\\anaconda3\\envs\\chatgpt\\lib\\site-packages\\sklearn\\cluster\\_kmeans.py:1382: UserWarning: KMeans is known to have a memory leak on Windows with MKL, when there are less chunks than available threads. You can avoid it by setting the environment variable OMP_NUM_THREADS=1.\n",
      "  warnings.warn(\n",
      "C:\\Users\\kevin\\anaconda3\\envs\\chatgpt\\lib\\site-packages\\sklearn\\cluster\\_kmeans.py:870: FutureWarning: The default value of `n_init` will change from 10 to 'auto' in 1.4. Set the value of `n_init` explicitly to suppress the warning\n",
      "  warnings.warn(\n",
      "C:\\Users\\kevin\\anaconda3\\envs\\chatgpt\\lib\\site-packages\\sklearn\\cluster\\_kmeans.py:1382: UserWarning: KMeans is known to have a memory leak on Windows with MKL, when there are less chunks than available threads. You can avoid it by setting the environment variable OMP_NUM_THREADS=1.\n",
      "  warnings.warn(\n",
      "C:\\Users\\kevin\\anaconda3\\envs\\chatgpt\\lib\\site-packages\\sklearn\\cluster\\_kmeans.py:870: FutureWarning: The default value of `n_init` will change from 10 to 'auto' in 1.4. Set the value of `n_init` explicitly to suppress the warning\n",
      "  warnings.warn(\n",
      "C:\\Users\\kevin\\anaconda3\\envs\\chatgpt\\lib\\site-packages\\sklearn\\cluster\\_kmeans.py:1382: UserWarning: KMeans is known to have a memory leak on Windows with MKL, when there are less chunks than available threads. You can avoid it by setting the environment variable OMP_NUM_THREADS=1.\n",
      "  warnings.warn(\n",
      "C:\\Users\\kevin\\anaconda3\\envs\\chatgpt\\lib\\site-packages\\sklearn\\cluster\\_kmeans.py:870: FutureWarning: The default value of `n_init` will change from 10 to 'auto' in 1.4. Set the value of `n_init` explicitly to suppress the warning\n",
      "  warnings.warn(\n",
      "C:\\Users\\kevin\\anaconda3\\envs\\chatgpt\\lib\\site-packages\\sklearn\\cluster\\_kmeans.py:1382: UserWarning: KMeans is known to have a memory leak on Windows with MKL, when there are less chunks than available threads. You can avoid it by setting the environment variable OMP_NUM_THREADS=1.\n",
      "  warnings.warn(\n",
      "C:\\Users\\kevin\\anaconda3\\envs\\chatgpt\\lib\\site-packages\\sklearn\\cluster\\_kmeans.py:870: FutureWarning: The default value of `n_init` will change from 10 to 'auto' in 1.4. Set the value of `n_init` explicitly to suppress the warning\n",
      "  warnings.warn(\n",
      "C:\\Users\\kevin\\anaconda3\\envs\\chatgpt\\lib\\site-packages\\sklearn\\cluster\\_kmeans.py:1382: UserWarning: KMeans is known to have a memory leak on Windows with MKL, when there are less chunks than available threads. You can avoid it by setting the environment variable OMP_NUM_THREADS=1.\n",
      "  warnings.warn(\n",
      "C:\\Users\\kevin\\anaconda3\\envs\\chatgpt\\lib\\site-packages\\sklearn\\cluster\\_kmeans.py:870: FutureWarning: The default value of `n_init` will change from 10 to 'auto' in 1.4. Set the value of `n_init` explicitly to suppress the warning\n",
      "  warnings.warn(\n",
      "C:\\Users\\kevin\\anaconda3\\envs\\chatgpt\\lib\\site-packages\\sklearn\\cluster\\_kmeans.py:1382: UserWarning: KMeans is known to have a memory leak on Windows with MKL, when there are less chunks than available threads. You can avoid it by setting the environment variable OMP_NUM_THREADS=1.\n",
      "  warnings.warn(\n",
      "C:\\Users\\kevin\\anaconda3\\envs\\chatgpt\\lib\\site-packages\\sklearn\\cluster\\_kmeans.py:870: FutureWarning: The default value of `n_init` will change from 10 to 'auto' in 1.4. Set the value of `n_init` explicitly to suppress the warning\n",
      "  warnings.warn(\n",
      "C:\\Users\\kevin\\anaconda3\\envs\\chatgpt\\lib\\site-packages\\sklearn\\cluster\\_kmeans.py:1382: UserWarning: KMeans is known to have a memory leak on Windows with MKL, when there are less chunks than available threads. You can avoid it by setting the environment variable OMP_NUM_THREADS=1.\n",
      "  warnings.warn(\n"
     ]
    },
    {
     "name": "stderr",
     "output_type": "stream",
     "text": [
      "C:\\Users\\kevin\\anaconda3\\envs\\chatgpt\\lib\\site-packages\\sklearn\\cluster\\_kmeans.py:870: FutureWarning: The default value of `n_init` will change from 10 to 'auto' in 1.4. Set the value of `n_init` explicitly to suppress the warning\n",
      "  warnings.warn(\n",
      "C:\\Users\\kevin\\anaconda3\\envs\\chatgpt\\lib\\site-packages\\sklearn\\cluster\\_kmeans.py:1382: UserWarning: KMeans is known to have a memory leak on Windows with MKL, when there are less chunks than available threads. You can avoid it by setting the environment variable OMP_NUM_THREADS=1.\n",
      "  warnings.warn(\n",
      "C:\\Users\\kevin\\anaconda3\\envs\\chatgpt\\lib\\site-packages\\sklearn\\cluster\\_kmeans.py:870: FutureWarning: The default value of `n_init` will change from 10 to 'auto' in 1.4. Set the value of `n_init` explicitly to suppress the warning\n",
      "  warnings.warn(\n",
      "C:\\Users\\kevin\\anaconda3\\envs\\chatgpt\\lib\\site-packages\\sklearn\\cluster\\_kmeans.py:1382: UserWarning: KMeans is known to have a memory leak on Windows with MKL, when there are less chunks than available threads. You can avoid it by setting the environment variable OMP_NUM_THREADS=1.\n",
      "  warnings.warn(\n",
      "C:\\Users\\kevin\\anaconda3\\envs\\chatgpt\\lib\\site-packages\\sklearn\\cluster\\_kmeans.py:870: FutureWarning: The default value of `n_init` will change from 10 to 'auto' in 1.4. Set the value of `n_init` explicitly to suppress the warning\n",
      "  warnings.warn(\n",
      "C:\\Users\\kevin\\anaconda3\\envs\\chatgpt\\lib\\site-packages\\sklearn\\cluster\\_kmeans.py:1382: UserWarning: KMeans is known to have a memory leak on Windows with MKL, when there are less chunks than available threads. You can avoid it by setting the environment variable OMP_NUM_THREADS=1.\n",
      "  warnings.warn(\n",
      "C:\\Users\\kevin\\anaconda3\\envs\\chatgpt\\lib\\site-packages\\sklearn\\cluster\\_kmeans.py:870: FutureWarning: The default value of `n_init` will change from 10 to 'auto' in 1.4. Set the value of `n_init` explicitly to suppress the warning\n",
      "  warnings.warn(\n",
      "C:\\Users\\kevin\\anaconda3\\envs\\chatgpt\\lib\\site-packages\\sklearn\\cluster\\_kmeans.py:1382: UserWarning: KMeans is known to have a memory leak on Windows with MKL, when there are less chunks than available threads. You can avoid it by setting the environment variable OMP_NUM_THREADS=1.\n",
      "  warnings.warn(\n"
     ]
    }
   ],
   "source": [
    "from sklearn.cluster import KMeans\n",
    "# fit k means using the transformed data from the PCA\n",
    "wcss = []\n",
    "for i in range(1, 21):\n",
    "    kmeans_pca = KMeans(n_clusters = i, random_state = 42)\n",
    "    kmeans_pca.fit(datapoints_human)\n",
    "    wcss.append(kmeans_pca.inertia_)"
   ]
  },
  {
   "cell_type": "code",
   "execution_count": 74,
   "id": "be3edd28",
   "metadata": {},
   "outputs": [
    {
     "data": {
      "image/png": "[encoded data removed]",
      "text/plain": [
       "<Figure size 640x480 with 1 Axes>"
      ]
     },
     "metadata": {},
     "output_type": "display_data"
    }
   ],
   "source": [
    "import matplotlib.pyplot as plt\n",
    "plt.plot(range(1,21), wcss, marker = 'o', linestyle = '--')\n",
    "plt.xlabel(\"Number of clusters\")\n",
    "plt.ylabel(\"WCSS\")\n",
    "plt.title(\"K-Means w/ PCA Clustering\")\n",
    "plt.show()"
   ]
  },
  {
   "cell_type": "code",
   "execution_count": 75,
   "id": "3792a670",
   "metadata": {},
   "outputs": [],
   "source": [
    "## Chosen 5 clusters? So run K-means with number of clusters = 5\n",
    "# Same initializer and random state as before\n",
    "kmeans_pca = KMeans(n_clusters = 4, random_state = 42)"
   ]
  },
  {
   "cell_type": "code",
   "execution_count": 76,
   "id": "a940434e",
   "metadata": {},
   "outputs": [
    {
     "name": "stderr",
     "output_type": "stream",
     "text": [
      "C:\\Users\\kevin\\anaconda3\\envs\\chatgpt\\lib\\site-packages\\sklearn\\cluster\\_kmeans.py:870: FutureWarning: The default value of `n_init` will change from 10 to 'auto' in 1.4. Set the value of `n_init` explicitly to suppress the warning\n",
      "  warnings.warn(\n",
      "C:\\Users\\kevin\\anaconda3\\envs\\chatgpt\\lib\\site-packages\\sklearn\\cluster\\_kmeans.py:1382: UserWarning: KMeans is known to have a memory leak on Windows with MKL, when there are less chunks than available threads. You can avoid it by setting the environment variable OMP_NUM_THREADS=1.\n",
      "  warnings.warn(\n"
     ]
    },
    {
     "data": {
      "text/html": [
       "<style>#sk-container-id-1 {color: black;background-color: white;}#sk-container-id-1 pre{padding: 0;}#sk-container-id-1 div.sk-toggleable {background-color: white;}#sk-container-id-1 label.sk-toggleable__label {cursor: pointer;display: block;width: 100%;margin-bottom: 0;padding: 0.3em;box-sizing: border-box;text-align: center;}#sk-container-id-1 label.sk-toggleable__label-arrow:before {content: \"▸\";float: left;margin-right: 0.25em;color: #696969;}#sk-container-id-1 label.sk-toggleable__label-arrow:hover:before {color: black;}#sk-container-id-1 div.sk-estimator:hover label.sk-toggleable__label-arrow:before {color: black;}#sk-container-id-1 div.sk-toggleable__content {max-height: 0;max-width: 0;overflow: hidden;text-align: left;background-color: #f0f8ff;}#sk-container-id-1 div.sk-toggleable__content pre {margin: 0.2em;color: black;border-radius: 0.25em;background-color: #f0f8ff;}#sk-container-id-1 input.sk-toggleable__control:checked~div.sk-toggleable__content {max-height: 200px;max-width: 100%;overflow: auto;}#sk-container-id-1 input.sk-toggleable__control:checked~label.sk-toggleable__label-arrow:before {content: \"▾\";}#sk-container-id-1 div.sk-estimator input.sk-toggleable__control:checked~label.sk-toggleable__label {background-color: #d4ebff;}#sk-container-id-1 div.sk-label input.sk-toggleable__control:checked~label.sk-toggleable__label {background-color: #d4ebff;}#sk-container-id-1 input.sk-hidden--visually {border: 0;clip: rect(1px 1px 1px 1px);clip: rect(1px, 1px, 1px, 1px);height: 1px;margin: -1px;overflow: hidden;padding: 0;position: absolute;width: 1px;}#sk-container-id-1 div.sk-estimator {font-family: monospace;background-color: #f0f8ff;border: 1px dotted black;border-radius: 0.25em;box-sizing: border-box;margin-bottom: 0.5em;}#sk-container-id-1 div.sk-estimator:hover {background-color: #d4ebff;}#sk-container-id-1 div.sk-parallel-item::after {content: \"\";width: 100%;border-bottom: 1px solid gray;flex-grow: 1;}#sk-container-id-1 div.sk-label:hover label.sk-toggleable__label {background-color: #d4ebff;}#sk-container-id-1 div.sk-serial::before {content: \"\";position: absolute;border-left: 1px solid gray;box-sizing: border-box;top: 0;bottom: 0;left: 50%;z-index: 0;}#sk-container-id-1 div.sk-serial {display: flex;flex-direction: column;align-items: center;background-color: white;padding-right: 0.2em;padding-left: 0.2em;position: relative;}#sk-container-id-1 div.sk-item {position: relative;z-index: 1;}#sk-container-id-1 div.sk-parallel {display: flex;align-items: stretch;justify-content: center;background-color: white;position: relative;}#sk-container-id-1 div.sk-item::before, #sk-container-id-1 div.sk-parallel-item::before {content: \"\";position: absolute;border-left: 1px solid gray;box-sizing: border-box;top: 0;bottom: 0;left: 50%;z-index: -1;}#sk-container-id-1 div.sk-parallel-item {display: flex;flex-direction: column;z-index: 1;position: relative;background-color: white;}#sk-container-id-1 div.sk-parallel-item:first-child::after {align-self: flex-end;width: 50%;}#sk-container-id-1 div.sk-parallel-item:last-child::after {align-self: flex-start;width: 50%;}#sk-container-id-1 div.sk-parallel-item:only-child::after {width: 0;}#sk-container-id-1 div.sk-dashed-wrapped {border: 1px dashed gray;margin: 0 0.4em 0.5em 0.4em;box-sizing: border-box;padding-bottom: 0.4em;background-color: white;}#sk-container-id-1 div.sk-label label {font-family: monospace;font-weight: bold;display: inline-block;line-height: 1.2em;}#sk-container-id-1 div.sk-label-container {text-align: center;}#sk-container-id-1 div.sk-container {/* jupyter's `normalize.less` sets `[hidden] { display: none; }` but bootstrap.min.css set `[hidden] { display: none !important; }` so we also need the `!important` here to be able to override the default hidden behavior on the sphinx rendered scikit-learn.org. See: https://github.com/scikit-learn/scikit-learn/issues/21755 */display: inline-block !important;position: relative;}#sk-container-id-1 div.sk-text-repr-fallback {display: none;}</style><div id=\"sk-container-id-1\" class=\"sk-top-container\"><div class=\"sk-text-repr-fallback\"><pre>KMeans(n_clusters=4, random_state=42)</pre><b>In a Jupyter environment, please rerun this cell to show the HTML representation or trust the notebook. <br />On GitHub, the HTML representation is unable to render, please try loading this page with nbviewer.org.</b></div><div class=\"sk-container\" hidden><div class=\"sk-item\"><div class=\"sk-estimator sk-toggleable\"><input class=\"sk-toggleable__control sk-hidden--visually\" id=\"sk-estimator-id-1\" type=\"checkbox\" checked><label for=\"sk-estimator-id-1\" class=\"sk-toggleable__label sk-toggleable__label-arrow\">KMeans</label><div class=\"sk-toggleable__content\"><pre>KMeans(n_clusters=4, random_state=42)</pre></div></div></div></div></div>"
      ],
      "text/plain": [
       "KMeans(n_clusters=4, random_state=42)"
      ]
     },
     "execution_count": 76,
     "metadata": {},
     "output_type": "execute_result"
    }
   ],
   "source": [
    "# fit data with the k-means PCA model\n",
    "kmeans_pca.fit(datapoints_human)"
   ]
  },
  {
   "cell_type": "code",
   "execution_count": null,
   "id": "b2fa6a65",
   "metadata": {},
   "outputs": [],
   "source": []
  }
 ],
 "metadata": {
  "kernelspec": {
   "display_name": "Python [conda env:chatgpt]",
   "language": "python",
   "name": "conda-env-chatgpt-py"
  },
  "language_info": {
   "codemirror_mode": {
    "name": "ipython",
    "version": 3
   },
   "file_extension": ".py",
   "mimetype": "text/x-python",
   "name": "python",
   "nbconvert_exporter": "python",
   "pygments_lexer": "ipython3",
   "version": "3.10.9"
  }
 },
 "nbformat": 4,
 "nbformat_minor": 5
}
