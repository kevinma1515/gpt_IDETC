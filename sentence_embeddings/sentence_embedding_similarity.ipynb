{
 "cells": [
  {
   "cell_type": "code",
   "execution_count": 44,
   "metadata": {
    "collapsed": true,
    "pycharm": {
     "name": "#%%\n"
    }
   },
   "outputs": [],
   "source": [
    "from transformers import BertModel, BertTokenizer\n",
    "import torch\n",
    "from torch.utils.tensorboard import SummaryWriter\n",
    "import csv"
   ]
  },
  {
   "cell_type": "markdown",
   "source": [
    "## Load data"
   ],
   "metadata": {
    "collapsed": false,
    "pycharm": {
     "name": "#%% md\n"
    }
   }
  },
  {
   "cell_type": "code",
   "execution_count": 133,
   "outputs": [
    {
     "data": {
      "text/plain": "['A jump rope that is also to be used as a tie and or a belt during the day and while at work.',\n 'A muscle stimulate band that can be worn over any area of the body that promotes muscle use, great for traveling and people who have to sit a lot.',\n 'A simple, but strong band that has a hook to be able to attach to any (thin) pole or sturdy object. The band will have a handle on one side to do pulling exercises for lats, curls for biceps, chest flys for pecs, arm extentions for triceps, etc. It will be versatile and lightweight, and can be used almost anywhere.',\n 'A calf strengthener, similar to a finger strengthener. It is placed on the floor of the car and pressed and released like a spring. More resistance could be added via a stiffer spring for a more difficult excercise.',\n 'A rubber ball that can be inflated / deflated extremely quickly.',\n 'An x shaped resistance band that has 2 hand grips and 2 foot holds. The foothold will be stepped on to secure the system down, then the other two can be used for curls, rows, or presses depending on the position of the body. The bands can also be used for added resistance while doing push ups or sit ups.',\n 'A mat that has electrosensitive pressure points on it, maybe to use as a guide for an exercise routine, to tell the person where the hand and or foot placement needs to be to accomplish the exercise. When unrolled a small device could attach to the mat itself and be used to program in the intensity or duration of the workout, and type of workout. When in use maybe the pressure points could light up to tell where the person needs to place feet or hands to do the workout, maybe as in a Yoga mat, with a yoga guide but the yoga guide is programmed into the small computer/device attached to the mat. It would have to be something that is waterproof and durable just in case it is stepped on, or something that the mat can \"remember\" after the device programs it to the mat, and then can be removed before the workout begins. The mat could be rolled up just like a Yoga mat - it would be a \"smart\" mat, capable of timing and capturing the persons movements, body weight, body mass, and calculate calories burned, and if the person is doing the yoga or whatever exercise the right way. Maybe a pilates mat too.',\n 'A fold bike that could be used as a bike and also as an  device for exercise.  Mind wheels and all could fit in 48x48  if you get it you will become  real rich person   good luck.',\n 'I think there should be a product that will help others who experience osteoporosis or other back issues to stretch while sitting. It will help them to feel more comfortable while traveling and can be taken anywhere. It can also serve a dual-function and be rolled up to make a travel pillow when it is not used for exercising. It would be similar to a soft mat but durable and flexible to serve its intended purpose.',\n 'I am thinking of a portable exercise device.',\n 'A hydraulic cylinder with a clip and plate attchment, and band. Use the clip for pulling exercise, and the plate for pushing!',\n 'The best fitness equipment out there to get a quick, brutal workout in before heading out ... They are lightweight, super flexible and pack down easily in an already ... It can be used for a tonne of different exercises.',\n 'A weighted small object (5-20+ pounds) but very small (like a stone/brick/rock) so that it can be packed in a small space yet be able to be used to lift weights while away on travel/vacation.',\n 'A foldable, carbon-fiber exercise bike.',\n 'A banding system integrated into a single holder',\n 'This device would be a belly belt that is thin and lightweight and looks like a regular belt but is worn under clothes. It has small electrical impulses that occur periodically when you turn it on, reminding you to suck in your stomach to work out your abdomen muscles so you can use it while traveling, sitting, working, and anywhere you are with no one noticing.',\n 'A device that looks like an accordion, and is operated by squeezing in and out could be used to exercise the arms. It offers resistance on both the pulling out and the pushing in motions. It can be locked into its pushed in position to be small enough to travel with.',\n 'A Robotic carrying case that transforms into a step stool, a radio with speakers and a weight for lifting.   It also has a cupholder on top.   Wheels project from the bottom for easy carrying.',\n 'Create a bladder type device that can be filled with water to create varying weight increments, then emptied and flattened for putting in the bottom of luggage, purse, etc. For the design, imagine a juice pouch shape put top to top (to make a double length juice box). The design should not allow water to flow through both bladders but each bladder should be filled individually.  This would allow the device to be used as a barbell with both sides filled, a medicine ball with only one side filled (there could be a velcro strap that allowed the unused side to be secured to the back of the filled side), an ankle/wrist weight when lightly filled, etc.',\n 'Sets of exercise bands in different lengths and strengths. In a kit, with instructions on how to use the bands and which exercised to do with which band.',\n 'a device that goes between your legs that you can push back and forth',\n 'An empty plastic tube that can be filled with water upon reaching your destination that can be used as a small set of weights in your hotel room or airplane.',\n 'A foldable chin up, push up bar  It folds out and you place it on the floor for better form push ups  The other sides fold out so you can place it in a door for pull ups  The legs extend so you can place on the floor higher for dips',\n 'a lightweight spring attachment for your shoes that allow you to do calf raises at any time.',\n 'maybe some sort of foldable elliptical type machine that could unfold and be used to get a cardio workout without having to go outside for a run',\n 'A portable exercise bike that only includes the foot pedals that could be folded to fit in a suitcase and then pulled out when needed.',\n 'A 6 inch malleable ball, approximately 1 pound. It could be used to punch, squeeze or push to get exercise with the hands and arms. It could come in a variety of colors.',\n 'yoga mat, jump rope, inflatable ball, wearable exercise recorder,',\n 'It is a lightweight yet sturdy bar with hooks on the end that clips back to itself to lock. While traveling, you will have some type of baggage, whether it be a suitcase, bag, large purse, etc. Being that the luggage will be full, it can be attached to the end of the bar one or both ends, locked into place to keep the bag from falling off, and used for various exercises.',\n 'A bar that can be filled with water from a nearby source to increase its weight. Can be used for weightlifting, balance, etc.',\n 'A pair of plastic barbells that can be filled with water in  hotel room and used to do a variety of exercises.  Depending on how much water is added, the weights would be lighter or heavier for use in different exercises.  Diagrams of the workout routine, which would take maybe 15 minutes, could be printed on the outside of the barbells and would be legible when water is added and they expand.  When empty, the barbells would weigh practically nothing and easy to pack.',\n 'A small device that sends electrical pulses to your muscles, sort of like a massage therapy device, only amp it up a little to make it an exercise device.',\n 'foldable vinyl sheet, like a Twister game, with spots labeled for performing different routines that involve bending, stretching, contorting',\n 'Some type of weight for wrist or ankles',\n 'a adjustable strap or rope with 2 handles that can slung over a tree branch or anything else to do pullups and etc hook, hold, exercise,  travel, device,',\n 'This device would be a small resistance cord that is pulled out from a small wheel. The cord would be soft, yet taut, and rather long. The user can utilize this cord in the same way resistance bands are used.',\n 'This is for those on a plane, bus, train, or in a passenger seat in a car. My idea is to have a box that has several springs coming out of it. At the end of each spring is a loop for hooking onto hand or foot. The person puts their hands or feet, or both into the loops and then pushes them in a way that makes the spring expand. Due to the tension in the spring, the user will get some exercise. The device is portable because all the springs go back in the center box when not being used or for carrying.',\n 'A small rectangle that you place on the floor. It works like a treadmill, but much thinner. Less than an inch thick. It can roll out or fold up like a yoga mat. Works with a handheld device to control speed. Also shows calories, heart rate, and distance on this handheld device.',\n 'folding rotating collapsible fan/wheel having a crank/handle for aerobic workout.  Blades provide resistance.  Perhaps changing number of blades (insert more/less) to change torque needed to crank.    Rather like a bicycle wheel, with blades instead of spokes.  Cranked by hand.',\n 'small foldable weight, suitcase, water bottle, liquid metal to lift, step stool',\n 'It is like a hand grip where you push it and the push back helps build your muscles. It would be about the size of a beer can size and you hold it in front of your chest and push it together with both of your hands and then it pops back out.',\n 'Light weights inside normal-looking shoes. When on a bus, train, or airplane, moving your legs about slightly would allow for exercise.',\n 'The device is a strongly magnetized bar that can pick up metallic objects for weights to be used like a dumbbell. The device is an electromagnet so it can be turned off to remove the makeshift metallic weights.',\n 'I envisioned a fold-able stepping stair that can be set up in a hotel room and be used for stair stepping while out of town.',\n 'a foldable bar which will attach to different surfaces so you can use it for various exercises.',\n \"A lightweight exercise device that can used while traveling would need to be versatile. It would need to be able to be multi use. So I'm thinking that there needs to be a device that can be a jump rope and also double as bands.\",\n 'A lightweight hand exerciser that can be let go of or dropped easily.  It cannot involve your fingers inside anything.',\n 'A small treadmill.',\n 'A portable chin up bar with resistance band attachments.  It would be portable because it would fold up, yet be made of strong enough material to be just as strong as chin up bars that install.  This way, people who frequently travel would be able to do weight lifting and resistance workouts more easily.',\n 'It would be a small platform with a little set of pedals on it. It would weigh very little and it could even fold up. You would put it on the ground and then pedal it like a bike, so it could go anywhere you wanted it to.',\n 'You usually need to be outside to use a jump rope.  This device would be a roller, about a foot in length run on a battery.  It would roll back and forth at an adjustable speed for a set distance and the person would jump over it for as long of a workout as they wanted. It would be aerobic instead of anaerobic, and you could use it for as long as you want, turn it off to take a break, and all you have to do is jump each time it came close to you.  You could also adjust how quickly it moved back and forth. The person could turn to jump over it each time, or they could learn to jump at prescribed times. They could also jump side to side for skiers, or one-footed, or alternate.  They could incorporate arm movements at the same time, or run it slowly and do burpees in time so that when they got up they would then have to jump and then do another burpee.  This could also be sold to prisons for inmate workouts. They could even step over it. Or buy two and have to step twice, turn, step twice, turn, etc.  This is actually a really good idea.  Hmmm.',\n 'The exercise device is a small resistance band that connects to your chin from your ears or headphones in order to do chin-ups. Chin-ups are an effective exercise that burns more calories than resting and reduces excess fat under the chin in the neck area. The chin-up strap itself reminds and motivates individuals to at least somewhat exercise whenever possible. The chin-up strap is lightweight and portable in pockets or bags.',\n 'an app for your phone that tracks movement, and gives rewards for the \"game\" app, advise that the player needs a sleeve to slide the phone into to make movement easier',\n 'A fold up step stool that can be packed in a purse or bag.  It would be sturdy and could be used to do step aerobic type activities.',\n \"Sort of like a resistance band, but more of a very small loop rather than the large tubes. You'd hold both ends with one hand and just pull. It could be smaller than those hand strengtheners and could work on a lot of different muscles depending on what motions you pull with.\",\n 'A handle with all-material suction cups attached to it so it can turn any convenient heavy object into a hand weight',\n 'Me, myself, and I machine.  Lightweight since you already carry yourself and any added weight you carry around can be used as resistance training material.',\n 'A device with two handles and a spring between that can be adjusted to tension.',\n 'The device I would make would be weight sets.  These are different from usual weights in that when not in use, they are weightless and packable.  They are hollow/inflatable containers that a person fills with water when they are ready to use.  They are made of very strong vinyl or plastic that will not break.  They come in multiple sizes and have a convenient instruction sheet that shows exercises to do with them.',\n 'A bar that is collapsible with a set of weights. This bar can be extended and used as a push-up bar that helps do perfect push-ups or as a pull-up bar. It can also be used as a small barbell with weights on the sides that allow it to be used for bicep curls.',\n 'A piece of braided synthetic, stretchy fabric could be used for lots of exercises, and is easy to pack and store. The braiding would make it strong, and the stretch would make it flexible and versatile. It could be rolled up or spread out, stood on or pulled on, for various resistance training moves. It could also be closed in a door or drawer, or looped over a doorknob and pulled from there.',\n 'A portable exercise device that can be used while traveling that is also discrete. I think of a lightweight weight of some sort that can change shape and form. Or, exercise bands.',\n 'A pair sturdy (empty) balloons that you fill up from your hotel bathroom water tap that connect together with a strong, telescoping bar.',\n \"I do not exeecise regularly.  When I was traveling on vacation recently, I did a lot of walking and noticed that my leg muscles were really stiff I had a bad case of  shin splint.  I tried to do some stretches in the morning before I started my day sightseeing but I couldn't even reach/grab my foot from behind to bend it up.  My suggestion for an exercise device that can be used while traveling is something I can use to hook/grab my foot from behind that I can use to pull/stretch my leg up toward my back.\",\n 'A flexible board that provides resistance for different exercises',\n 'The device has two ankle straps connected on either side to a tube. The user straps the device to their ankles and springs in the tube provide resistance to them walking.',\n \"A foot pump that sits on the floor with a button or pad for each foot. The button will only depress once enough force is used by the person's feet. A person can sit down, place their feet on the rest, and press their feet and legs up and down on the device. The force needed to depress the button is adjustable and can increase as a person gets stronger.\",\n 'Something like an all in one strength bands kit.  Small but various strength bands that you can take anywhere with you, so you can use them in any place.',\n 'Grip and something else together  Grip and straps to feet  Breathing grip to app to feet',\n 'exercise band',\n 'Plantar/Flexor foot push. This lightweight device would allow you to exercise you legs and calves while seated for long amounts of time during travel. like pedals you would simply press down of flex and the device would offer resistance.',\n 'This would be a light weight bar system that goes under car seats or airplane seats. The bars would be on either side, they can go up into your lap to do arm workouts or can extend to your legs to do leg raises.',\n 'A backpack that can be made to carry many work out devices to use on the go. A built in jump rope, hand weights, blow up yoga ball, etc.',\n 'Something that is adjustable and weight resistant that can be used while sitting OR standing.',\n 'an stationary exercise bike that can be easily disassembled and folded into a duffel bag or case.  MAde with light weight material such as aluminum that is easy to carry and easy to reassemble',\n 'A jump rope that has 1lb weights on each end so you can get a more intense workout',\n 'peddle in a car which improves gas mileage',\n 'Weights that are of different shapes and sizes that deflate to fold flat for travel.  You add a combination of air and water to the weights to get the desired weight you want.  They come in different sizes and shapes.  You can also add other things like plastic balls inside to make the weight different as well.',\n 'weighted clothes that turn regular movement into a workout',\n 'exercise for the passenger using weights for upper arms',\n 'your own body',\n 'Lightweight ab roller/device that can pop flat and fit in bottom of suitcase.',\n 'A weighted stress ball.',\n 'A comfortable, sturdy \"mount\" that curves around the back of your neck with a resistance band/coil/(similar) attached. Allows the user to pull and, ideally, slowly release with their hands to strengthen and work the arm muscles. The mount can be flipped to adapt to either the right or left side. Small enough to pack in a carry-on bag, backpack, or even a purse.',\n 'Supposedly people that \"bounce their legs\" have a higher metabolism and burn fat with their habit. For people that don\\'t have such a habit, something like the \"skip it\" type repetition increment counter, or like a pedometer, but designed to be strapped to the knee. Maybe it would be circular and have a marble that goes around the circumference to count reps while enforcing some sort of form, and  it could have a count of both total reps and longest \"streak\" to make it fun.',\n 'something isometric which uses body weight; probably involves elastic bands',\n 'a durable elastic container that can be filled with water in order to create weight so that one could fill it in a hotel bathroom and work out.',\n \"A pair of handles which have the super sticky glue/sticker that are easy to peel off and don't leave any damage on the wall. You can use them to do modified pushups, pull ups, side to side exercises, etc.\",\n 'a product that you can attach/strap onto/affix to your suitcase to turn the suitcase into a weight, to be used for lifting weights.',\n 'A thigh blaster  A light weight V shaped inner thigh exercise machine. Fits comfortably in the inner thigh upwards direction. Squeeze inner thigh muscles to open and close the machine. Machine contains springs that release and contract to make your thighs feel the burn.',\n 'A vest that makes you flex your chest muscles while you drive by stimulating neurons in your r brain',\n 'A fold up tension devise that can fit into a suitcase.',\n 'something very small that will allow you to work and tone your entire body.',\n 'A rowing type machine that can be folded up into a suitcase shape, then unfolded and used when you travel.',\n 'This device is a dumbbell in which the weighted sides are filled with water to increase or decrease the weight. They can weigh as much as 30 pounds or as little as 1 pound.',\n 'a small collapsible step that can be used to do cardio exercises in your hotel room',\n 'How about an abdominal or muscle training MP3 file that could be played in car or on an ipod.  While driving it could give you prompts to flex and release.',\n 'Flexible, non-electric, ergonomic, compact',\n 'A collapsible, compact elliptical machine.',\n 'I am thinking of some sort of rubber band strong enough to do resistance exercises. the device could be light enough but sturdy enough to resist up to a certain amount of pounds of pressure. depending on the length of the bands, they could be used for like leg lifts, arm curls, extensions, etc.']"
     },
     "execution_count": 133,
     "metadata": {},
     "output_type": "execute_result"
    }
   ],
   "source": [
    "# Design prompt 3, human prompts\n",
    "human = []\n",
    "with open(\"data/amazonTurkDesPrompt3.csv\", 'r') as file:\n",
    "    csvreader = csv.reader(file)\n",
    "    for row in csvreader:\n",
    "        human.append(row[0])\n",
    "human = [i.replace('\\n',' ') for i in human]    # Removing the line breaks as they mess with tensorboard.\n",
    "human"
   ],
   "metadata": {
    "collapsed": false,
    "pycharm": {
     "name": "#%%\n"
    }
   }
  },
  {
   "cell_type": "code",
   "execution_count": 114,
   "outputs": [
    {
     "data": {
      "text/plain": "['Portable stepper with folding mechanism for storage.',\n 'Mini jumping rope with handles that break down for packing.',\n 'Compact pull-up bar with a suction cups for attaching to door frame.',\n 'Collapsible ab wheel that uses resistance bands for resistance.',\n 'Resistance bands loops with adjustable handles.',\n 'Versatile yoga mat that can roll up and fit in a bag.',\n 'Disc Shaped Pilates Reformer with a handle that allows for easy transport.',\n 'Portable stationary bike that folds away for storage.',\n 'Jump training platform that is collapsible for travel.',\n 'Adjustable sit-up bench with foldable legs for travel.',\n 'Adjustable kettlebell with a removable weight core for storage.',\n 'Neck and Shoulders exerciser with a breakable frame for travel.',\n 'Suspended exercise hammock with clips for packing.',\n 'Handheld push-up bar with a fold-down feature.',\n 'Mini weight set with a carrying case.',\n 'Lightweight resistance bands with anchors for mounting on doors.',\n 'Disc-shaped paddling machine with a handle for carrying.',\n 'Resistance bands with a built-in pulley system for easy storage.',\n 'Portable free-weight set with adjustable bands.',\n 'Portable exercise bike with a collapsible pedal system.',\n 'Treadmill with a folding treadmill feature.',\n 'Pendulum exerciser with a clip-on handle.',\n 'Wall-mountable magnetic resistance machine with breakaway brackets for travel.',\n 'Exercise ball that deflates for storage and inflates for use.',\n 'Luggage-friendly yoga wheel for yoga and core exercises.',\n 'Mobile ab wheel wheelbarrow that is lightweight and easy to transport.',\n 'Resistance tube with a rotating handle and foam grip for packing.',\n 'Overhead pulley system with adjustable cables for targeting muscles.',\n 'Resistance band and wardrobe door attachment for a full-body workout.',\n 'Lightweight yoga mat bag for storage.',\n 'Inversion belt with a lightweight buckle for packing.',\n 'Packsack with straps that transform into a free-weight vest.',\n 'Push-up board with adjustable and removable handles.',\n 'Jump Rope with counts and clock systems with adjustable length.',\n 'Trap bar with a handle and breaks into 4 parts for easy packing.',\n 'Suspension system with a clip-on feature that attaches to door frames.',\n 'Resistance exercise mat with adjustable handles and straps.',\n 'Folding yoga chair with ankle cushions for additional support.',\n 'Portable TRX system with a detachable suspension anchor for travel.',\n 'Wall-mounted yoga straps with breakable buckles for storage.',\n 'Travel cards with different exercises printed on them.',\n 'Portable barbell that can be broken down into parts.',\n 'Portable cable machine with a breakaway collar for packing.',\n 'Ab wheel that inflate for use and deflate for storage.',\n 'Resistance tube with a built-in resistance control for different workouts.',\n 'Resistance exercise bars that clips into suitcase for travel.',\n 'Portable workout system with adjustable size for different workouts.',\n 'Collapsible foam roller that fits into a backpack.',\n 'Balance board with a folding feature for storage.',\n 'Medical ball with a string handle for carrying and balloon feature for travel.']"
     },
     "execution_count": 114,
     "metadata": {},
     "output_type": "execute_result"
    }
   ],
   "source": [
    "# Design prompt 3, gpt prompts\n",
    "gpt = []\n",
    "with open(\"data/DesPrompt3.csv\", 'r') as file:\n",
    "    csvreader = csv.reader(file)\n",
    "    for row in csvreader:\n",
    "        gpt.append(row[0].split(\". \")[1])\n",
    "gpt"
   ],
   "metadata": {
    "collapsed": false,
    "pycharm": {
     "name": "#%%\n"
    }
   }
  },
  {
   "cell_type": "markdown",
   "source": [
    "## Embed data"
   ],
   "metadata": {
    "collapsed": false,
    "pycharm": {
     "name": "#%% md\n"
    }
   }
  },
  {
   "cell_type": "code",
   "execution_count": 115,
   "outputs": [
    {
     "name": "stderr",
     "output_type": "stream",
     "text": [
      "Some weights of the model checkpoint at bert-base-uncased were not used when initializing BertModel: ['cls.predictions.transform.LayerNorm.weight', 'cls.seq_relationship.bias', 'cls.predictions.transform.dense.weight', 'cls.seq_relationship.weight', 'cls.predictions.decoder.weight', 'cls.predictions.transform.dense.bias', 'cls.predictions.transform.LayerNorm.bias', 'cls.predictions.bias']\n",
      "- This IS expected if you are initializing BertModel from the checkpoint of a model trained on another task or with another architecture (e.g. initializing a BertForSequenceClassification model from a BertForPreTraining model).\n",
      "- This IS NOT expected if you are initializing BertModel from the checkpoint of a model that you expect to be exactly identical (initializing a BertForSequenceClassification model from a BertForSequenceClassification model).\n"
     ]
    }
   ],
   "source": [
    "model_name = 'bert-base-uncased'\n",
    "\n",
    "tokenizer = BertTokenizer.from_pretrained(model_name)\n",
    "\n",
    "model = BertModel.from_pretrained(model_name)"
   ],
   "metadata": {
    "collapsed": false,
    "pycharm": {
     "name": "#%%\n"
    }
   }
  },
  {
   "cell_type": "code",
   "execution_count": 116,
   "outputs": [],
   "source": [
    "input_ids_human = tokenizer(human, add_special_tokens=True, return_tensors='pt', max_length=512, truncation=True, padding='max_length')\n",
    "input_ids_gpt = tokenizer(gpt, add_special_tokens=True, return_tensors='pt', max_length=512, truncation=True, padding='max_length')"
   ],
   "metadata": {
    "collapsed": false,
    "pycharm": {
     "name": "#%%\n"
    }
   }
  },
  {
   "cell_type": "code",
   "execution_count": 117,
   "outputs": [
    {
     "name": "stdout",
     "output_type": "stream",
     "text": [
      "Shape of human output:  torch.Size([100, 768])\n",
      "Shape of gpt BERT output:  torch.Size([50, 768])\n"
     ]
    }
   ],
   "source": [
    "with torch.no_grad():\n",
    "    bert_output_human = model(input_ids_human['input_ids'])[1]\n",
    "    bert_output_gpt = model(input_ids_gpt['input_ids'])[1]\n",
    "\n",
    "print('Shape of human output: ', bert_output_human.shape)\n",
    "print('Shape of gpt BERT output: ', bert_output_gpt.shape)"
   ],
   "metadata": {
    "collapsed": false,
    "pycharm": {
     "name": "#%%\n"
    }
   }
  },
  {
   "cell_type": "markdown",
   "source": [
    "## Visualize embeddings"
   ],
   "metadata": {
    "collapsed": false,
    "pycharm": {
     "name": "#%% md\n"
    }
   }
  },
  {
   "cell_type": "code",
   "execution_count": 134,
   "outputs": [],
   "source": [
    "writer = SummaryWriter('embeddings')"
   ],
   "metadata": {
    "collapsed": false,
    "pycharm": {
     "name": "#%%\n"
    }
   }
  },
  {
   "cell_type": "code",
   "execution_count": 135,
   "outputs": [],
   "source": [
    "metadata = [('human', line) for line in human] + [('gpt', line) for line in gpt]"
   ],
   "metadata": {
    "collapsed": false,
    "pycharm": {
     "name": "#%%\n"
    }
   }
  },
  {
   "cell_type": "code",
   "execution_count": 136,
   "outputs": [],
   "source": [
    "writer.add_embedding(torch.cat((bert_output_human, bert_output_gpt), 0), metadata=metadata, metadata_header=['writer', 'prompt'])"
   ],
   "metadata": {
    "collapsed": false,
    "pycharm": {
     "name": "#%%\n"
    }
   }
  },
  {
   "cell_type": "markdown",
   "source": [
    "Run in terminal: `tensorboard --logdir=\"embeddings\\\" --host localhost`\n",
    "[Link to open Tensorboard](http://localhost:6006)\n",
    "Refresh page."
   ],
   "metadata": {
    "collapsed": false,
    "pycharm": {
     "name": "#%% md\n"
    }
   }
  },
  {
   "cell_type": "code",
   "execution_count": null,
   "outputs": [],
   "source": [],
   "metadata": {
    "collapsed": false,
    "pycharm": {
     "name": "#%%\n"
    }
   }
  }
 ],
 "metadata": {
  "kernelspec": {
   "name": "conceptnetmaterials",
   "language": "python",
   "display_name": "Python (conceptNetMaterials)"
  },
  "language_info": {
   "codemirror_mode": {
    "name": "ipython",
    "version": 2
   },
   "file_extension": ".py",
   "mimetype": "text/x-python",
   "name": "python",
   "nbconvert_exporter": "python",
   "pygments_lexer": "ipython2",
   "version": "2.7.6"
  }
 },
 "nbformat": 4,
 "nbformat_minor": 0
}